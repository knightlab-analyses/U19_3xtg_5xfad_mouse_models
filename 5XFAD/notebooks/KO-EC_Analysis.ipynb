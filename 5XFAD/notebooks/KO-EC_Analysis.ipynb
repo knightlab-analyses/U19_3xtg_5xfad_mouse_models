{
 "cells": [
  {
   "cell_type": "code",
   "execution_count": 1,
   "id": "bf5da12c-5d9a-4d7f-9153-2df398b73f9d",
   "metadata": {},
   "outputs": [
    {
     "name": "stdout",
     "output_type": "stream",
     "text": [
      "q2cli version 2024.5.0\r\n",
      "Run `qiime info` for more version details.\r\n"
     ]
    }
   ],
   "source": [
    "!qiime --version"
   ]
  },
  {
   "cell_type": "markdown",
   "id": "679ddaf7",
   "metadata": {},
   "source": [
    "# Kegg Ontology"
   ]
  },
  {
   "cell_type": "code",
   "execution_count": 1,
   "id": "acead94d",
   "metadata": {},
   "outputs": [
    {
     "name": "stdout",
     "output_type": "stream",
     "text": [
      "\u001b[32mSaved Visualization to: ../data/Microbiome/KO-EC/186163_5XFAD_KO_feature-table.qzv\u001b[0m\r\n",
      "\u001b[0m"
     ]
    }
   ],
   "source": [
    "!qiime feature-table summarize \\\n",
    "    --i-table ../data/Microbiome/KO-EC/186163_5XFAD_KO_feature-table.qza \\\n",
    "    --m-sample-metadata-file ../data/Microbiome/14957_metadata.txt \\\n",
    "    --o-visualization ../data/Microbiome/KO-EC/186163_5XFAD_KO_feature-table.qzv\n",
    "#280,000 gets rid of all blanks, keeps most samples"
   ]
  },
  {
   "cell_type": "code",
   "execution_count": 5,
   "id": "46a8a60c",
   "metadata": {},
   "outputs": [
    {
     "name": "stdout",
     "output_type": "stream",
     "text": [
      "\u001b[32mSaved FeatureTable[Frequency] to: ../data/Microbiome/KO-EC/KO_core_diversity_280000/rarefied_table.qza\u001b[0m\n",
      "\u001b[32mSaved SampleData[AlphaDiversity] to: ../data/Microbiome/KO-EC/KO_core_diversity_280000/observed_features_vector.qza\u001b[0m\n",
      "\u001b[32mSaved SampleData[AlphaDiversity] to: ../data/Microbiome/KO-EC/KO_core_diversity_280000/shannon_vector.qza\u001b[0m\n",
      "\u001b[32mSaved SampleData[AlphaDiversity] to: ../data/Microbiome/KO-EC/KO_core_diversity_280000/evenness_vector.qza\u001b[0m\n",
      "\u001b[32mSaved DistanceMatrix to: ../data/Microbiome/KO-EC/KO_core_diversity_280000/jaccard_distance_matrix.qza\u001b[0m\n",
      "\u001b[32mSaved DistanceMatrix to: ../data/Microbiome/KO-EC/KO_core_diversity_280000/bray_curtis_distance_matrix.qza\u001b[0m\n",
      "\u001b[32mSaved PCoAResults to: ../data/Microbiome/KO-EC/KO_core_diversity_280000/jaccard_pcoa_results.qza\u001b[0m\n",
      "\u001b[32mSaved PCoAResults to: ../data/Microbiome/KO-EC/KO_core_diversity_280000/bray_curtis_pcoa_results.qza\u001b[0m\n",
      "\u001b[32mSaved Visualization to: ../data/Microbiome/KO-EC/KO_core_diversity_280000/jaccard_emperor.qzv\u001b[0m\n",
      "\u001b[32mSaved Visualization to: ../data/Microbiome/KO-EC/KO_core_diversity_280000/bray_curtis_emperor.qzv\u001b[0m\n",
      "\u001b[0m"
     ]
    }
   ],
   "source": [
    "!qiime diversity core-metrics \\\n",
    "    --i-table ../data/Microbiome/KO-EC/186163_5XFAD_KO_feature-table.qza \\\n",
    "    --p-sampling-depth 280000 \\\n",
    "    --m-metadata-file ../data/Microbiome/14957_metadata.txt \\\n",
    "    --output-dir ../data/Microbiome/KO-EC/KO_core_diversity_280000"
   ]
  },
  {
   "cell_type": "code",
   "execution_count": 3,
   "id": "82621790",
   "metadata": {},
   "outputs": [
    {
     "name": "stdout",
     "output_type": "stream",
     "text": [
      "\u001b[32mSaved Visualization to: ../data/Microbiome/KO-EC/KO_core_diversity_280000/observed_features_vector.qzv\u001b[0m\n",
      "\u001b[0m\u001b[32mSaved Visualization to: ../data/Microbiome/KO-EC/KO_core_diversity_280000/shannon_vector.qzv\u001b[0m\n",
      "\u001b[0m"
     ]
    }
   ],
   "source": [
    "!qiime diversity alpha-group-significance \\\n",
    "    --i-alpha-diversity ../data/Microbiome/KO-EC/KO_core_diversity_280000/observed_features_vector.qza \\\n",
    "    --m-metadata-file ../data/Microbiome/14957_metadata.txt \\\n",
    "    --o-visualization ../data/Microbiome/KO-EC/KO_core_diversity_280000/observed_features_vector.qzv\n",
    "\n",
    "!qiime diversity alpha-group-significance \\\n",
    "    --i-alpha-diversity ../data/Microbiome/KO-EC/KO_core_diversity_280000/shannon_vector.qza \\\n",
    "    --m-metadata-file ../data/Microbiome/14957_metadata.txt \\\n",
    "    --o-visualization ../data/Microbiome/KO-EC/KO_core_diversity_280000/shannon_vector.qzv"
   ]
  },
  {
   "cell_type": "code",
   "execution_count": 4,
   "id": "e28c6088",
   "metadata": {},
   "outputs": [
    {
     "name": "stdout",
     "output_type": "stream",
     "text": [
      "\u001b[32mSaved Visualization to: ../data/Microbiome/KO-EC/KO_core_diversity_280000/jaccard_dm_beta-sig_study-type.qza.qzv\u001b[0m\n",
      "\u001b[0m\u001b[32mSaved Visualization to: ../data/Microbiome/KO-EC/KO_core_diversity_280000/braycurtis_dm_beta-sig_study-type.qza.qzv\u001b[0m\n",
      "\u001b[0m"
     ]
    }
   ],
   "source": [
    "!qiime diversity beta-group-significance \\\n",
    "    --i-distance-matrix ../data/Microbiome/KO-EC/KO_core_diversity_280000/jaccard_distance_matrix.qza \\\n",
    "    --m-metadata-file ../data/Microbiome/14957_metadata.txt \\\n",
    "    --m-metadata-column intervention \\\n",
    "    --p-pairwise True \\\n",
    "    --o-visualization ../data/Microbiome/KO-EC/KO_core_diversity_280000/jaccard_dm_beta-sig_study-type.qza\n",
    "\n",
    "!qiime diversity beta-group-significance \\\n",
    "    --i-distance-matrix ../data/Microbiome/KO-EC/KO_core_diversity_280000/bray_curtis_distance_matrix.qza \\\n",
    "    --m-metadata-file ../data/Microbiome/14957_metadata.txt \\\n",
    "    --m-metadata-column intervention \\\n",
    "    --p-pairwise True \\\n",
    "    --o-visualization ../data/Microbiome/KO-EC/KO_core_diversity_280000/braycurtis_dm_beta-sig_study-type.qza"
   ]
  },
  {
   "cell_type": "code",
   "execution_count": 5,
   "id": "7313d23d",
   "metadata": {},
   "outputs": [
    {
     "name": "stdout",
     "output_type": "stream",
     "text": [
      "\u001b[32mSaved Visualization to: ../data/Microbiome/KO-EC/KO_core_diversity_280000/jaccard_dm_beta-sig_genotype.qza.qzv\u001b[0m\n",
      "\u001b[0m\u001b[32mSaved Visualization to: ../data/Microbiome/KO-EC/KO_core_diversity_280000/braycurtis_dm_beta-sig_genotype.qza.qzv\u001b[0m\n",
      "\u001b[0m"
     ]
    }
   ],
   "source": [
    "!qiime diversity beta-group-significance \\\n",
    "    --i-distance-matrix ../data/Microbiome/KO-EC/KO_core_diversity_280000/jaccard_distance_matrix.qza \\\n",
    "    --m-metadata-file ../data/Microbiome/14957_metadata.txt \\\n",
    "    --m-metadata-column mouse_strain \\\n",
    "    --p-pairwise True \\\n",
    "    --o-visualization ../data/Microbiome/KO-EC/KO_core_diversity_280000/jaccard_dm_beta-sig_genotype.qza\n",
    "\n",
    "!qiime diversity beta-group-significance \\\n",
    "    --i-distance-matrix ../data/Microbiome/KO-EC/KO_core_diversity_280000/bray_curtis_distance_matrix.qza \\\n",
    "    --m-metadata-file ../data/Microbiome/14957_metadata.txt \\\n",
    "    --m-metadata-column mouse_strain \\\n",
    "    --p-pairwise True \\\n",
    "    --o-visualization ../data/Microbiome/KO-EC/KO_core_diversity_280000/braycurtis_dm_beta-sig_genotype.qza"
   ]
  },
  {
   "cell_type": "code",
   "execution_count": 6,
   "id": "2287cb60",
   "metadata": {},
   "outputs": [
    {
     "name": "stdout",
     "output_type": "stream",
     "text": [
      "\u001b[32mSaved Visualization to: ../data/Microbiome/KO-EC/KO_core_diversity_280000/jaccard_dm_beta-sig_sex.qza.qzv\u001b[0m\n",
      "\u001b[0m\u001b[32mSaved Visualization to: ../data/Microbiome/KO-EC/KO_core_diversity_280000/braycurtis_dm_beta-sig_sex.qza.qzv\u001b[0m\n",
      "\u001b[0m"
     ]
    }
   ],
   "source": [
    "!qiime diversity beta-group-significance \\\n",
    "    --i-distance-matrix ../data/Microbiome/KO-EC/KO_core_diversity_280000/jaccard_distance_matrix.qza \\\n",
    "    --m-metadata-file ../data/Microbiome/14957_metadata.txt \\\n",
    "    --m-metadata-column sex \\\n",
    "    --p-pairwise True \\\n",
    "    --o-visualization ../data/Microbiome/KO-EC/KO_core_diversity_280000/jaccard_dm_beta-sig_sex.qza\n",
    "\n",
    "!qiime diversity beta-group-significance \\\n",
    "    --i-distance-matrix ../data/Microbiome/KO-EC/KO_core_diversity_280000/bray_curtis_distance_matrix.qza \\\n",
    "    --m-metadata-file ../data/Microbiome/14957_metadata.txt \\\n",
    "    --m-metadata-column sex \\\n",
    "    --p-pairwise True \\\n",
    "    --o-visualization ../data/Microbiome/KO-EC/KO_core_diversity_280000/braycurtis_dm_beta-sig_sex.qza"
   ]
  },
  {
   "cell_type": "code",
   "execution_count": 16,
   "id": "c97080fc",
   "metadata": {},
   "outputs": [
    {
     "name": "stdout",
     "output_type": "stream",
     "text": [
      "\u001b[32mSaved FeatureTable[Frequency] to: ../data/Microbiome/KO-EC/186163_3XTG_KO_feature-table_annot.qza\u001b[0m\r\n",
      "\u001b[0m"
     ]
    }
   ],
   "source": [
    "#essentially taxa collapse for KO\n",
    "!qiime feature-table rename-ids \\\n",
    "    --i-table ../data/Microbiome/KO-EC/186163_5XFAD_KO_feature-table.qza \\\n",
    "    --m-metadata-file ../../../woltka_functional/ko_name.txt \\\n",
    "    --m-metadata-column KO_ID \\\n",
    "    --p-axis 'feature' \\\n",
    "    --p-no-strict True \\\n",
    "    --o-renamed-table ../data/Microbiome/KO-EC/186163_5XFAD_KO_feature-table_annot.qza"
   ]
  },
  {
   "cell_type": "code",
   "execution_count": 17,
   "id": "cf0af7ea",
   "metadata": {},
   "outputs": [
    {
     "name": "stdout",
     "output_type": "stream",
     "text": [
      "\u001b[32mSaved FeatureTable[Frequency] to: ../data/Microbiome/KO-EC/186163_5XFAD_KO_feature-table_study-type.qza\u001b[0m\n",
      "\u001b[0m\u001b[32mSaved FeatureTable[Frequency] to: ../data/Microbiome/KO-EC/186163_5XFAD_KO_feature-table_genotype.qza\u001b[0m\n",
      "\u001b[0m\u001b[32mSaved FeatureTable[Frequency] to: ../data/Microbiome/KO-EC/186163_5XFAD_KO_feature-table_sex.qza\u001b[0m\n",
      "\u001b[0m"
     ]
    }
   ],
   "source": [
    "!qiime feature-table filter-samples \\\n",
    "    --i-table ../data/Microbiome/KO-EC/186163_5XFAD_KO_feature-table_annot.qza \\\n",
    "    --m-metadata-file ../data/Microbiome/14957_metadata.txt \\\n",
    "    --p-where '[intervention] IN (\"Longitudinal\", \"Sacrifice\")' \\\n",
    "    --o-filtered-table ../data/Microbiome/KO-EC/186163_5XFAD_KO_feature-table_study-type.qza\n",
    "\n",
    "!qiime feature-table filter-samples \\\n",
    "    --i-table ../data/Microbiome/KO-EC/186163_5XFAD_KO_feature-table_annot.qza \\\n",
    "    --m-metadata-file ../data/Microbiome/14957_metadata.txt \\\n",
    "    --p-where '[mouse_strain] IN (\"WT 5XFAD\", \"Het 5XFAD\")' \\\n",
    "    --o-filtered-table ../data/Microbiome/KO-EC/186163_5XFAD_KO_feature-table_genotype.qza\n",
    "\n",
    "!qiime feature-table filter-samples \\\n",
    "    --i-table ../data/Microbiome/KO-EC/186163_5XFAD_KO_feature-table_annot.qza \\\n",
    "    --m-metadata-file ../data/Microbiome/14957_metadata.txt \\\n",
    "    --p-where '[sex] IN (\"male\", \"female\")' \\\n",
    "    --o-filtered-table ../data/Microbiome/KO-EC/186163_5XFAD_KO_feature-table_sex.qza"
   ]
  },
  {
   "cell_type": "code",
   "execution_count": 18,
   "id": "f873324d",
   "metadata": {},
   "outputs": [
    {
     "name": "stdout",
     "output_type": "stream",
     "text": [
      "\u001b[32mSaved FeatureData[DifferentialAbundance] to: ../data/Microbiome/KO-EC/5XFAD_KO_study-type_ancombc_differentials.qza\u001b[0m\n",
      "\u001b[0m\u001b[32mSaved FeatureData[DifferentialAbundance] to: ../data/Microbiome/KO-EC/5XFAD_KO_genotype_ancombc_differentials.qza\u001b[0m\n",
      "\u001b[0m\u001b[32mSaved FeatureData[DifferentialAbundance] to: ../data/Microbiome/KO-EC/5XFAD_KO_sex_ancombc_differentials.qza\u001b[0m\n",
      "\u001b[0m"
     ]
    }
   ],
   "source": [
    "!qiime composition ancombc \\\n",
    "    --i-table ../data/Microbiome/KO-EC/186163_5XFAD_KO_feature-table_study-type.qza \\\n",
    "    --m-metadata-file ../data/Microbiome/14957_metadata.txt \\\n",
    "    --p-formula \"intervention\" \\\n",
    "    --p-reference-levels intervention::Sacrifice \\\n",
    "    --p-p-adj-method 'holm' \\\n",
    "    --p-alpha 0.05 \\\n",
    "    --o-differentials ../data/Microbiome/KO-EC/5XFAD_KO_study-type_ancombc_differentials.qza\n",
    "\n",
    "!qiime composition ancombc \\\n",
    "    --i-table ../data/Microbiome/KO-EC/186163_5XFAD_KO_feature-table_genotype.qza \\\n",
    "    --m-metadata-file ../data/Microbiome/14957_metadata.txt \\\n",
    "    --p-formula \"mouse_strain\" \\\n",
    "    --p-reference-levels mouse_strain::\"WT 5XFAD\" \\\n",
    "    --p-p-adj-method 'holm' \\\n",
    "    --p-alpha 0.05 \\\n",
    "    --o-differentials ../data/Microbiome/KO-EC/5XFAD_KO_genotype_ancombc_differentials.qza\n",
    "\n",
    "!qiime composition ancombc \\\n",
    "    --i-table ../data/Microbiome/KO-EC/186163_5XFAD_KO_feature-table_sex.qza \\\n",
    "    --m-metadata-file ../data/Microbiome/14957_metadata.txt \\\n",
    "    --p-formula \"sex\" \\\n",
    "    --p-reference-levels sex::female \\\n",
    "    --p-p-adj-method 'holm' \\\n",
    "    --p-alpha 0.05 \\\n",
    "    --o-differentials ../data/Microbiome/KO-EC/5XFAD_KO_sex_ancombc_differentials.qza\n",
    "#binary categories only"
   ]
  },
  {
   "cell_type": "code",
   "execution_count": 24,
   "id": "0acaac2d",
   "metadata": {},
   "outputs": [
    {
     "name": "stdout",
     "output_type": "stream",
     "text": [
      "\u001b[32mSaved Visualization to: ../data/Microbiome/KO-EC/5XFAD_KO_study-type_ancombc_barplot.qzv\u001b[0m\n",
      "\u001b[0m\u001b[32mSaved Visualization to: ../data/Microbiome/KO-EC/5XFAD_KO_genotype_ancombc_barplot.qzv\u001b[0m\n",
      "\u001b[0m\u001b[32mSaved Visualization to: ../data/Microbiome/KO-EC/5XFAD_KO_sex_ancombc_barplot.qzv\u001b[0m\n",
      "\u001b[0m"
     ]
    }
   ],
   "source": [
    "!qiime composition da-barplot \\\n",
    "    --i-data ../data/Microbiome/KO-EC/5XFAD_KO_study-type_ancombc_differentials.qza \\\n",
    "    --p-significance-threshold 0.01 \\\n",
    "    --p-effect-size-threshold 1 \\\n",
    "    --p-label-limit 300 \\\n",
    "    --o-visualization ../data/Microbiome/KO-EC/5XFAD_KO_study-type_ancombc_barplot.qzv\n",
    "\n",
    "!qiime composition da-barplot \\\n",
    "    --i-data ../data/Microbiome/KO-EC/5XFAD_KO_genotype_ancombc_differentials.qza \\\n",
    "    --p-significance-threshold 0.01 \\\n",
    "    --p-effect-size-threshold 1 \\\n",
    "    --p-label-limit 300 \\\n",
    "    --o-visualization ../data/Microbiome/KO-EC/5XFAD_KO_genotype_ancombc_barplot.qzv\n",
    "\n",
    "!qiime composition da-barplot \\\n",
    "    --i-data ../data/Microbiome/KO-EC/5XFAD_KO_sex_ancombc_differentials.qza \\\n",
    "    --p-significance-threshold 0.05 \\\n",
    "    --p-effect-size-threshold 1 \\\n",
    "    --p-label-limit 300 \\\n",
    "    --o-visualization ../data/Microbiome/KO-EC/5XFAD_KO_sex_ancombc_barplot.qzv\n",
    "#needs altair 4.2.2; run in qiime2-amplicon-2024.5"
   ]
  },
  {
   "cell_type": "markdown",
   "id": "406754e3",
   "metadata": {},
   "source": [
    "#### Sacrifice Timepoints Only"
   ]
  },
  {
   "cell_type": "code",
   "execution_count": 20,
   "id": "c84a5c95",
   "metadata": {},
   "outputs": [
    {
     "name": "stdout",
     "output_type": "stream",
     "text": [
      "\u001b[32mSaved FeatureTable[Frequency] to: ../data/Microbiome/KO-EC/5XFAD_KO_sac-ft.qza\u001b[0m\r\n",
      "\u001b[0m"
     ]
    }
   ],
   "source": [
    "!qiime feature-table filter-samples \\\n",
    "    --i-table ../data/Microbiome/KO-EC/186163_5XFAD_KO_feature-table_annot.qza \\\n",
    "    --m-metadata-file ../data/Microbiome/14957_metadata.txt \\\n",
    "    --p-where '[intervention]=\"Sacrifice\"' \\\n",
    "    --o-filtered-table ../data/Microbiome/KO-EC/5XFAD_KO_sac-ft.qza"
   ]
  },
  {
   "cell_type": "code",
   "execution_count": 21,
   "id": "6c180e19",
   "metadata": {},
   "outputs": [
    {
     "name": "stdout",
     "output_type": "stream",
     "text": [
      "\u001b[32mSaved FeatureTable[Frequency] to: ../data/Microbiome/KO-EC/5XFAD_KO_sac-ft_genotype.qza\u001b[0m\n",
      "\u001b[0m\u001b[32mSaved FeatureTable[Frequency] to: ../data/Microbiome/KO-EC/5XFAD_KO_sac-ft_sex.qza\u001b[0m\n",
      "\u001b[0m"
     ]
    }
   ],
   "source": [
    "!qiime feature-table filter-samples \\\n",
    "    --i-table ../data/Microbiome/KO-EC/5XFAD_KO_sac-ft.qza \\\n",
    "    --m-metadata-file ../data/Microbiome/14957_metadata.txt \\\n",
    "    --p-where '[mouse_strain] IN (\"WT 5XFAD\", \"Het 5XFAD\")' \\\n",
    "    --o-filtered-table ../data/Microbiome/KO-EC/5XFAD_KO_sac-ft_genotype.qza\n",
    "\n",
    "!qiime feature-table filter-samples \\\n",
    "    --i-table ../data/Microbiome/KO-EC/5XFAD_KO_sac-ft.qza \\\n",
    "    --m-metadata-file ../data/Microbiome/14957_metadata.txt \\\n",
    "    --p-where '[sex] IN (\"male\", \"female\")' \\\n",
    "    --o-filtered-table ../data/Microbiome/KO-EC/5XFAD_KO_sac-ft_sex.qza"
   ]
  },
  {
   "cell_type": "code",
   "execution_count": 22,
   "id": "78475008",
   "metadata": {},
   "outputs": [
    {
     "name": "stdout",
     "output_type": "stream",
     "text": [
      "\u001b[32mSaved FeatureData[DifferentialAbundance] to: ../data/Microbiome/KO-EC/5XFAD_KO_sac-ft_genotype_ancombc_differentials.qza\u001b[0m\n",
      "\u001b[0m\u001b[32mSaved FeatureData[DifferentialAbundance] to: ../data/Microbiome/KO-EC/5XFAD_KO_sac-ft_sex_ancombc_differentials.qza\u001b[0m\n",
      "\u001b[0m"
     ]
    }
   ],
   "source": [
    "!qiime composition ancombc \\\n",
    "    --i-table ../data/Microbiome/KO-EC/5XFAD_KO_sac-ft_genotype.qza \\\n",
    "    --m-metadata-file ../data/Microbiome/14957_metadata.txt \\\n",
    "    --p-formula \"mouse_strain\" \\\n",
    "    --p-reference-levels mouse_strain::\"WT 5XFAD\" \\\n",
    "    --p-p-adj-method 'holm' \\\n",
    "    --p-alpha 0.05 \\\n",
    "    --o-differentials ../data/Microbiome/KO-EC/5XFAD_KO_sac-ft_genotype_ancombc_differentials.qza\n",
    "\n",
    "!qiime composition ancombc \\\n",
    "    --i-table ../data/Microbiome/KO-EC/5XFAD_KO_sac-ft_sex.qza \\\n",
    "    --m-metadata-file ../data/Microbiome/14957_metadata.txt \\\n",
    "    --p-formula \"sex\" \\\n",
    "    --p-reference-levels sex::female \\\n",
    "    --p-p-adj-method 'holm' \\\n",
    "    --p-alpha 0.05 \\\n",
    "    --o-differentials ../data/Microbiome/KO-EC/5XFAD_KO_sac-ft_sex_ancombc_differentials.qza\n",
    "#binary categories easier"
   ]
  },
  {
   "cell_type": "code",
   "execution_count": 29,
   "id": "7e8ed910",
   "metadata": {},
   "outputs": [
    {
     "name": "stdout",
     "output_type": "stream",
     "text": [
      "\u001b[32mSaved Visualization to: ../data/Microbiome/KO-EC/5XFAD_KO_sac-ft_genotype_ancombc_barplot.qzv\u001b[0m\n",
      "\u001b[0m\u001b[32mSaved Visualization to: ../data/Microbiome/KO-EC/5XFAD_KO_sac-ft_sex_ancombc_barplot.qzv\u001b[0m\n",
      "\u001b[0m"
     ]
    }
   ],
   "source": [
    "!qiime composition da-barplot \\\n",
    "    --i-data ../data/Microbiome/KO-EC/5XFAD_KO_sac-ft_genotype_ancombc_differentials.qza \\\n",
    "    --p-significance-threshold 0.05 \\\n",
    "    --p-effect-size-threshold 1 \\\n",
    "    --p-label-limit 300 \\\n",
    "    --o-visualization ../data/Microbiome/KO-EC/5XFAD_KO_sac-ft_genotype_ancombc_barplot.qzv\n",
    "\n",
    "!qiime composition da-barplot \\\n",
    "    --i-data ../data/Microbiome/KO-EC/5XFAD_KO_sac-ft_sex_ancombc_differentials.qza \\\n",
    "    --p-significance-threshold 0.05 \\\n",
    "    --p-effect-size-threshold 1 \\\n",
    "    --p-label-limit 300 \\\n",
    "    --o-visualization ../data/Microbiome/KO-EC/5XFAD_KO_sac-ft_sex_ancombc_barplot.qzv"
   ]
  },
  {
   "cell_type": "markdown",
   "id": "60aaea30",
   "metadata": {},
   "source": [
    "# Kegg Enzyme"
   ]
  },
  {
   "cell_type": "code",
   "execution_count": 2,
   "id": "06003668",
   "metadata": {},
   "outputs": [
    {
     "name": "stdout",
     "output_type": "stream",
     "text": [
      "\u001b[32mSaved Visualization to: ../data/Microbiome/KO-EC/186159_5xFAD_EC_feature-table.qzv\u001b[0m\n",
      "\u001b[0m"
     ]
    }
   ],
   "source": [
    "!qiime feature-table summarize \\\n",
    "    --i-table ../data/Microbiome/KO-EC/186159_5xFAD_EC_feature-table.qza \\\n",
    "    --m-sample-metadata-file ../data/Microbiome/14957_metadata.txt \\\n",
    "    --o-visualization ../data/Microbiome/KO-EC/186159_5xFAD_EC_feature-table.qzv\n",
    "#161,000 gets rid of all blanks, keeps most samples"
   ]
  },
  {
   "cell_type": "code",
   "execution_count": 7,
   "id": "91a868b1",
   "metadata": {},
   "outputs": [
    {
     "name": "stdout",
     "output_type": "stream",
     "text": [
      "\u001b[32mSaved FeatureTable[Frequency] to: ../data/Microbiome/KO-EC/KO_core_diversity_161000/rarefied_table.qza\u001b[0m\n",
      "\u001b[32mSaved SampleData[AlphaDiversity] to: ../data/Microbiome/KO-EC/KO_core_diversity_161000/observed_features_vector.qza\u001b[0m\n",
      "\u001b[32mSaved SampleData[AlphaDiversity] to: ../data/Microbiome/KO-EC/KO_core_diversity_161000/shannon_vector.qza\u001b[0m\n",
      "\u001b[32mSaved SampleData[AlphaDiversity] to: ../data/Microbiome/KO-EC/KO_core_diversity_161000/evenness_vector.qza\u001b[0m\n",
      "\u001b[32mSaved DistanceMatrix to: ../data/Microbiome/KO-EC/KO_core_diversity_161000/jaccard_distance_matrix.qza\u001b[0m\n",
      "\u001b[32mSaved DistanceMatrix to: ../data/Microbiome/KO-EC/KO_core_diversity_161000/bray_curtis_distance_matrix.qza\u001b[0m\n",
      "\u001b[32mSaved PCoAResults to: ../data/Microbiome/KO-EC/KO_core_diversity_161000/jaccard_pcoa_results.qza\u001b[0m\n",
      "\u001b[32mSaved PCoAResults to: ../data/Microbiome/KO-EC/KO_core_diversity_161000/bray_curtis_pcoa_results.qza\u001b[0m\n",
      "\u001b[32mSaved Visualization to: ../data/Microbiome/KO-EC/KO_core_diversity_161000/jaccard_emperor.qzv\u001b[0m\n",
      "\u001b[32mSaved Visualization to: ../data/Microbiome/KO-EC/KO_core_diversity_161000/bray_curtis_emperor.qzv\u001b[0m\n",
      "\u001b[0m"
     ]
    }
   ],
   "source": [
    "!qiime diversity core-metrics \\\n",
    "    --i-table ../data/Microbiome/KO-EC/186159_5xFAD_EC_feature-table.qza \\\n",
    "    --p-sampling-depth 161000 \\\n",
    "    --m-metadata-file ../data/Microbiome/14957_metadata.txt \\\n",
    "    --output-dir ../data/Microbiome/KO-EC/EC_core_diversity_161000"
   ]
  },
  {
   "cell_type": "code",
   "execution_count": 2,
   "id": "ff32f9a6",
   "metadata": {},
   "outputs": [
    {
     "name": "stdout",
     "output_type": "stream",
     "text": [
      "\u001b[32mSaved Visualization to: ../data/Microbiome/KO-EC/EC_core_diversity_161000/observed_features_vector.qzv\u001b[0m\n",
      "\u001b[0m\u001b[32mSaved Visualization to: ../data/Microbiome/KO-EC/EC_core_diversity_161000/shannon_vector.qzv\u001b[0m\n",
      "\u001b[0m"
     ]
    }
   ],
   "source": [
    "!qiime diversity alpha-group-significance \\\n",
    "    --i-alpha-diversity ../data/Microbiome/KO-EC/EC_core_diversity_161000/observed_features_vector.qza \\\n",
    "    --m-metadata-file ../data/Microbiome/14957_metadata.txt \\\n",
    "    --o-visualization ../data/Microbiome/KO-EC/EC_core_diversity_161000/observed_features_vector.qzv\n",
    "\n",
    "!qiime diversity alpha-group-significance \\\n",
    "    --i-alpha-diversity ../data/Microbiome/KO-EC/EC_core_diversity_161000/shannon_vector.qza \\\n",
    "    --m-metadata-file ../data/Microbiome/14957_metadata.txt \\\n",
    "    --o-visualization ../data/Microbiome/KO-EC/EC_core_diversity_161000/shannon_vector.qzv"
   ]
  },
  {
   "cell_type": "code",
   "execution_count": 7,
   "id": "48cf5b60",
   "metadata": {},
   "outputs": [
    {
     "name": "stdout",
     "output_type": "stream",
     "text": [
      "\u001b[32mSaved Visualization to: ../data/Microbiome/KO-EC/EC_core_diversity_161000/jaccard_dm_beta-sig_study-type.qza.qzv\u001b[0m\n",
      "\u001b[0m\u001b[32mSaved Visualization to: ../data/Microbiome/KO-EC/EC_core_diversity_161000/braycurtis_dm_beta-sig_study-type.qza.qzv\u001b[0m\n",
      "\u001b[0m"
     ]
    }
   ],
   "source": [
    "!qiime diversity beta-group-significance \\\n",
    "    --i-distance-matrix ../data/Microbiome/KO-EC/EC_core_diversity_161000/jaccard_distance_matrix.qza \\\n",
    "    --m-metadata-file ../data/Microbiome/14957_metadata.txt \\\n",
    "    --m-metadata-column intervention \\\n",
    "    --p-pairwise True \\\n",
    "    --o-visualization ../data/Microbiome/KO-EC/EC_core_diversity_161000/jaccard_dm_beta-sig_study-type.qza\n",
    "\n",
    "!qiime diversity beta-group-significance \\\n",
    "    --i-distance-matrix ../data/Microbiome/KO-EC/EC_core_diversity_161000/bray_curtis_distance_matrix.qza \\\n",
    "    --m-metadata-file ../data/Microbiome/14957_metadata.txt \\\n",
    "    --m-metadata-column intervention \\\n",
    "    --p-pairwise True \\\n",
    "    --o-visualization ../data/Microbiome/KO-EC/EC_core_diversity_161000/braycurtis_dm_beta-sig_study-type.qza"
   ]
  },
  {
   "cell_type": "code",
   "execution_count": 8,
   "id": "ef44805b",
   "metadata": {},
   "outputs": [
    {
     "name": "stdout",
     "output_type": "stream",
     "text": [
      "\u001b[32mSaved Visualization to: ../data/Microbiome/KO-EC/EC_core_diversity_161000/jaccard_dm_beta-sig_genotype.qza.qzv\u001b[0m\n",
      "\u001b[0m\u001b[32mSaved Visualization to: ../data/Microbiome/KO-EC/EC_core_diversity_161000/braycurtis_dm_beta-sig_genotype.qza.qzv\u001b[0m\n",
      "\u001b[0m"
     ]
    }
   ],
   "source": [
    "!qiime diversity beta-group-significance \\\n",
    "    --i-distance-matrix ../data/Microbiome/KO-EC/EC_core_diversity_161000/jaccard_distance_matrix.qza \\\n",
    "    --m-metadata-file ../data/Microbiome/14957_metadata.txt \\\n",
    "    --m-metadata-column mouse_strain \\\n",
    "    --p-pairwise True \\\n",
    "    --o-visualization ../data/Microbiome/KO-EC/EC_core_diversity_161000/jaccard_dm_beta-sig_genotype.qza\n",
    "\n",
    "!qiime diversity beta-group-significance \\\n",
    "    --i-distance-matrix ../data/Microbiome/KO-EC/EC_core_diversity_161000/bray_curtis_distance_matrix.qza \\\n",
    "    --m-metadata-file ../data/Microbiome/14957_metadata.txt \\\n",
    "    --m-metadata-column mouse_strain \\\n",
    "    --p-pairwise True \\\n",
    "    --o-visualization ../data/Microbiome/KO-EC/EC_core_diversity_161000/braycurtis_dm_beta-sig_genotype.qza"
   ]
  },
  {
   "cell_type": "code",
   "execution_count": 9,
   "id": "54c3262d",
   "metadata": {},
   "outputs": [
    {
     "name": "stdout",
     "output_type": "stream",
     "text": [
      "\u001b[32mSaved Visualization to: ../data/Microbiome/KO-EC/EC_core_diversity_161000/jaccard_dm_beta-sig_sex.qza.qzv\u001b[0m\n",
      "\u001b[0m\u001b[32mSaved Visualization to: ../data/Microbiome/KO-EC/EC_core_diversity_161000/braycurtis_dm_beta-sig_sex.qza.qzv\u001b[0m\n",
      "\u001b[0m"
     ]
    }
   ],
   "source": [
    "!qiime diversity beta-group-significance \\\n",
    "    --i-distance-matrix ../data/Microbiome/KO-EC/EC_core_diversity_161000/jaccard_distance_matrix.qza \\\n",
    "    --m-metadata-file ../data/Microbiome/14957_metadata.txt \\\n",
    "    --m-metadata-column sex \\\n",
    "    --p-pairwise True \\\n",
    "    --o-visualization ../data/Microbiome/KO-EC/EC_core_diversity_161000/jaccard_dm_beta-sig_sex.qza\n",
    "\n",
    "!qiime diversity beta-group-significance \\\n",
    "    --i-distance-matrix ../data/Microbiome/KO-EC/EC_core_diversity_161000/bray_curtis_distance_matrix.qza \\\n",
    "    --m-metadata-file ../data/Microbiome/14957_metadata.txt \\\n",
    "    --m-metadata-column sex \\\n",
    "    --p-pairwise True \\\n",
    "    --o-visualization ../data/Microbiome/KO-EC/EC_core_diversity_161000/braycurtis_dm_beta-sig_sex.qza"
   ]
  },
  {
   "cell_type": "code",
   "execution_count": null,
   "id": "cdcb610a",
   "metadata": {},
   "outputs": [],
   "source": [
    "#hard to convert EC to named"
   ]
  },
  {
   "cell_type": "markdown",
   "id": "0c538140",
   "metadata": {},
   "source": [
    "# Kegg Pathways"
   ]
  },
  {
   "cell_type": "code",
   "execution_count": 1,
   "id": "8144ce2c",
   "metadata": {},
   "outputs": [
    {
     "name": "stdout",
     "output_type": "stream",
     "text": [
      "\u001b[32mSaved FeatureTable[Frequency] to: ../data/Microbiome/KO-EC/5XFAD_Kegg-pathway_ft_annot.qza\u001b[0m\r\n",
      "\u001b[0m"
     ]
    }
   ],
   "source": [
    "!qiime feature-table rename-ids \\\n",
    "    --i-table ../data/Microbiome/KO-EC/5XFAD_Kegg-pathway_186162_feature-table.qza \\\n",
    "    --m-metadata-file ../../../woltka_functional/pathway_name.txt \\\n",
    "    --m-metadata-column Kpath_ID \\\n",
    "    --p-axis 'feature' \\\n",
    "    --p-no-strict True \\\n",
    "    --o-renamed-table ../data/Microbiome/KO-EC/5XFAD_Kegg-pathway_ft_annot.qza"
   ]
  },
  {
   "cell_type": "code",
   "execution_count": 2,
   "id": "460ce796",
   "metadata": {},
   "outputs": [
    {
     "name": "stdout",
     "output_type": "stream",
     "text": [
      "\u001b[32mSaved Visualization to: ../data/Microbiome/KO-EC/5XFAD_Kegg-pathway_ft_annot.qzv\u001b[0m\r\n",
      "\u001b[0m"
     ]
    }
   ],
   "source": [
    "!qiime feature-table summarize \\\n",
    "    --i-table ../data/Microbiome/KO-EC/5XFAD_Kegg-pathway_ft_annot.qza \\\n",
    "    --m-sample-metadata-file ../data/Microbiome/14957_metadata.txt \\\n",
    "    --o-visualization ../data/Microbiome/KO-EC/5XFAD_Kegg-pathway_ft_annot.qzv"
   ]
  },
  {
   "cell_type": "code",
   "execution_count": 3,
   "id": "e50cadcf",
   "metadata": {},
   "outputs": [
    {
     "name": "stdout",
     "output_type": "stream",
     "text": [
      "\u001b[32mSaved FeatureTable[Frequency] to: ../data/Microbiome/KO-EC/186163_5XFAD_Kpath_feature-table_study-type.qza\u001b[0m\n",
      "\u001b[0m\u001b[32mSaved FeatureTable[Frequency] to: ../data/Microbiome/KO-EC/186163_5XFAD_Kpath_feature-table_genotype.qza\u001b[0m\n",
      "\u001b[0m\u001b[32mSaved FeatureTable[Frequency] to: ../data/Microbiome/KO-EC/186163_5XFAD_Kpath_feature-table_sex.qza\u001b[0m\n",
      "\u001b[0m"
     ]
    }
   ],
   "source": [
    "!qiime feature-table filter-samples \\\n",
    "    --i-table ../data/Microbiome/KO-EC/5XFAD_Kegg-pathway_ft_annot.qza \\\n",
    "    --m-metadata-file ../data/Microbiome/14957_metadata.txt \\\n",
    "    --p-where '[intervention] IN (\"Longitudinal\", \"Sacrifice\")' \\\n",
    "    --o-filtered-table ../data/Microbiome/KO-EC/186163_5XFAD_Kpath_feature-table_study-type.qza\n",
    "\n",
    "!qiime feature-table filter-samples \\\n",
    "    --i-table ../data/Microbiome/KO-EC/5XFAD_Kegg-pathway_ft_annot.qza \\\n",
    "    --m-metadata-file ../data/Microbiome/14957_metadata.txt \\\n",
    "    --p-where '[mouse_strain] IN (\"WT 5XFAD\", \"Het 5XFAD\")' \\\n",
    "    --o-filtered-table ../data/Microbiome/KO-EC/186163_5XFAD_Kpath_feature-table_genotype.qza\n",
    "\n",
    "!qiime feature-table filter-samples \\\n",
    "    --i-table ../data/Microbiome/KO-EC/5XFAD_Kegg-pathway_ft_annot.qza \\\n",
    "    --m-metadata-file ../data/Microbiome/14957_metadata.txt \\\n",
    "    --p-where '[sex] IN (\"male\", \"female\")' \\\n",
    "    --o-filtered-table ../data/Microbiome/KO-EC/186163_5XFAD_Kpath_feature-table_sex.qza"
   ]
  },
  {
   "cell_type": "code",
   "execution_count": 4,
   "id": "bbd95e02",
   "metadata": {},
   "outputs": [
    {
     "name": "stdout",
     "output_type": "stream",
     "text": [
      "\u001b[32mSaved FeatureData[DifferentialAbundance] to: ../data/Microbiome/KO-EC/5XFAD_Kpath_study-type_ancombc_differentials.qza\u001b[0m\n",
      "\u001b[0m\u001b[32mSaved FeatureData[DifferentialAbundance] to: ../data/Microbiome/KO-EC/5XFAD_Kpath_genotype_ancombc_differentials.qza\u001b[0m\n",
      "\u001b[0m\u001b[32mSaved FeatureData[DifferentialAbundance] to: ../data/Microbiome/KO-EC/5XFAD_Kpath_sex_ancombc_differentials.qza\u001b[0m\n",
      "\u001b[0m"
     ]
    }
   ],
   "source": [
    "!qiime composition ancombc \\\n",
    "    --i-table ../data/Microbiome/KO-EC/186163_5XFAD_Kpath_feature-table_study-type.qza \\\n",
    "    --m-metadata-file ../data/Microbiome/14957_metadata.txt \\\n",
    "    --p-formula \"intervention\" \\\n",
    "    --p-reference-levels intervention::Sacrifice \\\n",
    "    --p-p-adj-method 'holm' \\\n",
    "    --p-alpha 0.05 \\\n",
    "    --o-differentials ../data/Microbiome/KO-EC/5XFAD_Kpath_study-type_ancombc_differentials.qza\n",
    "\n",
    "!qiime composition ancombc \\\n",
    "    --i-table ../data/Microbiome/KO-EC/186163_5XFAD_Kpath_feature-table_genotype.qza \\\n",
    "    --m-metadata-file ../data/Microbiome/14957_metadata.txt \\\n",
    "    --p-formula \"mouse_strain\" \\\n",
    "    --p-reference-levels mouse_strain::\"WT 5XFAD\" \\\n",
    "    --p-p-adj-method 'holm' \\\n",
    "    --p-alpha 0.05 \\\n",
    "    --o-differentials ../data/Microbiome/KO-EC/5XFAD_Kpath_genotype_ancombc_differentials.qza\n",
    "\n",
    "!qiime composition ancombc \\\n",
    "    --i-table ../data/Microbiome/KO-EC/186163_5XFAD_Kpath_feature-table_sex.qza \\\n",
    "    --m-metadata-file ../data/Microbiome/14957_metadata.txt \\\n",
    "    --p-formula \"sex\" \\\n",
    "    --p-reference-levels sex::female \\\n",
    "    --p-p-adj-method 'holm' \\\n",
    "    --p-alpha 0.05 \\\n",
    "    --o-differentials ../data/Microbiome/KO-EC/5XFAD_Kpath_sex_ancombc_differentials.qza\n",
    "#binary categories easier"
   ]
  },
  {
   "cell_type": "code",
   "execution_count": 5,
   "id": "80a349ac",
   "metadata": {},
   "outputs": [
    {
     "name": "stdout",
     "output_type": "stream",
     "text": [
      "\u001b[32mSaved Visualization to: ../data/Microbiome/KO-EC/5XFAD_Kpath_study-type_ancombc_barplot.qzv\u001b[0m\n",
      "\u001b[0m\u001b[32mSaved Visualization to: ../data/Microbiome/KO-EC/5XFAD_Kpath_genotype_ancombc_barplot.qzv\u001b[0m\n",
      "\u001b[0m\u001b[32mSaved Visualization to: ../data/Microbiome/KO-EC/5XFAD_Kpath_sex_ancombc_barplot.qzv\u001b[0m\n",
      "\u001b[0m"
     ]
    }
   ],
   "source": [
    "!qiime composition da-barplot \\\n",
    "    --i-data ../data/Microbiome/KO-EC/5XFAD_Kpath_study-type_ancombc_differentials.qza \\\n",
    "    --p-significance-threshold 0.05 \\\n",
    "    --p-effect-size-threshold 1 \\\n",
    "    --o-visualization ../data/Microbiome/KO-EC/5XFAD_Kpath_study-type_ancombc_barplot.qzv\n",
    "\n",
    "!qiime composition da-barplot \\\n",
    "    --i-data ../data/Microbiome/KO-EC/5XFAD_Kpath_genotype_ancombc_differentials.qza \\\n",
    "    --p-significance-threshold 0.05 \\\n",
    "    --p-effect-size-threshold 1 \\\n",
    "    --o-visualization ../data/Microbiome/KO-EC/5XFAD_Kpath_genotype_ancombc_barplot.qzv\n",
    "\n",
    "!qiime composition da-barplot \\\n",
    "    --i-data ../data/Microbiome/KO-EC/5XFAD_Kpath_sex_ancombc_differentials.qza \\\n",
    "    --p-significance-threshold 0.05 \\\n",
    "    --p-effect-size-threshold 1 \\\n",
    "    --o-visualization ../data/Microbiome/KO-EC/5XFAD_Kpath_sex_ancombc_barplot.qzv"
   ]
  },
  {
   "cell_type": "markdown",
   "id": "5c60a7ff",
   "metadata": {},
   "source": [
    "#### Sacrifice Timepoints Only"
   ]
  },
  {
   "cell_type": "code",
   "execution_count": 6,
   "id": "41aa40f2",
   "metadata": {},
   "outputs": [
    {
     "name": "stdout",
     "output_type": "stream",
     "text": [
      "\u001b[32mSaved FeatureTable[Frequency] to: ../data/Microbiome/KO-EC/5XFAD_Kpath_sac-only.qza\u001b[0m\r\n",
      "\u001b[0m"
     ]
    }
   ],
   "source": [
    "!qiime feature-table filter-samples \\\n",
    "    --i-table ../data/Microbiome/KO-EC/5XFAD_Kegg-pathway_ft_annot.qza \\\n",
    "    --m-metadata-file ../data/Microbiome/14957_metadata.txt \\\n",
    "    --p-where '[intervention]=\"Sacrifice\"' \\\n",
    "    --o-filtered-table ../data/Microbiome/KO-EC/5XFAD_Kpath_sac-only.qza"
   ]
  },
  {
   "cell_type": "code",
   "execution_count": 7,
   "id": "6a03dbef",
   "metadata": {},
   "outputs": [
    {
     "name": "stdout",
     "output_type": "stream",
     "text": [
      "\u001b[32mSaved FeatureTable[Frequency] to: ../data/Microbiome/KO-EC/5XFAD_Kpath_sac-ft_genotype.qza\u001b[0m\n",
      "\u001b[0m\u001b[32mSaved FeatureTable[Frequency] to: ../data/Microbiome/KO-EC/5XFAD_Kpath_sac-ft_sex.qza\u001b[0m\n",
      "\u001b[0m"
     ]
    }
   ],
   "source": [
    "!qiime feature-table filter-samples \\\n",
    "    --i-table ../data/Microbiome/KO-EC/5XFAD_Kpath_sac-only.qza \\\n",
    "    --m-metadata-file ../data/Microbiome/14957_metadata.txt \\\n",
    "    --p-where '[mouse_strain] IN (\"WT 5XFAD\", \"Het 5XFAD\")' \\\n",
    "    --o-filtered-table ../data/Microbiome/KO-EC/5XFAD_Kpath_sac-ft_genotype.qza\n",
    "\n",
    "!qiime feature-table filter-samples \\\n",
    "    --i-table ../data/Microbiome/KO-EC/5XFAD_Kpath_sac-only.qza \\\n",
    "    --m-metadata-file ../data/Microbiome/14957_metadata.txt \\\n",
    "    --p-where '[sex] IN (\"male\", \"female\")' \\\n",
    "    --o-filtered-table ../data/Microbiome/KO-EC/5XFAD_Kpath_sac-ft_sex.qza"
   ]
  },
  {
   "cell_type": "code",
   "execution_count": 8,
   "id": "e7ea5786",
   "metadata": {},
   "outputs": [
    {
     "name": "stdout",
     "output_type": "stream",
     "text": [
      "\u001b[32mSaved FeatureData[DifferentialAbundance] to: ../data/Microbiome/KO-EC/5XFAD_Kpath_sac-ft_genotype_ancombc_differentials.qza\u001b[0m\n",
      "\u001b[0m\u001b[32mSaved FeatureData[DifferentialAbundance] to: ../data/Microbiome/KO-EC/5XFAD_Kpath_sac-ft_sex_ancombc_differentials.qza\u001b[0m\n",
      "\u001b[0m"
     ]
    }
   ],
   "source": [
    "!qiime composition ancombc \\\n",
    "    --i-table ../data/Microbiome/KO-EC/5XFAD_Kpath_sac-ft_genotype.qza \\\n",
    "    --m-metadata-file ../data/Microbiome/14957_metadata.txt \\\n",
    "    --p-formula \"mouse_strain\" \\\n",
    "    --p-reference-levels mouse_strain::\"WT 5XFAD\" \\\n",
    "    --p-p-adj-method 'holm' \\\n",
    "    --p-alpha 0.05 \\\n",
    "    --o-differentials ../data/Microbiome/KO-EC/5XFAD_Kpath_sac-ft_genotype_ancombc_differentials.qza\n",
    "\n",
    "!qiime composition ancombc \\\n",
    "    --i-table ../data/Microbiome/KO-EC/5XFAD_Kpath_sac-ft_sex.qza \\\n",
    "    --m-metadata-file ../data/Microbiome/14957_metadata.txt \\\n",
    "    --p-formula \"sex\" \\\n",
    "    --p-reference-levels sex::female \\\n",
    "    --p-p-adj-method 'holm' \\\n",
    "    --p-alpha 0.05 \\\n",
    "    --o-differentials ../data/Microbiome/KO-EC/5XFAD_Kpath_sac-ft_sex_ancombc_differentials.qza\n",
    "#binary categories easier"
   ]
  },
  {
   "cell_type": "code",
   "execution_count": 11,
   "id": "9740e52b",
   "metadata": {},
   "outputs": [
    {
     "name": "stdout",
     "output_type": "stream",
     "text": [
      "\u001b[32mSaved Visualization to: ../data/Microbiome/KO-EC/5XFAD_Kpath_sac-ft_genotype_ancombc_barplot.qzv\u001b[0m\n",
      "\u001b[0m\u001b[32mSaved Visualization to: ../data/Microbiome/KO-EC/5XFAD_Kpath_sac-ft_sex_ancombc_barplot.qzv\u001b[0m\n",
      "\u001b[0m"
     ]
    }
   ],
   "source": [
    "!qiime composition da-barplot \\\n",
    "    --i-data ../data/Microbiome/KO-EC/5XFAD_Kpath_sac-ft_genotype_ancombc_differentials.qza \\\n",
    "    --p-significance-threshold 0.1 \\\n",
    "    --o-visualization ../data/Microbiome/KO-EC/5XFAD_Kpath_sac-ft_genotype_ancombc_barplot.qzv\n",
    "\n",
    "!qiime composition da-barplot \\\n",
    "    --i-data ../data/Microbiome/KO-EC/5XFAD_Kpath_sac-ft_sex_ancombc_differentials.qza \\\n",
    "    --p-significance-threshold 0.1 \\\n",
    "    --o-visualization ../data/Microbiome/KO-EC/5XFAD_Kpath_sac-ft_sex_ancombc_barplot.qzv\n",
    "#weak, trends only for both"
   ]
  },
  {
   "cell_type": "code",
   "execution_count": null,
   "id": "36ee9acc",
   "metadata": {},
   "outputs": [],
   "source": []
  }
 ],
 "metadata": {
  "kernelspec": {
   "display_name": "Python 3 (ipykernel)",
   "language": "python",
   "name": "python3"
  },
  "language_info": {
   "codemirror_mode": {
    "name": "ipython",
    "version": 3
   },
   "file_extension": ".py",
   "mimetype": "text/x-python",
   "name": "python",
   "nbconvert_exporter": "python",
   "pygments_lexer": "ipython3",
   "version": "3.9.19"
  }
 },
 "nbformat": 4,
 "nbformat_minor": 5
}
