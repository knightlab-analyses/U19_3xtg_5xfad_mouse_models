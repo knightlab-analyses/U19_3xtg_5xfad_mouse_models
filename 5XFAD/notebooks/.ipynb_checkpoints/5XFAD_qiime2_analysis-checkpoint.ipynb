{
 "cells": [
  {
   "cell_type": "markdown",
   "id": "0fc15dfd",
   "metadata": {},
   "source": [
    "### Open in Qiime2 Environment!\n",
    "#### This one was opened in qiime2-2024.5"
   ]
  },
  {
   "cell_type": "code",
   "execution_count": 1,
   "id": "c10290f0",
   "metadata": {},
   "outputs": [
    {
     "name": "stdout",
     "output_type": "stream",
     "text": [
      "\u001b[32mSaved Visualization to: ../data/Microbiome/14957_ft_summary.qzv\u001b[0m\n",
      "\u001b[0m"
     ]
    }
   ],
   "source": [
    "!qiime feature-table summarize \\\n",
    "    --i-table ../data/Microbiome/186160_feature-table.qza \\\n",
    "    --m-sample-metadata-file ../data/Microbiome/14957_metadata.txt \\\n",
    "    --o-visualization ../data/Microbiome/14957_ft_summary.qzv\n",
    "#mouse (B6) host read filtered"
   ]
  },
  {
   "cell_type": "code",
   "execution_count": 3,
   "id": "28344d8b",
   "metadata": {},
   "outputs": [
    {
     "name": "stdout",
     "output_type": "stream",
     "text": [
      "\u001b[32mSaved FeatureTable[RelativeFrequency] to: ../data/Microbiome/unrar_rel_freq_table.qza\u001b[0m\r\n",
      "\u001b[0m"
     ]
    }
   ],
   "source": [
    "!qiime feature-table relative-frequency \\\n",
    "    --i-table ../data/Microbiome/186160_feature-table.qza \\\n",
    "    --o-relative-frequency-table ../data/Microbiome/unrar_rel_freq_table.qza"
   ]
  },
  {
   "cell_type": "code",
   "execution_count": 4,
   "id": "202c516a",
   "metadata": {},
   "outputs": [
    {
     "name": "stdout",
     "output_type": "stream",
     "text": [
      "\u001b[32mSaved DistanceMatrix to: ../data/Microbiome/all_Aitchison_dm.qza\u001b[0m\n",
      "\u001b[0m\u001b[32mSaved PCoAResults to: ../data/Microbiome/all_Aitchison_pcoa.qza\u001b[0m\n",
      "\u001b[0m\u001b[32mSaved Visualization to: ../data/Microbiome/all_Aitchison_emp.qzv\u001b[0m\n",
      "\u001b[0m"
     ]
    }
   ],
   "source": [
    "!qiime diversity beta \\\n",
    "    --i-table ../data/Microbiome/186160_feature-table.qza   \\\n",
    "    --p-metric 'aitchison' \\\n",
    "    --o-distance-matrix ../data/Microbiome/all_Aitchison_dm.qza \n",
    "\n",
    "!qiime diversity pcoa \\\n",
    "    --i-distance-matrix ../data/Microbiome/all_Aitchison_dm.qza \\\n",
    "    --o-pcoa ../data/Microbiome/all_Aitchison_pcoa.qza\n",
    "\n",
    "!qiime emperor plot \\\n",
    "    --i-pcoa ../data/Microbiome/all_Aitchison_pcoa.qza \\\n",
    "    --m-metadata-file ../data/Microbiome/14957_metadata.txt \\\n",
    "    --o-visualization ../data/Microbiome/all_Aitchison_emp.qzv"
   ]
  },
  {
   "cell_type": "markdown",
   "id": "73426550",
   "metadata": {},
   "source": [
    "#### GG2"
   ]
  },
  {
   "cell_type": "code",
   "execution_count": 6,
   "id": "8500c4b9",
   "metadata": {},
   "outputs": [
    {
     "name": "stdout",
     "output_type": "stream",
     "text": [
      "\u001b[32mSaved FeatureTable[Frequency] to: ../data/Microbiome/186160_gg2-filt_feature-table.qza\u001b[0m\r\n",
      "\u001b[0m"
     ]
    }
   ],
   "source": [
    "!qiime greengenes2 filter-features \\\n",
    "    --i-feature-table ../data/Microbiome/186160_feature-table.qza \\\n",
    "    --i-reference ../../../greengenes2/2022.10.taxonomy.id.nwk.qza \\\n",
    "    --o-filtered-feature-table ../data/Microbiome/186160_gg2-filt_feature-table.qza"
   ]
  },
  {
   "cell_type": "code",
   "execution_count": 7,
   "id": "827c6240",
   "metadata": {},
   "outputs": [
    {
     "name": "stdout",
     "output_type": "stream",
     "text": [
      "\u001b[32mSaved FeatureData[Taxonomy] to: ../data/Microbiome/5XFAD_gg2_taxonomy.qza\u001b[0m\r\n",
      "\u001b[0m"
     ]
    }
   ],
   "source": [
    "!qiime greengenes2 taxonomy-from-table \\\n",
    "    --i-reference-taxonomy ../../../greengenes2/2022.10.taxonomy.id.nwk.qza \\\n",
    "    --i-table ../data/Microbiome/186160_gg2-filt_feature-table.qza \\\n",
    "    --o-classification ../data/Microbiome/5XFAD_gg2_taxonomy.qza"
   ]
  },
  {
   "cell_type": "code",
   "execution_count": 17,
   "id": "61e50549",
   "metadata": {},
   "outputs": [
    {
     "name": "stdout",
     "output_type": "stream",
     "text": [
      "\u001b[32mSaved FeatureTable[Frequency] to: ../data/Microbiome/all_gg2_1000000rar_core_diversity/rarefied_table.qza\u001b[0m\n",
      "\u001b[32mSaved SampleData[AlphaDiversity] to: ../data/Microbiome/all_gg2_1000000rar_core_diversity/faith_pd_vector.qza\u001b[0m\n",
      "\u001b[32mSaved SampleData[AlphaDiversity] to: ../data/Microbiome/all_gg2_1000000rar_core_diversity/observed_features_vector.qza\u001b[0m\n",
      "\u001b[32mSaved SampleData[AlphaDiversity] to: ../data/Microbiome/all_gg2_1000000rar_core_diversity/shannon_vector.qza\u001b[0m\n",
      "\u001b[32mSaved SampleData[AlphaDiversity] to: ../data/Microbiome/all_gg2_1000000rar_core_diversity/evenness_vector.qza\u001b[0m\n",
      "\u001b[32mSaved DistanceMatrix to: ../data/Microbiome/all_gg2_1000000rar_core_diversity/unweighted_unifrac_distance_matrix.qza\u001b[0m\n",
      "\u001b[32mSaved DistanceMatrix to: ../data/Microbiome/all_gg2_1000000rar_core_diversity/weighted_unifrac_distance_matrix.qza\u001b[0m\n",
      "\u001b[32mSaved DistanceMatrix to: ../data/Microbiome/all_gg2_1000000rar_core_diversity/jaccard_distance_matrix.qza\u001b[0m\n",
      "\u001b[32mSaved DistanceMatrix to: ../data/Microbiome/all_gg2_1000000rar_core_diversity/bray_curtis_distance_matrix.qza\u001b[0m\n",
      "\u001b[32mSaved PCoAResults to: ../data/Microbiome/all_gg2_1000000rar_core_diversity/unweighted_unifrac_pcoa_results.qza\u001b[0m\n",
      "\u001b[32mSaved PCoAResults to: ../data/Microbiome/all_gg2_1000000rar_core_diversity/weighted_unifrac_pcoa_results.qza\u001b[0m\n",
      "\u001b[32mSaved PCoAResults to: ../data/Microbiome/all_gg2_1000000rar_core_diversity/jaccard_pcoa_results.qza\u001b[0m\n",
      "\u001b[32mSaved PCoAResults to: ../data/Microbiome/all_gg2_1000000rar_core_diversity/bray_curtis_pcoa_results.qza\u001b[0m\n",
      "\u001b[32mSaved Visualization to: ../data/Microbiome/all_gg2_1000000rar_core_diversity/unweighted_unifrac_emperor.qzv\u001b[0m\n",
      "\u001b[32mSaved Visualization to: ../data/Microbiome/all_gg2_1000000rar_core_diversity/weighted_unifrac_emperor.qzv\u001b[0m\n",
      "\u001b[32mSaved Visualization to: ../data/Microbiome/all_gg2_1000000rar_core_diversity/jaccard_emperor.qzv\u001b[0m\n",
      "\u001b[32mSaved Visualization to: ../data/Microbiome/all_gg2_1000000rar_core_diversity/bray_curtis_emperor.qzv\u001b[0m\n",
      "\u001b[0m"
     ]
    }
   ],
   "source": [
    "!qiime diversity core-metrics-phylogenetic \\\n",
    "    --i-table ../data/Microbiome/186160_gg2-filt_feature-table.qza \\\n",
    "    --i-phylogeny ../../../greengenes2/2022.10.phylogeny.id.nwk.qza \\\n",
    "    --p-sampling-depth 1000000 \\\n",
    "    --m-metadata-file ../data/Microbiome/14957_metadata.txt \\\n",
    "    --output-dir ../data/Microbiome/all_gg2_1000000rar_core_diversity"
   ]
  },
  {
   "cell_type": "code",
   "execution_count": 18,
   "id": "128b4735",
   "metadata": {},
   "outputs": [
    {
     "name": "stdout",
     "output_type": "stream",
     "text": [
      "\u001b[32mExported ../data/Microbiome/all_gg2_1000000rar_core_diversity/faith_pd_vector.qza as AlphaDiversityDirectoryFormat to directory ../data/Microbiome/all_gg2_1000000rar_core_diversity/faith_pd_vector\u001b[0m\r\n",
      "\u001b[0m"
     ]
    }
   ],
   "source": [
    "!qiime tools export \\\n",
    "    --input-path ../data/Microbiome/all_gg2_1000000rar_core_diversity/faith_pd_vector.qza \\\n",
    "    --output-path ../data/Microbiome/all_gg2_1000000rar_core_diversity/faith_pd_vector"
   ]
  },
  {
   "cell_type": "code",
   "execution_count": 32,
   "id": "16a09790",
   "metadata": {},
   "outputs": [
    {
     "name": "stdout",
     "output_type": "stream",
     "text": [
      "\u001b[32mSaved Visualization to: ../data/Microbiome/all_gg2_1000000rar_core_diversity/wUF_emp_timepoint.qzv\u001b[0m\n",
      "\u001b[0m"
     ]
    }
   ],
   "source": [
    "!qiime emperor plot \\\n",
    "    --i-pcoa ../data/Microbiome/all_gg2_1000000rar_core_diversity/weighted_unifrac_pcoa_results.qza \\\n",
    "    --m-metadata-file ../data/Microbiome/14957_metadata.txt \\\n",
    "    --p-custom-axes host_age \\\n",
    "    --o-visualization ../data/Microbiome/all_gg2_1000000rar_core_diversity/wUF_emp_timepoint.qzv"
   ]
  },
  {
   "cell_type": "code",
   "execution_count": 33,
   "id": "4aef0473",
   "metadata": {},
   "outputs": [
    {
     "name": "stdout",
     "output_type": "stream",
     "text": [
      "\u001b[32mSaved FeatureTable[RelativeFrequency] to: ../data/Microbiome/all_gg2_1000000rar_core_diversity/rarified_rel_frequency.qza\u001b[0m\r\n",
      "\u001b[0m"
     ]
    }
   ],
   "source": [
    "!qiime feature-table relative-frequency \\\n",
    "    --i-table ../data/Microbiome/all_gg2_1000000rar_core_diversity/rarefied_table.qza \\\n",
    "    --o-relative-frequency-table ../data/Microbiome/all_gg2_1000000rar_core_diversity/rarified_rel_frequency.qza"
   ]
  },
  {
   "cell_type": "code",
   "execution_count": 34,
   "id": "752d9f22",
   "metadata": {},
   "outputs": [
    {
     "name": "stdout",
     "output_type": "stream",
     "text": [
      "\u001b[32mSaved Visualization to: ../data/Microbiome/all_gg2_1000000rar_core_diversity/faith_pd_vector.qzv\u001b[0m\n",
      "\u001b[0m\u001b[32mSaved Visualization to: ../data/Microbiome/all_gg2_1000000rar_core_diversity/shannon_vector.qzv\u001b[0m\n",
      "\u001b[0m\u001b[32mSaved Visualization to: ../data/Microbiome/all_gg2_1000000rar_core_diversity/observed_features_vector.qzv\u001b[0m\n",
      "\u001b[0m"
     ]
    }
   ],
   "source": [
    "!qiime diversity alpha-group-significance \\\n",
    "    --i-alpha-diversity ../data/Microbiome/all_gg2_1000000rar_core_diversity/faith_pd_vector.qza \\\n",
    "    --m-metadata-file ../data/Microbiome/14957_metadata.txt \\\n",
    "    --o-visualization ../data/Microbiome/all_gg2_1000000rar_core_diversity/faith_pd_vector.qzv\n",
    "\n",
    "!qiime diversity alpha-group-significance \\\n",
    "    --i-alpha-diversity ../data/Microbiome/all_gg2_1000000rar_core_diversity/shannon_vector.qza \\\n",
    "    --m-metadata-file ../data/Microbiome/14957_metadata.txt \\\n",
    "    --o-visualization ../data/Microbiome/all_gg2_1000000rar_core_diversity/shannon_vector.qzv\n",
    "\n",
    "!qiime diversity alpha-group-significance \\\n",
    "    --i-alpha-diversity ../data/Microbiome/all_gg2_1000000rar_core_diversity/observed_features_vector.qza \\\n",
    "    --m-metadata-file ../data/Microbiome/14957_metadata.txt \\\n",
    "    --o-visualization ../data/Microbiome/all_gg2_1000000rar_core_diversity/observed_features_vector.qzv"
   ]
  },
  {
   "cell_type": "code",
   "execution_count": 1,
   "id": "515df1bc",
   "metadata": {},
   "outputs": [
    {
     "name": "stdout",
     "output_type": "stream",
     "text": [
      "\u001b[32mSaved FeatureTable[Frequency] to: ../data/Microbiome/longitudinal/longitudinal_feature_table.qza\u001b[0m\n",
      "\u001b[0m\u001b[32mSaved FeatureTable[Frequency] to: ../data/Microbiome/sacrifice/sacrifice_feature_table.qza\u001b[0m\n",
      "\u001b[0m"
     ]
    }
   ],
   "source": [
    "!qiime feature-table filter-samples \\\n",
    "    --i-table ../data/Microbiome/186160_gg2-filt_feature-table.qza \\\n",
    "    --m-metadata-file ../data/Microbiome/14957_metadata.txt \\\n",
    "    --p-where \"[intervention]='Longitudinal'\" \\\n",
    "    --o-filtered-table ../data/Microbiome/longitudinal/longitudinal_feature_table.qza\n",
    "    \n",
    "!qiime feature-table filter-samples \\\n",
    "    --i-table ../data/Microbiome/186160_gg2-filt_feature-table.qza \\\n",
    "    --m-metadata-file ../data/Microbiome/14957_metadata.txt \\\n",
    "    --p-where \"[intervention]='Sacrifice'\" \\\n",
    "    --o-filtered-table ../data/Microbiome/sacrifice/sacrifice_feature_table.qza"
   ]
  },
  {
   "cell_type": "code",
   "execution_count": 2,
   "id": "75668b59",
   "metadata": {},
   "outputs": [
    {
     "name": "stdout",
     "output_type": "stream",
     "text": [
      "\u001b[32mSaved Visualization to: ../data/Microbiome/longitudinal/longitudinal_ft_summary.qzv\u001b[0m\n",
      "\u001b[0m\u001b[32mSaved Visualization to: ../data/Microbiome/sacrifice/sacrifice_ft_summary.qzv\u001b[0m\n",
      "\u001b[0m"
     ]
    }
   ],
   "source": [
    "!qiime feature-table summarize \\\n",
    "    --i-table ../data/Microbiome/longitudinal/longitudinal_feature_table.qza \\\n",
    "    --m-sample-metadata-file ../data/Microbiome/14957_metadata.txt \\\n",
    "    --o-visualization ../data/Microbiome/longitudinal/longitudinal_ft_summary.qzv\n",
    "\n",
    "!qiime feature-table summarize \\\n",
    "    --i-table ../data/Microbiome/sacrifice/sacrifice_feature_table.qza \\\n",
    "    --m-sample-metadata-file ../data/Microbiome/14957_metadata.txt \\\n",
    "    --o-visualization ../data/Microbiome/sacrifice/sacrifice_ft_summary.qzv"
   ]
  },
  {
   "cell_type": "code",
   "execution_count": 3,
   "id": "8706c12b",
   "metadata": {},
   "outputs": [
    {
     "name": "stdout",
     "output_type": "stream",
     "text": [
      "\u001b[32mSaved FeatureTable[Frequency] to: ../data/Microbiome/longitudinal/long_1000000rar_core_diversity/rarefied_table.qza\u001b[0m\n",
      "\u001b[32mSaved SampleData[AlphaDiversity] to: ../data/Microbiome/longitudinal/long_1000000rar_core_diversity/faith_pd_vector.qza\u001b[0m\n",
      "\u001b[32mSaved SampleData[AlphaDiversity] to: ../data/Microbiome/longitudinal/long_1000000rar_core_diversity/observed_features_vector.qza\u001b[0m\n",
      "\u001b[32mSaved SampleData[AlphaDiversity] to: ../data/Microbiome/longitudinal/long_1000000rar_core_diversity/shannon_vector.qza\u001b[0m\n",
      "\u001b[32mSaved SampleData[AlphaDiversity] to: ../data/Microbiome/longitudinal/long_1000000rar_core_diversity/evenness_vector.qza\u001b[0m\n",
      "\u001b[32mSaved DistanceMatrix to: ../data/Microbiome/longitudinal/long_1000000rar_core_diversity/unweighted_unifrac_distance_matrix.qza\u001b[0m\n",
      "\u001b[32mSaved DistanceMatrix to: ../data/Microbiome/longitudinal/long_1000000rar_core_diversity/weighted_unifrac_distance_matrix.qza\u001b[0m\n",
      "\u001b[32mSaved DistanceMatrix to: ../data/Microbiome/longitudinal/long_1000000rar_core_diversity/jaccard_distance_matrix.qza\u001b[0m\n",
      "\u001b[32mSaved DistanceMatrix to: ../data/Microbiome/longitudinal/long_1000000rar_core_diversity/bray_curtis_distance_matrix.qza\u001b[0m\n",
      "\u001b[32mSaved PCoAResults to: ../data/Microbiome/longitudinal/long_1000000rar_core_diversity/unweighted_unifrac_pcoa_results.qza\u001b[0m\n",
      "\u001b[32mSaved PCoAResults to: ../data/Microbiome/longitudinal/long_1000000rar_core_diversity/weighted_unifrac_pcoa_results.qza\u001b[0m\n",
      "\u001b[32mSaved PCoAResults to: ../data/Microbiome/longitudinal/long_1000000rar_core_diversity/jaccard_pcoa_results.qza\u001b[0m\n",
      "\u001b[32mSaved PCoAResults to: ../data/Microbiome/longitudinal/long_1000000rar_core_diversity/bray_curtis_pcoa_results.qza\u001b[0m\n",
      "\u001b[32mSaved Visualization to: ../data/Microbiome/longitudinal/long_1000000rar_core_diversity/unweighted_unifrac_emperor.qzv\u001b[0m\n",
      "\u001b[32mSaved Visualization to: ../data/Microbiome/longitudinal/long_1000000rar_core_diversity/weighted_unifrac_emperor.qzv\u001b[0m\n",
      "\u001b[32mSaved Visualization to: ../data/Microbiome/longitudinal/long_1000000rar_core_diversity/jaccard_emperor.qzv\u001b[0m\n",
      "\u001b[32mSaved Visualization to: ../data/Microbiome/longitudinal/long_1000000rar_core_diversity/bray_curtis_emperor.qzv\u001b[0m\n",
      "\u001b[0m"
     ]
    }
   ],
   "source": [
    "!qiime diversity core-metrics-phylogenetic \\\n",
    "    --i-table ../data/Microbiome/longitudinal/longitudinal_feature_table.qza \\\n",
    "    --i-phylogeny ../../../greengenes2/2022.10.phylogeny.id.nwk.qza \\\n",
    "    --p-sampling-depth 1000000 \\\n",
    "    --m-metadata-file ../data/Microbiome/14957_metadata.txt \\\n",
    "    --output-dir ../data/Microbiome/longitudinal/long_1000000rar_core_diversity"
   ]
  },
  {
   "cell_type": "code",
   "execution_count": 4,
   "id": "eedd43f8",
   "metadata": {},
   "outputs": [
    {
     "name": "stdout",
     "output_type": "stream",
     "text": [
      "\u001b[32mSaved Visualization to: ../data/Microbiome/longitudinal/long_1000000rar_core_diversity/wUF_emp_timepoint.qzv\u001b[0m\n",
      "\u001b[0m"
     ]
    }
   ],
   "source": [
    "!qiime emperor plot \\\n",
    "    --i-pcoa ../data/Microbiome/longitudinal/long_1000000rar_core_diversity/weighted_unifrac_pcoa_results.qza \\\n",
    "    --m-metadata-file ../data/Microbiome/14957_metadata.txt \\\n",
    "    --p-custom-axes host_age \\\n",
    "    --o-visualization ../data/Microbiome/longitudinal/long_1000000rar_core_diversity/wUF_emp_timepoint.qzv"
   ]
  },
  {
   "cell_type": "code",
   "execution_count": 5,
   "id": "25f30de0",
   "metadata": {},
   "outputs": [
    {
     "name": "stdout",
     "output_type": "stream",
     "text": [
      "\u001b[32mSaved Visualization to: ../data/Microbiome/longitudinal/long_1000000rar_core_diversity/faith_alpha_sig.qzv\u001b[0m\n",
      "\u001b[0m\u001b[32mSaved Visualization to: ../data/Microbiome/longitudinal/long_1000000rar_core_diversity/shannon_alpha_sig.qzv\u001b[0m\n",
      "\u001b[0m\u001b[32mSaved Visualization to: ../data/Microbiome/longitudinal/long_1000000rar_core_diversity/obsfeat_alpha_sig.qzv\u001b[0m\n",
      "\u001b[0m"
     ]
    }
   ],
   "source": [
    "!qiime diversity alpha-group-significance \\\n",
    "    --i-alpha-diversity ../data/Microbiome/longitudinal/long_1000000rar_core_diversity/faith_pd_vector.qza \\\n",
    "    --m-metadata-file ../data/Microbiome/14957_metadata.txt \\\n",
    "    --o-visualization ../data/Microbiome/longitudinal/long_1000000rar_core_diversity/faith_alpha_sig.qzv\n",
    "\n",
    "!qiime diversity alpha-group-significance \\\n",
    "    --i-alpha-diversity ../data/Microbiome/longitudinal/long_1000000rar_core_diversity/shannon_vector.qza \\\n",
    "    --m-metadata-file ../data/Microbiome/14957_metadata.txt \\\n",
    "    --o-visualization ../data/Microbiome/longitudinal/long_1000000rar_core_diversity/shannon_alpha_sig.qzv\n",
    "\n",
    "!qiime diversity alpha-group-significance \\\n",
    "    --i-alpha-diversity ../data/Microbiome/longitudinal/long_1000000rar_core_diversity/observed_features_vector.qza \\\n",
    "    --m-metadata-file ../data/Microbiome/14957_metadata.txt \\\n",
    "    --o-visualization ../data/Microbiome/longitudinal/long_1000000rar_core_diversity/obsfeat_alpha_sig.qzv"
   ]
  },
  {
   "cell_type": "code",
   "execution_count": 6,
   "id": "f6ac2ac5",
   "metadata": {},
   "outputs": [
    {
     "name": "stdout",
     "output_type": "stream",
     "text": [
      "\u001b[32mSaved Visualization to: ../data/Microbiome/longitudinal/long_1000000rar_core_diversity/wUF_bsig_strainsex.qzv\u001b[0m\r\n",
      "\u001b[0m"
     ]
    }
   ],
   "source": [
    "!qiime diversity beta-group-significance \\\n",
    "    --i-distance-matrix ../data/Microbiome/longitudinal/long_1000000rar_core_diversity/weighted_unifrac_distance_matrix.qza \\\n",
    "    --m-metadata-file ../data/Microbiome/14957_metadata.txt \\\n",
    "    --m-metadata-column strain_sex \\\n",
    "    --p-pairwise True \\\n",
    "    --o-visualization ../data/Microbiome/longitudinal/long_1000000rar_core_diversity/wUF_bsig_strainsex.qzv"
   ]
  },
  {
   "cell_type": "code",
   "execution_count": 7,
   "id": "549f801d",
   "metadata": {},
   "outputs": [
    {
     "name": "stdout",
     "output_type": "stream",
     "text": [
      "\u001b[32mSaved FeatureTable[Frequency] to: ../data/Microbiome/sacrifice/sac_1000000rar_core_diversity/rarefied_table.qza\u001b[0m\n",
      "\u001b[32mSaved SampleData[AlphaDiversity] to: ../data/Microbiome/sacrifice/sac_1000000rar_core_diversity/faith_pd_vector.qza\u001b[0m\n",
      "\u001b[32mSaved SampleData[AlphaDiversity] to: ../data/Microbiome/sacrifice/sac_1000000rar_core_diversity/observed_features_vector.qza\u001b[0m\n",
      "\u001b[32mSaved SampleData[AlphaDiversity] to: ../data/Microbiome/sacrifice/sac_1000000rar_core_diversity/shannon_vector.qza\u001b[0m\n",
      "\u001b[32mSaved SampleData[AlphaDiversity] to: ../data/Microbiome/sacrifice/sac_1000000rar_core_diversity/evenness_vector.qza\u001b[0m\n",
      "\u001b[32mSaved DistanceMatrix to: ../data/Microbiome/sacrifice/sac_1000000rar_core_diversity/unweighted_unifrac_distance_matrix.qza\u001b[0m\n",
      "\u001b[32mSaved DistanceMatrix to: ../data/Microbiome/sacrifice/sac_1000000rar_core_diversity/weighted_unifrac_distance_matrix.qza\u001b[0m\n",
      "\u001b[32mSaved DistanceMatrix to: ../data/Microbiome/sacrifice/sac_1000000rar_core_diversity/jaccard_distance_matrix.qza\u001b[0m\n",
      "\u001b[32mSaved DistanceMatrix to: ../data/Microbiome/sacrifice/sac_1000000rar_core_diversity/bray_curtis_distance_matrix.qza\u001b[0m\n",
      "\u001b[32mSaved PCoAResults to: ../data/Microbiome/sacrifice/sac_1000000rar_core_diversity/unweighted_unifrac_pcoa_results.qza\u001b[0m\n",
      "\u001b[32mSaved PCoAResults to: ../data/Microbiome/sacrifice/sac_1000000rar_core_diversity/weighted_unifrac_pcoa_results.qza\u001b[0m\n",
      "\u001b[32mSaved PCoAResults to: ../data/Microbiome/sacrifice/sac_1000000rar_core_diversity/jaccard_pcoa_results.qza\u001b[0m\n",
      "\u001b[32mSaved PCoAResults to: ../data/Microbiome/sacrifice/sac_1000000rar_core_diversity/bray_curtis_pcoa_results.qza\u001b[0m\n",
      "\u001b[32mSaved Visualization to: ../data/Microbiome/sacrifice/sac_1000000rar_core_diversity/unweighted_unifrac_emperor.qzv\u001b[0m\n",
      "\u001b[32mSaved Visualization to: ../data/Microbiome/sacrifice/sac_1000000rar_core_diversity/weighted_unifrac_emperor.qzv\u001b[0m\n",
      "\u001b[32mSaved Visualization to: ../data/Microbiome/sacrifice/sac_1000000rar_core_diversity/jaccard_emperor.qzv\u001b[0m\n",
      "\u001b[32mSaved Visualization to: ../data/Microbiome/sacrifice/sac_1000000rar_core_diversity/bray_curtis_emperor.qzv\u001b[0m\n",
      "\u001b[0m"
     ]
    }
   ],
   "source": [
    "!qiime diversity core-metrics-phylogenetic \\\n",
    "    --i-table ../data/Microbiome/sacrifice/sacrifice_feature_table.qza \\\n",
    "    --i-phylogeny ../../../greengenes2/2022.10.phylogeny.id.nwk.qza \\\n",
    "    --p-sampling-depth 1000000 \\\n",
    "    --m-metadata-file ../data/Microbiome/14957_metadata.txt \\\n",
    "    --output-dir ../data/Microbiome/sacrifice/sac_1000000rar_core_diversity"
   ]
  },
  {
   "cell_type": "code",
   "execution_count": 8,
   "id": "19820e08",
   "metadata": {},
   "outputs": [
    {
     "name": "stdout",
     "output_type": "stream",
     "text": [
      "\u001b[32mSaved Visualization to: ../data/Microbiome/sacrifice/sac_1000000rar_core_diversity/wUF_emp_timepoint.qzv\u001b[0m\n",
      "\u001b[0m"
     ]
    }
   ],
   "source": [
    "!qiime emperor plot \\\n",
    "    --i-pcoa ../data/Microbiome/sacrifice/sac_1000000rar_core_diversity/weighted_unifrac_pcoa_results.qza \\\n",
    "    --m-metadata-file ../data/Microbiome/14957_metadata.txt \\\n",
    "    --p-custom-axes host_age \\\n",
    "    --o-visualization ../data/Microbiome/sacrifice/sac_1000000rar_core_diversity/wUF_emp_timepoint.qzv"
   ]
  },
  {
   "cell_type": "code",
   "execution_count": 9,
   "id": "73a9af0a",
   "metadata": {},
   "outputs": [
    {
     "name": "stdout",
     "output_type": "stream",
     "text": [
      "\u001b[32mSaved Visualization to: ../data/Microbiome/sacrifice/sac_1000000rar_core_diversity/wUF_bsig_strainsex.qzv\u001b[0m\r\n",
      "\u001b[0m"
     ]
    }
   ],
   "source": [
    "!qiime diversity beta-group-significance \\\n",
    "    --i-distance-matrix ../data/Microbiome/sacrifice/sac_1000000rar_core_diversity/weighted_unifrac_distance_matrix.qza \\\n",
    "    --m-metadata-file ../data/Microbiome/14957_metadata.txt \\\n",
    "    --m-metadata-column strain_sex \\\n",
    "    --p-pairwise True \\\n",
    "    --o-visualization ../data/Microbiome/sacrifice/sac_1000000rar_core_diversity/wUF_bsig_strainsex.qzv"
   ]
  },
  {
   "cell_type": "code",
   "execution_count": 4,
   "id": "f2d3d2b9",
   "metadata": {},
   "outputs": [
    {
     "name": "stdout",
     "output_type": "stream",
     "text": [
      "\u001b[32mSaved Visualization to: ../data/Microbiome/sacrifice/sac_1000000rar_core_diversity/faith_alpha_sig.qzv\u001b[0m\n",
      "\u001b[0m\u001b[32mSaved Visualization to: ../data/Microbiome/sacrifice/sac_1000000rar_core_diversity/shannon_alpha_sig.qzv\u001b[0m\n",
      "\u001b[0m\u001b[32mSaved Visualization to: ../data/Microbiome/sacrifice/sac_1000000rar_core_diversity/obsfeat_alpha_sig.qzv\u001b[0m\n",
      "\u001b[0m"
     ]
    }
   ],
   "source": [
    "!qiime diversity alpha-group-significance \\\n",
    "    --i-alpha-diversity ../data/Microbiome/sacrifice/sac_1000000rar_core_diversity/faith_pd_vector.qza \\\n",
    "    --m-metadata-file ../data/Microbiome/14957_metadata.txt \\\n",
    "    --o-visualization ../data/Microbiome/sacrifice/sac_1000000rar_core_diversity/faith_alpha_sig.qzv\n",
    "\n",
    "!qiime diversity alpha-group-significance \\\n",
    "    --i-alpha-diversity ../data/Microbiome/sacrifice/sac_1000000rar_core_diversity/shannon_vector.qza \\\n",
    "    --m-metadata-file ../data/Microbiome/14957_metadata.txt \\\n",
    "    --o-visualization ../data/Microbiome/sacrifice/sac_1000000rar_core_diversity/shannon_alpha_sig.qzv\n",
    "\n",
    "!qiime diversity alpha-group-significance \\\n",
    "    --i-alpha-diversity ../data/Microbiome/sacrifice/sac_1000000rar_core_diversity/observed_features_vector.qza \\\n",
    "    --m-metadata-file ../data/Microbiome/14957_metadata.txt \\\n",
    "    --o-visualization ../data/Microbiome/sacrifice/sac_1000000rar_core_diversity/obsfeat_alpha_sig.qzv"
   ]
  },
  {
   "cell_type": "markdown",
   "id": "6761daca",
   "metadata": {},
   "source": [
    "# RPCA"
   ]
  },
  {
   "cell_type": "markdown",
   "id": "254b8f4a",
   "metadata": {},
   "source": [
    "### All"
   ]
  },
  {
   "cell_type": "code",
   "execution_count": 11,
   "id": "1387b04a",
   "metadata": {},
   "outputs": [
    {
     "name": "stdout",
     "output_type": "stream",
     "text": [
      "\u001b[32mSaved FeatureTable[Frequency] to: ../data/Microbiome/gg2_min1000000reads-feature-table.qza\u001b[0m\r\n",
      "\u001b[0m"
     ]
    }
   ],
   "source": [
    "!qiime feature-table filter-samples \\\n",
    "    --i-table ../data/Microbiome/186160_gg2-filt_feature-table.qza \\\n",
    "    --p-min-frequency 1000000 \\\n",
    "    --o-filtered-table ../data/Microbiome/gg2_min1000000reads-feature-table.qza"
   ]
  },
  {
   "cell_type": "code",
   "execution_count": 13,
   "id": "157f8f48",
   "metadata": {},
   "outputs": [
    {
     "name": "stdout",
     "output_type": "stream",
     "text": [
      "\u001b[32mSaved Visualization to: ../data/Microbiome/gg2_min1000000reads-feature-table.qzv\u001b[0m\r\n",
      "\u001b[0m"
     ]
    }
   ],
   "source": [
    "!qiime feature-table summarize \\\n",
    "    --i-table ../data/Microbiome/gg2_min1000000reads-feature-table.qza \\\n",
    "    --m-sample-metadata-file ../data/Microbiome/14957_metadata.txt \\\n",
    "    --o-visualization ../data/Microbiome/gg2_min1000000reads-feature-table.qzv"
   ]
  },
  {
   "cell_type": "code",
   "execution_count": 14,
   "id": "bccf8751",
   "metadata": {},
   "outputs": [
    {
     "name": "stdout",
     "output_type": "stream",
     "text": [
      "\u001b[32mSaved PCoAResults % Properties('biplot') to: ../data/Microbiome/RPCA_all/all_RPCA_ordination.qza\u001b[0m\n",
      "\u001b[32mSaved DistanceMatrix to: ../data/Microbiome/RPCA_all/all_RPCA_distance.qza\u001b[0m\n",
      "\u001b[0m"
     ]
    }
   ],
   "source": [
    "!qiime gemelli rpca \\\n",
    "    --i-table ../data/Microbiome/gg2_min1000000reads-feature-table.qza \\\n",
    "    --p-min-sample-count 500 \\\n",
    "    --o-biplot ../data/Microbiome/RPCA_all/all_RPCA_ordination.qza \\\n",
    "    --o-distance-matrix ../data/Microbiome/RPCA_all/all_RPCA_distance.qza"
   ]
  },
  {
   "cell_type": "code",
   "execution_count": 15,
   "id": "7ac3ce4d",
   "metadata": {},
   "outputs": [
    {
     "name": "stdout",
     "output_type": "stream",
     "text": [
      "\u001b[32mSaved PCoAResults % Properties('biplot') to: ../data/Microbiome/RPCA_all/all_rar_RPCA_ordination.qza\u001b[0m\n",
      "\u001b[32mSaved DistanceMatrix to: ../data/Microbiome/RPCA_all/all_rar_RPCA_distance.qza\u001b[0m\n",
      "\u001b[0m"
     ]
    }
   ],
   "source": [
    "!qiime gemelli rpca \\\n",
    "    --i-table ../data/Microbiome/all_gg2_1000000rar_core_diversity/rarefied_table.qza \\\n",
    "    --o-biplot ../data/Microbiome/RPCA_all/all_rar_RPCA_ordination.qza \\\n",
    "    --o-distance-matrix ../data/Microbiome/RPCA_all/all_rar_RPCA_distance.qza"
   ]
  },
  {
   "cell_type": "code",
   "execution_count": 16,
   "id": "c9c1eae1",
   "metadata": {},
   "outputs": [
    {
     "name": "stdout",
     "output_type": "stream",
     "text": [
      "\u001b[32mSaved Visualization to: ../data/Microbiome/RPCA_all/rarefy-qc.qzv\u001b[0m\r\n",
      "\u001b[0m"
     ]
    }
   ],
   "source": [
    "!qiime gemelli qc-rarefy \\\n",
    "    --i-table ../data/Microbiome/gg2_min1000000reads-feature-table.qza \\\n",
    "    --i-rarefied-distance ../data/Microbiome/RPCA_all/all_rar_RPCA_distance.qza \\\n",
    "    --i-unrarefied-distance ../data/Microbiome/RPCA_all/all_RPCA_distance.qza \\\n",
    "    --o-visualization ../data/Microbiome/RPCA_all/rarefy-qc.qzv\n",
    "#no sig difference between rar and unrar, prefer unrar - proceed"
   ]
  },
  {
   "cell_type": "code",
   "execution_count": 17,
   "id": "bf388cb5",
   "metadata": {},
   "outputs": [
    {
     "name": "stdout",
     "output_type": "stream",
     "text": [
      "\u001b[32mSaved Visualization to: ../data/Microbiome/RPCA_all/RPCA_biplot-all.qzv\u001b[0m\r\n",
      "\u001b[0m"
     ]
    }
   ],
   "source": [
    "!qiime emperor biplot \\\n",
    "    --i-biplot ../data/Microbiome/RPCA_all/all_RPCA_ordination.qza \\\n",
    "    --m-sample-metadata-file ../data/Microbiome/14957_metadata.txt \\\n",
    "    --m-feature-metadata-file ../data/Microbiome/5XFAD_gg2_taxonomy.qza \\\n",
    "    --p-number-of-features 10 \\\n",
    "    --o-visualization ../data/Microbiome/RPCA_all/RPCA_biplot-all.qzv"
   ]
  },
  {
   "cell_type": "code",
   "execution_count": 18,
   "id": "d1f3abdd",
   "metadata": {},
   "outputs": [
    {
     "name": "stdout",
     "output_type": "stream",
     "text": [
      "\u001b[32mSaved Visualization to: ../data/Microbiome/RPCA_all/RPCA_qurro_plot-all.qzv\u001b[0m\r\n",
      "\u001b[0m"
     ]
    }
   ],
   "source": [
    "!qiime qurro loading-plot \\\n",
    "    --i-ranks ../data/Microbiome/RPCA_all/all_RPCA_ordination.qza \\\n",
    "    --i-table ../data/Microbiome/gg2_min1000000reads-feature-table.qza \\\n",
    "    --m-sample-metadata-file ../data/Microbiome/14957_metadata.txt \\\n",
    "    --m-feature-metadata-file ../data/Microbiome/5XFAD_gg2_taxonomy.qza \\\n",
    "    --o-visualization ../data/Microbiome/RPCA_all/RPCA_qurro_plot-all.qzv"
   ]
  },
  {
   "cell_type": "code",
   "execution_count": 19,
   "id": "f4391186",
   "metadata": {},
   "outputs": [
    {
     "name": "stdout",
     "output_type": "stream",
     "text": [
      "\u001b[32mExported ../data/Microbiome/RPCA_all/RPCA_ordination-all.qza as OrdinationDirectoryFormat to directory ../data/Microbiome/RPCA_all/all_RPCA_ordination\u001b[0m\r\n",
      "\u001b[0m"
     ]
    }
   ],
   "source": [
    "!qiime tools export \\\n",
    "    --input-path ../data/Microbiome/RPCA_all/RPCA_ordination-all.qza \\\n",
    "    --output-path ../data/Microbiome/RPCA_all/all_RPCA_ordination"
   ]
  },
  {
   "cell_type": "code",
   "execution_count": 20,
   "id": "b838a018",
   "metadata": {},
   "outputs": [
    {
     "name": "stdout",
     "output_type": "stream",
     "text": [
      "\u001b[32mSaved Visualization to: ../data/Microbiome/RPCA_all/RPCA_strain-sex_bsig.qzv\u001b[0m\r\n",
      "\u001b[0m"
     ]
    }
   ],
   "source": [
    "!qiime diversity beta-group-significance \\\n",
    "    --i-distance-matrix ../data/Microbiome/RPCA_all/all_RPCA_distance.qza \\\n",
    "    --m-metadata-file ../data/Microbiome/14957_metadata.txt \\\n",
    "    --m-metadata-column strain_sex \\\n",
    "    --p-method permanova \\\n",
    "    --p-pairwise True \\\n",
    "    --o-visualization ../data/Microbiome/RPCA_all/RPCA_strain-sex_bsig.qzv"
   ]
  },
  {
   "cell_type": "code",
   "execution_count": 21,
   "id": "6b379c3e",
   "metadata": {},
   "outputs": [
    {
     "name": "stdout",
     "output_type": "stream",
     "text": [
      "\u001b[32mSaved Visualization to: ../data/Microbiome/RPCA_all/RPCA_study-type_bsig.qzv\u001b[0m\n",
      "\u001b[0m\u001b[32mSaved Visualization to: ../data/Microbiome/RPCA_all/RPCA_strain_bsig.qzv\u001b[0m\n",
      "\u001b[0m\u001b[32mSaved Visualization to: ../data/Microbiome/RPCA_all/RPCA_sex_bsig.qzv\u001b[0m\n",
      "\u001b[0m"
     ]
    }
   ],
   "source": [
    "!qiime diversity beta-group-significance \\\n",
    "    --i-distance-matrix ../data/Microbiome/RPCA_all/all_RPCA_distance.qza \\\n",
    "    --m-metadata-file ../data/Microbiome/14957_metadata.txt \\\n",
    "    --m-metadata-column intervention \\\n",
    "    --p-method anosim \\\n",
    "    --p-pairwise True \\\n",
    "    --o-visualization ../data/Microbiome/RPCA_all/RPCA_study-type_bsig.qzv\n",
    "\n",
    "!qiime diversity beta-group-significance \\\n",
    "    --i-distance-matrix ../data/Microbiome/RPCA_all/all_RPCA_distance.qza \\\n",
    "    --m-metadata-file ../data/Microbiome/14957_metadata.txt \\\n",
    "    --m-metadata-column mouse_strain \\\n",
    "    --p-method anosim \\\n",
    "    --p-pairwise True \\\n",
    "    --o-visualization ../data/Microbiome/RPCA_all/RPCA_strain_bsig.qzv\n",
    "\n",
    "!qiime diversity beta-group-significance \\\n",
    "    --i-distance-matrix ../data/Microbiome/RPCA_all/all_RPCA_distance.qza \\\n",
    "    --m-metadata-file ../data/Microbiome/14957_metadata.txt \\\n",
    "    --m-metadata-column sex \\\n",
    "    --p-method anosim \\\n",
    "    --p-pairwise True \\\n",
    "    --o-visualization ../data/Microbiome/RPCA_all/RPCA_sex_bsig.qzv"
   ]
  },
  {
   "cell_type": "code",
   "execution_count": 23,
   "id": "7d123f82",
   "metadata": {},
   "outputs": [
    {
     "name": "stdout",
     "output_type": "stream",
     "text": [
      "\u001b[32mSaved Visualization to: ../data/Microbiome/RPCA_all/RPCA_emperor-all.qzv\u001b[0m\n",
      "\u001b[0m"
     ]
    }
   ],
   "source": [
    "!qiime emperor plot \\\n",
    "    --i-pcoa ../data/Microbiome/RPCA_all/all_RPCA_ordination.qza \\\n",
    "    --m-metadata-file ../data/Microbiome/14957_metadata.txt \\\n",
    "    --p-ignore-pcoa-features True \\\n",
    "    --p-custom-axes host_age \\\n",
    "    --o-visualization ../data/Microbiome/RPCA_all/RPCA_emperor-all.qzv"
   ]
  },
  {
   "cell_type": "code",
   "execution_count": null,
   "id": "b4a917d0",
   "metadata": {},
   "outputs": [],
   "source": [
    "### NEEDS to be UPDATED!! ###"
   ]
  },
  {
   "cell_type": "code",
   "execution_count": 5,
   "id": "4918a9bd",
   "metadata": {},
   "outputs": [],
   "source": [
    "log_ratio = pd.read_csv('../data/Microbiome/RPCA_all/5xFAD_topbot5perc_LR.tsv',\n",
    "                       sep='\\t', index_col=0, usecols=['Sample ID', 'Current_Natural_Log_Ratio'])\n",
    "log_ratio.head()"
   ]
  },
  {
   "cell_type": "code",
   "execution_count": 6,
   "id": "5ab0b03c",
   "metadata": {},
   "outputs": [],
   "source": [
    "lr_md = pd.merge(log_ratio, md, left_index=True, right_index=True)\n",
    "lr_md.head()"
   ]
  },
  {
   "cell_type": "code",
   "execution_count": 7,
   "id": "ec9fde8f",
   "metadata": {},
   "outputs": [],
   "source": [
    "import seaborn as sns\n",
    "import matplotlib.pyplot as plt\n",
    "%matplotlib inline"
   ]
  },
  {
   "cell_type": "code",
   "execution_count": 8,
   "id": "71a38257",
   "metadata": {},
   "outputs": [],
   "source": [
    "from statannotations.Annotator import Annotator"
   ]
  },
  {
   "cell_type": "code",
   "execution_count": 9,
   "id": "a3b9b74a",
   "metadata": {},
   "outputs": [],
   "source": [
    "g = sns.boxplot(data=lr_md, x='strain_sex', y='Current_Natural_Log_Ratio',\n",
    "               order=['WT 5XFAD_female', 'WT 5XFAD_male', 'Het 5XFAD_female', 'Het 5XFAD_male'],\n",
    "               palette=['blue', 'lightblue', 'red', 'pink'])\n",
    "g = sns.stripplot(data=lr_md, x='strain_sex', y='Current_Natural_Log_Ratio', \n",
    "                  palette=['blue', 'lightblue', 'red', 'pink'],\n",
    "                  order=['WT 5XFAD_female', 'WT 5XFAD_male', 'Het 5XFAD_female', 'Het 5XFAD_male'],\n",
    "                 s=10, edgecolor='k', linewidth=1)\n",
    "g.set_xticklabels(g.get_xticklabels(), rotation=90)\n",
    "\n",
    "\n",
    "pairs=[('WT 5XFAD_female', 'WT 5XFAD_male'), ('WT 5XFAD_female', 'Het 5XFAD_female'), \n",
    "       ('WT 5XFAD_male', 'Het 5XFAD_male'), ('Het 5XFAD_female', 'Het 5XFAD_male')]\n",
    "\n",
    "annotator = Annotator(g, pairs, data=lr_md, x='strain_sex', y='Current_Natural_Log_Ratio',\n",
    "               order=['WT 5XFAD_female', 'WT 5XFAD_male', 'Het 5XFAD_female', 'Het 5XFAD_male'])\n",
    "annotator.configure(test='Mann-Whitney', text_format='star', loc='outside')\n",
    "annotator.apply_and_annotate()\n",
    "\n",
    "plt.xlabel(\"\")\n",
    "plt.rcParams['svg.fonttype'] = 'none'\n",
    "plt.savefig('../figures/5xFAD_RPCA-LR_topbot5_boxplot.png',\n",
    "           bbox_inches='tight', dpi=150)"
   ]
  },
  {
   "cell_type": "code",
   "execution_count": 86,
   "id": "93c33353",
   "metadata": {
    "scrolled": true
   },
   "outputs": [
    {
     "data": {
      "image/png": "[encoded data removed]",
      "text/plain": [
       "<Figure size 640x480 with 1 Axes>"
      ]
     },
     "metadata": {},
     "output_type": "display_data"
    }
   ],
   "source": [
    "g = sns.lineplot(data=lr_md[lr_md['strain_sex']!='1_1'], x='host_age', y='Current_Natural_Log_Ratio', \n",
    "                 hue='strain_sex', ci=68, palette=['blue', 'lightblue', 'red', 'pink'],\n",
    "                hue_order=['WT 5XFAD_female', 'WT 5XFAD_male', 'Het 5XFAD_female', 'Het 5XFAD_male'])\n",
    "sns.move_legend(g, \"upper left\", bbox_to_anchor=(1, 1))\n",
    "plt.xlabel(\"Host Age (months)\")\n",
    "plt.xlim(2,8) #timepoints all groups have in common\n",
    "plt.rcParams['svg.fonttype'] = 'none'\n",
    "plt.savefig('../data/Microbiome/RPCA_all/lineplot2_slides.png',\n",
    "           bbox_inches='tight', dpi=150)\n",
    "#timepoint 5 and 8 are from sacrificed mice"
   ]
  },
  {
   "cell_type": "markdown",
   "id": "7948d3d1",
   "metadata": {},
   "source": [
    "### Longitudinal"
   ]
  },
  {
   "cell_type": "code",
   "execution_count": 32,
   "id": "3135d39d",
   "metadata": {},
   "outputs": [
    {
     "name": "stdout",
     "output_type": "stream",
     "text": [
      "\u001b[32mSaved FeatureTable[Frequency] to: ../data/Microbiome/longitudinal/RPCA/long_1000000r_table.qza\u001b[0m\r\n",
      "\u001b[0m"
     ]
    }
   ],
   "source": [
    "!qiime feature-table filter-samples \\\n",
    "    --i-table ../data/Microbiome/gg2_min1000000reads-feature-table.qza \\\n",
    "    --m-metadata-file ../data/Microbiome/14957_metadata.txt \\\n",
    "    --p-where \"[intervention]='Longitudinal'\" \\\n",
    "    --o-filtered-table ../data/Microbiome/longitudinal/RPCA/long_1000000r_table.qza"
   ]
  },
  {
   "cell_type": "code",
   "execution_count": 33,
   "id": "31178452",
   "metadata": {
    "scrolled": true
   },
   "outputs": [
    {
     "name": "stdout",
     "output_type": "stream",
     "text": [
      "\u001b[32mSaved PCoAResults % Properties('biplot') to: ../data/Microbiome/longitudinal/RPCA/long_RPCA_ordination.qza\u001b[0m\r\n",
      "\u001b[32mSaved DistanceMatrix to: ../data/Microbiome/longitudinal/RPCA/long_RPCA_distance.qza\u001b[0m\r\n",
      "\u001b[0m"
     ]
    }
   ],
   "source": [
    "!qiime gemelli rpca \\\n",
    "    --i-table ../data/Microbiome/longitudinal/RPCA/long_1000000r_table.qza \\\n",
    "    --p-min-sample-count 500 \\\n",
    "    --o-biplot ../data/Microbiome/longitudinal/RPCA/long_RPCA_ordination.qza \\\n",
    "    --o-distance-matrix ../data/Microbiome/longitudinal/RPCA/long_RPCA_distance.qza"
   ]
  },
  {
   "cell_type": "code",
   "execution_count": 34,
   "id": "4404e0fa",
   "metadata": {},
   "outputs": [
    {
     "name": "stdout",
     "output_type": "stream",
     "text": [
      "\u001b[32mSaved PCoAResults % Properties('biplot') to: ../data/Microbiome/longitudinal/RPCA/long_rar_RPCA_ordination.qza\u001b[0m\r\n",
      "\u001b[32mSaved DistanceMatrix to: ../data/Microbiome/longitudinal/RPCA/long_rar_RPCA_distance.qza\u001b[0m\r\n",
      "\u001b[0m"
     ]
    }
   ],
   "source": [
    "!qiime gemelli rpca \\\n",
    "    --i-table ../data/Microbiome/longitudinal/long_1000000rar_core_diversity/rarefied_table.qza \\\n",
    "    --o-biplot ../data/Microbiome/longitudinal/RPCA/long_rar_RPCA_ordination.qza \\\n",
    "    --o-distance-matrix ../data/Microbiome/longitudinal/RPCA/long_rar_RPCA_distance.qza"
   ]
  },
  {
   "cell_type": "code",
   "execution_count": 35,
   "id": "74847e97",
   "metadata": {},
   "outputs": [
    {
     "name": "stdout",
     "output_type": "stream",
     "text": [
      "\u001b[32mSaved Visualization to: ../data/Microbiome/longitudinal/RPCA/long_rarefy-qc.qzv\u001b[0m\r\n",
      "\u001b[0m"
     ]
    }
   ],
   "source": [
    "!qiime gemelli qc-rarefy \\\n",
    "    --i-table ../data/Microbiome/longitudinal/RPCA/long_1000000r_table.qza \\\n",
    "    --i-rarefied-distance ../data/Microbiome/longitudinal/RPCA/long_rar_RPCA_distance.qza \\\n",
    "    --i-unrarefied-distance ../data/Microbiome/longitudinal/RPCA/long_RPCA_distance.qza \\\n",
    "    --o-visualization ../data/Microbiome/longitudinal/RPCA/long_rarefy-qc.qzv\n",
    "#p=0.005 sig difference between rar and unrar, proceed with rarefied one"
   ]
  },
  {
   "cell_type": "code",
   "execution_count": 36,
   "id": "565400ef",
   "metadata": {},
   "outputs": [
    {
     "name": "stdout",
     "output_type": "stream",
     "text": [
      "\u001b[32mSaved Visualization to: ../data/Microbiome/longitudinal/RPCA/RPCA_biplot_long.qzv\u001b[0m\r\n",
      "\u001b[0m"
     ]
    }
   ],
   "source": [
    "!qiime emperor biplot \\\n",
    "    --i-biplot ../data/Microbiome/longitudinal/RPCA/long_rar_RPCA_ordination.qza \\\n",
    "    --m-sample-metadata-file ../data/Microbiome/14957_metadata.txt \\\n",
    "    --m-feature-metadata-file ../data/Microbiome/5XFAD_gg2_taxonomy.qza \\\n",
    "    --p-number-of-features 10 \\\n",
    "    --o-visualization ../data/Microbiome/longitudinal/RPCA/RPCA_biplot_long.qzv"
   ]
  },
  {
   "cell_type": "code",
   "execution_count": 37,
   "id": "2cab3a90",
   "metadata": {},
   "outputs": [
    {
     "name": "stdout",
     "output_type": "stream",
     "text": [
      "\u001b[32mSaved Visualization to: ../data/Microbiome/longitudinal/RPCA/RPCA_distance_long_emp.qzv\u001b[0m\r\n",
      "\u001b[0m"
     ]
    }
   ],
   "source": [
    "!qiime emperor plot \\\n",
    "    --i-pcoa ../data/Microbiome/longitudinal/RPCA/long_rar_RPCA_ordination.qza \\\n",
    "    --m-metadata-file ../data/Microbiome/14957_metadata.txt \\\n",
    "    --p-ignore-pcoa-features True \\\n",
    "    --p-custom-axes host_age \\\n",
    "    --o-visualization ../data/Microbiome/longitudinal/RPCA/RPCA_distance_long_emp.qzv"
   ]
  },
  {
   "cell_type": "code",
   "execution_count": 38,
   "id": "0be4ceae",
   "metadata": {},
   "outputs": [
    {
     "name": "stdout",
     "output_type": "stream",
     "text": [
      "\u001b[32mSaved Visualization to: ../data/Microbiome/longitudinal/RPCA/RPCA_strain_significance.qzv\u001b[0m\n",
      "\u001b[0m"
     ]
    }
   ],
   "source": [
    "!qiime diversity beta-group-significance \\\n",
    "    --i-distance-matrix ../data/Microbiome/longitudinal/RPCA/long_rar_RPCA_distance.qza \\\n",
    "    --m-metadata-file ../data/Microbiome/14957_metadata.txt \\\n",
    "    --m-metadata-column mouse_strain \\\n",
    "    --p-method permanova \\\n",
    "    --o-visualization ../data/Microbiome/longitudinal/RPCA/RPCA_strain_significance.qzv"
   ]
  },
  {
   "cell_type": "code",
   "execution_count": 39,
   "id": "d8fb16a6",
   "metadata": {},
   "outputs": [
    {
     "name": "stdout",
     "output_type": "stream",
     "text": [
      "\u001b[32mSaved Visualization to: ../data/Microbiome/longitudinal/RPCA/RPCA_strainsex_significance.qzv\u001b[0m\r\n",
      "\u001b[0m"
     ]
    }
   ],
   "source": [
    "!qiime diversity beta-group-significance \\\n",
    "    --i-distance-matrix ../data/Microbiome/longitudinal/RPCA/long_rar_RPCA_distance.qza \\\n",
    "    --m-metadata-file ../data/Microbiome/14957_metadata.txt \\\n",
    "    --m-metadata-column strain_sex \\\n",
    "    --p-method permanova \\\n",
    "    --p-pairwise True \\\n",
    "    --o-visualization ../data/Microbiome/longitudinal/RPCA/RPCA_strainsex_significance.qzv"
   ]
  },
  {
   "cell_type": "code",
   "execution_count": 40,
   "id": "8461adc0",
   "metadata": {},
   "outputs": [
    {
     "name": "stdout",
     "output_type": "stream",
     "text": [
      "\u001b[32mSaved Visualization to: ../data/Microbiome/longitudinal/RPCA/RPCA_qurro_plot_long.qzv\u001b[0m\n",
      "\u001b[0m"
     ]
    }
   ],
   "source": [
    "!qiime qurro loading-plot \\\n",
    "    --i-ranks ../data/Microbiome/longitudinal/RPCA/long_rar_RPCA_ordination.qza \\\n",
    "    --i-table ../data/Microbiome/longitudinal/RPCA/long_1000000r_table.qza \\\n",
    "    --m-sample-metadata-file ../data/Microbiome/14957_metadata.txt \\\n",
    "    --m-feature-metadata-file ../data/Microbiome/5XFAD_gg2_taxonomy.qza \\\n",
    "    --o-visualization ../data/Microbiome/longitudinal/RPCA/RPCA_qurro_plot_long.qzv"
   ]
  },
  {
   "cell_type": "markdown",
   "id": "73f80d2c",
   "metadata": {},
   "source": [
    "### Sacrifice"
   ]
  },
  {
   "cell_type": "code",
   "execution_count": 41,
   "id": "157a491a",
   "metadata": {},
   "outputs": [
    {
     "name": "stdout",
     "output_type": "stream",
     "text": [
      "\u001b[32mSaved FeatureTable[Frequency] to: ../data/Microbiome/sacrifice/RPCA/sac_1000000r_table.qza\u001b[0m\r\n",
      "\u001b[0m"
     ]
    }
   ],
   "source": [
    "!qiime feature-table filter-samples \\\n",
    "    --i-table ../data/Microbiome/gg2_min1000000reads-feature-table.qza \\\n",
    "    --m-metadata-file ../data/Microbiome/14957_metadata.txt \\\n",
    "    --p-where \"[intervention]='Sacrifice'\" \\\n",
    "    --o-filtered-table ../data/Microbiome/sacrifice/RPCA/sac_1000000r_table.qza"
   ]
  },
  {
   "cell_type": "code",
   "execution_count": 42,
   "id": "a3d48ca9",
   "metadata": {
    "scrolled": true
   },
   "outputs": [
    {
     "name": "stdout",
     "output_type": "stream",
     "text": [
      "\u001b[32mSaved PCoAResults % Properties('biplot') to: ../data/Microbiome/sacrifice/RPCA/sac_RPCA_ordination.qza\u001b[0m\r\n",
      "\u001b[32mSaved DistanceMatrix to: ../data/Microbiome/sacrifice/RPCA/sac_RPCA_distance.qza\u001b[0m\r\n",
      "\u001b[0m"
     ]
    }
   ],
   "source": [
    "!qiime gemelli rpca \\\n",
    "    --i-table ../data/Microbiome/sacrifice/RPCA/sac_1000000r_table.qza \\\n",
    "    --p-min-sample-count 500 \\\n",
    "    --o-biplot ../data/Microbiome/sacrifice/RPCA/sac_RPCA_ordination.qza \\\n",
    "    --o-distance-matrix ../data/Microbiome/sacrifice/RPCA/sac_RPCA_distance.qza"
   ]
  },
  {
   "cell_type": "code",
   "execution_count": 43,
   "id": "9778c7ab",
   "metadata": {},
   "outputs": [
    {
     "name": "stdout",
     "output_type": "stream",
     "text": [
      "\u001b[32mSaved PCoAResults % Properties('biplot') to: ../data/Microbiome/sacrifice/RPCA/sac_rar_RPCA_ordination.qza\u001b[0m\r\n",
      "\u001b[32mSaved DistanceMatrix to: ../data/Microbiome/sacrifice/RPCA/sac_rar_RPCA_distance.qza\u001b[0m\r\n",
      "\u001b[0m"
     ]
    }
   ],
   "source": [
    "!qiime gemelli rpca \\\n",
    "    --i-table ../data/Microbiome/sacrifice/sac_1000000rar_core_diversity/rarefied_table.qza \\\n",
    "    --o-biplot ../data/Microbiome/sacrifice/RPCA/sac_rar_RPCA_ordination.qza \\\n",
    "    --o-distance-matrix ../data/Microbiome/sacrifice/RPCA/sac_rar_RPCA_distance.qza"
   ]
  },
  {
   "cell_type": "code",
   "execution_count": 44,
   "id": "e92107bd",
   "metadata": {},
   "outputs": [
    {
     "name": "stdout",
     "output_type": "stream",
     "text": [
      "\u001b[32mSaved Visualization to: ../data/Microbiome/sacrifice/RPCA/sac_rarefy-qc.qzv\u001b[0m\r\n",
      "\u001b[0m"
     ]
    }
   ],
   "source": [
    "!qiime gemelli qc-rarefy \\\n",
    "    --i-table ../data/Microbiome/sacrifice/RPCA/sac_1000000r_table.qza \\\n",
    "    --i-rarefied-distance ../data/Microbiome/sacrifice/RPCA/sac_rar_RPCA_distance.qza \\\n",
    "    --i-unrarefied-distance ../data/Microbiome/sacrifice/RPCA/sac_RPCA_distance.qza \\\n",
    "    --o-visualization ../data/Microbiome/sacrifice/RPCA/sac_rarefy-qc.qzv\n",
    "#p=0.024 sig difference between rar and unrar, proceed with rarefied one"
   ]
  },
  {
   "cell_type": "code",
   "execution_count": 45,
   "id": "6b1e31fa",
   "metadata": {},
   "outputs": [
    {
     "name": "stdout",
     "output_type": "stream",
     "text": [
      "\u001b[32mSaved Visualization to: ../data/Microbiome/sacrifice/RPCA/RPCA_biplot_long.qzv\u001b[0m\r\n",
      "\u001b[0m"
     ]
    }
   ],
   "source": [
    "!qiime emperor biplot \\\n",
    "    --i-biplot ../data/Microbiome/sacrifice/RPCA/sac_rar_RPCA_ordination.qza \\\n",
    "    --m-sample-metadata-file ../data/Microbiome/14957_metadata.txt \\\n",
    "    --m-feature-metadata-file ../data/Microbiome/5XFAD_gg2_taxonomy.qza \\\n",
    "    --p-number-of-features 10 \\\n",
    "    --o-visualization ../data/Microbiome/sacrifice/RPCA/RPCA_biplot_sac.qzv"
   ]
  },
  {
   "cell_type": "code",
   "execution_count": 46,
   "id": "802a4e29",
   "metadata": {},
   "outputs": [
    {
     "name": "stdout",
     "output_type": "stream",
     "text": [
      "\u001b[32mSaved Visualization to: ../data/Microbiome/sacrifice/RPCA/RPCA_distance_sac_emp.qzv\u001b[0m\r\n",
      "\u001b[0m"
     ]
    }
   ],
   "source": [
    "!qiime emperor plot \\\n",
    "    --i-pcoa ../data/Microbiome/sacrifice/RPCA/sac_rar_RPCA_ordination.qza \\\n",
    "    --m-metadata-file ../data/Microbiome/14957_metadata.txt \\\n",
    "    --p-ignore-pcoa-features True \\\n",
    "    --p-custom-axes host_age \\\n",
    "    --o-visualization ../data/Microbiome/sacrifice/RPCA/RPCA_distance_sac_emp.qzv"
   ]
  },
  {
   "cell_type": "code",
   "execution_count": 47,
   "id": "cdf4d6f4",
   "metadata": {},
   "outputs": [
    {
     "name": "stdout",
     "output_type": "stream",
     "text": [
      "\u001b[32mSaved Visualization to: ../data/Microbiome/sacrifice/RPCA/RPCA_strain_significance.qzv\u001b[0m\r\n",
      "\u001b[0m"
     ]
    }
   ],
   "source": [
    "!qiime diversity beta-group-significance \\\n",
    "    --i-distance-matrix ../data/Microbiome/sacrifice/RPCA/sac_rar_RPCA_distance.qza \\\n",
    "    --m-metadata-file ../data/Microbiome/14957_metadata.txt \\\n",
    "    --m-metadata-column mouse_strain \\\n",
    "    --p-method permanova \\\n",
    "    --o-visualization ../data/Microbiome/sacrifice/RPCA/RPCA_strain_significance.qzv"
   ]
  },
  {
   "cell_type": "code",
   "execution_count": 48,
   "id": "cb8e7e91",
   "metadata": {},
   "outputs": [
    {
     "name": "stdout",
     "output_type": "stream",
     "text": [
      "\u001b[32mSaved Visualization to: ../data/Microbiome/sacrifice/RPCA/RPCA_strainsex_significance.qzv\u001b[0m\n",
      "\u001b[0m"
     ]
    }
   ],
   "source": [
    "!qiime diversity beta-group-significance \\\n",
    "    --i-distance-matrix ../data/Microbiome/sacrifice/RPCA/sac_rar_RPCA_distance.qza \\\n",
    "    --m-metadata-file ../data/Microbiome/14957_metadata.txt \\\n",
    "    --m-metadata-column strain_sex \\\n",
    "    --p-method permanova \\\n",
    "    --p-pairwise True \\\n",
    "    --o-visualization ../data/Microbiome/sacrifice/RPCA/RPCA_strainsex_significance.qzv"
   ]
  },
  {
   "cell_type": "code",
   "execution_count": 49,
   "id": "56a12173",
   "metadata": {},
   "outputs": [
    {
     "name": "stdout",
     "output_type": "stream",
     "text": [
      "\u001b[32mSaved Visualization to: ../data/Microbiome/sacrifice/RPCA/RPCA_qurro_plot_long.qzv\u001b[0m\n",
      "\u001b[0m"
     ]
    }
   ],
   "source": [
    "!qiime qurro loading-plot \\\n",
    "    --i-ranks ../data/Microbiome/sacrifice/RPCA/sac_rar_RPCA_ordination.qza \\\n",
    "    --i-table ../data/Microbiome/sacrifice/RPCA/sac_1000000r_table.qza \\\n",
    "    --m-sample-metadata-file ../data/Microbiome/14957_metadata.txt \\\n",
    "    --m-feature-metadata-file ../data/Microbiome/5XFAD_gg2_taxonomy.qza \\\n",
    "    --o-visualization ../data/Microbiome/sacrifice/RPCA/RPCA_qurro_plot_sac.qzv"
   ]
  },
  {
   "cell_type": "code",
   "execution_count": 1,
   "id": "019dc734",
   "metadata": {},
   "outputs": [
    {
     "name": "stdout",
     "output_type": "stream",
     "text": [
      "\u001b[32mSaved Visualization to: ../data/Microbiome/sacrifice/RPCA/sacRPCAranks_all-table_qurro_plot.qzv\u001b[0m\r\n",
      "\u001b[0m"
     ]
    }
   ],
   "source": [
    "!qiime qurro loading-plot \\\n",
    "    --i-ranks ../data/Microbiome/sacrifice/RPCA/sac_rar_RPCA_ordination.qza \\\n",
    "    --i-table ../data/Microbiome/gg2_min1000000reads-feature-table.qza \\\n",
    "    --m-sample-metadata-file ../data/Microbiome/14957_metadata.txt \\\n",
    "    --m-feature-metadata-file ../data/Microbiome/5XFAD_gg2_taxonomy.qza \\\n",
    "    --o-visualization ../data/Microbiome/sacrifice/RPCA/sacRPCAranks_all-table_qurro_plot.qzv"
   ]
  },
  {
   "cell_type": "markdown",
   "id": "4806c3b0",
   "metadata": {},
   "source": [
    "# Phylo-RPCA"
   ]
  },
  {
   "cell_type": "markdown",
   "id": "f4b3fa11",
   "metadata": {},
   "source": [
    "### All Together"
   ]
  },
  {
   "cell_type": "code",
   "execution_count": 50,
   "id": "92e2f59b",
   "metadata": {},
   "outputs": [
    {
     "name": "stdout",
     "output_type": "stream",
     "text": [
      "\u001b[32mSaved PCoAResults % Properties('biplot') to: ../data/Microbiome/RPCA_all/phyloRPCA-ordination.qza\u001b[0m\n",
      "\u001b[32mSaved DistanceMatrix to: ../data/Microbiome/RPCA_all/phyloRPCA-distance.qza\u001b[0m\n",
      "\u001b[32mSaved Phylogeny[Rooted] to: ../data/Microbiome/RPCA_all/phyloRPCA-tree.qza\u001b[0m\n",
      "\u001b[32mSaved FeatureTable[Frequency] to: ../data/Microbiome/RPCA_all/phyloRPCA-table.qza\u001b[0m\n",
      "\u001b[32mSaved FeatureData[Taxonomy] to: ../data/Microbiome/RPCA_all/phyloRPCA-taxonomy.qza\u001b[0m\n",
      "\u001b[0m"
     ]
    }
   ],
   "source": [
    "!qiime gemelli phylogenetic-rpca-with-taxonomy \\\n",
    "    --i-table ../data/Microbiome/gg2_min1000000reads-feature-table.qza \\\n",
    "    --i-phylogeny ../../../greengenes2/2022.10.phylogeny.id.nwk.qza \\\n",
    "    --m-taxonomy-file ../data/Microbiome/5XFAD_gg2_taxonomy.qza \\\n",
    "    --o-biplot ../data/Microbiome/RPCA_all/phyloRPCA-ordination.qza \\\n",
    "    --o-distance-matrix ../data/Microbiome/RPCA_all/phyloRPCA-distance.qza \\\n",
    "    --o-counts-by-node-tree ../data/Microbiome/RPCA_all/phyloRPCA-tree.qza \\\n",
    "    --o-counts-by-node ../data/Microbiome/RPCA_all/phyloRPCA-table.qza \\\n",
    "    --o-t2t-taxonomy ../data/Microbiome/RPCA_all/phyloRPCA-taxonomy.qza\n",
    "#unrarified"
   ]
  },
  {
   "cell_type": "code",
   "execution_count": 51,
   "id": "d557c455",
   "metadata": {},
   "outputs": [
    {
     "name": "stdout",
     "output_type": "stream",
     "text": [
      "\u001b[32mExported ../data/Microbiome/RPCA_all/phyloRPCA-ordination.qza as OrdinationDirectoryFormat to directory ../data/Microbiome/RPCA_all/phyloRPCA-ordination\u001b[0m\r\n",
      "\u001b[0m"
     ]
    }
   ],
   "source": [
    "!qiime tools export \\\n",
    "    --input-path ../data/Microbiome/RPCA_all/phyloRPCA-ordination.qza \\\n",
    "    --output-path ../data/Microbiome/RPCA_all/phyloRPCA-ordination"
   ]
  },
  {
   "cell_type": "code",
   "execution_count": 52,
   "id": "94e867d1",
   "metadata": {},
   "outputs": [
    {
     "name": "stdout",
     "output_type": "stream",
     "text": [
      "\u001b[32mSaved Visualization to: ../data/Microbiome/RPCA_all/all-phyloRPCA-empress.qzv\u001b[0m\r\n",
      "\u001b[0m"
     ]
    }
   ],
   "source": [
    "!qiime empress community-plot\\\n",
    "    --i-tree ../data/Microbiome/RPCA_all/phyloRPCA-tree.qza \\\n",
    "    --i-feature-table ../data/Microbiome/RPCA_all/phyloRPCA-table.qza \\\n",
    "    --i-pcoa ../data/Microbiome/RPCA_all/phyloRPCA-ordination.qza \\\n",
    "    --m-sample-metadata-file ../data/Microbiome/14957_metadata.txt \\\n",
    "    --m-feature-metadata-file ../data/Microbiome/RPCA_all/phyloRPCA-taxonomy.qza \\\n",
    "    --p-filter-missing-features \\\n",
    "    --p-number-of-features 10 \\\n",
    "    --o-visualization ../data/Microbiome/RPCA_all/all-phyloRPCA-empress.qzv"
   ]
  },
  {
   "cell_type": "code",
   "execution_count": 1,
   "id": "844e85b3",
   "metadata": {},
   "outputs": [
    {
     "name": "stdout",
     "output_type": "stream",
     "text": [
      "\u001b[32mSaved Visualization to: ../data/Microbiome/RPCA_all/phyloRPCA_study-type_bsig.qzv\u001b[0m\n",
      "\u001b[0m\u001b[32mSaved Visualization to: ../data/Microbiome/RPCA_all/phyloRPCA_strain_bsig.qzv\u001b[0m\n",
      "\u001b[0m\u001b[32mSaved Visualization to: ../data/Microbiome/RPCA_all/phyloRPCA_sex_bsig.qzv\u001b[0m\n",
      "\u001b[0m"
     ]
    }
   ],
   "source": [
    "!qiime diversity beta-group-significance \\\n",
    "    --i-distance-matrix ../data/Microbiome/RPCA_all/phyloRPCA-distance.qza \\\n",
    "    --m-metadata-file ../data/Microbiome/14957_metadata.txt \\\n",
    "    --m-metadata-column intervention \\\n",
    "    --p-method permanova \\\n",
    "    --p-pairwise True \\\n",
    "    --o-visualization ../data/Microbiome/RPCA_all/phyloRPCA_study-type_bsig.qzv\n",
    "\n",
    "!qiime diversity beta-group-significance \\\n",
    "    --i-distance-matrix ../data/Microbiome/RPCA_all/phyloRPCA-distance.qza \\\n",
    "    --m-metadata-file ../data/Microbiome/14957_metadata.txt \\\n",
    "    --m-metadata-column mouse_strain \\\n",
    "    --p-method permanova \\\n",
    "    --p-pairwise True \\\n",
    "    --o-visualization ../data/Microbiome/RPCA_all/phyloRPCA_strain_bsig.qzv\n",
    "\n",
    "!qiime diversity beta-group-significance \\\n",
    "    --i-distance-matrix ../data/Microbiome/RPCA_all/phyloRPCA-distance.qza \\\n",
    "    --m-metadata-file ../data/Microbiome/14957_metadata.txt \\\n",
    "    --m-metadata-column sex \\\n",
    "    --p-method permanova \\\n",
    "    --p-pairwise True \\\n",
    "    --o-visualization ../data/Microbiome/RPCA_all/phyloRPCA_sex_bsig.qzv"
   ]
  },
  {
   "cell_type": "code",
   "execution_count": 2,
   "id": "0e1c5ff6",
   "metadata": {},
   "outputs": [
    {
     "name": "stdout",
     "output_type": "stream",
     "text": [
      "\u001b[32mSaved Visualization to: ../data/Microbiome/RPCA_all/phyloRPCA_study-type_bsig_anosim.qzv\u001b[0m\n",
      "\u001b[0m\u001b[32mSaved Visualization to: ../data/Microbiome/RPCA_all/phyloRPCA_strain_bsig_anosim.qzv\u001b[0m\n",
      "\u001b[0m\u001b[32mSaved Visualization to: ../data/Microbiome/RPCA_all/phyloRPCA_sex_bsig_anosim.qzv\u001b[0m\n",
      "\u001b[0m"
     ]
    }
   ],
   "source": [
    "!qiime diversity beta-group-significance \\\n",
    "    --i-distance-matrix ../data/Microbiome/RPCA_all/phyloRPCA-distance.qza \\\n",
    "    --m-metadata-file ../data/Microbiome/14957_metadata.txt \\\n",
    "    --m-metadata-column intervention \\\n",
    "    --p-method anosim \\\n",
    "    --p-pairwise True \\\n",
    "    --o-visualization ../data/Microbiome/RPCA_all/phyloRPCA_study-type_bsig_anosim.qzv\n",
    "\n",
    "!qiime diversity beta-group-significance \\\n",
    "    --i-distance-matrix ../data/Microbiome/RPCA_all/phyloRPCA-distance.qza \\\n",
    "    --m-metadata-file ../data/Microbiome/14957_metadata.txt \\\n",
    "    --m-metadata-column mouse_strain \\\n",
    "    --p-method anosim \\\n",
    "    --p-pairwise True \\\n",
    "    --o-visualization ../data/Microbiome/RPCA_all/phyloRPCA_strain_bsig_anosim.qzv\n",
    "\n",
    "!qiime diversity beta-group-significance \\\n",
    "    --i-distance-matrix ../data/Microbiome/RPCA_all/phyloRPCA-distance.qza \\\n",
    "    --m-metadata-file ../data/Microbiome/14957_metadata.txt \\\n",
    "    --m-metadata-column sex \\\n",
    "    --p-method anosim \\\n",
    "    --p-pairwise True \\\n",
    "    --o-visualization ../data/Microbiome/RPCA_all/phyloRPCA_sex_bsig_anosim.qzv"
   ]
  },
  {
   "cell_type": "code",
   "execution_count": 3,
   "id": "67821f7d",
   "metadata": {},
   "outputs": [
    {
     "name": "stdout",
     "output_type": "stream",
     "text": [
      "\u001b[32mSaved Visualization to: ../data/Microbiome/RPCA_all/phyloRPCA-qurro_plot.qzv\u001b[0m\r\n",
      "\u001b[0m"
     ]
    }
   ],
   "source": [
    "!qiime qurro loading-plot \\\n",
    "    --i-ranks ../data/Microbiome/RPCA_all/phyloRPCA-ordination.qza \\\n",
    "    --i-table ../data/Microbiome/RPCA_all/phyloRPCA-table.qza \\\n",
    "    --m-sample-metadata-file ../data/Microbiome/14957_metadata.txt \\\n",
    "    --m-feature-metadata-file ../data/Microbiome/RPCA_all/phyloRPCA-taxonomy.qza \\\n",
    "    --o-visualization ../data/Microbiome/RPCA_all/phyloRPCA-qurro_plot.qzv"
   ]
  },
  {
   "cell_type": "markdown",
   "id": "42909392",
   "metadata": {},
   "source": [
    "### Longitudinal"
   ]
  },
  {
   "cell_type": "code",
   "execution_count": 53,
   "id": "c3f9ab47",
   "metadata": {},
   "outputs": [
    {
     "name": "stdout",
     "output_type": "stream",
     "text": [
      "\u001b[32mSaved PCoAResults % Properties('biplot') to: ../data/Microbiome/longitudinal/RPCA/long_phyloRPCA-ordination.qza\u001b[0m\n",
      "\u001b[32mSaved DistanceMatrix to: ../data/Microbiome/longitudinal/RPCA/long_phyloRPCA-distance.qza\u001b[0m\n",
      "\u001b[32mSaved Phylogeny[Rooted] to: ../data/Microbiome/longitudinal/RPCA/long_phyloRPCA-tree.qza\u001b[0m\n",
      "\u001b[32mSaved FeatureTable[Frequency] to: ../data/Microbiome/longitudinal/RPCA/long_phyloRPCA-table.qza\u001b[0m\n",
      "\u001b[32mSaved FeatureData[Taxonomy] to: ../data/Microbiome/longitudinal/RPCA/long_phyloRPCA-taxonomy.qza\u001b[0m\n",
      "\u001b[0m"
     ]
    }
   ],
   "source": [
    "!qiime gemelli phylogenetic-rpca-with-taxonomy \\\n",
    "    --i-table ../data/Microbiome/longitudinal/RPCA/long_1000000r_table.qza \\\n",
    "    --i-phylogeny ../../../greengenes2/2022.10.phylogeny.id.nwk.qza \\\n",
    "    --m-taxonomy-file ../data/Microbiome/5XFAD_gg2_taxonomy.qza \\\n",
    "    --p-min-feature-count 10 \\\n",
    "    --p-min-sample-count 500 \\\n",
    "    --o-biplot ../data/Microbiome/longitudinal/RPCA/long_phyloRPCA-ordination.qza \\\n",
    "    --o-distance-matrix ../data/Microbiome/longitudinal/RPCA/long_phyloRPCA-distance.qza \\\n",
    "    --o-counts-by-node-tree ../data/Microbiome/longitudinal/RPCA/long_phyloRPCA-tree.qza \\\n",
    "    --o-counts-by-node ../data/Microbiome/longitudinal/RPCA/long_phyloRPCA-table.qza \\\n",
    "    --o-t2t-taxonomy ../data/Microbiome/longitudinal/RPCA/long_phyloRPCA-taxonomy.qza\n",
    "#unrarefied"
   ]
  },
  {
   "cell_type": "code",
   "execution_count": 54,
   "id": "2409325e",
   "metadata": {},
   "outputs": [
    {
     "name": "stdout",
     "output_type": "stream",
     "text": [
      "\u001b[32mSaved Visualization to: ../data/Microbiome/longitudinal/RPCA/long_phyloRPCA-empress.qzv\u001b[0m\n",
      "\u001b[0m"
     ]
    }
   ],
   "source": [
    "!qiime empress community-plot\\\n",
    "    --i-tree ../data/Microbiome/longitudinal/RPCA/long_phyloRPCA-tree.qza \\\n",
    "    --i-feature-table ../data/Microbiome/longitudinal/RPCA/long_phyloRPCA-table.qza \\\n",
    "    --i-pcoa ../data/Microbiome/longitudinal/RPCA/long_phyloRPCA-ordination.qza \\\n",
    "    --m-sample-metadata-file ../data/Microbiome/14957_metadata.txt \\\n",
    "    --m-feature-metadata-file ../data/Microbiome/longitudinal/RPCA/long_phyloRPCA-taxonomy.qza \\\n",
    "    --p-filter-missing-features \\\n",
    "    --p-number-of-features 10 \\\n",
    "    --o-visualization ../data/Microbiome/longitudinal/RPCA/long_phyloRPCA-empress.qzv"
   ]
  },
  {
   "cell_type": "code",
   "execution_count": 55,
   "id": "e8fc5cf3",
   "metadata": {},
   "outputs": [
    {
     "name": "stdout",
     "output_type": "stream",
     "text": [
      "\u001b[32mSaved PCoAResults to: ../data/Microbiome/longitudinal/RPCA/long_phyloRPCA-distance_pcoa.qza\u001b[0m\r\n",
      "\u001b[0m"
     ]
    }
   ],
   "source": [
    "!qiime diversity pcoa \\\n",
    "    --i-distance-matrix ../data/Microbiome/longitudinal/RPCA/long_phyloRPCA-distance.qza \\\n",
    "    --o-pcoa ../data/Microbiome/longitudinal/RPCA/long_phyloRPCA-distance_pcoa.qza"
   ]
  },
  {
   "cell_type": "code",
   "execution_count": 56,
   "id": "e52c89a0",
   "metadata": {},
   "outputs": [
    {
     "name": "stdout",
     "output_type": "stream",
     "text": [
      "\u001b[32mSaved Visualization to: ../data/Microbiome/longitudinal/RPCA/long_phyloRPCA-distance_emp.qzv\u001b[0m\n",
      "\u001b[0m"
     ]
    }
   ],
   "source": [
    "!qiime emperor plot \\\n",
    "    --i-pcoa ../data/Microbiome/longitudinal/RPCA/long_phyloRPCA-distance_pcoa.qza \\\n",
    "    --m-metadata-file ../data/Microbiome/14957_metadata.txt \\\n",
    "    --p-custom-axes host_age \\\n",
    "    --o-visualization ../data/Microbiome/longitudinal/RPCA/long_phyloRPCA-distance_emp.qzv"
   ]
  },
  {
   "cell_type": "code",
   "execution_count": 57,
   "id": "aaafba84",
   "metadata": {},
   "outputs": [
    {
     "name": "stdout",
     "output_type": "stream",
     "text": [
      "\u001b[32mSaved Visualization to: ../data/Microbiome/longitudinal/RPCA/long_phyloRPCA-strainsex_significance.qzv\u001b[0m\r\n",
      "\u001b[0m"
     ]
    }
   ],
   "source": [
    "!qiime diversity beta-group-significance \\\n",
    "    --i-distance-matrix ../data/Microbiome/longitudinal/RPCA/long_phyloRPCA-distance.qza \\\n",
    "    --m-metadata-file ../data/Microbiome/14957_metadata.txt \\\n",
    "    --m-metadata-column strain_sex \\\n",
    "    --p-method permanova \\\n",
    "    --p-pairwise True \\\n",
    "    --o-visualization ../data/Microbiome/longitudinal/RPCA/long_phyloRPCA-strainsex_significance.qzv"
   ]
  },
  {
   "cell_type": "code",
   "execution_count": 58,
   "id": "2c0d40c3",
   "metadata": {},
   "outputs": [
    {
     "name": "stdout",
     "output_type": "stream",
     "text": [
      "\u001b[32mSaved Visualization to: ../data/Microbiome/longitudinal/RPCA/long_phyloRPCA-strain_significance.qzv\u001b[0m\r\n",
      "\u001b[0m"
     ]
    }
   ],
   "source": [
    "!qiime diversity beta-group-significance \\\n",
    "    --i-distance-matrix ../data/Microbiome/longitudinal/RPCA/long_phyloRPCA-distance.qza \\\n",
    "    --m-metadata-file ../data/Microbiome/14957_metadata.txt \\\n",
    "    --m-metadata-column mouse_strain \\\n",
    "    --p-method permanova \\\n",
    "    --o-visualization ../data/Microbiome/longitudinal/RPCA/long_phyloRPCA-strain_significance.qzv"
   ]
  },
  {
   "cell_type": "code",
   "execution_count": 59,
   "id": "25b04987",
   "metadata": {},
   "outputs": [
    {
     "name": "stdout",
     "output_type": "stream",
     "text": [
      "\u001b[32mSaved Visualization to: ../data/Microbiome/longitudinal/RPCA/long_phyloRPCA-qurro_plot.qzv\u001b[0m\r\n",
      "\u001b[0m"
     ]
    }
   ],
   "source": [
    "!qiime qurro loading-plot \\\n",
    "    --i-ranks ../data/Microbiome/longitudinal/RPCA/long_phyloRPCA-ordination.qza \\\n",
    "    --i-table ../data/Microbiome/longitudinal/RPCA/long_phyloRPCA-table.qza \\\n",
    "    --m-sample-metadata-file ../data/Microbiome/14957_metadata.txt \\\n",
    "    --m-feature-metadata-file ../data/Microbiome/longitudinal/RPCA/long_phyloRPCA-taxonomy.qza \\\n",
    "    --o-visualization ../data/Microbiome/longitudinal/RPCA/long_phyloRPCA-qurro_plot.qzv"
   ]
  },
  {
   "cell_type": "markdown",
   "id": "211e23e9",
   "metadata": {},
   "source": [
    "### Sacrifice"
   ]
  },
  {
   "cell_type": "code",
   "execution_count": 60,
   "id": "d6a1ff18",
   "metadata": {},
   "outputs": [
    {
     "name": "stdout",
     "output_type": "stream",
     "text": [
      "\u001b[32mSaved PCoAResults % Properties('biplot') to: ../data/Microbiome/sacrifice/RPCA/sac_phyloRPCA-ordination.qza\u001b[0m\n",
      "\u001b[32mSaved DistanceMatrix to: ../data/Microbiome/sacrifice/RPCA/sac_phyloRPCA-distance.qza\u001b[0m\n",
      "\u001b[32mSaved Phylogeny[Rooted] to: ../data/Microbiome/sacrifice/RPCA/sac_phyloRPCA-tree.qza\u001b[0m\n",
      "\u001b[32mSaved FeatureTable[Frequency] to: ../data/Microbiome/sacrifice/RPCA/sac_phyloRPCA-table.qza\u001b[0m\n",
      "\u001b[32mSaved FeatureData[Taxonomy] to: ../data/Microbiome/sacrifice/RPCA/sac_phyloRPCA-taxonomy.qza\u001b[0m\n",
      "\u001b[0m"
     ]
    }
   ],
   "source": [
    "!qiime gemelli phylogenetic-rpca-with-taxonomy \\\n",
    "    --i-table ../data/Microbiome/sacrifice/RPCA/sac_1000000r_table.qza \\\n",
    "    --i-phylogeny ../../../greengenes2/2022.10.phylogeny.id.nwk.qza \\\n",
    "    --p-min-feature-count 10 \\\n",
    "    --p-min-sample-count 500 \\\n",
    "    --m-taxonomy-file ../data/Microbiome/5XFAD_gg2_taxonomy.qza \\\n",
    "    --o-biplot ../data/Microbiome/sacrifice/RPCA/sac_phyloRPCA-ordination.qza \\\n",
    "    --o-distance-matrix ../data/Microbiome/sacrifice/RPCA/sac_phyloRPCA-distance.qza \\\n",
    "    --o-counts-by-node-tree ../data/Microbiome/sacrifice/RPCA/sac_phyloRPCA-tree.qza \\\n",
    "    --o-counts-by-node ../data/Microbiome/sacrifice/RPCA/sac_phyloRPCA-table.qza \\\n",
    "    --o-t2t-taxonomy ../data/Microbiome/sacrifice/RPCA/sac_phyloRPCA-taxonomy.qza\n",
    "#unrarefied"
   ]
  },
  {
   "cell_type": "code",
   "execution_count": 61,
   "id": "f51c509b",
   "metadata": {},
   "outputs": [
    {
     "name": "stdout",
     "output_type": "stream",
     "text": [
      "\u001b[32mSaved Visualization to: ../data/Microbiome/sacrifice/RPCA/sac_phyloRPCA-empress.qzv\u001b[0m\r\n",
      "\u001b[0m"
     ]
    }
   ],
   "source": [
    "!qiime empress community-plot\\\n",
    "    --i-tree ../data/Microbiome/sacrifice/RPCA/sac_phyloRPCA-tree.qza \\\n",
    "    --i-feature-table ../data/Microbiome/sacrifice/RPCA/sac_phyloRPCA-table.qza \\\n",
    "    --i-pcoa ../data/Microbiome/sacrifice/RPCA/sac_phyloRPCA-ordination.qza \\\n",
    "    --m-sample-metadata-file ../data/Microbiome/14957_metadata.txt \\\n",
    "    --m-feature-metadata-file ../data/Microbiome/sacrifice/RPCA/sac_phyloRPCA-taxonomy.qza \\\n",
    "    --p-filter-missing-features \\\n",
    "    --p-number-of-features 10 \\\n",
    "    --o-visualization ../data/Microbiome/sacrifice/RPCA/sac_phyloRPCA-empress.qzv"
   ]
  },
  {
   "cell_type": "code",
   "execution_count": 62,
   "id": "965ea660",
   "metadata": {},
   "outputs": [
    {
     "name": "stdout",
     "output_type": "stream",
     "text": [
      "\u001b[32mSaved PCoAResults to: ../data/Microbiome/sacrifice/RPCA/sac_phyloRPCA-distance_pcoa.qza\u001b[0m\r\n",
      "\u001b[0m"
     ]
    }
   ],
   "source": [
    "!qiime diversity pcoa \\\n",
    "    --i-distance-matrix ../data/Microbiome/sacrifice/RPCA/sac_phyloRPCA-distance.qza \\\n",
    "    --o-pcoa ../data/Microbiome/sacrifice/RPCA/sac_phyloRPCA-distance_pcoa.qza"
   ]
  },
  {
   "cell_type": "code",
   "execution_count": 63,
   "id": "1b5d2d34",
   "metadata": {},
   "outputs": [
    {
     "name": "stdout",
     "output_type": "stream",
     "text": [
      "\u001b[32mSaved Visualization to: ../data/Microbiome/sacrifice/RPCA/sac_phyloRPCA-distance_emp.qzv\u001b[0m\r\n",
      "\u001b[0m"
     ]
    }
   ],
   "source": [
    "!qiime emperor plot \\\n",
    "    --i-pcoa ../data/Microbiome/sacrifice/RPCA/sac_phyloRPCA-distance_pcoa.qza \\\n",
    "    --m-metadata-file ../data/Microbiome/14957_metadata.txt \\\n",
    "    --p-custom-axes host_age \\\n",
    "    --o-visualization ../data/Microbiome/sacrifice/RPCA/sac_phyloRPCA-distance_emp.qzv"
   ]
  },
  {
   "cell_type": "code",
   "execution_count": 64,
   "id": "10efd916",
   "metadata": {},
   "outputs": [
    {
     "name": "stdout",
     "output_type": "stream",
     "text": [
      "\u001b[32mSaved Visualization to: ../data/Microbiome/sacrifice/RPCA/sac_phyloRPCA-strainsex_significance.qzv\u001b[0m\r\n",
      "\u001b[0m"
     ]
    }
   ],
   "source": [
    "!qiime diversity beta-group-significance \\\n",
    "    --i-distance-matrix ../data/Microbiome/sacrifice/RPCA/sac_phyloRPCA-distance.qza \\\n",
    "    --m-metadata-file ../data/Microbiome/14957_metadata.txt \\\n",
    "    --m-metadata-column strain_sex \\\n",
    "    --p-method permanova \\\n",
    "    --p-pairwise True \\\n",
    "    --o-visualization ../data/Microbiome/sacrifice/RPCA/sac_phyloRPCA-strainsex_significance.qzv"
   ]
  },
  {
   "cell_type": "code",
   "execution_count": 65,
   "id": "2a29dd75",
   "metadata": {},
   "outputs": [
    {
     "name": "stdout",
     "output_type": "stream",
     "text": [
      "\u001b[32mSaved Visualization to: ../data/Microbiome/sacrifice/RPCA/sac_phyloRPCA-strain_significance.qzv\u001b[0m\r\n",
      "\u001b[0m"
     ]
    }
   ],
   "source": [
    "!qiime diversity beta-group-significance \\\n",
    "    --i-distance-matrix ../data/Microbiome/sacrifice/RPCA/sac_phyloRPCA-distance.qza \\\n",
    "    --m-metadata-file ../data/Microbiome/14957_metadata.txt \\\n",
    "    --m-metadata-column mouse_strain \\\n",
    "    --p-method permanova \\\n",
    "    --o-visualization ../data/Microbiome/sacrifice/RPCA/sac_phyloRPCA-strain_significance.qzv"
   ]
  },
  {
   "cell_type": "code",
   "execution_count": 66,
   "id": "37fdd52f",
   "metadata": {},
   "outputs": [
    {
     "name": "stdout",
     "output_type": "stream",
     "text": [
      "\u001b[32mSaved Visualization to: ../data/Microbiome/sacrifice/RPCA/sac_phyloRPCA-qurro_plot.qzv\u001b[0m\r\n",
      "\u001b[0m"
     ]
    }
   ],
   "source": [
    "!qiime qurro loading-plot \\\n",
    "    --i-ranks ../data/Microbiome/sacrifice/RPCA/sac_phyloRPCA-ordination.qza \\\n",
    "    --i-table ../data/Microbiome/sacrifice/RPCA/sac_phyloRPCA-table.qza \\\n",
    "    --m-sample-metadata-file ../data/Microbiome/14957_metadata.txt \\\n",
    "    --m-feature-metadata-file ../data/Microbiome/sacrifice/RPCA/sac_phyloRPCA-taxonomy.qza \\\n",
    "    --o-visualization ../data/Microbiome/sacrifice/RPCA/sac_phyloRPCA-qurro_plot.qzv"
   ]
  },
  {
   "cell_type": "markdown",
   "id": "7d71290a",
   "metadata": {},
   "source": [
    "# CTF"
   ]
  },
  {
   "cell_type": "markdown",
   "id": "2c9ef0f0",
   "metadata": {},
   "source": [
    "### Longitudinal"
   ]
  },
  {
   "cell_type": "code",
   "execution_count": 67,
   "id": "5aaea5be",
   "metadata": {},
   "outputs": [
    {
     "name": "stdout",
     "output_type": "stream",
     "text": [
      "\u001b[32mSaved PCoAResults % Properties('biplot') to: ../data/Microbiome/longitudinal/ctf-results/subject_biplot.qza\u001b[0m\n",
      "\u001b[32mSaved PCoAResults % Properties('biplot') to: ../data/Microbiome/longitudinal/ctf-results/state_biplot.qza\u001b[0m\n",
      "\u001b[32mSaved DistanceMatrix to: ../data/Microbiome/longitudinal/ctf-results/distance_matrix.qza\u001b[0m\n",
      "\u001b[32mSaved SampleData[SampleTrajectory] to: ../data/Microbiome/longitudinal/ctf-results/state_subject_ordination.qza\u001b[0m\n",
      "\u001b[32mSaved FeatureData[FeatureTrajectory] to: ../data/Microbiome/longitudinal/ctf-results/state_feature_ordination.qza\u001b[0m\n",
      "\u001b[0m"
     ]
    }
   ],
   "source": [
    "!qiime gemelli ctf \\\n",
    "    --i-table  ../data/Microbiome/longitudinal/RPCA/long_1000000r_table.qza \\\n",
    "    --m-sample-metadata-file ../data/Microbiome/14957_metadata.txt \\\n",
    "    --m-feature-metadata-file ../data/Microbiome/5XFAD_gg2_taxonomy.qza \\\n",
    "    --p-state-column host_age \\\n",
    "    --p-individual-id-column host_subject_id \\\n",
    "    --output-dir ../data/Microbiome/longitudinal/ctf-results"
   ]
  },
  {
   "cell_type": "code",
   "execution_count": 68,
   "id": "1d7206cf",
   "metadata": {},
   "outputs": [
    {
     "name": "stdout",
     "output_type": "stream",
     "text": [
      "\u001b[32mExported ../data/Microbiome/longitudinal/ctf-results/subject_biplot.qza as OrdinationDirectoryFormat to directory ../data/Microbiome/longitudinal/ctf-results/subject_biplot\u001b[0m\r\n",
      "\u001b[0m"
     ]
    }
   ],
   "source": [
    "!qiime tools export \\\n",
    "    --input-path ../data/Microbiome/longitudinal/ctf-results/subject_biplot.qza \\\n",
    "    --output-path ../data/Microbiome/longitudinal/ctf-results/subject_biplot"
   ]
  },
  {
   "cell_type": "code",
   "execution_count": 69,
   "id": "23516973",
   "metadata": {},
   "outputs": [],
   "source": [
    "import pandas as pd"
   ]
  },
  {
   "cell_type": "code",
   "execution_count": 70,
   "id": "afda9fd2",
   "metadata": {},
   "outputs": [],
   "source": [
    "md = pd.read_csv('../data/Microbiome/14957_metadata.txt', sep='\\t',index_col=0)"
   ]
  },
  {
   "cell_type": "code",
   "execution_count": 71,
   "id": "bd5f9e50",
   "metadata": {},
   "outputs": [
    {
     "data": {
      "text/html": [
       "<div>\n",
       "<style scoped>\n",
       "    .dataframe tbody tr th:only-of-type {\n",
       "        vertical-align: middle;\n",
       "    }\n",
       "\n",
       "    .dataframe tbody tr th {\n",
       "        vertical-align: top;\n",
       "    }\n",
       "\n",
       "    .dataframe thead th {\n",
       "        text-align: right;\n",
       "    }\n",
       "</style>\n",
       "<table border=\"1\" class=\"dataframe\">\n",
       "  <thead>\n",
       "    <tr style=\"text-align: right;\">\n",
       "      <th></th>\n",
       "      <th>mouse_strain</th>\n",
       "      <th>sex</th>\n",
       "      <th>cohort</th>\n",
       "    </tr>\n",
       "    <tr>\n",
       "      <th>host_subject_id</th>\n",
       "      <th></th>\n",
       "      <th></th>\n",
       "      <th></th>\n",
       "    </tr>\n",
       "  </thead>\n",
       "  <tbody>\n",
       "    <tr>\n",
       "      <th>CAGE 79</th>\n",
       "      <td>WT 5XFAD</td>\n",
       "      <td>male</td>\n",
       "      <td>COHORT 8</td>\n",
       "    </tr>\n",
       "    <tr>\n",
       "      <th>CAGE 80</th>\n",
       "      <td>WT 5XFAD</td>\n",
       "      <td>male</td>\n",
       "      <td>COHORT 8</td>\n",
       "    </tr>\n",
       "    <tr>\n",
       "      <th>CAGE 96</th>\n",
       "      <td>Het 5XFAD</td>\n",
       "      <td>female</td>\n",
       "      <td>COHORT 10</td>\n",
       "    </tr>\n",
       "    <tr>\n",
       "      <th>CAGE 97</th>\n",
       "      <td>Het 5XFAD</td>\n",
       "      <td>female</td>\n",
       "      <td>COHORT 10</td>\n",
       "    </tr>\n",
       "    <tr>\n",
       "      <th>CAGE 98</th>\n",
       "      <td>WT 5XFAD</td>\n",
       "      <td>female</td>\n",
       "      <td>COHORT 10</td>\n",
       "    </tr>\n",
       "  </tbody>\n",
       "</table>\n",
       "</div>"
      ],
      "text/plain": [
       "                mouse_strain     sex     cohort\n",
       "host_subject_id                                \n",
       "CAGE 79             WT 5XFAD    male   COHORT 8\n",
       "CAGE 80             WT 5XFAD    male   COHORT 8\n",
       "CAGE 96            Het 5XFAD  female  COHORT 10\n",
       "CAGE 97            Het 5XFAD  female  COHORT 10\n",
       "CAGE 98             WT 5XFAD  female  COHORT 10"
      ]
     },
     "execution_count": 71,
     "metadata": {},
     "output_type": "execute_result"
    }
   ],
   "source": [
    "md2 = md.groupby(['host_subject_id']).agg({'mouse_strain':'first', 'sex':'first', 'cohort':'first'})\n",
    "md2.tail()"
   ]
  },
  {
   "cell_type": "code",
   "execution_count": 72,
   "id": "49d8df87",
   "metadata": {},
   "outputs": [
    {
     "data": {
      "text/html": [
       "<div>\n",
       "<style scoped>\n",
       "    .dataframe tbody tr th:only-of-type {\n",
       "        vertical-align: middle;\n",
       "    }\n",
       "\n",
       "    .dataframe tbody tr th {\n",
       "        vertical-align: top;\n",
       "    }\n",
       "\n",
       "    .dataframe thead th {\n",
       "        text-align: right;\n",
       "    }\n",
       "</style>\n",
       "<table border=\"1\" class=\"dataframe\">\n",
       "  <thead>\n",
       "    <tr style=\"text-align: right;\">\n",
       "      <th></th>\n",
       "      <th>mouse_strain</th>\n",
       "      <th>sex</th>\n",
       "      <th>cohort</th>\n",
       "    </tr>\n",
       "    <tr>\n",
       "      <th>#SampleID</th>\n",
       "      <th></th>\n",
       "      <th></th>\n",
       "      <th></th>\n",
       "    </tr>\n",
       "  </thead>\n",
       "  <tbody>\n",
       "    <tr>\n",
       "      <th>BLANK.FAD.1.1A</th>\n",
       "      <td>1</td>\n",
       "      <td>1</td>\n",
       "      <td>not applicable</td>\n",
       "    </tr>\n",
       "    <tr>\n",
       "      <th>BLANK.FAD.1.1B</th>\n",
       "      <td>1</td>\n",
       "      <td>1</td>\n",
       "      <td>not applicable</td>\n",
       "    </tr>\n",
       "    <tr>\n",
       "      <th>BLANK.FAD.1.1C</th>\n",
       "      <td>1</td>\n",
       "      <td>1</td>\n",
       "      <td>not applicable</td>\n",
       "    </tr>\n",
       "    <tr>\n",
       "      <th>BLANK.FAD.1.1D</th>\n",
       "      <td>1</td>\n",
       "      <td>1</td>\n",
       "      <td>not applicable</td>\n",
       "    </tr>\n",
       "    <tr>\n",
       "      <th>BLANK.FAD.1.1E</th>\n",
       "      <td>1</td>\n",
       "      <td>1</td>\n",
       "      <td>not applicable</td>\n",
       "    </tr>\n",
       "    <tr>\n",
       "      <th>...</th>\n",
       "      <td>...</td>\n",
       "      <td>...</td>\n",
       "      <td>...</td>\n",
       "    </tr>\n",
       "    <tr>\n",
       "      <th>CAGE 79</th>\n",
       "      <td>WT 5XFAD</td>\n",
       "      <td>male</td>\n",
       "      <td>COHORT 8</td>\n",
       "    </tr>\n",
       "    <tr>\n",
       "      <th>CAGE 80</th>\n",
       "      <td>WT 5XFAD</td>\n",
       "      <td>male</td>\n",
       "      <td>COHORT 8</td>\n",
       "    </tr>\n",
       "    <tr>\n",
       "      <th>CAGE 96</th>\n",
       "      <td>Het 5XFAD</td>\n",
       "      <td>female</td>\n",
       "      <td>COHORT 10</td>\n",
       "    </tr>\n",
       "    <tr>\n",
       "      <th>CAGE 97</th>\n",
       "      <td>Het 5XFAD</td>\n",
       "      <td>female</td>\n",
       "      <td>COHORT 10</td>\n",
       "    </tr>\n",
       "    <tr>\n",
       "      <th>CAGE 98</th>\n",
       "      <td>WT 5XFAD</td>\n",
       "      <td>female</td>\n",
       "      <td>COHORT 10</td>\n",
       "    </tr>\n",
       "  </tbody>\n",
       "</table>\n",
       "<p>96 rows × 3 columns</p>\n",
       "</div>"
      ],
      "text/plain": [
       "               mouse_strain     sex          cohort\n",
       "#SampleID                                          \n",
       "BLANK.FAD.1.1A            1       1  not applicable\n",
       "BLANK.FAD.1.1B            1       1  not applicable\n",
       "BLANK.FAD.1.1C            1       1  not applicable\n",
       "BLANK.FAD.1.1D            1       1  not applicable\n",
       "BLANK.FAD.1.1E            1       1  not applicable\n",
       "...                     ...     ...             ...\n",
       "CAGE 79            WT 5XFAD    male        COHORT 8\n",
       "CAGE 80            WT 5XFAD    male        COHORT 8\n",
       "CAGE 96           Het 5XFAD  female       COHORT 10\n",
       "CAGE 97           Het 5XFAD  female       COHORT 10\n",
       "CAGE 98            WT 5XFAD  female       COHORT 10\n",
       "\n",
       "[96 rows x 3 columns]"
      ]
     },
     "execution_count": 72,
     "metadata": {},
     "output_type": "execute_result"
    }
   ],
   "source": [
    "md2.index.name = '#SampleID'\n",
    "md2"
   ]
  },
  {
   "cell_type": "code",
   "execution_count": 73,
   "id": "82e4a226",
   "metadata": {},
   "outputs": [],
   "source": [
    "md2['strain_sex'] = md2['mouse_strain'].astype(str)+\"_\"+md2['sex'].astype(str)"
   ]
  },
  {
   "cell_type": "code",
   "execution_count": 74,
   "id": "c1f6ab77",
   "metadata": {},
   "outputs": [],
   "source": [
    "md2.to_csv('../data/Microbiome/longitudinal/ctf-results/ctf_mod_metadata.tsv', sep='\\t')"
   ]
  },
  {
   "cell_type": "code",
   "execution_count": 75,
   "id": "858ecbc6",
   "metadata": {},
   "outputs": [
    {
     "name": "stdout",
     "output_type": "stream",
     "text": [
      "\u001b[32mSaved Visualization to: ../data/Microbiome/longitudinal/ctf-results/subject_biplot.qzv\u001b[0m\r\n",
      "\u001b[0m"
     ]
    }
   ],
   "source": [
    "!qiime emperor biplot\\\n",
    "    --i-biplot ../data/Microbiome/longitudinal/ctf-results/subject_biplot.qza \\\n",
    "    --m-sample-metadata-file ../data/Microbiome/longitudinal/ctf-results/ctf_mod_metadata.tsv \\\n",
    "    --m-feature-metadata-file ../data/Microbiome/5XFAD_gg2_taxonomy.qza \\\n",
    "    --p-number-of-features 10 \\\n",
    "    --o-visualization ../data/Microbiome/longitudinal/ctf-results/subject_biplot.qzv"
   ]
  },
  {
   "cell_type": "code",
   "execution_count": 76,
   "id": "8c84173d",
   "metadata": {},
   "outputs": [
    {
     "name": "stdout",
     "output_type": "stream",
     "text": [
      "\u001b[32mSaved Visualization to: ../data/Microbiome/longitudinal/ctf-results/state_subject_ordination.qzv\u001b[0m\r\n",
      "\u001b[0m"
     ]
    }
   ],
   "source": [
    "!qiime longitudinal volatility \\\n",
    "    --m-metadata-file ../data/Microbiome/longitudinal/ctf-results/state_subject_ordination.qza \\\n",
    "    --p-state-column host_age \\\n",
    "    --p-individual-id-column subject_id \\\n",
    "    --p-default-group-column strain_sex \\\n",
    "    --p-default-metric PC1 \\\n",
    "    --o-visualization ../data/Microbiome/longitudinal/ctf-results/state_subject_ordination.qzv"
   ]
  },
  {
   "cell_type": "code",
   "execution_count": 77,
   "id": "99a9756d",
   "metadata": {},
   "outputs": [
    {
     "name": "stdout",
     "output_type": "stream",
     "text": [
      "\u001b[32mSaved Visualization to: ../data/Microbiome/longitudinal/ctf-results/ctf-long-qurro.qzv\u001b[0m\r\n",
      "\u001b[0m"
     ]
    }
   ],
   "source": [
    "!qiime qurro loading-plot\\\n",
    "    --i-table ../data/Microbiome/longitudinal/RPCA/long_1000000r_table.qza \\\n",
    "    --i-ranks ../data/Microbiome/longitudinal/ctf-results/subject_biplot.qza \\\n",
    "    --m-sample-metadata-file ../data/Microbiome/14957_metadata.txt \\\n",
    "    --m-feature-metadata-file ../data/Microbiome/5XFAD_gg2_taxonomy.qza \\\n",
    "    --o-visualization ../data/Microbiome/longitudinal/ctf-results/ctf-long-qurro.qzv"
   ]
  },
  {
   "cell_type": "code",
   "execution_count": null,
   "id": "68ae18a2",
   "metadata": {},
   "outputs": [],
   "source": [
    "## Cage 147, 150, 173 doing their own thing, remove"
   ]
  },
  {
   "cell_type": "code",
   "execution_count": 78,
   "id": "378ccf81",
   "metadata": {},
   "outputs": [
    {
     "name": "stdout",
     "output_type": "stream",
     "text": [
      "\u001b[32mSaved FeatureTable[Frequency] to: ../data/Microbiome/longitudinal/ctf-results/filt_long_feature_table_x3.qza\u001b[0m\r\n",
      "\u001b[0m"
     ]
    }
   ],
   "source": [
    "!qiime feature-table filter-samples \\\n",
    "    --i-table ../data/Microbiome/longitudinal/RPCA/long_1000000r_table.qza \\\n",
    "    --m-metadata-file ../data/Microbiome/14957_metadata.txt \\\n",
    "    --p-where \"[host_subject_id] IN ('CAGE 147', 'CAGE 150', 'CAGE 173')\" \\\n",
    "    --p-exclude-ids True \\\n",
    "    --o-filtered-table ../data/Microbiome/longitudinal/ctf-results/filt_long_feature_table_x3.qza"
   ]
  },
  {
   "cell_type": "code",
   "execution_count": 79,
   "id": "9a11c4a7",
   "metadata": {},
   "outputs": [
    {
     "name": "stdout",
     "output_type": "stream",
     "text": [
      "\u001b[32mSaved PCoAResults % Properties('biplot') to: ../data/Microbiome/longitudinal/ctf-results/ctf_redo_no147-150-173/subject_biplot.qza\u001b[0m\n",
      "\u001b[32mSaved PCoAResults % Properties('biplot') to: ../data/Microbiome/longitudinal/ctf-results/ctf_redo_no147-150-173/state_biplot.qza\u001b[0m\n",
      "\u001b[32mSaved DistanceMatrix to: ../data/Microbiome/longitudinal/ctf-results/ctf_redo_no147-150-173/distance_matrix.qza\u001b[0m\n",
      "\u001b[32mSaved SampleData[SampleTrajectory] to: ../data/Microbiome/longitudinal/ctf-results/ctf_redo_no147-150-173/state_subject_ordination.qza\u001b[0m\n",
      "\u001b[32mSaved FeatureData[FeatureTrajectory] to: ../data/Microbiome/longitudinal/ctf-results/ctf_redo_no147-150-173/state_feature_ordination.qza\u001b[0m\n",
      "\u001b[0m"
     ]
    }
   ],
   "source": [
    "!qiime gemelli ctf \\\n",
    "    --i-table  ../data/Microbiome/longitudinal/ctf-results/filt_long_feature_table_x3.qza \\\n",
    "    --m-sample-metadata-file ../data/Microbiome/14957_metadata.txt \\\n",
    "    --m-feature-metadata-file ../data/Microbiome/5XFAD_gg2_taxonomy.qza \\\n",
    "    --p-state-column host_age \\\n",
    "    --p-individual-id-column host_subject_id \\\n",
    "    --output-dir ../data/Microbiome/longitudinal/ctf-results/ctf_redo_no147-150-173"
   ]
  },
  {
   "cell_type": "code",
   "execution_count": 80,
   "id": "618227ea",
   "metadata": {},
   "outputs": [
    {
     "name": "stdout",
     "output_type": "stream",
     "text": [
      "\u001b[32mSaved Visualization to: ../data/Microbiome/longitudinal/ctf-results/ctf_redo_no147-150-173/subject_biplot_nox3.qzv\u001b[0m\r\n",
      "\u001b[0m"
     ]
    }
   ],
   "source": [
    "!qiime emperor biplot\\\n",
    "    --i-biplot ../data/Microbiome/longitudinal/ctf-results/ctf_redo_no147-150-173/subject_biplot.qza \\\n",
    "    --m-sample-metadata-file ../data/Microbiome/longitudinal/ctf-results/ctf_mod_metadata.tsv \\\n",
    "    --m-feature-metadata-file ../data/Microbiome/5XFAD_gg2_taxonomy.qza \\\n",
    "    --p-number-of-features 10 \\\n",
    "    --o-visualization ../data/Microbiome/longitudinal/ctf-results/ctf_redo_no147-150-173/subject_biplot_nox3.qzv"
   ]
  },
  {
   "cell_type": "code",
   "execution_count": 81,
   "id": "a7d1fbaa",
   "metadata": {},
   "outputs": [
    {
     "name": "stdout",
     "output_type": "stream",
     "text": [
      "\u001b[32mSaved Visualization to: ../data/Microbiome/longitudinal/ctf-results/ctf_redo_no147-150-173/ctf-long-nox3-qurro.qzv\u001b[0m\n",
      "\u001b[0m"
     ]
    }
   ],
   "source": [
    "!qiime qurro loading-plot\\\n",
    "    --i-table ../data/Microbiome/longitudinal/ctf-results/filt_long_feature_table_x3.qza \\\n",
    "    --i-ranks ../data/Microbiome/longitudinal/ctf-results/ctf_redo_no147-150-173/subject_biplot.qza \\\n",
    "    --m-sample-metadata-file ../data/Microbiome/14957_metadata.txt \\\n",
    "    --m-feature-metadata-file ../data/Microbiome/5XFAD_gg2_taxonomy.qza \\\n",
    "    --o-visualization ../data/Microbiome/longitudinal/ctf-results/ctf_redo_no147-150-173/ctf-long-nox3-qurro.qzv"
   ]
  },
  {
   "cell_type": "markdown",
   "id": "1c884601",
   "metadata": {},
   "source": [
    "### Sacrifice"
   ]
  },
  {
   "cell_type": "code",
   "execution_count": 92,
   "id": "a764c208",
   "metadata": {},
   "outputs": [
    {
     "name": "stdout",
     "output_type": "stream",
     "text": [
      "\u001b[32mSaved PCoAResults % Properties('biplot') to: ../data/Microbiome/sacrifice/ctf-results/subject_biplot.qza\u001b[0m\n",
      "\u001b[32mSaved PCoAResults % Properties('biplot') to: ../data/Microbiome/sacrifice/ctf-results/state_biplot.qza\u001b[0m\n",
      "\u001b[32mSaved DistanceMatrix to: ../data/Microbiome/sacrifice/ctf-results/distance_matrix.qza\u001b[0m\n",
      "\u001b[32mSaved SampleData[SampleTrajectory] to: ../data/Microbiome/sacrifice/ctf-results/state_subject_ordination.qza\u001b[0m\n",
      "\u001b[32mSaved FeatureData[FeatureTrajectory] to: ../data/Microbiome/sacrifice/ctf-results/state_feature_ordination.qza\u001b[0m\n",
      "\u001b[0m"
     ]
    }
   ],
   "source": [
    "!qiime gemelli ctf \\\n",
    "    --i-table  ../data/Microbiome/sacrifice/RPCA/sac_1000000r_table.qza \\\n",
    "    --m-sample-metadata-file ../data/Microbiome/14957_metadata.txt \\\n",
    "    --m-feature-metadata-file ../data/Microbiome/5XFAD_gg2_taxonomy.qza \\\n",
    "    --p-state-column host_age \\\n",
    "    --p-individual-id-column host_subject_id \\\n",
    "    --output-dir ../data/Microbiome/sacrifice/ctf-results"
   ]
  },
  {
   "cell_type": "code",
   "execution_count": 93,
   "id": "b2e58a5a",
   "metadata": {},
   "outputs": [
    {
     "name": "stdout",
     "output_type": "stream",
     "text": [
      "\u001b[32mExported ../data/Microbiome/sacrifice/ctf-results/subject_biplot.qza as OrdinationDirectoryFormat to directory ../data/Microbiome/sacrifice/ctf-results/subject_biplot\u001b[0m\r\n",
      "\u001b[0m"
     ]
    }
   ],
   "source": [
    "!qiime tools export \\\n",
    "    --input-path ../data/Microbiome/sacrifice/ctf-results/subject_biplot.qza \\\n",
    "    --output-path ../data/Microbiome/sacrifice/ctf-results/subject_biplot"
   ]
  },
  {
   "cell_type": "code",
   "execution_count": 94,
   "id": "447666c8",
   "metadata": {},
   "outputs": [],
   "source": [
    "md = pd.read_csv('../data/Microbiome/14957_metadata.txt', sep='\\t',index_col=0)"
   ]
  },
  {
   "cell_type": "code",
   "execution_count": 95,
   "id": "695707e7",
   "metadata": {},
   "outputs": [
    {
     "data": {
      "text/html": [
       "<div>\n",
       "<style scoped>\n",
       "    .dataframe tbody tr th:only-of-type {\n",
       "        vertical-align: middle;\n",
       "    }\n",
       "\n",
       "    .dataframe tbody tr th {\n",
       "        vertical-align: top;\n",
       "    }\n",
       "\n",
       "    .dataframe thead th {\n",
       "        text-align: right;\n",
       "    }\n",
       "</style>\n",
       "<table border=\"1\" class=\"dataframe\">\n",
       "  <thead>\n",
       "    <tr style=\"text-align: right;\">\n",
       "      <th></th>\n",
       "      <th>mouse_strain</th>\n",
       "      <th>sex</th>\n",
       "      <th>cohort</th>\n",
       "    </tr>\n",
       "    <tr>\n",
       "      <th>host_subject_id</th>\n",
       "      <th></th>\n",
       "      <th></th>\n",
       "      <th></th>\n",
       "    </tr>\n",
       "  </thead>\n",
       "  <tbody>\n",
       "    <tr>\n",
       "      <th>CAGE 79</th>\n",
       "      <td>WT 5XFAD</td>\n",
       "      <td>male</td>\n",
       "      <td>COHORT 8</td>\n",
       "    </tr>\n",
       "    <tr>\n",
       "      <th>CAGE 80</th>\n",
       "      <td>WT 5XFAD</td>\n",
       "      <td>male</td>\n",
       "      <td>COHORT 8</td>\n",
       "    </tr>\n",
       "    <tr>\n",
       "      <th>CAGE 96</th>\n",
       "      <td>Het 5XFAD</td>\n",
       "      <td>female</td>\n",
       "      <td>COHORT 10</td>\n",
       "    </tr>\n",
       "    <tr>\n",
       "      <th>CAGE 97</th>\n",
       "      <td>Het 5XFAD</td>\n",
       "      <td>female</td>\n",
       "      <td>COHORT 10</td>\n",
       "    </tr>\n",
       "    <tr>\n",
       "      <th>CAGE 98</th>\n",
       "      <td>WT 5XFAD</td>\n",
       "      <td>female</td>\n",
       "      <td>COHORT 10</td>\n",
       "    </tr>\n",
       "  </tbody>\n",
       "</table>\n",
       "</div>"
      ],
      "text/plain": [
       "                mouse_strain     sex     cohort\n",
       "host_subject_id                                \n",
       "CAGE 79             WT 5XFAD    male   COHORT 8\n",
       "CAGE 80             WT 5XFAD    male   COHORT 8\n",
       "CAGE 96            Het 5XFAD  female  COHORT 10\n",
       "CAGE 97            Het 5XFAD  female  COHORT 10\n",
       "CAGE 98             WT 5XFAD  female  COHORT 10"
      ]
     },
     "execution_count": 95,
     "metadata": {},
     "output_type": "execute_result"
    }
   ],
   "source": [
    "md2 = md.groupby(['host_subject_id']).agg({'mouse_strain':'first', 'sex':'first', \n",
    "                                           'cohort':'first'})\n",
    "md2.tail()"
   ]
  },
  {
   "cell_type": "code",
   "execution_count": 96,
   "id": "ed585616",
   "metadata": {},
   "outputs": [
    {
     "data": {
      "text/html": [
       "<div>\n",
       "<style scoped>\n",
       "    .dataframe tbody tr th:only-of-type {\n",
       "        vertical-align: middle;\n",
       "    }\n",
       "\n",
       "    .dataframe tbody tr th {\n",
       "        vertical-align: top;\n",
       "    }\n",
       "\n",
       "    .dataframe thead th {\n",
       "        text-align: right;\n",
       "    }\n",
       "</style>\n",
       "<table border=\"1\" class=\"dataframe\">\n",
       "  <thead>\n",
       "    <tr style=\"text-align: right;\">\n",
       "      <th></th>\n",
       "      <th>mouse_strain</th>\n",
       "      <th>sex</th>\n",
       "      <th>cohort</th>\n",
       "    </tr>\n",
       "    <tr>\n",
       "      <th>#SampleID</th>\n",
       "      <th></th>\n",
       "      <th></th>\n",
       "      <th></th>\n",
       "    </tr>\n",
       "  </thead>\n",
       "  <tbody>\n",
       "    <tr>\n",
       "      <th>BLANK.FAD.1.1A</th>\n",
       "      <td>1</td>\n",
       "      <td>1</td>\n",
       "      <td>not applicable</td>\n",
       "    </tr>\n",
       "    <tr>\n",
       "      <th>BLANK.FAD.1.1B</th>\n",
       "      <td>1</td>\n",
       "      <td>1</td>\n",
       "      <td>not applicable</td>\n",
       "    </tr>\n",
       "    <tr>\n",
       "      <th>BLANK.FAD.1.1C</th>\n",
       "      <td>1</td>\n",
       "      <td>1</td>\n",
       "      <td>not applicable</td>\n",
       "    </tr>\n",
       "    <tr>\n",
       "      <th>BLANK.FAD.1.1D</th>\n",
       "      <td>1</td>\n",
       "      <td>1</td>\n",
       "      <td>not applicable</td>\n",
       "    </tr>\n",
       "    <tr>\n",
       "      <th>BLANK.FAD.1.1E</th>\n",
       "      <td>1</td>\n",
       "      <td>1</td>\n",
       "      <td>not applicable</td>\n",
       "    </tr>\n",
       "    <tr>\n",
       "      <th>...</th>\n",
       "      <td>...</td>\n",
       "      <td>...</td>\n",
       "      <td>...</td>\n",
       "    </tr>\n",
       "    <tr>\n",
       "      <th>CAGE 79</th>\n",
       "      <td>WT 5XFAD</td>\n",
       "      <td>male</td>\n",
       "      <td>COHORT 8</td>\n",
       "    </tr>\n",
       "    <tr>\n",
       "      <th>CAGE 80</th>\n",
       "      <td>WT 5XFAD</td>\n",
       "      <td>male</td>\n",
       "      <td>COHORT 8</td>\n",
       "    </tr>\n",
       "    <tr>\n",
       "      <th>CAGE 96</th>\n",
       "      <td>Het 5XFAD</td>\n",
       "      <td>female</td>\n",
       "      <td>COHORT 10</td>\n",
       "    </tr>\n",
       "    <tr>\n",
       "      <th>CAGE 97</th>\n",
       "      <td>Het 5XFAD</td>\n",
       "      <td>female</td>\n",
       "      <td>COHORT 10</td>\n",
       "    </tr>\n",
       "    <tr>\n",
       "      <th>CAGE 98</th>\n",
       "      <td>WT 5XFAD</td>\n",
       "      <td>female</td>\n",
       "      <td>COHORT 10</td>\n",
       "    </tr>\n",
       "  </tbody>\n",
       "</table>\n",
       "<p>96 rows × 3 columns</p>\n",
       "</div>"
      ],
      "text/plain": [
       "               mouse_strain     sex          cohort\n",
       "#SampleID                                          \n",
       "BLANK.FAD.1.1A            1       1  not applicable\n",
       "BLANK.FAD.1.1B            1       1  not applicable\n",
       "BLANK.FAD.1.1C            1       1  not applicable\n",
       "BLANK.FAD.1.1D            1       1  not applicable\n",
       "BLANK.FAD.1.1E            1       1  not applicable\n",
       "...                     ...     ...             ...\n",
       "CAGE 79            WT 5XFAD    male        COHORT 8\n",
       "CAGE 80            WT 5XFAD    male        COHORT 8\n",
       "CAGE 96           Het 5XFAD  female       COHORT 10\n",
       "CAGE 97           Het 5XFAD  female       COHORT 10\n",
       "CAGE 98            WT 5XFAD  female       COHORT 10\n",
       "\n",
       "[96 rows x 3 columns]"
      ]
     },
     "execution_count": 96,
     "metadata": {},
     "output_type": "execute_result"
    }
   ],
   "source": [
    "md2.index.name = '#SampleID'\n",
    "md2"
   ]
  },
  {
   "cell_type": "code",
   "execution_count": 97,
   "id": "fc3dd497",
   "metadata": {},
   "outputs": [],
   "source": [
    "md2['strain_sex'] = md2['mouse_strain'].astype(str)+\"_\"+md2['sex'].astype(str)"
   ]
  },
  {
   "cell_type": "code",
   "execution_count": 98,
   "id": "1fd761db",
   "metadata": {},
   "outputs": [],
   "source": [
    "md2.to_csv('../data/Microbiome/sacrifice/ctf-results/ctf_mod_metadata.tsv', sep='\\t')"
   ]
  },
  {
   "cell_type": "code",
   "execution_count": 99,
   "id": "4c83b63b",
   "metadata": {},
   "outputs": [
    {
     "name": "stdout",
     "output_type": "stream",
     "text": [
      "\u001b[32mSaved Visualization to: ../data/Microbiome/sacrifice/ctf-results/subject_biplot.qzv\u001b[0m\r\n",
      "\u001b[0m"
     ]
    }
   ],
   "source": [
    "!qiime emperor biplot\\\n",
    "    --i-biplot ../data/Microbiome/sacrifice/ctf-results/subject_biplot.qza \\\n",
    "    --m-sample-metadata-file ../data/Microbiome/sacrifice/ctf-results/ctf_mod_metadata.tsv \\\n",
    "    --m-feature-metadata-file ../data/Microbiome/5XFAD_gg2_taxonomy.qza \\\n",
    "    --p-number-of-features 10 \\\n",
    "    --o-visualization ../data/Microbiome/sacrifice/ctf-results/subject_biplot.qzv"
   ]
  },
  {
   "cell_type": "code",
   "execution_count": 100,
   "id": "22b93f05",
   "metadata": {},
   "outputs": [
    {
     "name": "stdout",
     "output_type": "stream",
     "text": [
      "\u001b[32mSaved Visualization to: ../data/Microbiome/sacrifice/ctf-results/state_subject_ordination.qzv\u001b[0m\r\n",
      "\u001b[0m"
     ]
    }
   ],
   "source": [
    "!qiime longitudinal volatility \\\n",
    "    --m-metadata-file ../data/Microbiome/sacrifice/ctf-results/state_subject_ordination.qza \\\n",
    "    --p-state-column host_age \\\n",
    "    --p-individual-id-column subject_id \\\n",
    "    --p-default-group-column strain_sex \\\n",
    "    --p-default-metric PC1 \\\n",
    "    --o-visualization ../data/Microbiome/sacrifice/ctf-results/state_subject_ordination.qzv"
   ]
  },
  {
   "cell_type": "code",
   "execution_count": 102,
   "id": "aa34379e",
   "metadata": {},
   "outputs": [
    {
     "name": "stdout",
     "output_type": "stream",
     "text": [
      "\u001b[32mSaved Visualization to: ../data/Microbiome/sacrifice/ctf-results/ctf-sac-qurro.qzv\u001b[0m\n",
      "\u001b[0m"
     ]
    }
   ],
   "source": [
    "!qiime qurro loading-plot\\\n",
    "    --i-table ../data/Microbiome/sacrifice/RPCA/sac_1000000r_table.qza \\\n",
    "    --i-ranks ../data/Microbiome/sacrifice/ctf-results/subject_biplot.qza \\\n",
    "    --m-sample-metadata-file ../data/Microbiome/14957_metadata.txt \\\n",
    "    --m-feature-metadata-file ../data/Microbiome/5XFAD_gg2_taxonomy.qza \\\n",
    "    --o-visualization ../data/Microbiome/sacrifice/ctf-results/ctf-sac-qurro.qzv"
   ]
  },
  {
   "cell_type": "markdown",
   "id": "b6a48ccd",
   "metadata": {},
   "source": [
    "# Phylo-CTF"
   ]
  },
  {
   "cell_type": "markdown",
   "id": "a09e5851",
   "metadata": {},
   "source": [
    "### Longitudinal"
   ]
  },
  {
   "cell_type": "code",
   "execution_count": 103,
   "id": "9964600c",
   "metadata": {},
   "outputs": [
    {
     "name": "stdout",
     "output_type": "stream",
     "text": [
      "\u001b[32mSaved PCoAResults % Properties('biplot') to: ../data/Microbiome/longitudinal/ctf-results/phyloCTF/subject_biplot.qza\u001b[0m\n",
      "\u001b[32mSaved PCoAResults % Properties('biplot') to: ../data/Microbiome/longitudinal/ctf-results/phyloCTF/state_biplot.qza\u001b[0m\n",
      "\u001b[32mSaved DistanceMatrix to: ../data/Microbiome/longitudinal/ctf-results/phyloCTF/distance_matrix.qza\u001b[0m\n",
      "\u001b[32mSaved SampleData[SampleTrajectory] to: ../data/Microbiome/longitudinal/ctf-results/phyloCTF/state_subject_ordination.qza\u001b[0m\n",
      "\u001b[32mSaved FeatureData[FeatureTrajectory] to: ../data/Microbiome/longitudinal/ctf-results/phyloCTF/state_feature_ordination.qza\u001b[0m\n",
      "\u001b[32mSaved Phylogeny[Rooted] to: ../data/Microbiome/longitudinal/ctf-results/phyloCTF/counts_by_node_tree.qza\u001b[0m\n",
      "\u001b[32mSaved FeatureTable[Frequency] to: ../data/Microbiome/longitudinal/ctf-results/phyloCTF/counts_by_node.qza\u001b[0m\n",
      "\u001b[32mSaved FeatureData[Taxonomy] to: ../data/Microbiome/longitudinal/ctf-results/phyloCTF/t2t_taxonomy.qza\u001b[0m\n",
      "\u001b[32mSaved FeatureTable[Frequency] to: ../data/Microbiome/longitudinal/ctf-results/phyloCTF/subject_table.qza\u001b[0m\n",
      "\u001b[0m"
     ]
    }
   ],
   "source": [
    "!qiime gemelli phylogenetic-ctf-with-taxonomy \\\n",
    "    --i-table  ../data/Microbiome/longitudinal/RPCA/long_1000000r_table.qza \\\n",
    "    --i-phylogeny  ../../../greengenes2/2022.10.phylogeny.id.nwk.qza \\\n",
    "    --m-sample-metadata-file ../data/Microbiome/14957_metadata.txt \\\n",
    "    --m-taxonomy-file ../data/Microbiome/5XFAD_gg2_taxonomy.qza \\\n",
    "    --p-state-column host_age \\\n",
    "    --p-individual-id-column host_subject_id \\\n",
    "    --p-min-feature-frequency 10 \\\n",
    "    --output-dir ../data/Microbiome/longitudinal/ctf-results/phyloCTF"
   ]
  },
  {
   "cell_type": "code",
   "execution_count": null,
   "id": "6e0551d5",
   "metadata": {},
   "outputs": [],
   "source": [
    "import pandas as pd"
   ]
  },
  {
   "cell_type": "code",
   "execution_count": 104,
   "id": "43dedc8f",
   "metadata": {},
   "outputs": [
    {
     "data": {
      "text/html": [
       "<div>\n",
       "<style scoped>\n",
       "    .dataframe tbody tr th:only-of-type {\n",
       "        vertical-align: middle;\n",
       "    }\n",
       "\n",
       "    .dataframe tbody tr th {\n",
       "        vertical-align: top;\n",
       "    }\n",
       "\n",
       "    .dataframe thead th {\n",
       "        text-align: right;\n",
       "    }\n",
       "</style>\n",
       "<table border=\"1\" class=\"dataframe\">\n",
       "  <thead>\n",
       "    <tr style=\"text-align: right;\">\n",
       "      <th></th>\n",
       "      <th>mouse_strain</th>\n",
       "      <th>sex</th>\n",
       "      <th>strain_sex</th>\n",
       "    </tr>\n",
       "    <tr>\n",
       "      <th>#SampleID</th>\n",
       "      <th></th>\n",
       "      <th></th>\n",
       "      <th></th>\n",
       "    </tr>\n",
       "  </thead>\n",
       "  <tbody>\n",
       "    <tr>\n",
       "      <th>CAGE 79</th>\n",
       "      <td>WT 5XFAD</td>\n",
       "      <td>male</td>\n",
       "      <td>WT 5XFAD_male</td>\n",
       "    </tr>\n",
       "    <tr>\n",
       "      <th>CAGE 80</th>\n",
       "      <td>WT 5XFAD</td>\n",
       "      <td>male</td>\n",
       "      <td>WT 5XFAD_male</td>\n",
       "    </tr>\n",
       "    <tr>\n",
       "      <th>CAGE 96</th>\n",
       "      <td>Het 5XFAD</td>\n",
       "      <td>female</td>\n",
       "      <td>Het 5XFAD_female</td>\n",
       "    </tr>\n",
       "    <tr>\n",
       "      <th>CAGE 97</th>\n",
       "      <td>Het 5XFAD</td>\n",
       "      <td>female</td>\n",
       "      <td>Het 5XFAD_female</td>\n",
       "    </tr>\n",
       "    <tr>\n",
       "      <th>CAGE 98</th>\n",
       "      <td>WT 5XFAD</td>\n",
       "      <td>female</td>\n",
       "      <td>WT 5XFAD_female</td>\n",
       "    </tr>\n",
       "  </tbody>\n",
       "</table>\n",
       "</div>"
      ],
      "text/plain": [
       "          mouse_strain     sex        strain_sex\n",
       "#SampleID                                       \n",
       "CAGE 79       WT 5XFAD    male     WT 5XFAD_male\n",
       "CAGE 80       WT 5XFAD    male     WT 5XFAD_male\n",
       "CAGE 96      Het 5XFAD  female  Het 5XFAD_female\n",
       "CAGE 97      Het 5XFAD  female  Het 5XFAD_female\n",
       "CAGE 98       WT 5XFAD  female   WT 5XFAD_female"
      ]
     },
     "execution_count": 104,
     "metadata": {},
     "output_type": "execute_result"
    }
   ],
   "source": [
    "# first we import the metdata into pandas\n",
    "mf = pd.read_csv('../data/Microbiome/14957_metadata.txt', sep='\\t',index_col=0)\n",
    "# next we aggregate by subjects  and time and diet\n",
    "mf = mf.groupby('host_subject_id').agg({'mouse_strain':'first', 'sex':'first', 'strain_sex':'first'})\n",
    "# now we save the metadata in QIIME2 format.\n",
    "mf.index.name = '#SampleID'\n",
    "mf.to_csv('../data/Microbiome/longitudinal/ctf-results/phyloCTF/phyloCTF-metadata.tsv', sep='\\t')\n",
    "mf.tail(5)"
   ]
  },
  {
   "cell_type": "code",
   "execution_count": 105,
   "id": "62811679",
   "metadata": {},
   "outputs": [
    {
     "name": "stdout",
     "output_type": "stream",
     "text": [
      "\u001b[32mSaved Visualization to: ../data/Microbiome/longitudinal/ctf-results/phyloCTF/empress.qzv\u001b[0m\n",
      "\u001b[0m"
     ]
    }
   ],
   "source": [
    "!qiime empress community-plot\\\n",
    "    --i-tree ../data/Microbiome/longitudinal/ctf-results/phyloCTF/counts_by_node_tree.qza\\\n",
    "    --i-feature-table ../data/Microbiome/longitudinal/ctf-results/phyloCTF/subject_table.qza\\\n",
    "    --i-pcoa ../data/Microbiome/longitudinal/ctf-results/phyloCTF/subject_biplot.qza\\\n",
    "    --m-sample-metadata-file ../data/Microbiome/longitudinal/ctf-results/phyloCTF/phyloCTF-metadata.tsv\\\n",
    "    --m-feature-metadata-file ../data/Microbiome/longitudinal/ctf-results/phyloCTF/t2t_taxonomy.qza\\\n",
    "    --p-filter-missing-features\\\n",
    "    --p-number-of-features 10\\\n",
    "    --o-visualization ../data/Microbiome/longitudinal/ctf-results/phyloCTF/empress.qzv"
   ]
  },
  {
   "cell_type": "code",
   "execution_count": 106,
   "id": "604f44ad",
   "metadata": {},
   "outputs": [
    {
     "name": "stdout",
     "output_type": "stream",
     "text": [
      "\u001b[32mSaved Visualization to: ../data/Microbiome/longitudinal/ctf-results/phyloCTF/phyloCTF_qurro.qzv\u001b[0m\r\n",
      "\u001b[0m"
     ]
    }
   ],
   "source": [
    "!qiime qurro loading-plot\\\n",
    "    --i-ranks ../data/Microbiome/longitudinal/ctf-results/phyloCTF/subject_biplot.qza\\\n",
    "    --i-table ../data/Microbiome/longitudinal/ctf-results/phyloCTF/counts_by_node.qza\\\n",
    "    --m-sample-metadata-file ../data/Microbiome/14957_metadata.txt \\\n",
    "    --m-feature-metadata-file  ../data/Microbiome/longitudinal/ctf-results/phyloCTF/t2t_taxonomy.qza\\\n",
    "    --o-visualization ../data/Microbiome/longitudinal/ctf-results/phyloCTF/phyloCTF_qurro.qzv"
   ]
  },
  {
   "cell_type": "markdown",
   "id": "ebc8c430",
   "metadata": {},
   "source": [
    "### Sacrifice"
   ]
  },
  {
   "cell_type": "code",
   "execution_count": 107,
   "id": "ef64e54e",
   "metadata": {},
   "outputs": [
    {
     "name": "stdout",
     "output_type": "stream",
     "text": [
      "\u001b[32mSaved PCoAResults % Properties('biplot') to: ../data/Microbiome/sacrifice/ctf-results/phyloCTF/subject_biplot.qza\u001b[0m\n",
      "\u001b[32mSaved PCoAResults % Properties('biplot') to: ../data/Microbiome/sacrifice/ctf-results/phyloCTF/state_biplot.qza\u001b[0m\n",
      "\u001b[32mSaved DistanceMatrix to: ../data/Microbiome/sacrifice/ctf-results/phyloCTF/distance_matrix.qza\u001b[0m\n",
      "\u001b[32mSaved SampleData[SampleTrajectory] to: ../data/Microbiome/sacrifice/ctf-results/phyloCTF/state_subject_ordination.qza\u001b[0m\n",
      "\u001b[32mSaved FeatureData[FeatureTrajectory] to: ../data/Microbiome/sacrifice/ctf-results/phyloCTF/state_feature_ordination.qza\u001b[0m\n",
      "\u001b[32mSaved Phylogeny[Rooted] to: ../data/Microbiome/sacrifice/ctf-results/phyloCTF/counts_by_node_tree.qza\u001b[0m\n",
      "\u001b[32mSaved FeatureTable[Frequency] to: ../data/Microbiome/sacrifice/ctf-results/phyloCTF/counts_by_node.qza\u001b[0m\n",
      "\u001b[32mSaved FeatureData[Taxonomy] to: ../data/Microbiome/sacrifice/ctf-results/phyloCTF/t2t_taxonomy.qza\u001b[0m\n",
      "\u001b[32mSaved FeatureTable[Frequency] to: ../data/Microbiome/sacrifice/ctf-results/phyloCTF/subject_table.qza\u001b[0m\n",
      "\u001b[0m"
     ]
    }
   ],
   "source": [
    "!qiime gemelli phylogenetic-ctf-with-taxonomy \\\n",
    "    --i-table  ../data/Microbiome/sacrifice/RPCA/sac_1000000r_table.qza \\\n",
    "    --i-phylogeny  ../../../greengenes2/2022.10.phylogeny.id.nwk.qza \\\n",
    "    --m-sample-metadata-file ../data/Microbiome/14957_metadata.txt \\\n",
    "    --m-taxonomy-file ../data/Microbiome/5XFAD_gg2_taxonomy.qza \\\n",
    "    --p-state-column host_age \\\n",
    "    --p-individual-id-column host_subject_id \\\n",
    "    --p-min-feature-frequency 10 \\\n",
    "    --output-dir ../data/Microbiome/sacrifice/ctf-results/phyloCTF"
   ]
  },
  {
   "cell_type": "code",
   "execution_count": 108,
   "id": "550ee9dd",
   "metadata": {},
   "outputs": [],
   "source": [
    "import pandas as pd"
   ]
  },
  {
   "cell_type": "code",
   "execution_count": 109,
   "id": "918edea5",
   "metadata": {},
   "outputs": [
    {
     "data": {
      "text/html": [
       "<div>\n",
       "<style scoped>\n",
       "    .dataframe tbody tr th:only-of-type {\n",
       "        vertical-align: middle;\n",
       "    }\n",
       "\n",
       "    .dataframe tbody tr th {\n",
       "        vertical-align: top;\n",
       "    }\n",
       "\n",
       "    .dataframe thead th {\n",
       "        text-align: right;\n",
       "    }\n",
       "</style>\n",
       "<table border=\"1\" class=\"dataframe\">\n",
       "  <thead>\n",
       "    <tr style=\"text-align: right;\">\n",
       "      <th></th>\n",
       "      <th>mouse_strain</th>\n",
       "      <th>sex</th>\n",
       "      <th>strain_sex</th>\n",
       "    </tr>\n",
       "    <tr>\n",
       "      <th>#SampleID</th>\n",
       "      <th></th>\n",
       "      <th></th>\n",
       "      <th></th>\n",
       "    </tr>\n",
       "  </thead>\n",
       "  <tbody>\n",
       "    <tr>\n",
       "      <th>CAGE 79</th>\n",
       "      <td>WT 5XFAD</td>\n",
       "      <td>male</td>\n",
       "      <td>WT 5XFAD_male</td>\n",
       "    </tr>\n",
       "    <tr>\n",
       "      <th>CAGE 80</th>\n",
       "      <td>WT 5XFAD</td>\n",
       "      <td>male</td>\n",
       "      <td>WT 5XFAD_male</td>\n",
       "    </tr>\n",
       "    <tr>\n",
       "      <th>CAGE 96</th>\n",
       "      <td>Het 5XFAD</td>\n",
       "      <td>female</td>\n",
       "      <td>Het 5XFAD_female</td>\n",
       "    </tr>\n",
       "    <tr>\n",
       "      <th>CAGE 97</th>\n",
       "      <td>Het 5XFAD</td>\n",
       "      <td>female</td>\n",
       "      <td>Het 5XFAD_female</td>\n",
       "    </tr>\n",
       "    <tr>\n",
       "      <th>CAGE 98</th>\n",
       "      <td>WT 5XFAD</td>\n",
       "      <td>female</td>\n",
       "      <td>WT 5XFAD_female</td>\n",
       "    </tr>\n",
       "  </tbody>\n",
       "</table>\n",
       "</div>"
      ],
      "text/plain": [
       "          mouse_strain     sex        strain_sex\n",
       "#SampleID                                       \n",
       "CAGE 79       WT 5XFAD    male     WT 5XFAD_male\n",
       "CAGE 80       WT 5XFAD    male     WT 5XFAD_male\n",
       "CAGE 96      Het 5XFAD  female  Het 5XFAD_female\n",
       "CAGE 97      Het 5XFAD  female  Het 5XFAD_female\n",
       "CAGE 98       WT 5XFAD  female   WT 5XFAD_female"
      ]
     },
     "execution_count": 109,
     "metadata": {},
     "output_type": "execute_result"
    }
   ],
   "source": [
    "# first we import the metdata into pandas\n",
    "mf = pd.read_csv('../data/Microbiome/14957_metadata.txt', sep='\\t',index_col=0)\n",
    "# next we aggregate by subjects  and time and diet\n",
    "mf = mf.groupby('host_subject_id').agg({'mouse_strain':'first', 'sex':'first', 'strain_sex':'first'})\n",
    "# now we save the metadata in QIIME2 format.\n",
    "mf.index.name = '#SampleID'\n",
    "mf.to_csv('../data/Microbiome/sacrifice/ctf-results/phyloCTF/phyloCTF-metadata.tsv', sep='\\t')\n",
    "mf.tail(5)"
   ]
  },
  {
   "cell_type": "code",
   "execution_count": 110,
   "id": "a2ee9840",
   "metadata": {},
   "outputs": [
    {
     "name": "stdout",
     "output_type": "stream",
     "text": [
      "\u001b[32mSaved Visualization to: ../data/Microbiome/sacrifice/ctf-results/phyloCTF/empress.qzv\u001b[0m\n",
      "\u001b[0m"
     ]
    }
   ],
   "source": [
    "!qiime empress community-plot\\\n",
    "    --i-tree ../data/Microbiome/sacrifice/ctf-results/phyloCTF/counts_by_node_tree.qza\\\n",
    "    --i-feature-table ../data/Microbiome/sacrifice/ctf-results/phyloCTF/subject_table.qza\\\n",
    "    --i-pcoa ../data/Microbiome/sacrifice/ctf-results/phyloCTF/subject_biplot.qza\\\n",
    "    --m-sample-metadata-file ../data/Microbiome/sacrifice/ctf-results/phyloCTF/phyloCTF-metadata.tsv\\\n",
    "    --m-feature-metadata-file ../data/Microbiome/sacrifice/ctf-results/phyloCTF/t2t_taxonomy.qza\\\n",
    "    --p-filter-missing-features\\\n",
    "    --p-number-of-features 10\\\n",
    "    --o-visualization ../data/Microbiome/sacrifice/ctf-results/phyloCTF/empress.qzv"
   ]
  },
  {
   "cell_type": "code",
   "execution_count": 111,
   "id": "5a010eba",
   "metadata": {},
   "outputs": [
    {
     "name": "stdout",
     "output_type": "stream",
     "text": [
      "\u001b[32mSaved Visualization to: ../data/Microbiome/sacrifice/ctf-results/phyloCTF/phyloCTF_qurro.qzv\u001b[0m\r\n",
      "\u001b[0m"
     ]
    }
   ],
   "source": [
    "!qiime qurro loading-plot\\\n",
    "    --i-ranks ../data/Microbiome/sacrifice/ctf-results/phyloCTF/subject_biplot.qza\\\n",
    "    --i-table ../data/Microbiome/sacrifice/ctf-results/phyloCTF/counts_by_node.qza\\\n",
    "    --m-sample-metadata-file ../data/Microbiome/14957_metadata.txt \\\n",
    "    --m-feature-metadata-file  ../data/Microbiome/sacrifice/ctf-results/phyloCTF/t2t_taxonomy.qza\\\n",
    "    --o-visualization ../data/Microbiome/sacrifice/ctf-results/phyloCTF/phyloCTF_qurro.qzv"
   ]
  },
  {
   "cell_type": "markdown",
   "id": "9a91b2f0",
   "metadata": {},
   "source": [
    "# ANCOM-BC"
   ]
  },
  {
   "cell_type": "code",
   "execution_count": 112,
   "id": "b6b1b988",
   "metadata": {},
   "outputs": [
    {
     "name": "stdout",
     "output_type": "stream",
     "text": [
      "\u001b[32mSaved FeatureTable[Frequency] to: ../data/Microbiome/5XFAD_gg2_species-lvl.qza\u001b[0m\r\n",
      "\u001b[0m"
     ]
    }
   ],
   "source": [
    "!qiime taxa collapse \\\n",
    "    --i-table ../data/Microbiome/gg2_min1000000reads-feature-table.qza \\\n",
    "    --i-taxonomy ../data/Microbiome/5XFAD_gg2_taxonomy.qza \\\n",
    "    --p-level 7 \\\n",
    "    --o-collapsed-table ../data/Microbiome/5XFAD_gg2_species-lvl.qza"
   ]
  },
  {
   "cell_type": "code",
   "execution_count": 113,
   "id": "7c36f413",
   "metadata": {},
   "outputs": [
    {
     "name": "stdout",
     "output_type": "stream",
     "text": [
      "\u001b[32mSaved FeatureTable[Frequency] to: ../data/Microbiome/p5XFAD_gg2_species_study-type.qza\u001b[0m\n",
      "\u001b[0m\u001b[32mSaved FeatureTable[Frequency] to: ../data/Microbiome/5XFAD_gg2_species_genotype.qza\u001b[0m\n",
      "\u001b[0m\u001b[32mSaved FeatureTable[Frequency] to: ../data/Microbiome/5XFAD_gg2_species_sex.qza\u001b[0m\n",
      "\u001b[0m"
     ]
    }
   ],
   "source": [
    "!qiime feature-table filter-samples \\\n",
    "    --i-table ../data/Microbiome/5XFAD_gg2_species-lvl.qza \\\n",
    "    --m-metadata-file ../data/Microbiome/14957_metadata.txt \\\n",
    "    --p-where '[intervention] IN (\"Longitudinal\", \"Sacrifice\")' \\\n",
    "    --o-filtered-table ../data/Microbiome/5XFAD_gg2_species_study-type.qza\n",
    "\n",
    "!qiime feature-table filter-samples \\\n",
    "    --i-table ../data/Microbiome/5XFAD_gg2_species-lvl.qza \\\n",
    "    --m-metadata-file ../data/Microbiome/14957_metadata.txt \\\n",
    "    --p-where '[mouse_strain] IN (\"Het 5XFAD\", \"WT 5XFAD\")' \\\n",
    "    --o-filtered-table ../data/Microbiome/5XFAD_gg2_species_genotype.qza\n",
    "\n",
    "!qiime feature-table filter-samples \\\n",
    "    --i-table ../data/Microbiome/5XFAD_gg2_species-lvl.qza \\\n",
    "    --m-metadata-file ../data/Microbiome/14957_metadata.txt \\\n",
    "    --p-where '[sex] IN (\"male\", \"female\")' \\\n",
    "    --o-filtered-table ../data/Microbiome/5XFAD_gg2_species_sex.qza"
   ]
  },
  {
   "cell_type": "code",
   "execution_count": 1,
   "id": "f218eb66",
   "metadata": {},
   "outputs": [
    {
     "name": "stdout",
     "output_type": "stream",
     "text": [
      "\u001b[32mSaved FeatureData[DifferentialAbundance] to: ../data/Microbiome/5XFAD_species-lvl_study-type_ancombc_differentials.qza\u001b[0m\n",
      "\u001b[0m\u001b[32mSaved FeatureData[DifferentialAbundance] to: ../data/Microbiome/5XFAD_species-lvl_genotype_ancombc_differentials.qza\u001b[0m\n",
      "\u001b[0m\u001b[32mSaved FeatureData[DifferentialAbundance] to: ../data/Microbiome/5XFAD_species-lvl_sex_ancombc_differentials.qza\u001b[0m\n",
      "\u001b[0m"
     ]
    }
   ],
   "source": [
    "!qiime composition ancombc \\\n",
    "    --i-table ../data/Microbiome/p5XFAD_gg2_species_study-type.qza \\\n",
    "    --m-metadata-file ../data/Microbiome/14957_metadata.txt \\\n",
    "    --p-formula \"intervention\" \\\n",
    "    --p-reference-levels intervention::Sacrifice \\\n",
    "    --p-p-adj-method 'holm' \\\n",
    "    --p-alpha 0.05 \\\n",
    "    --o-differentials ../data/Microbiome/5XFAD_species-lvl_study-type_ancombc_differentials.qza\n",
    "\n",
    "!qiime composition ancombc \\\n",
    "    --i-table ../data/Microbiome/5XFAD_gg2_species_genotype.qza \\\n",
    "    --m-metadata-file ../data/Microbiome/14957_metadata.txt \\\n",
    "    --p-formula \"mouse_strain\" \\\n",
    "    --p-reference-levels mouse_strain::\"WT 5XFAD\" \\\n",
    "    --p-p-adj-method 'holm' \\\n",
    "    --p-alpha 0.05 \\\n",
    "    --o-differentials ../data/Microbiome/5XFAD_species-lvl_genotype_ancombc_differentials.qza\n",
    "\n",
    "!qiime composition ancombc \\\n",
    "    --i-table ../data/Microbiome/5XFAD_gg2_species_sex.qza \\\n",
    "    --m-metadata-file ../data/Microbiome/14957_metadata.txt \\\n",
    "    --p-formula \"sex\" \\\n",
    "    --p-reference-levels sex::female \\\n",
    "    --p-p-adj-method 'holm' \\\n",
    "    --p-alpha 0.05 \\\n",
    "    --o-differentials ../data/Microbiome/5XFAD_species-lvl_sex_ancombc_differentials.qza"
   ]
  },
  {
   "cell_type": "code",
   "execution_count": 2,
   "id": "7d34f589",
   "metadata": {},
   "outputs": [
    {
     "name": "stdout",
     "output_type": "stream",
     "text": [
      "\u001b[32mSaved Visualization to: ../data/Microbiome/5XFAD_species-lvl_study-type_ancombc_barplot.qzv\u001b[0m\n",
      "\u001b[0m\u001b[32mSaved Visualization to: ../data/Microbiome/5XFAD_species-lvl_genotype_ancombc_barplot.qzv\u001b[0m\n",
      "\u001b[0m\u001b[32mSaved Visualization to: ../data/Microbiome/5XFAD_species-lvl_sex_ancombc_barplot.qzv\u001b[0m\n",
      "\u001b[0m"
     ]
    }
   ],
   "source": [
    "!qiime composition da-barplot \\\n",
    "    --i-data ../data/Microbiome/5XFAD_species-lvl_study-type_ancombc_differentials.qza \\\n",
    "    --p-significance-threshold 0.05 \\\n",
    "    --p-effect-size-threshold 1 \\\n",
    "    --p-level-delimiter ';' \\\n",
    "    --o-visualization ../data/Microbiome/5XFAD_species-lvl_study-type_ancombc_barplot.qzv\n",
    "\n",
    "!qiime composition da-barplot \\\n",
    "    --i-data ../data/Microbiome/5XFAD_species-lvl_genotype_ancombc_differentials.qza \\\n",
    "    --p-significance-threshold 0.05 \\\n",
    "    --p-effect-size-threshold 1 \\\n",
    "    --p-level-delimiter ';' \\\n",
    "    --o-visualization ../data/Microbiome/5XFAD_species-lvl_genotype_ancombc_barplot.qzv\n",
    "\n",
    "!qiime composition da-barplot \\\n",
    "    --i-data ../data/Microbiome/5XFAD_species-lvl_sex_ancombc_differentials.qza \\\n",
    "    --p-significance-threshold 0.05 \\\n",
    "    --p-effect-size-threshold 1 \\\n",
    "    --p-level-delimiter ';' \\\n",
    "    --o-visualization ../data/Microbiome/5XFAD_species-lvl_sex_ancombc_barplot.qzv\n",
    "#needs altair 4.2.2; run in qiime2-amplicon-2024.5"
   ]
  },
  {
   "cell_type": "markdown",
   "id": "d13fbd73",
   "metadata": {},
   "source": [
    "#### Sacrifice Timepoints Only"
   ]
  },
  {
   "cell_type": "code",
   "execution_count": 5,
   "id": "a5b33c21",
   "metadata": {},
   "outputs": [
    {
     "name": "stdout",
     "output_type": "stream",
     "text": [
      "\u001b[32mSaved FeatureTable[Frequency] to: ../data/Microbiome/5XFAD_gg2_species_sac-only.qza\u001b[0m\r\n",
      "\u001b[0m"
     ]
    }
   ],
   "source": [
    "!qiime feature-table filter-samples \\\n",
    "    --i-table ../data/Microbiome/5XFAD_gg2_species-lvl.qza \\\n",
    "    --m-metadata-file ../data/Microbiome/14957_metadata.txt \\\n",
    "    --p-where '[intervention]=\"Sacrifice\"' \\\n",
    "    --o-filtered-table ../data/Microbiome/5XFAD_gg2_species_sac-only.qza"
   ]
  },
  {
   "cell_type": "code",
   "execution_count": 6,
   "id": "bd4b5efc",
   "metadata": {},
   "outputs": [
    {
     "name": "stdout",
     "output_type": "stream",
     "text": [
      "\u001b[32mSaved FeatureTable[Frequency] to: ../data/Microbiome/5XFAD_gg2_species_sac-only_genotype.qza\u001b[0m\n",
      "\u001b[0m\u001b[32mSaved FeatureTable[Frequency] to: ../data/Microbiome/5XFAD_gg2_species_sac-only_sex.qza\u001b[0m\n",
      "\u001b[0m"
     ]
    }
   ],
   "source": [
    "!qiime feature-table filter-samples \\\n",
    "    --i-table ../data/Microbiome/5XFAD_gg2_species_sac-only.qza \\\n",
    "    --m-metadata-file ../data/Microbiome/14957_metadata.txt \\\n",
    "    --p-where '[mouse_strain] IN (\"Het 5XFAD\", \"WT 5XFAD\")' \\\n",
    "    --o-filtered-table ../data/Microbiome/5XFAD_gg2_species_sac-only_genotype.qza\n",
    "\n",
    "!qiime feature-table filter-samples \\\n",
    "    --i-table ../data/Microbiome/5XFAD_gg2_species_sac-only.qza \\\n",
    "    --m-metadata-file ../data/Microbiome/14957_metadata.txt \\\n",
    "    --p-where '[sex] IN (\"male\", \"female\")' \\\n",
    "    --o-filtered-table ../data/Microbiome/5XFAD_gg2_species_sac-only_sex.qza"
   ]
  },
  {
   "cell_type": "code",
   "execution_count": 1,
   "id": "1a6b0b94",
   "metadata": {},
   "outputs": [
    {
     "name": "stdout",
     "output_type": "stream",
     "text": [
      "\u001b[32mSaved FeatureData[DifferentialAbundance] to: ../data/Microbiome/5XFAD_gg2_species_sac-only_genotype_ancombc_differentials.qza\u001b[0m\n",
      "\u001b[0m\u001b[32mSaved FeatureData[DifferentialAbundance] to: ../data/Microbiome/5XFAD_gg2_species_sac-only_sex_ancombc_differentials.qza\u001b[0m\n",
      "\u001b[0m"
     ]
    }
   ],
   "source": [
    "!qiime composition ancombc \\\n",
    "    --i-table ../data/Microbiome/5XFAD_gg2_species_sac-only_genotype.qza \\\n",
    "    --m-metadata-file ../data/Microbiome/14957_metadata.txt \\\n",
    "    --p-formula \"mouse_strain\" \\\n",
    "    --p-reference-levels mouse_strain::\"WT 5XFAD\" \\\n",
    "    --p-p-adj-method 'holm' \\\n",
    "    --p-alpha 0.05 \\\n",
    "    --o-differentials ../data/Microbiome/5XFAD_gg2_species_sac-only_genotype_ancombc_differentials.qza\n",
    "\n",
    "!qiime composition ancombc \\\n",
    "    --i-table ../data/Microbiome/5XFAD_gg2_species_sac-only_sex.qza \\\n",
    "    --m-metadata-file ../data/Microbiome/14957_metadata.txt \\\n",
    "    --p-formula \"sex\" \\\n",
    "    --p-reference-levels sex::female \\\n",
    "    --p-p-adj-method 'holm' \\\n",
    "    --p-alpha 0.05 \\\n",
    "    --o-differentials ../data/Microbiome/5XFAD_gg2_species_sac-only_sex_ancombc_differentials.qza"
   ]
  },
  {
   "cell_type": "code",
   "execution_count": 2,
   "id": "46251874",
   "metadata": {},
   "outputs": [
    {
     "name": "stdout",
     "output_type": "stream",
     "text": [
      "\u001b[32mSaved Visualization to: ../data/Microbiome/5XFAD_gg2_species_sac-only_genotype_ancombc_barplot.qzv\u001b[0m\n",
      "\u001b[0m\u001b[32mSaved Visualization to: ../data/Microbiome/5XFAD_gg2_species_sac-only_sex_ancombc_barplot.qzv\u001b[0m\n",
      "\u001b[0m"
     ]
    }
   ],
   "source": [
    "!qiime composition da-barplot \\\n",
    "    --i-data ../data/Microbiome/5XFAD_gg2_species_sac-only_genotype_ancombc_differentials.qza \\\n",
    "    --p-significance-threshold 0.05 \\\n",
    "    --p-effect-size-threshold 1 \\\n",
    "    --p-level-delimiter ';' \\\n",
    "    --o-visualization ../data/Microbiome/5XFAD_gg2_species_sac-only_genotype_ancombc_barplot.qzv\n",
    "\n",
    "!qiime composition da-barplot \\\n",
    "    --i-data ../data/Microbiome/5XFAD_gg2_species_sac-only_sex_ancombc_differentials.qza \\\n",
    "    --p-significance-threshold 0.05 \\\n",
    "    --p-effect-size-threshold 1 \\\n",
    "    --p-level-delimiter ';' \\\n",
    "    --o-visualization ../data/Microbiome/5XFAD_gg2_species_sac-only_sex_ancombc_barplot.qzv\n",
    "#needs altair 4.2.2; run in qiime2-amplicon-2024.5"
   ]
  },
  {
   "cell_type": "code",
   "execution_count": null,
   "id": "2aa179a0",
   "metadata": {},
   "outputs": [],
   "source": []
  },
  {
   "cell_type": "code",
   "execution_count": null,
   "id": "31155e48",
   "metadata": {},
   "outputs": [],
   "source": []
  },
  {
   "cell_type": "code",
   "execution_count": null,
   "id": "7591ea55",
   "metadata": {},
   "outputs": [],
   "source": []
  },
  {
   "cell_type": "code",
   "execution_count": 3,
   "id": "938b726d",
   "metadata": {},
   "outputs": [
    {
     "name": "stdout",
     "output_type": "stream",
     "text": [
      "\u001b[32mExported ../data/Microbiome/sacrifice/sac_1000000rar_core_diversity/shannon_vector.qza as AlphaDiversityDirectoryFormat to directory ../data/Microbiome/sacrifice/sac_1000000rar_core_diversity/shannon_vector\u001b[0m\r\n",
      "\u001b[0m"
     ]
    }
   ],
   "source": [
    "!qiime tools export \\\n",
    "    --input-path ../data/Microbiome/sacrifice/sac_1000000rar_core_diversity/shannon_vector.qza \\\n",
    "    --output-path ../data/Microbiome/sacrifice/sac_1000000rar_core_diversity/shannon_vector"
   ]
  },
  {
   "cell_type": "code",
   "execution_count": null,
   "id": "a40a588c",
   "metadata": {},
   "outputs": [],
   "source": []
  }
 ],
 "metadata": {
  "kernelspec": {
   "display_name": "Python 3 (ipykernel)",
   "language": "python",
   "name": "python3"
  },
  "language_info": {
   "codemirror_mode": {
    "name": "ipython",
    "version": 3
   },
   "file_extension": ".py",
   "mimetype": "text/x-python",
   "name": "python",
   "nbconvert_exporter": "python",
   "pygments_lexer": "ipython3",
   "version": "3.8.16"
  }
 },
 "nbformat": 4,
 "nbformat_minor": 5
}
