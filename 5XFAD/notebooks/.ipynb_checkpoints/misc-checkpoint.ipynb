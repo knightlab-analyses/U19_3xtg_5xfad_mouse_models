{
 "cells": [
  {
   "cell_type": "code",
   "execution_count": 1,
   "id": "ea3f1822",
   "metadata": {},
   "outputs": [],
   "source": [
    "import pandas as pd"
   ]
  },
  {
   "cell_type": "code",
   "execution_count": 4,
   "id": "8bbdce71",
   "metadata": {},
   "outputs": [
    {
     "data": {
      "text/html": [
       "<div>\n",
       "<style scoped>\n",
       "    .dataframe tbody tr th:only-of-type {\n",
       "        vertical-align: middle;\n",
       "    }\n",
       "\n",
       "    .dataframe tbody tr th {\n",
       "        vertical-align: top;\n",
       "    }\n",
       "\n",
       "    .dataframe thead th {\n",
       "        text-align: right;\n",
       "    }\n",
       "</style>\n",
       "<table border=\"1\" class=\"dataframe\">\n",
       "  <thead>\n",
       "    <tr style=\"text-align: right;\">\n",
       "      <th></th>\n",
       "      <th>Taxon</th>\n",
       "    </tr>\n",
       "    <tr>\n",
       "      <th>Feature ID</th>\n",
       "      <th></th>\n",
       "    </tr>\n",
       "  </thead>\n",
       "  <tbody>\n",
       "    <tr>\n",
       "      <th>G000005825</th>\n",
       "      <td>d__Bacteria; p__Firmicutes; c__Bacilli; o__Bac...</td>\n",
       "    </tr>\n",
       "    <tr>\n",
       "      <th>G000006175</th>\n",
       "      <td>d__Archaea; p__Methanobacteriota_A; c__Methano...</td>\n",
       "    </tr>\n",
       "    <tr>\n",
       "      <th>G000006605</th>\n",
       "      <td>d__Bacteria; p__Actinobacteriota; c__Actinomyc...</td>\n",
       "    </tr>\n",
       "    <tr>\n",
       "      <th>G000006725</th>\n",
       "      <td>d__Bacteria; p__Proteobacteria; c__Gammaproteo...</td>\n",
       "    </tr>\n",
       "    <tr>\n",
       "      <th>G000006745</th>\n",
       "      <td>d__Bacteria; p__Proteobacteria; c__Gammaproteo...</td>\n",
       "    </tr>\n",
       "  </tbody>\n",
       "</table>\n",
       "</div>"
      ],
      "text/plain": [
       "                                                        Taxon\n",
       "Feature ID                                                   \n",
       "G000005825  d__Bacteria; p__Firmicutes; c__Bacilli; o__Bac...\n",
       "G000006175  d__Archaea; p__Methanobacteriota_A; c__Methano...\n",
       "G000006605  d__Bacteria; p__Actinobacteriota; c__Actinomyc...\n",
       "G000006725  d__Bacteria; p__Proteobacteria; c__Gammaproteo...\n",
       "G000006745  d__Bacteria; p__Proteobacteria; c__Gammaproteo..."
      ]
     },
     "execution_count": 4,
     "metadata": {},
     "output_type": "execute_result"
    }
   ],
   "source": [
    "taxonomy = pd.read_csv('../../shotgun_scripts/woltka_v2_taxonomy.txt', sep='\\t', index_col=0)\n",
    "taxonomy.head()"
   ]
  },
  {
   "cell_type": "code",
   "execution_count": 5,
   "id": "b014ded5",
   "metadata": {},
   "outputs": [
    {
     "data": {
      "text/html": [
       "<div>\n",
       "<style scoped>\n",
       "    .dataframe tbody tr th:only-of-type {\n",
       "        vertical-align: middle;\n",
       "    }\n",
       "\n",
       "    .dataframe tbody tr th {\n",
       "        vertical-align: top;\n",
       "    }\n",
       "\n",
       "    .dataframe thead th {\n",
       "        text-align: right;\n",
       "    }\n",
       "</style>\n",
       "<table border=\"1\" class=\"dataframe\">\n",
       "  <thead>\n",
       "    <tr style=\"text-align: right;\">\n",
       "      <th></th>\n",
       "      <th>Log_Ratio_Classification</th>\n",
       "    </tr>\n",
       "    <tr>\n",
       "      <th>Feature ID</th>\n",
       "      <th></th>\n",
       "    </tr>\n",
       "  </thead>\n",
       "  <tbody>\n",
       "    <tr>\n",
       "      <th>G011958345</th>\n",
       "      <td>Denominator</td>\n",
       "    </tr>\n",
       "    <tr>\n",
       "      <th>G000403435</th>\n",
       "      <td>Denominator</td>\n",
       "    </tr>\n",
       "    <tr>\n",
       "      <th>G003979345</th>\n",
       "      <td>Denominator</td>\n",
       "    </tr>\n",
       "    <tr>\n",
       "      <th>G000403215</th>\n",
       "      <td>Denominator</td>\n",
       "    </tr>\n",
       "    <tr>\n",
       "      <th>G000438095</th>\n",
       "      <td>Denominator</td>\n",
       "    </tr>\n",
       "  </tbody>\n",
       "</table>\n",
       "</div>"
      ],
      "text/plain": [
       "           Log_Ratio_Classification\n",
       "Feature ID                         \n",
       "G011958345              Denominator\n",
       "G000403435              Denominator\n",
       "G003979345              Denominator\n",
       "G000403215              Denominator\n",
       "G000438095              Denominator"
      ]
     },
     "execution_count": 5,
     "metadata": {},
     "output_type": "execute_result"
    }
   ],
   "source": [
    "Ln_top5_list = pd.read_csv('../data/Microbiome/RPCA_all/5xFAD_RPCA_topbot5_names.tsv', sep='\\t', index_col=0)\n",
    "Ln_top5_list.head()"
   ]
  },
  {
   "cell_type": "code",
   "execution_count": 6,
   "id": "3e8221ca",
   "metadata": {},
   "outputs": [
    {
     "data": {
      "text/html": [
       "<div>\n",
       "<style scoped>\n",
       "    .dataframe tbody tr th:only-of-type {\n",
       "        vertical-align: middle;\n",
       "    }\n",
       "\n",
       "    .dataframe tbody tr th {\n",
       "        vertical-align: top;\n",
       "    }\n",
       "\n",
       "    .dataframe thead th {\n",
       "        text-align: right;\n",
       "    }\n",
       "</style>\n",
       "<table border=\"1\" class=\"dataframe\">\n",
       "  <thead>\n",
       "    <tr style=\"text-align: right;\">\n",
       "      <th></th>\n",
       "      <th>Log_Ratio_Classification</th>\n",
       "      <th>Taxon</th>\n",
       "    </tr>\n",
       "    <tr>\n",
       "      <th>Feature ID</th>\n",
       "      <th></th>\n",
       "      <th></th>\n",
       "    </tr>\n",
       "  </thead>\n",
       "  <tbody>\n",
       "    <tr>\n",
       "      <th>G011958345</th>\n",
       "      <td>Denominator</td>\n",
       "      <td>d__Bacteria; p__Firmicutes_A; c__Clostridia; o...</td>\n",
       "    </tr>\n",
       "    <tr>\n",
       "      <th>G000403435</th>\n",
       "      <td>Denominator</td>\n",
       "      <td>d__Bacteria; p__Firmicutes_A; c__Clostridia; o...</td>\n",
       "    </tr>\n",
       "    <tr>\n",
       "      <th>G003979345</th>\n",
       "      <td>Denominator</td>\n",
       "      <td>d__Bacteria; p__Firmicutes_A; c__Clostridia; o...</td>\n",
       "    </tr>\n",
       "    <tr>\n",
       "      <th>G000403215</th>\n",
       "      <td>Denominator</td>\n",
       "      <td>d__Bacteria; p__Firmicutes_A; c__Clostridia; o...</td>\n",
       "    </tr>\n",
       "    <tr>\n",
       "      <th>G000438095</th>\n",
       "      <td>Denominator</td>\n",
       "      <td>d__Bacteria; p__Firmicutes_A; c__Clostridia; o...</td>\n",
       "    </tr>\n",
       "  </tbody>\n",
       "</table>\n",
       "</div>"
      ],
      "text/plain": [
       "           Log_Ratio_Classification  \\\n",
       "Feature ID                            \n",
       "G011958345              Denominator   \n",
       "G000403435              Denominator   \n",
       "G003979345              Denominator   \n",
       "G000403215              Denominator   \n",
       "G000438095              Denominator   \n",
       "\n",
       "                                                        Taxon  \n",
       "Feature ID                                                     \n",
       "G011958345  d__Bacteria; p__Firmicutes_A; c__Clostridia; o...  \n",
       "G000403435  d__Bacteria; p__Firmicutes_A; c__Clostridia; o...  \n",
       "G003979345  d__Bacteria; p__Firmicutes_A; c__Clostridia; o...  \n",
       "G000403215  d__Bacteria; p__Firmicutes_A; c__Clostridia; o...  \n",
       "G000438095  d__Bacteria; p__Firmicutes_A; c__Clostridia; o...  "
      ]
     },
     "execution_count": 6,
     "metadata": {},
     "output_type": "execute_result"
    }
   ],
   "source": [
    "merged = pd.merge(Ln_top5_list, taxonomy, left_index=True, right_index=True)\n",
    "merged.head()"
   ]
  },
  {
   "cell_type": "code",
   "execution_count": null,
   "id": "f804b672",
   "metadata": {},
   "outputs": [],
   "source": []
  },
  {
   "cell_type": "code",
   "execution_count": 7,
   "id": "bb1c254e",
   "metadata": {},
   "outputs": [],
   "source": [
    "merged.to_csv('../data/Microbiome/RPCA_all/5xFAD_RPCA_topbot5_names.tsv', sep='\\t')"
   ]
  },
  {
   "cell_type": "code",
   "execution_count": null,
   "id": "d71ec811",
   "metadata": {},
   "outputs": [],
   "source": []
  }
 ],
 "metadata": {
  "kernelspec": {
   "display_name": "Python 3 (ipykernel)",
   "language": "python",
   "name": "python3"
  },
  "language_info": {
   "codemirror_mode": {
    "name": "ipython",
    "version": 3
   },
   "file_extension": ".py",
   "mimetype": "text/x-python",
   "name": "python",
   "nbconvert_exporter": "python",
   "pygments_lexer": "ipython3",
   "version": "3.8.16"
  }
 },
 "nbformat": 4,
 "nbformat_minor": 5
}
