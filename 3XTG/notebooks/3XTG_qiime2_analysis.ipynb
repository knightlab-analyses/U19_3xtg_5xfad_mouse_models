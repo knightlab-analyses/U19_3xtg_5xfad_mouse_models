{
 "cells": [
  {
   "cell_type": "markdown",
   "id": "0fc15dfd",
   "metadata": {},
   "source": [
    "### Open in Qiime2 Environment!\n",
    "#### This one was opened in qiime2-2024.5"
   ]
  },
  {
   "cell_type": "markdown",
   "id": "6e242c48",
   "metadata": {},
   "source": [
    "For reasons for filtering, look at u19_blank_investigation.ipynb to see the counts/DNA pooled ratios and the cutoff determined to be 2000. This accounts for overpooling of the blanks after iSeq normalization."
   ]
  },
  {
   "cell_type": "code",
   "execution_count": 4,
   "id": "d4f1b01f",
   "metadata": {
    "scrolled": true
   },
   "outputs": [
    {
     "name": "stdout",
     "output_type": "stream",
     "text": [
      "\u001b[32mSaved FeatureTable[Frequency] to: ../data/Microbiome/pooling_filtered/2000_filt_ft.qza\u001b[0m\n",
      "\u001b[0m"
     ]
    }
   ],
   "source": [
    "!qiime feature-table filter-samples \\\n",
    "    --i-table ../data/Microbiome/186165_feature-table.qza \\\n",
    "    --m-metadata-file ../data/Microbiome/14748_metadata_overpooling.txt \\\n",
    "    --p-where '[keep]=\"TRUE\"' \\\n",
    "    --o-filtered-table ../data/Microbiome/pooling_filtered/2000_filt_ft.qza\n",
    "#this dataset had an error in pooling that this corrects for, see pooling notebook for details\n",
    "#186165_feature-table.qza is mouse (B6) host filtered"
   ]
  },
  {
   "cell_type": "code",
   "execution_count": 5,
   "id": "c10290f0",
   "metadata": {},
   "outputs": [
    {
     "name": "stdout",
     "output_type": "stream",
     "text": [
      "\u001b[32mSaved Visualization to: ../data/Microbiome/pooling_filtered/2000_filt_ft.qzv\u001b[0m\n",
      "\u001b[0m"
     ]
    }
   ],
   "source": [
    "!qiime feature-table summarize \\\n",
    "    --i-table ../data/Microbiome/pooling_filtered/2000_filt_ft.qza \\\n",
    "    --m-sample-metadata-file ../data/Microbiome/14748_metadata_overpooling.txt \\\n",
    "    --o-visualization ../data/Microbiome/pooling_filtered/2000_filt_ft.qzv"
   ]
  },
  {
   "cell_type": "code",
   "execution_count": 7,
   "id": "6a965c7e",
   "metadata": {},
   "outputs": [
    {
     "name": "stdout",
     "output_type": "stream",
     "text": [
      "\u001b[32mSaved DistanceMatrix to: ../data/Microbiome/pooling_filtered/2000_filt_Aitchison_dm.qza\u001b[0m\n",
      "\u001b[0m\u001b[32mSaved PCoAResults to: ../data/Microbiome/pooling_filtered/2000_filt_Aitchison_pcoa.qza\u001b[0m\n",
      "\u001b[0m\u001b[32mSaved Visualization to: ../data/Microbiome/pooling_filtered/2000_filt_Aitchison_emp.qzv\u001b[0m\n",
      "\u001b[0m"
     ]
    }
   ],
   "source": [
    "!qiime diversity beta \\\n",
    "    --i-table ../data/Microbiome/pooling_filtered/2000_filt_ft.qza   \\\n",
    "    --p-metric 'aitchison' \\\n",
    "    --o-distance-matrix ../data/Microbiome/pooling_filtered/2000_filt_Aitchison_dm.qza \n",
    "\n",
    "!qiime diversity pcoa \\\n",
    "    --i-distance-matrix ../data/Microbiome/pooling_filtered/2000_filt_Aitchison_dm.qza \\\n",
    "    --o-pcoa ../data/Microbiome/pooling_filtered/2000_filt_Aitchison_pcoa.qza\n",
    "\n",
    "!qiime emperor plot \\\n",
    "    --i-pcoa ../data/Microbiome/pooling_filtered/2000_filt_Aitchison_pcoa.qza \\\n",
    "    --m-metadata-file ../data/Microbiome/14748_metadata_overpooling.txt \\\n",
    "    --o-visualization ../data/Microbiome/pooling_filtered/2000_filt_Aitchison_emp.qzv"
   ]
  },
  {
   "cell_type": "code",
   "execution_count": 5,
   "id": "ce93e1c9",
   "metadata": {},
   "outputs": [
    {
     "name": "stdout",
     "output_type": "stream",
     "text": [
      "\u001b[32mSaved FeatureTable[Frequency] to: ../data/Microbiome/pooling_filtered/2000-filt_gg2-filt_ft.qza\u001b[0m\r\n",
      "\u001b[0m"
     ]
    }
   ],
   "source": [
    "!qiime greengenes2 filter-features \\\n",
    "    --i-feature-table ../data/Microbiome/pooling_filtered/2000_filt_ft.qza \\\n",
    "    --i-reference ../../../greengenes2/2022.10.taxonomy.id.nwk.qza \\\n",
    "    --o-filtered-feature-table ../data/Microbiome/pooling_filtered/2000-filt_gg2-filt_ft.qza"
   ]
  },
  {
   "cell_type": "code",
   "execution_count": 6,
   "id": "44371026",
   "metadata": {},
   "outputs": [
    {
     "name": "stdout",
     "output_type": "stream",
     "text": [
      "\u001b[32mSaved FeatureData[Taxonomy] to: ../data/Microbiome/pooling_filtered/gg2_taxonomy.qza\u001b[0m\r\n",
      "\u001b[0m"
     ]
    }
   ],
   "source": [
    "!qiime greengenes2 taxonomy-from-table \\\n",
    "    --i-reference-taxonomy ../../../greengenes2/2022.10.taxonomy.id.nwk.qza \\\n",
    "    --i-table ../data/Microbiome/pooling_filtered/2000-filt_gg2-filt_ft.qza \\\n",
    "    --o-classification ../data/Microbiome/pooling_filtered/gg2_taxonomy.qza"
   ]
  },
  {
   "cell_type": "code",
   "execution_count": 10,
   "id": "4785a255",
   "metadata": {},
   "outputs": [
    {
     "name": "stdout",
     "output_type": "stream",
     "text": [
      "\u001b[32mExported ../data/Microbiome/pooling_filtered/gg2_taxonomy.qza as TSVTaxonomyDirectoryFormat to directory ../data/Microbiome/pooling_filtered/gg2_taxonomy\u001b[0m\r\n",
      "\u001b[0m"
     ]
    }
   ],
   "source": [
    "!qiime tools export \\\n",
    "    --input-path ../data/Microbiome/pooling_filtered/gg2_taxonomy.qza \\\n",
    "    --output-path ../data/Microbiome/pooling_filtered/gg2_taxonomy"
   ]
  },
  {
   "cell_type": "code",
   "execution_count": 7,
   "id": "078ebaf3",
   "metadata": {},
   "outputs": [
    {
     "name": "stdout",
     "output_type": "stream",
     "text": [
      "\u001b[32mSaved FeatureTable[Frequency] to: ../data/Microbiome/pooling_filtered/all_gg2_348000rar_core_diversity/rarefied_table.qza\u001b[0m\n",
      "\u001b[32mSaved SampleData[AlphaDiversity] to: ../data/Microbiome/pooling_filtered/all_gg2_348000rar_core_diversity/faith_pd_vector.qza\u001b[0m\n",
      "\u001b[32mSaved SampleData[AlphaDiversity] to: ../data/Microbiome/pooling_filtered/all_gg2_348000rar_core_diversity/observed_features_vector.qza\u001b[0m\n",
      "\u001b[32mSaved SampleData[AlphaDiversity] to: ../data/Microbiome/pooling_filtered/all_gg2_348000rar_core_diversity/shannon_vector.qza\u001b[0m\n",
      "\u001b[32mSaved SampleData[AlphaDiversity] to: ../data/Microbiome/pooling_filtered/all_gg2_348000rar_core_diversity/evenness_vector.qza\u001b[0m\n",
      "\u001b[32mSaved DistanceMatrix to: ../data/Microbiome/pooling_filtered/all_gg2_348000rar_core_diversity/unweighted_unifrac_distance_matrix.qza\u001b[0m\n",
      "\u001b[32mSaved DistanceMatrix to: ../data/Microbiome/pooling_filtered/all_gg2_348000rar_core_diversity/weighted_unifrac_distance_matrix.qza\u001b[0m\n",
      "\u001b[32mSaved DistanceMatrix to: ../data/Microbiome/pooling_filtered/all_gg2_348000rar_core_diversity/jaccard_distance_matrix.qza\u001b[0m\n",
      "\u001b[32mSaved DistanceMatrix to: ../data/Microbiome/pooling_filtered/all_gg2_348000rar_core_diversity/bray_curtis_distance_matrix.qza\u001b[0m\n",
      "\u001b[32mSaved PCoAResults to: ../data/Microbiome/pooling_filtered/all_gg2_348000rar_core_diversity/unweighted_unifrac_pcoa_results.qza\u001b[0m\n",
      "\u001b[32mSaved PCoAResults to: ../data/Microbiome/pooling_filtered/all_gg2_348000rar_core_diversity/weighted_unifrac_pcoa_results.qza\u001b[0m\n",
      "\u001b[32mSaved PCoAResults to: ../data/Microbiome/pooling_filtered/all_gg2_348000rar_core_diversity/jaccard_pcoa_results.qza\u001b[0m\n",
      "\u001b[32mSaved PCoAResults to: ../data/Microbiome/pooling_filtered/all_gg2_348000rar_core_diversity/bray_curtis_pcoa_results.qza\u001b[0m\n",
      "\u001b[32mSaved Visualization to: ../data/Microbiome/pooling_filtered/all_gg2_348000rar_core_diversity/unweighted_unifrac_emperor.qzv\u001b[0m\n",
      "\u001b[32mSaved Visualization to: ../data/Microbiome/pooling_filtered/all_gg2_348000rar_core_diversity/weighted_unifrac_emperor.qzv\u001b[0m\n",
      "\u001b[32mSaved Visualization to: ../data/Microbiome/pooling_filtered/all_gg2_348000rar_core_diversity/jaccard_emperor.qzv\u001b[0m\n",
      "\u001b[32mSaved Visualization to: ../data/Microbiome/pooling_filtered/all_gg2_348000rar_core_diversity/bray_curtis_emperor.qzv\u001b[0m\n",
      "\u001b[0m"
     ]
    }
   ],
   "source": [
    "!qiime diversity core-metrics-phylogenetic \\\n",
    "    --i-table ../data/Microbiome/pooling_filtered/2000-filt_gg2-filt_ft.qza \\\n",
    "    --i-phylogeny ../../../greengenes2/2022.10.phylogeny.id.nwk.qza \\\n",
    "    --p-sampling-depth 348000 \\\n",
    "    --m-metadata-file ../data/Microbiome/14748_metadata_overpooling.txt \\\n",
    "    --output-dir ../data/Microbiome/pooling_filtered/all_gg2_348000rar_core_diversity"
   ]
  },
  {
   "cell_type": "code",
   "execution_count": 1,
   "id": "6cd52181",
   "metadata": {},
   "outputs": [
    {
     "name": "stdout",
     "output_type": "stream",
     "text": [
      "\u001b[32mSaved FeatureTable[Frequency] to: ../data/Microbiome/pooling_filtered/all_gg2_1000000rar_core_diversity/rarefied_table.qza\u001b[0m\n",
      "\u001b[32mSaved SampleData[AlphaDiversity] to: ../data/Microbiome/pooling_filtered/all_gg2_1000000rar_core_diversity/faith_pd_vector.qza\u001b[0m\n",
      "\u001b[32mSaved SampleData[AlphaDiversity] to: ../data/Microbiome/pooling_filtered/all_gg2_1000000rar_core_diversity/observed_features_vector.qza\u001b[0m\n",
      "\u001b[32mSaved SampleData[AlphaDiversity] to: ../data/Microbiome/pooling_filtered/all_gg2_1000000rar_core_diversity/shannon_vector.qza\u001b[0m\n",
      "\u001b[32mSaved SampleData[AlphaDiversity] to: ../data/Microbiome/pooling_filtered/all_gg2_1000000rar_core_diversity/evenness_vector.qza\u001b[0m\n",
      "\u001b[32mSaved DistanceMatrix to: ../data/Microbiome/pooling_filtered/all_gg2_1000000rar_core_diversity/unweighted_unifrac_distance_matrix.qza\u001b[0m\n",
      "\u001b[32mSaved DistanceMatrix to: ../data/Microbiome/pooling_filtered/all_gg2_1000000rar_core_diversity/weighted_unifrac_distance_matrix.qza\u001b[0m\n",
      "\u001b[32mSaved DistanceMatrix to: ../data/Microbiome/pooling_filtered/all_gg2_1000000rar_core_diversity/jaccard_distance_matrix.qza\u001b[0m\n",
      "\u001b[32mSaved DistanceMatrix to: ../data/Microbiome/pooling_filtered/all_gg2_1000000rar_core_diversity/bray_curtis_distance_matrix.qza\u001b[0m\n",
      "\u001b[32mSaved PCoAResults to: ../data/Microbiome/pooling_filtered/all_gg2_1000000rar_core_diversity/unweighted_unifrac_pcoa_results.qza\u001b[0m\n",
      "\u001b[32mSaved PCoAResults to: ../data/Microbiome/pooling_filtered/all_gg2_1000000rar_core_diversity/weighted_unifrac_pcoa_results.qza\u001b[0m\n",
      "\u001b[32mSaved PCoAResults to: ../data/Microbiome/pooling_filtered/all_gg2_1000000rar_core_diversity/jaccard_pcoa_results.qza\u001b[0m\n",
      "\u001b[32mSaved PCoAResults to: ../data/Microbiome/pooling_filtered/all_gg2_1000000rar_core_diversity/bray_curtis_pcoa_results.qza\u001b[0m\n",
      "\u001b[32mSaved Visualization to: ../data/Microbiome/pooling_filtered/all_gg2_1000000rar_core_diversity/unweighted_unifrac_emperor.qzv\u001b[0m\n",
      "\u001b[32mSaved Visualization to: ../data/Microbiome/pooling_filtered/all_gg2_1000000rar_core_diversity/weighted_unifrac_emperor.qzv\u001b[0m\n",
      "\u001b[32mSaved Visualization to: ../data/Microbiome/pooling_filtered/all_gg2_1000000rar_core_diversity/jaccard_emperor.qzv\u001b[0m\n",
      "\u001b[32mSaved Visualization to: ../data/Microbiome/pooling_filtered/all_gg2_1000000rar_core_diversity/bray_curtis_emperor.qzv\u001b[0m\n",
      "\u001b[0m"
     ]
    }
   ],
   "source": [
    "!qiime diversity core-metrics-phylogenetic \\\n",
    "    --i-table ../data/Microbiome/pooling_filtered/2000-filt_gg2-filt_ft.qza \\\n",
    "    --i-phylogeny ../../../greengenes2/2022.10.phylogeny.id.nwk.qza \\\n",
    "    --p-sampling-depth 1000000 \\\n",
    "    --m-metadata-file ../data/Microbiome/14748_metadata_overpooling.txt \\\n",
    "    --output-dir ../data/Microbiome/pooling_filtered/all_gg2_1000000rar_core_diversity"
   ]
  },
  {
   "cell_type": "code",
   "execution_count": 2,
   "id": "fa95767d",
   "metadata": {},
   "outputs": [
    {
     "name": "stdout",
     "output_type": "stream",
     "text": [
      "\u001b[32mExported ../data/Microbiome/pooling_filtered/all_gg2_1000000rar_core_diversity/shannon_vector.qza as AlphaDiversityDirectoryFormat to directory ../data/Microbiome/pooling_filtered/all_gg2_1000000rar_core_diversity/shannon_vector\u001b[0m\r\n",
      "\u001b[0m"
     ]
    }
   ],
   "source": [
    "!qiime tools export \\\n",
    "    --input-path ../data/Microbiome/pooling_filtered/all_gg2_1000000rar_core_diversity/shannon_vector.qza \\\n",
    "    --output-path ../data/Microbiome/pooling_filtered/all_gg2_1000000rar_core_diversity/shannon_vector"
   ]
  },
  {
   "cell_type": "code",
   "execution_count": 3,
   "id": "5491c4df",
   "metadata": {},
   "outputs": [
    {
     "name": "stdout",
     "output_type": "stream",
     "text": [
      "\u001b[32mSaved Visualization to: ../data/Microbiome/pooling_filtered/all_gg2_1000000rar_core_diversity/wUF_emp_timepoint.qzv\u001b[0m\r\n",
      "\u001b[0m"
     ]
    }
   ],
   "source": [
    "!qiime emperor plot \\\n",
    "    --i-pcoa ../data/Microbiome/pooling_filtered/all_gg2_1000000rar_core_diversity/weighted_unifrac_pcoa_results.qza \\\n",
    "    --m-metadata-file ../data/Microbiome/14748_metadata_overpooling.txt \\\n",
    "    --p-custom-axes host_age \\\n",
    "    --o-visualization ../data/Microbiome/pooling_filtered/all_gg2_1000000rar_core_diversity/wUF_emp_timepoint.qzv"
   ]
  },
  {
   "cell_type": "code",
   "execution_count": 4,
   "id": "03489af0",
   "metadata": {},
   "outputs": [
    {
     "name": "stdout",
     "output_type": "stream",
     "text": [
      "\u001b[32mSaved Visualization to: ../data/Microbiome/pooling_filtered/all_gg2_1000000rar_core_diversity/faith_pd_vector.qzv\u001b[0m\n",
      "\u001b[0m\u001b[32mSaved Visualization to: ../data/Microbiome/pooling_filtered/all_gg2_1000000rar_core_diversity/shannon_vector.qzv\u001b[0m\n",
      "\u001b[0m\u001b[32mSaved Visualization to: ../data/Microbiome/pooling_filtered/all_gg2_1000000rar_core_diversity/observed_features_vector.qzv\u001b[0m\n",
      "\u001b[0m"
     ]
    }
   ],
   "source": [
    "!qiime diversity alpha-group-significance \\\n",
    "    --i-alpha-diversity ../data/Microbiome/pooling_filtered/all_gg2_1000000rar_core_diversity/faith_pd_vector.qza \\\n",
    "    --m-metadata-file ../data/Microbiome/14748_metadata_overpooling.txt \\\n",
    "    --o-visualization ../data/Microbiome/pooling_filtered/all_gg2_1000000rar_core_diversity/faith_pd_vector.qzv\n",
    "\n",
    "!qiime diversity alpha-group-significance \\\n",
    "    --i-alpha-diversity ../data/Microbiome/pooling_filtered/all_gg2_1000000rar_core_diversity/shannon_vector.qza \\\n",
    "    --m-metadata-file ../data/Microbiome/14748_metadata_overpooling.txt \\\n",
    "    --o-visualization ../data/Microbiome/pooling_filtered/all_gg2_1000000rar_core_diversity/shannon_vector.qzv\n",
    "\n",
    "!qiime diversity alpha-group-significance \\\n",
    "    --i-alpha-diversity ../data/Microbiome/pooling_filtered/all_gg2_1000000rar_core_diversity/observed_features_vector.qza \\\n",
    "    --m-metadata-file ../data/Microbiome/14748_metadata_overpooling.txt \\\n",
    "    --o-visualization ../data/Microbiome/pooling_filtered/all_gg2_1000000rar_core_diversity/observed_features_vector.qzv"
   ]
  },
  {
   "cell_type": "markdown",
   "id": "166f81b7",
   "metadata": {},
   "source": [
    "#### Longitudinal and Sacrifice"
   ]
  },
  {
   "cell_type": "code",
   "execution_count": 5,
   "id": "5e11c337",
   "metadata": {},
   "outputs": [
    {
     "name": "stdout",
     "output_type": "stream",
     "text": [
      "\u001b[32mSaved FeatureTable[Frequency] to: ../data/Microbiome/pooling_filtered/longitudinal/longitudinal_feature_table.qza\u001b[0m\n",
      "\u001b[0m\u001b[32mSaved FeatureTable[Frequency] to: ../data/Microbiome/pooling_filtered/sacrifice/sacrifice_feature_table.qza\u001b[0m\n",
      "\u001b[0m"
     ]
    }
   ],
   "source": [
    "!qiime feature-table filter-samples \\\n",
    "    --i-table ../data/Microbiome/pooling_filtered/2000-filt_gg2-filt_ft.qza \\\n",
    "    --m-metadata-file ../data/Microbiome/14748_metadata_overpooling.txt \\\n",
    "    --p-where \"[study_type]='Longitudinal'\" \\\n",
    "    --o-filtered-table ../data/Microbiome/pooling_filtered/longitudinal/longitudinal_feature_table.qza\n",
    "    \n",
    "!qiime feature-table filter-samples \\\n",
    "    --i-table ../data/Microbiome/pooling_filtered/2000-filt_gg2-filt_ft.qza \\\n",
    "    --m-metadata-file ../data/Microbiome/14748_metadata_overpooling.txt \\\n",
    "    --p-where \"[study_type]='Sacrifice'\" \\\n",
    "    --o-filtered-table ../data/Microbiome/pooling_filtered/sacrifice/sacrifice_feature_table.qza"
   ]
  },
  {
   "cell_type": "code",
   "execution_count": 6,
   "id": "02e44331",
   "metadata": {},
   "outputs": [
    {
     "name": "stdout",
     "output_type": "stream",
     "text": [
      "\u001b[32mSaved Visualization to: ../data/Microbiome/pooling_filtered/longitudinal/longitudinal_feature_table.qzv\u001b[0m\n",
      "\u001b[0m\u001b[32mSaved Visualization to: ../data/Microbiome/pooling_filtered/sacrifice/sacrifice_feature_table.qzv\u001b[0m\n",
      "\u001b[0m"
     ]
    }
   ],
   "source": [
    "!qiime feature-table summarize \\\n",
    "    --i-table ../data/Microbiome/pooling_filtered/longitudinal/longitudinal_feature_table.qza \\\n",
    "    --m-sample-metadata-file ../data/Microbiome/14748_metadata_overpooling.txt \\\n",
    "    --o-visualization ../data/Microbiome/pooling_filtered/longitudinal/longitudinal_feature_table.qzv\n",
    "\n",
    "!qiime feature-table summarize \\\n",
    "    --i-table ../data/Microbiome/pooling_filtered/sacrifice/sacrifice_feature_table.qza \\\n",
    "    --m-sample-metadata-file ../data/Microbiome/14748_metadata_overpooling.txt \\\n",
    "    --o-visualization ../data/Microbiome/pooling_filtered/sacrifice/sacrifice_feature_table.qzv"
   ]
  },
  {
   "cell_type": "code",
   "execution_count": 7,
   "id": "0bf35c33",
   "metadata": {},
   "outputs": [
    {
     "name": "stdout",
     "output_type": "stream",
     "text": [
      "\u001b[32mSaved FeatureTable[Frequency] to: ../data/Microbiome/pooling_filtered/sacrifice/sac_1000000rar_core_diversity/rarefied_table.qza\u001b[0m\n",
      "\u001b[32mSaved SampleData[AlphaDiversity] to: ../data/Microbiome/pooling_filtered/sacrifice/sac_1000000rar_core_diversity/faith_pd_vector.qza\u001b[0m\n",
      "\u001b[32mSaved SampleData[AlphaDiversity] to: ../data/Microbiome/pooling_filtered/sacrifice/sac_1000000rar_core_diversity/observed_features_vector.qza\u001b[0m\n",
      "\u001b[32mSaved SampleData[AlphaDiversity] to: ../data/Microbiome/pooling_filtered/sacrifice/sac_1000000rar_core_diversity/shannon_vector.qza\u001b[0m\n",
      "\u001b[32mSaved SampleData[AlphaDiversity] to: ../data/Microbiome/pooling_filtered/sacrifice/sac_1000000rar_core_diversity/evenness_vector.qza\u001b[0m\n",
      "\u001b[32mSaved DistanceMatrix to: ../data/Microbiome/pooling_filtered/sacrifice/sac_1000000rar_core_diversity/unweighted_unifrac_distance_matrix.qza\u001b[0m\n",
      "\u001b[32mSaved DistanceMatrix to: ../data/Microbiome/pooling_filtered/sacrifice/sac_1000000rar_core_diversity/weighted_unifrac_distance_matrix.qza\u001b[0m\n",
      "\u001b[32mSaved DistanceMatrix to: ../data/Microbiome/pooling_filtered/sacrifice/sac_1000000rar_core_diversity/jaccard_distance_matrix.qza\u001b[0m\n",
      "\u001b[32mSaved DistanceMatrix to: ../data/Microbiome/pooling_filtered/sacrifice/sac_1000000rar_core_diversity/bray_curtis_distance_matrix.qza\u001b[0m\n",
      "\u001b[32mSaved PCoAResults to: ../data/Microbiome/pooling_filtered/sacrifice/sac_1000000rar_core_diversity/unweighted_unifrac_pcoa_results.qza\u001b[0m\n",
      "\u001b[32mSaved PCoAResults to: ../data/Microbiome/pooling_filtered/sacrifice/sac_1000000rar_core_diversity/weighted_unifrac_pcoa_results.qza\u001b[0m\n",
      "\u001b[32mSaved PCoAResults to: ../data/Microbiome/pooling_filtered/sacrifice/sac_1000000rar_core_diversity/jaccard_pcoa_results.qza\u001b[0m\n",
      "\u001b[32mSaved PCoAResults to: ../data/Microbiome/pooling_filtered/sacrifice/sac_1000000rar_core_diversity/bray_curtis_pcoa_results.qza\u001b[0m\n",
      "\u001b[32mSaved Visualization to: ../data/Microbiome/pooling_filtered/sacrifice/sac_1000000rar_core_diversity/unweighted_unifrac_emperor.qzv\u001b[0m\n",
      "\u001b[32mSaved Visualization to: ../data/Microbiome/pooling_filtered/sacrifice/sac_1000000rar_core_diversity/weighted_unifrac_emperor.qzv\u001b[0m\n",
      "\u001b[32mSaved Visualization to: ../data/Microbiome/pooling_filtered/sacrifice/sac_1000000rar_core_diversity/jaccard_emperor.qzv\u001b[0m\n",
      "\u001b[32mSaved Visualization to: ../data/Microbiome/pooling_filtered/sacrifice/sac_1000000rar_core_diversity/bray_curtis_emperor.qzv\u001b[0m\n",
      "\u001b[0m"
     ]
    }
   ],
   "source": [
    "!qiime diversity core-metrics-phylogenetic \\\n",
    "    --i-table ../data/Microbiome/pooling_filtered/sacrifice/sacrifice_feature_table.qza \\\n",
    "    --i-phylogeny ../../../greengenes2/2022.10.phylogeny.id.nwk.qza \\\n",
    "    --p-sampling-depth 1000000 \\\n",
    "    --m-metadata-file ../data/Microbiome/14748_metadata_overpooling.txt \\\n",
    "    --output-dir ../data/Microbiome/pooling_filtered/sacrifice/sac_1000000rar_core_diversity"
   ]
  },
  {
   "cell_type": "code",
   "execution_count": 3,
   "id": "f43e8e0b",
   "metadata": {},
   "outputs": [
    {
     "name": "stdout",
     "output_type": "stream",
     "text": [
      "\u001b[32mSaved Visualization to: ../data/Microbiome/pooling_filtered/sacrifice/sac_1000000rar_core_diversity/faith_alpha_sig.qzv\u001b[0m\n",
      "\u001b[0m\u001b[32mSaved Visualization to: ../data/Microbiome/pooling_filtered/sacrifice/sac_1000000rar_core_diversity/shannon_alpha_sig.qzv\u001b[0m\n",
      "\u001b[0m\u001b[32mSaved Visualization to: ../data/Microbiome/pooling_filtered/sacrifice/sac_1000000rar_core_diversity/obsfeat_alpha_sig.qzv\u001b[0m\n",
      "\u001b[0m"
     ]
    }
   ],
   "source": [
    "!qiime diversity alpha-group-significance \\\n",
    "    --i-alpha-diversity ../data/Microbiome/pooling_filtered/sacrifice/sac_1000000rar_core_diversity/faith_pd_vector.qza \\\n",
    "    --m-metadata-file ../data/Microbiome/14748_metadata_overpooling.txt \\\n",
    "    --o-visualization ../data/Microbiome/pooling_filtered/sacrifice/sac_1000000rar_core_diversity/faith_alpha_sig.qzv\n",
    "\n",
    "!qiime diversity alpha-group-significance \\\n",
    "    --i-alpha-diversity ../data/Microbiome/pooling_filtered/sacrifice/sac_1000000rar_core_diversity/shannon_vector.qza \\\n",
    "    --m-metadata-file ../data/Microbiome/14748_metadata_overpooling.txt \\\n",
    "    --o-visualization ../data/Microbiome/pooling_filtered/sacrifice/sac_1000000rar_core_diversity/shannon_alpha_sig.qzv\n",
    "\n",
    "!qiime diversity alpha-group-significance \\\n",
    "    --i-alpha-diversity ../data/Microbiome/pooling_filtered/sacrifice/sac_1000000rar_core_diversity/observed_features_vector.qza \\\n",
    "    --m-metadata-file ../data/Microbiome/14748_metadata_overpooling.txt \\\n",
    "    --o-visualization ../data/Microbiome/pooling_filtered/sacrifice/sac_1000000rar_core_diversity/obsfeat_alpha_sig.qzv"
   ]
  },
  {
   "cell_type": "code",
   "execution_count": 9,
   "id": "c0f4d1f8",
   "metadata": {},
   "outputs": [
    {
     "name": "stdout",
     "output_type": "stream",
     "text": [
      "\u001b[32mSaved FeatureTable[Frequency] to: ../data/Microbiome/pooling_filtered/longitudinal/long_1000000rar_core_diversity/rarefied_table.qza\u001b[0m\n",
      "\u001b[32mSaved SampleData[AlphaDiversity] to: ../data/Microbiome/pooling_filtered/longitudinal/long_1000000rar_core_diversity/faith_pd_vector.qza\u001b[0m\n",
      "\u001b[32mSaved SampleData[AlphaDiversity] to: ../data/Microbiome/pooling_filtered/longitudinal/long_1000000rar_core_diversity/observed_features_vector.qza\u001b[0m\n",
      "\u001b[32mSaved SampleData[AlphaDiversity] to: ../data/Microbiome/pooling_filtered/longitudinal/long_1000000rar_core_diversity/shannon_vector.qza\u001b[0m\n",
      "\u001b[32mSaved SampleData[AlphaDiversity] to: ../data/Microbiome/pooling_filtered/longitudinal/long_1000000rar_core_diversity/evenness_vector.qza\u001b[0m\n",
      "\u001b[32mSaved DistanceMatrix to: ../data/Microbiome/pooling_filtered/longitudinal/long_1000000rar_core_diversity/unweighted_unifrac_distance_matrix.qza\u001b[0m\n",
      "\u001b[32mSaved DistanceMatrix to: ../data/Microbiome/pooling_filtered/longitudinal/long_1000000rar_core_diversity/weighted_unifrac_distance_matrix.qza\u001b[0m\n",
      "\u001b[32mSaved DistanceMatrix to: ../data/Microbiome/pooling_filtered/longitudinal/long_1000000rar_core_diversity/jaccard_distance_matrix.qza\u001b[0m\n",
      "\u001b[32mSaved DistanceMatrix to: ../data/Microbiome/pooling_filtered/longitudinal/long_1000000rar_core_diversity/bray_curtis_distance_matrix.qza\u001b[0m\n",
      "\u001b[32mSaved PCoAResults to: ../data/Microbiome/pooling_filtered/longitudinal/long_1000000rar_core_diversity/unweighted_unifrac_pcoa_results.qza\u001b[0m\n",
      "\u001b[32mSaved PCoAResults to: ../data/Microbiome/pooling_filtered/longitudinal/long_1000000rar_core_diversity/weighted_unifrac_pcoa_results.qza\u001b[0m\n",
      "\u001b[32mSaved PCoAResults to: ../data/Microbiome/pooling_filtered/longitudinal/long_1000000rar_core_diversity/jaccard_pcoa_results.qza\u001b[0m\n",
      "\u001b[32mSaved PCoAResults to: ../data/Microbiome/pooling_filtered/longitudinal/long_1000000rar_core_diversity/bray_curtis_pcoa_results.qza\u001b[0m\n",
      "\u001b[32mSaved Visualization to: ../data/Microbiome/pooling_filtered/longitudinal/long_1000000rar_core_diversity/unweighted_unifrac_emperor.qzv\u001b[0m\n",
      "\u001b[32mSaved Visualization to: ../data/Microbiome/pooling_filtered/longitudinal/long_1000000rar_core_diversity/weighted_unifrac_emperor.qzv\u001b[0m\n",
      "\u001b[32mSaved Visualization to: ../data/Microbiome/pooling_filtered/longitudinal/long_1000000rar_core_diversity/jaccard_emperor.qzv\u001b[0m\n",
      "\u001b[32mSaved Visualization to: ../data/Microbiome/pooling_filtered/longitudinal/long_1000000rar_core_diversity/bray_curtis_emperor.qzv\u001b[0m\n",
      "\u001b[0m"
     ]
    }
   ],
   "source": [
    "!qiime diversity core-metrics-phylogenetic \\\n",
    "    --i-table ../data/Microbiome/pooling_filtered/longitudinal/longitudinal_feature_table.qza \\\n",
    "    --i-phylogeny ../../../greengenes2/2022.10.phylogeny.id.nwk.qza \\\n",
    "    --p-sampling-depth 1000000 \\\n",
    "    --m-metadata-file ../data/Microbiome/14748_metadata_overpooling.txt \\\n",
    "    --output-dir ../data/Microbiome/pooling_filtered/longitudinal/long_1000000rar_core_diversity"
   ]
  },
  {
   "cell_type": "code",
   "execution_count": 10,
   "id": "2b68b904",
   "metadata": {},
   "outputs": [
    {
     "name": "stdout",
     "output_type": "stream",
     "text": [
      "\u001b[32mSaved Visualization to: ../data/Microbiome/pooling_filtered/sacrifice/sac_1000000rar_core_diversity/wUF_emp_timepoint.qzv\u001b[0m\n",
      "\u001b[0m\u001b[32mSaved Visualization to: ../data/Microbiome/pooling_filtered/longitudinal/long_1000000rar_core_diversity/wUF_emp_timepoint.qzv\u001b[0m\n",
      "\u001b[0m"
     ]
    }
   ],
   "source": [
    "!qiime emperor plot \\\n",
    "    --i-pcoa ../data/Microbiome/pooling_filtered/sacrifice/sac_1000000rar_core_diversity/weighted_unifrac_pcoa_results.qza \\\n",
    "    --m-metadata-file ../data/Microbiome/14748_metadata_overpooling.txt \\\n",
    "    --p-custom-axes host_age \\\n",
    "    --o-visualization ../data/Microbiome/pooling_filtered/sacrifice/sac_1000000rar_core_diversity/wUF_emp_timepoint.qzv\n",
    "\n",
    "!qiime emperor plot \\\n",
    "    --i-pcoa ../data/Microbiome/pooling_filtered/longitudinal/long_1000000rar_core_diversity/weighted_unifrac_pcoa_results.qza \\\n",
    "    --m-metadata-file ../data/Microbiome/14748_metadata_overpooling.txt \\\n",
    "    --p-custom-axes host_age \\\n",
    "    --o-visualization ../data/Microbiome/pooling_filtered/longitudinal/long_1000000rar_core_diversity/wUF_emp_timepoint.qzv"
   ]
  },
  {
   "cell_type": "code",
   "execution_count": 11,
   "id": "90fc2929",
   "metadata": {},
   "outputs": [
    {
     "name": "stdout",
     "output_type": "stream",
     "text": [
      "\u001b[32mSaved Visualization to: ../data/Microbiome/pooling_filtered/sacrifice/sac_1000000rar_core_diversity/wUF_bsig_strainsex.qzv\u001b[0m\n",
      "\u001b[0m\u001b[32mSaved Visualization to: ../data/Microbiome/pooling_filtered/longitudinal/long_1000000rar_core_diversity/wUF_bsig_strainsex.qzv\u001b[0m\n",
      "\u001b[0m"
     ]
    }
   ],
   "source": [
    "!qiime diversity beta-group-significance \\\n",
    "    --i-distance-matrix ../data/Microbiome/pooling_filtered/sacrifice/sac_1000000rar_core_diversity/weighted_unifrac_distance_matrix.qza \\\n",
    "    --m-metadata-file ../data/Microbiome/14748_metadata_overpooling.txt \\\n",
    "    --m-metadata-column genotype_sex \\\n",
    "    --p-pairwise True \\\n",
    "    --o-visualization ../data/Microbiome/pooling_filtered/sacrifice/sac_1000000rar_core_diversity/wUF_bsig_strainsex.qzv\n",
    "\n",
    "!qiime diversity beta-group-significance \\\n",
    "    --i-distance-matrix ../data/Microbiome/pooling_filtered/longitudinal/long_1000000rar_core_diversity/weighted_unifrac_distance_matrix.qza \\\n",
    "    --m-metadata-file ../data/Microbiome/14748_metadata_overpooling.txt \\\n",
    "    --m-metadata-column genotype_sex \\\n",
    "    --p-pairwise True \\\n",
    "    --o-visualization ../data/Microbiome/pooling_filtered/longitudinal/long_1000000rar_core_diversity/wUF_bsig_strainsex.qzv"
   ]
  },
  {
   "cell_type": "code",
   "execution_count": null,
   "id": "29880293",
   "metadata": {},
   "outputs": [],
   "source": []
  },
  {
   "cell_type": "markdown",
   "id": "6761daca",
   "metadata": {},
   "source": [
    "# RPCA"
   ]
  },
  {
   "cell_type": "markdown",
   "id": "32b2f1d7",
   "metadata": {},
   "source": [
    "### All"
   ]
  },
  {
   "cell_type": "code",
   "execution_count": 3,
   "id": "3bcbc9c8",
   "metadata": {},
   "outputs": [
    {
     "name": "stdout",
     "output_type": "stream",
     "text": [
      "\u001b[32mSaved FeatureTable[Frequency] to: ../data/Microbiome/pooling_filtered/RPCA_all/min1000000reads_table.qza\u001b[0m\r\n",
      "\u001b[0m"
     ]
    }
   ],
   "source": [
    "!qiime feature-table filter-samples \\\n",
    "    --i-table ../data/Microbiome/pooling_filtered/2000-filt_gg2-filt_ft.qza \\\n",
    "    --p-min-frequency 1000000 \\\n",
    "    --o-filtered-table ../data/Microbiome/pooling_filtered/RPCA_all/min1000000reads_table.qza\n",
    "#drops samples with less than 1000000 reads (not the same as rarefaction)"
   ]
  },
  {
   "cell_type": "code",
   "execution_count": 16,
   "id": "25dc04d3",
   "metadata": {},
   "outputs": [
    {
     "name": "stdout",
     "output_type": "stream",
     "text": [
      "\u001b[32mSaved PCoAResults % Properties('biplot') to: ../data/Microbiome/pooling_filtered/RPCA_all/all_RPCA_ordination.qza\u001b[0m\n",
      "\u001b[32mSaved DistanceMatrix to: ../data/Microbiome/pooling_filtered/RPCA_all/all_RPCA_distance.qza\u001b[0m\n",
      "\u001b[0m"
     ]
    }
   ],
   "source": [
    "!qiime gemelli rpca \\\n",
    "    --i-table ../data/Microbiome/pooling_filtered/RPCA_all/min1000000reads_table.qza \\\n",
    "    --p-min-sample-count 500 \\\n",
    "    --o-biplot ../data/Microbiome/pooling_filtered/RPCA_all/all_RPCA_ordination.qza \\\n",
    "    --o-distance-matrix ../data/Microbiome/pooling_filtered/RPCA_all/all_RPCA_distance.qza"
   ]
  },
  {
   "cell_type": "code",
   "execution_count": 12,
   "id": "39f6cbcb",
   "metadata": {},
   "outputs": [
    {
     "name": "stdout",
     "output_type": "stream",
     "text": [
      "\u001b[32mSaved PCoAResults % Properties('biplot') to: ../data/Microbiome/pooling_filtered/RPCA_all/all_rar_RPCA_ordination.qza\u001b[0m\n",
      "\u001b[32mSaved DistanceMatrix to: ../data/Microbiome/pooling_filtered/RPCA_all/all_rar_RPCA_distance.qza\u001b[0m\n",
      "\u001b[0m"
     ]
    }
   ],
   "source": [
    "!qiime gemelli rpca \\\n",
    "    --i-table ../data/Microbiome/pooling_filtered/all_gg2_1000000rar_core_diversity/rarefied_table.qza \\\n",
    "    --o-biplot ../data/Microbiome/pooling_filtered/RPCA_all/all_rar_RPCA_ordination.qza \\\n",
    "    --o-distance-matrix ../data/Microbiome/pooling_filtered/RPCA_all/all_rar_RPCA_distance.qza"
   ]
  },
  {
   "cell_type": "code",
   "execution_count": 17,
   "id": "2d0fbe0c",
   "metadata": {},
   "outputs": [
    {
     "name": "stdout",
     "output_type": "stream",
     "text": [
      "\u001b[32mSaved Visualization to: ../data/Microbiome/pooling_filtered/RPCA_all/rarefy-qc.qzv\u001b[0m\r\n",
      "\u001b[0m"
     ]
    }
   ],
   "source": [
    "!qiime gemelli qc-rarefy \\\n",
    "    --i-table ../data/Microbiome/pooling_filtered/RPCA_all/min1000000reads_table.qza \\\n",
    "    --i-rarefied-distance ../data/Microbiome/pooling_filtered/RPCA_all/all_rar_RPCA_distance.qza \\\n",
    "    --i-unrarefied-distance ../data/Microbiome/pooling_filtered/RPCA_all/all_RPCA_distance.qza \\\n",
    "    --o-visualization ../data/Microbiome/pooling_filtered/RPCA_all/rarefy-qc.qzv\n",
    "#no sig difference between rar and unrar, prefer unrar - proceed"
   ]
  },
  {
   "cell_type": "code",
   "execution_count": 18,
   "id": "f3b4f9f8",
   "metadata": {},
   "outputs": [
    {
     "name": "stdout",
     "output_type": "stream",
     "text": [
      "\u001b[32mSaved Visualization to: ../data/Microbiome/pooling_filtered/RPCA_all/all_RPCA_biplot.qzv\u001b[0m\r\n",
      "\u001b[0m"
     ]
    }
   ],
   "source": [
    "!qiime emperor biplot \\\n",
    "    --i-biplot ../data/Microbiome/pooling_filtered/RPCA_all/all_RPCA_ordination.qza \\\n",
    "    --m-sample-metadata-file ../data/Microbiome/14748_metadata_overpooling.txt \\\n",
    "    --m-feature-metadata-file ../data/Microbiome/pooling_filtered/gg2_taxonomy.qza \\\n",
    "    --p-number-of-features 10 \\\n",
    "    --o-visualization ../data/Microbiome/pooling_filtered/RPCA_all/all_RPCA_biplot.qzv"
   ]
  },
  {
   "cell_type": "code",
   "execution_count": 19,
   "id": "ceb99d64",
   "metadata": {},
   "outputs": [
    {
     "name": "stdout",
     "output_type": "stream",
     "text": [
      "\u001b[32mSaved Visualization to: ../data/Microbiome/pooling_filtered/RPCA_all/all_RPCA_emp_time.qzv\u001b[0m\r\n",
      "\u001b[0m"
     ]
    }
   ],
   "source": [
    "!qiime emperor plot \\\n",
    "    --i-pcoa ../data/Microbiome/pooling_filtered/RPCA_all/all_RPCA_ordination.qza \\\n",
    "    --m-metadata-file ../data/Microbiome/14748_metadata_overpooling.txt \\\n",
    "    --p-ignore-pcoa-features True \\\n",
    "    --p-custom-axes host_age \\\n",
    "    --o-visualization ../data/Microbiome/pooling_filtered/RPCA_all/all_RPCA_emp_time.qzv"
   ]
  },
  {
   "cell_type": "code",
   "execution_count": 20,
   "id": "3a32702c",
   "metadata": {},
   "outputs": [
    {
     "name": "stdout",
     "output_type": "stream",
     "text": [
      "\u001b[32mSaved Visualization to: ../data/Microbiome/pooling_filtered/RPCA_all/all_RPCA_qurro_plot.qzv\u001b[0m\r\n",
      "\u001b[0m"
     ]
    }
   ],
   "source": [
    "!qiime qurro loading-plot \\\n",
    "    --i-ranks ../data/Microbiome/pooling_filtered/RPCA_all/all_RPCA_ordination.qza \\\n",
    "    --i-table ../data/Microbiome/pooling_filtered/RPCA_all/min1000000reads_table.qza \\\n",
    "    --m-sample-metadata-file ../data/Microbiome/14748_metadata_overpooling.txt \\\n",
    "    --m-feature-metadata-file ../data/Microbiome/pooling_filtered/gg2_taxonomy.qza \\\n",
    "    --o-visualization ../data/Microbiome/pooling_filtered/RPCA_all/all_RPCA_qurro_plot.qzv"
   ]
  },
  {
   "cell_type": "code",
   "execution_count": 21,
   "id": "936a311e",
   "metadata": {},
   "outputs": [
    {
     "name": "stdout",
     "output_type": "stream",
     "text": [
      "\u001b[32mExported ../data/Microbiome/pooling_filtered/RPCA_all/all_RPCA_ordination.qza as OrdinationDirectoryFormat to directory ../data/Microbiome/pooling_filtered/RPCA_all/all_RPCA_ordination\u001b[0m\r\n",
      "\u001b[0m"
     ]
    }
   ],
   "source": [
    "!qiime tools export \\\n",
    "    --input-path ../data/Microbiome/pooling_filtered/RPCA_all/all_RPCA_ordination.qza \\\n",
    "    --output-path ../data/Microbiome/pooling_filtered/RPCA_all/all_RPCA_ordination"
   ]
  },
  {
   "cell_type": "code",
   "execution_count": 22,
   "id": "1b13ad2d",
   "metadata": {},
   "outputs": [
    {
     "name": "stdout",
     "output_type": "stream",
     "text": [
      "\u001b[32mSaved Visualization to: ../data/Microbiome/pooling_filtered/RPCA_all/RPCA_genotype-sex_bsig.qzv\u001b[0m\n",
      "\u001b[0m"
     ]
    }
   ],
   "source": [
    "!qiime diversity beta-group-significance \\\n",
    "    --i-distance-matrix ../data/Microbiome/pooling_filtered/RPCA_all/all_RPCA_distance.qza \\\n",
    "    --m-metadata-file ../data/Microbiome/14748_metadata_overpooling.txt \\\n",
    "    --m-metadata-column genotype_sex \\\n",
    "    --p-method permanova \\\n",
    "    --p-pairwise True \\\n",
    "    --o-visualization ../data/Microbiome/pooling_filtered/RPCA_all/RPCA_genotype-sex_bsig.qzv"
   ]
  },
  {
   "cell_type": "code",
   "execution_count": 23,
   "id": "3da88d7e",
   "metadata": {},
   "outputs": [
    {
     "name": "stdout",
     "output_type": "stream",
     "text": [
      "\u001b[32mSaved Visualization to: ../data/Microbiome/pooling_filtered/RPCA_all/RPCA_study-type_bsig.qzv\u001b[0m\n",
      "\u001b[0m\u001b[32mSaved Visualization to: ../data/Microbiome/pooling_filtered/RPCA_all/RPCA_genotype_bsig.qzv\u001b[0m\n",
      "\u001b[0m\u001b[32mSaved Visualization to: ../data/Microbiome/pooling_filtered/RPCA_all/RPCA_sex_bsig.qzv\u001b[0m\n",
      "\u001b[0m"
     ]
    }
   ],
   "source": [
    "!qiime diversity beta-group-significance \\\n",
    "    --i-distance-matrix ../data/Microbiome/pooling_filtered/RPCA_all/all_RPCA_distance.qza \\\n",
    "    --m-metadata-file ../data/Microbiome/14748_metadata_overpooling.txt \\\n",
    "    --m-metadata-column study_type \\\n",
    "    --p-method anosim \\\n",
    "    --p-pairwise True \\\n",
    "    --o-visualization ../data/Microbiome/pooling_filtered/RPCA_all/RPCA_study-type_bsig.qzv\n",
    "\n",
    "!qiime diversity beta-group-significance \\\n",
    "    --i-distance-matrix ../data/Microbiome/pooling_filtered/RPCA_all/all_RPCA_distance.qza \\\n",
    "    --m-metadata-file ../data/Microbiome/14748_metadata_overpooling.txt \\\n",
    "    --m-metadata-column genotype \\\n",
    "    --p-method anosim \\\n",
    "    --p-pairwise True \\\n",
    "    --o-visualization ../data/Microbiome/pooling_filtered/RPCA_all/RPCA_genotype_bsig.qzv\n",
    "\n",
    "!qiime diversity beta-group-significance \\\n",
    "    --i-distance-matrix ../data/Microbiome/pooling_filtered/RPCA_all/all_RPCA_distance.qza \\\n",
    "    --m-metadata-file ../data/Microbiome/14748_metadata_overpooling.txt \\\n",
    "    --m-metadata-column sex \\\n",
    "    --p-method anosim \\\n",
    "    --p-pairwise True \\\n",
    "    --o-visualization ../data/Microbiome/pooling_filtered/RPCA_all/RPCA_sex_bsig.qzv"
   ]
  },
  {
   "cell_type": "code",
   "execution_count": 24,
   "id": "57b8c1da",
   "metadata": {},
   "outputs": [
    {
     "name": "stdout",
     "output_type": "stream",
     "text": [
      "\u001b[32mSaved Visualization to: ../data/Microbiome/pooling_filtered/RPCA_all/RPCA_genotype-tp_bsig.qzv\u001b[0m\r\n",
      "\u001b[0m"
     ]
    }
   ],
   "source": [
    "!qiime diversity beta-group-significance \\\n",
    "    --i-distance-matrix ../data/Microbiome/pooling_filtered/RPCA_all/all_RPCA_distance.qza \\\n",
    "    --m-metadata-file ../data/Microbiome/14748_metadata_overpooling.txt \\\n",
    "    --m-metadata-column genotype_tp \\\n",
    "    --p-method permanova \\\n",
    "    --p-pairwise True \\\n",
    "    --o-visualization ../data/Microbiome/pooling_filtered/RPCA_all/RPCA_genotype-tp_bsig.qzv"
   ]
  },
  {
   "cell_type": "markdown",
   "id": "21474ab8",
   "metadata": {},
   "source": [
    "### By Experiment"
   ]
  },
  {
   "cell_type": "code",
   "execution_count": 25,
   "id": "474432d8",
   "metadata": {},
   "outputs": [
    {
     "name": "stdout",
     "output_type": "stream",
     "text": [
      "\u001b[32mSaved FeatureTable[Frequency] to: ../data/Microbiome/pooling_filtered/longitudinal/RPCA/long_1000000r_table.qza\u001b[0m\n",
      "\u001b[0m\u001b[32mSaved FeatureTable[Frequency] to: ../data/Microbiome/pooling_filtered/sacrifice/RPCA/sac_1000000r_table.qza\u001b[0m\n",
      "\u001b[0m"
     ]
    }
   ],
   "source": [
    "!qiime feature-table filter-samples \\\n",
    "    --i-table ../data/Microbiome/pooling_filtered/RPCA_all/min1000000reads_table.qza \\\n",
    "    --m-metadata-file ../data/Microbiome/14748_metadata_overpooling.txt \\\n",
    "    --p-where \"[study_type]='Longitudinal'\" \\\n",
    "    --o-filtered-table ../data/Microbiome/pooling_filtered/longitudinal/RPCA/long_1000000r_table.qza\n",
    "    \n",
    "!qiime feature-table filter-samples \\\n",
    "    --i-table ../data/Microbiome/pooling_filtered/RPCA_all/min1000000reads_table.qza \\\n",
    "    --m-metadata-file ../data/Microbiome/14748_metadata_overpooling.txt \\\n",
    "    --p-where \"[study_type]='Sacrifice'\" \\\n",
    "    --o-filtered-table ../data/Microbiome/pooling_filtered/sacrifice/RPCA/sac_1000000r_table.qza"
   ]
  },
  {
   "cell_type": "code",
   "execution_count": 26,
   "id": "31178452",
   "metadata": {
    "scrolled": true
   },
   "outputs": [
    {
     "name": "stdout",
     "output_type": "stream",
     "text": [
      "\u001b[32mSaved PCoAResults % Properties('biplot') to: ../data/Microbiome/pooling_filtered/longitudinal/RPCA/long_RPCA_ordination.qza\u001b[0m\n",
      "\u001b[32mSaved DistanceMatrix to: ../data/Microbiome/pooling_filtered/longitudinal/RPCA/long_RPCA_distance.qza\u001b[0m\n",
      "\u001b[0m\u001b[32mSaved PCoAResults % Properties('biplot') to: ../data/Microbiome/pooling_filtered/sacrifice/RPCA/sac_RPCA_ordination.qza\u001b[0m\n",
      "\u001b[32mSaved DistanceMatrix to: ../data/Microbiome/pooling_filtered/sacrifice/RPCA/sac_RPCA_distance.qza\u001b[0m\n",
      "\u001b[0m"
     ]
    }
   ],
   "source": [
    "!qiime gemelli rpca \\\n",
    "    --i-table ../data/Microbiome/pooling_filtered/longitudinal/RPCA/long_1000000r_table.qza \\\n",
    "    --p-min-sample-count 500 \\\n",
    "    --o-biplot ../data/Microbiome/pooling_filtered/longitudinal/RPCA/long_RPCA_ordination.qza \\\n",
    "    --o-distance-matrix ../data/Microbiome/pooling_filtered/longitudinal/RPCA/long_RPCA_distance.qza\n",
    "\n",
    "!qiime gemelli rpca \\\n",
    "    --i-table ../data/Microbiome/pooling_filtered/sacrifice/RPCA/sac_1000000r_table.qza \\\n",
    "    --p-min-sample-count 500 \\\n",
    "    --o-biplot ../data/Microbiome/pooling_filtered/sacrifice/RPCA/sac_RPCA_ordination.qza \\\n",
    "    --o-distance-matrix ../data/Microbiome/pooling_filtered/sacrifice/RPCA/sac_RPCA_distance.qza"
   ]
  },
  {
   "cell_type": "code",
   "execution_count": 27,
   "id": "da19f3ad",
   "metadata": {},
   "outputs": [
    {
     "name": "stdout",
     "output_type": "stream",
     "text": [
      "\u001b[32mSaved PCoAResults % Properties('biplot') to: ../data/Microbiome/pooling_filtered/longitudinal/RPCA/long_rar_RPCA_ordination.qza\u001b[0m\n",
      "\u001b[32mSaved DistanceMatrix to: ../data/Microbiome/pooling_filtered/longitudinal/RPCA/long_rar_RPCA_distance.qza\u001b[0m\n",
      "\u001b[0m\u001b[32mSaved PCoAResults % Properties('biplot') to: ../data/Microbiome/pooling_filtered/sacrifice/RPCA/sac_rar_RPCA_ordination.qza\u001b[0m\n",
      "\u001b[32mSaved DistanceMatrix to: ../data/Microbiome/pooling_filtered/sacrifice/RPCA/sac_rar_RPCA_distance.qza\u001b[0m\n",
      "\u001b[0m"
     ]
    }
   ],
   "source": [
    "!qiime gemelli rpca \\\n",
    "    --i-table ../data/Microbiome/pooling_filtered/longitudinal/long_1000000rar_core_diversity/rarefied_table.qza \\\n",
    "    --o-biplot ../data/Microbiome/pooling_filtered/longitudinal/RPCA/long_rar_RPCA_ordination.qza \\\n",
    "    --o-distance-matrix ../data/Microbiome/pooling_filtered/longitudinal/RPCA/long_rar_RPCA_distance.qza\n",
    "\n",
    "!qiime gemelli rpca \\\n",
    "    --i-table ../data/Microbiome/pooling_filtered/sacrifice/sac_1000000rar_core_diversity/rarefied_table.qza \\\n",
    "    --o-biplot ../data/Microbiome/pooling_filtered/sacrifice/RPCA/sac_rar_RPCA_ordination.qza \\\n",
    "    --o-distance-matrix ../data/Microbiome/pooling_filtered/sacrifice/RPCA/sac_rar_RPCA_distance.qza"
   ]
  },
  {
   "cell_type": "code",
   "execution_count": 28,
   "id": "7f1e5e6a",
   "metadata": {},
   "outputs": [
    {
     "name": "stdout",
     "output_type": "stream",
     "text": [
      "\u001b[32mSaved Visualization to: ../data/Microbiome/pooling_filtered/longitudinal/RPCA/long_rarefy-qc.qzv\u001b[0m\n",
      "\u001b[0m"
     ]
    }
   ],
   "source": [
    "!qiime gemelli qc-rarefy \\\n",
    "    --i-table ../data/Microbiome/pooling_filtered/longitudinal/RPCA/long_1000000r_table.qza \\\n",
    "    --i-rarefied-distance ../data/Microbiome/pooling_filtered/longitudinal/RPCA/long_rar_RPCA_distance.qza \\\n",
    "    --i-unrarefied-distance ../data/Microbiome/pooling_filtered/longitudinal/RPCA/long_RPCA_distance.qza \\\n",
    "    --o-visualization ../data/Microbiome/pooling_filtered/longitudinal/RPCA/long_rarefy-qc.qzv\n",
    "#no sig difference between rar and unrar, prefer unrar - proceed"
   ]
  },
  {
   "cell_type": "code",
   "execution_count": 29,
   "id": "f2a5794a",
   "metadata": {},
   "outputs": [
    {
     "name": "stdout",
     "output_type": "stream",
     "text": [
      "\u001b[32mSaved Visualization to: ../data/Microbiome/pooling_filtered/sacrifice/RPCA/sac_rarefy-qc.qzv\u001b[0m\r\n",
      "\u001b[0m"
     ]
    }
   ],
   "source": [
    "!qiime gemelli qc-rarefy \\\n",
    "    --i-table ../data/Microbiome/pooling_filtered/sacrifice/RPCA/sac_1000000r_table.qza \\\n",
    "    --i-rarefied-distance ../data/Microbiome/pooling_filtered/sacrifice/RPCA/sac_rar_RPCA_distance.qza \\\n",
    "    --i-unrarefied-distance ../data/Microbiome/pooling_filtered/sacrifice/RPCA/sac_RPCA_distance.qza \\\n",
    "    --o-visualization ../data/Microbiome/pooling_filtered/sacrifice/RPCA/sac_rarefy-qc.qzv\n",
    "#no sig difference between rar and unrar, prefer unrar - proceed"
   ]
  },
  {
   "cell_type": "code",
   "execution_count": 30,
   "id": "565400ef",
   "metadata": {},
   "outputs": [
    {
     "name": "stdout",
     "output_type": "stream",
     "text": [
      "\u001b[32mSaved Visualization to: ../data/Microbiome/pooling_filtered/longitudinal/RPCA/long_RPCA_biplot.qzv\u001b[0m\n",
      "\u001b[0m\u001b[32mSaved Visualization to: ../data/Microbiome/pooling_filtered/sacrifice/RPCA/sac_RPCA_biplot.qzv\u001b[0m\n",
      "\u001b[0m"
     ]
    }
   ],
   "source": [
    "!qiime emperor biplot \\\n",
    "    --i-biplot ../data/Microbiome/pooling_filtered/longitudinal/RPCA/long_RPCA_ordination.qza \\\n",
    "    --m-sample-metadata-file ../data/Microbiome/14748_metadata_overpooling.txt \\\n",
    "    --m-feature-metadata-file ../data/Microbiome/pooling_filtered/gg2_taxonomy.qza \\\n",
    "    --p-number-of-features 10 \\\n",
    "    --o-visualization ../data/Microbiome/pooling_filtered/longitudinal/RPCA/long_RPCA_biplot.qzv\n",
    "\n",
    "!qiime emperor biplot \\\n",
    "    --i-biplot ../data/Microbiome/pooling_filtered/sacrifice/RPCA/sac_RPCA_ordination.qza \\\n",
    "    --m-sample-metadata-file ../data/Microbiome/14748_metadata_overpooling.txt \\\n",
    "    --m-feature-metadata-file ../data/Microbiome/pooling_filtered/gg2_taxonomy.qza \\\n",
    "    --p-number-of-features 10 \\\n",
    "    --o-visualization ../data/Microbiome/pooling_filtered/sacrifice/RPCA/sac_RPCA_biplot.qzv"
   ]
  },
  {
   "cell_type": "code",
   "execution_count": 31,
   "id": "5ea8d124",
   "metadata": {},
   "outputs": [
    {
     "name": "stdout",
     "output_type": "stream",
     "text": [
      "\u001b[32mSaved Visualization to: ../data/Microbiome/pooling_filtered/longitudinal/RPCA/long_RPCA_emp_time.qzv\u001b[0m\n",
      "\u001b[0m\u001b[32mSaved Visualization to: ../data/Microbiome/pooling_filtered/sacrifice/RPCA/sac_RPCA_emp_time.qzv\u001b[0m\n",
      "\u001b[0m"
     ]
    }
   ],
   "source": [
    "!qiime emperor plot \\\n",
    "    --i-pcoa ../data/Microbiome/pooling_filtered/longitudinal/RPCA/long_RPCA_ordination.qza \\\n",
    "    --m-metadata-file ../data/Microbiome/14748_metadata_overpooling.txt \\\n",
    "    --p-ignore-pcoa-features True \\\n",
    "    --p-custom-axes host_age \\\n",
    "    --o-visualization ../data/Microbiome/pooling_filtered/longitudinal/RPCA/long_RPCA_emp_time.qzv\n",
    "\n",
    "!qiime emperor plot \\\n",
    "    --i-pcoa ../data/Microbiome/pooling_filtered/sacrifice/RPCA/sac_RPCA_ordination.qza \\\n",
    "    --m-metadata-file ../data/Microbiome/14748_metadata_overpooling.txt \\\n",
    "    --p-ignore-pcoa-features True \\\n",
    "    --p-custom-axes host_age \\\n",
    "    --o-visualization ../data/Microbiome/pooling_filtered/sacrifice/RPCA/sac_RPCA_emp_time.qzv"
   ]
  },
  {
   "cell_type": "code",
   "execution_count": 32,
   "id": "0be4ceae",
   "metadata": {},
   "outputs": [
    {
     "name": "stdout",
     "output_type": "stream",
     "text": [
      "\u001b[32mSaved Visualization to: ../data/Microbiome/pooling_filtered/longitudinal/RPCA/long_RPCA_genotype_significance.qzv\u001b[0m\n",
      "\u001b[0m\u001b[32mSaved Visualization to: ../data/Microbiome/pooling_filtered/sacrifice/RPCA/sac_RPCA_genotype_significance.qzv\u001b[0m\n",
      "\u001b[0m"
     ]
    }
   ],
   "source": [
    "!qiime diversity beta-group-significance \\\n",
    "    --i-distance-matrix ../data/Microbiome/pooling_filtered/longitudinal/RPCA/long_RPCA_distance.qza \\\n",
    "    --m-metadata-file ../data/Microbiome/14748_metadata_overpooling.txt \\\n",
    "    --m-metadata-column genotype \\\n",
    "    --p-method permanova \\\n",
    "    --o-visualization ../data/Microbiome/pooling_filtered/longitudinal/RPCA/long_RPCA_genotype_significance.qzv\n",
    "\n",
    "!qiime diversity beta-group-significance \\\n",
    "    --i-distance-matrix ../data/Microbiome/pooling_filtered/sacrifice/RPCA/sac_RPCA_distance.qza \\\n",
    "    --m-metadata-file ../data/Microbiome/14748_metadata_overpooling.txt \\\n",
    "    --m-metadata-column genotype \\\n",
    "    --p-method permanova \\\n",
    "    --o-visualization ../data/Microbiome/pooling_filtered/sacrifice/RPCA/sac_RPCA_genotype_significance.qzv"
   ]
  },
  {
   "cell_type": "code",
   "execution_count": 33,
   "id": "1fee228f",
   "metadata": {},
   "outputs": [
    {
     "name": "stdout",
     "output_type": "stream",
     "text": [
      "\u001b[32mSaved Visualization to: ../data/Microbiome/pooling_filtered/longitudinal/RPCA/long_RPCA_combo_significance.qzv\u001b[0m\n",
      "\u001b[0m\u001b[32mSaved Visualization to: ../data/Microbiome/pooling_filtered/sacrifice/RPCA/sac_RPCA_combo_significance.qzv\u001b[0m\n",
      "\u001b[0m"
     ]
    }
   ],
   "source": [
    "!qiime diversity beta-group-significance \\\n",
    "    --i-distance-matrix ../data/Microbiome/pooling_filtered/longitudinal/RPCA/long_RPCA_distance.qza \\\n",
    "    --m-metadata-file ../data/Microbiome/14748_metadata_overpooling.txt \\\n",
    "    --m-metadata-column genotype_sex \\\n",
    "    --p-method permanova \\\n",
    "    --p-pairwise True \\\n",
    "    --o-visualization ../data/Microbiome/pooling_filtered/longitudinal/RPCA/long_RPCA_combo_significance.qzv\n",
    "\n",
    "!qiime diversity beta-group-significance \\\n",
    "    --i-distance-matrix ../data/Microbiome/pooling_filtered/sacrifice/RPCA/sac_RPCA_distance.qza \\\n",
    "    --m-metadata-file ../data/Microbiome/14748_metadata_overpooling.txt \\\n",
    "    --m-metadata-column genotype_sex \\\n",
    "    --p-method permanova \\\n",
    "    --p-pairwise True \\\n",
    "    --o-visualization ../data/Microbiome/pooling_filtered/sacrifice/RPCA/sac_RPCA_combo_significance.qzv"
   ]
  },
  {
   "cell_type": "code",
   "execution_count": 34,
   "id": "8461adc0",
   "metadata": {},
   "outputs": [
    {
     "name": "stdout",
     "output_type": "stream",
     "text": [
      "\u001b[32mSaved Visualization to: ../data/Microbiome/pooling_filtered/longitudinal/RPCA/long_RPCA_qurro_plot.qzv\u001b[0m\r\n",
      "\u001b[0m"
     ]
    }
   ],
   "source": [
    "!qiime qurro loading-plot \\\n",
    "    --i-ranks ../data/Microbiome/pooling_filtered/longitudinal/RPCA/long_RPCA_ordination.qza \\\n",
    "    --i-table ../data/Microbiome/pooling_filtered/longitudinal/RPCA/long_1000000r_table.qza \\\n",
    "    --m-sample-metadata-file ../data/Microbiome/14748_metadata_overpooling.txt \\\n",
    "    --m-feature-metadata-file ../data/Microbiome/pooling_filtered/gg2_taxonomy.qza \\\n",
    "    --o-visualization ../data/Microbiome/pooling_filtered/longitudinal/RPCA/long_RPCA_qurro_plot.qzv"
   ]
  },
  {
   "cell_type": "code",
   "execution_count": 35,
   "id": "337e4a9d",
   "metadata": {},
   "outputs": [
    {
     "name": "stdout",
     "output_type": "stream",
     "text": [
      "\u001b[32mSaved Visualization to: ../data/Microbiome/pooling_filtered/sacrifice/RPCA/sac_RPCA_qurro_plot.qzv\u001b[0m\r\n",
      "\u001b[0m"
     ]
    }
   ],
   "source": [
    "!qiime qurro loading-plot \\\n",
    "    --i-ranks ../data/Microbiome/pooling_filtered/sacrifice/RPCA/sac_RPCA_ordination.qza \\\n",
    "    --i-table ../data/Microbiome/pooling_filtered/sacrifice/RPCA/sac_1000000r_table.qza \\\n",
    "    --m-sample-metadata-file ../data/Microbiome/14748_metadata_overpooling.txt \\\n",
    "    --m-feature-metadata-file ../data/Microbiome/pooling_filtered/gg2_taxonomy.qza \\\n",
    "    --o-visualization ../data/Microbiome/pooling_filtered/sacrifice/RPCA/sac_RPCA_qurro_plot.qzv"
   ]
  },
  {
   "cell_type": "code",
   "execution_count": 4,
   "id": "d452721e",
   "metadata": {},
   "outputs": [
    {
     "name": "stdout",
     "output_type": "stream",
     "text": [
      "\u001b[32mSaved Visualization to: ../data/Microbiome/pooling_filtered/sacrifice/RPCA/sacRPCAranks_all-table_qurro_plot.qzv\u001b[0m\r\n",
      "\u001b[0m"
     ]
    }
   ],
   "source": [
    "!qiime qurro loading-plot \\\n",
    "    --i-ranks ../data/Microbiome/pooling_filtered/sacrifice/RPCA/sac_RPCA_ordination.qza \\\n",
    "    --i-table ../data/Microbiome/pooling_filtered/RPCA_all/min1000000reads_table.qza \\\n",
    "    --m-sample-metadata-file ../data/Microbiome/14748_metadata_overpooling.txt \\\n",
    "    --m-feature-metadata-file ../data/Microbiome/pooling_filtered/gg2_taxonomy.qza \\\n",
    "    --o-visualization ../data/Microbiome/pooling_filtered/sacrifice/RPCA/sacRPCAranks_all-table_qurro_plot.qzv"
   ]
  },
  {
   "cell_type": "markdown",
   "id": "4806c3b0",
   "metadata": {},
   "source": [
    "# Phylo-RPCA"
   ]
  },
  {
   "cell_type": "code",
   "execution_count": 36,
   "id": "ad0e5ad6",
   "metadata": {},
   "outputs": [
    {
     "name": "stdout",
     "output_type": "stream",
     "text": [
      "\u001b[32mSaved PCoAResults % Properties('biplot') to: ../data/Microbiome/pooling_filtered/RPCA_all/phyloRPCA-ordination.qza\u001b[0m\n",
      "\u001b[32mSaved DistanceMatrix to: ../data/Microbiome/pooling_filtered/RPCA_all/phyloRPCA-distance.qza\u001b[0m\n",
      "\u001b[32mSaved Phylogeny[Rooted] to: ../data/Microbiome/pooling_filtered/RPCA_all/phyloRPCA-tree.qza\u001b[0m\n",
      "\u001b[32mSaved FeatureTable[Frequency] to: ../data/Microbiome/pooling_filtered/RPCA_all/phyloRPCA-table.qza\u001b[0m\n",
      "\u001b[32mSaved FeatureData[Taxonomy] to: ../data/Microbiome/pooling_filtered/RPCA_all/phyloRPCA-taxonomy.qza\u001b[0m\n",
      "\u001b[0m"
     ]
    }
   ],
   "source": [
    "!qiime gemelli phylogenetic-rpca-with-taxonomy \\\n",
    "    --i-table ../data/Microbiome/pooling_filtered/RPCA_all/min1000000reads_table.qza \\\n",
    "    --i-phylogeny ../../../greengenes2/2022.10.phylogeny.id.nwk.qza \\\n",
    "    --m-taxonomy-file ../data/Microbiome/pooling_filtered/gg2_taxonomy.qza \\\n",
    "    --o-biplot ../data/Microbiome/pooling_filtered/RPCA_all/phyloRPCA-ordination.qza \\\n",
    "    --o-distance-matrix ../data/Microbiome/pooling_filtered/RPCA_all/phyloRPCA-distance.qza \\\n",
    "    --o-counts-by-node-tree ../data/Microbiome/pooling_filtered/RPCA_all/phyloRPCA-tree.qza \\\n",
    "    --o-counts-by-node ../data/Microbiome/pooling_filtered/RPCA_all/phyloRPCA-table.qza \\\n",
    "    --o-t2t-taxonomy ../data/Microbiome/pooling_filtered/RPCA_all/phyloRPCA-taxonomy.qza"
   ]
  },
  {
   "cell_type": "code",
   "execution_count": 37,
   "id": "cc5a0e38",
   "metadata": {},
   "outputs": [
    {
     "name": "stdout",
     "output_type": "stream",
     "text": [
      "\u001b[32mExtracted ../data/Microbiome/pooling_filtered/RPCA_all/phyloRPCA-ordination.qza to directory ../data/Microbiome/pooling_filtered/RPCA_all/phyloRPCA-ordination/36f6a93a-f2e9-4c12-b2b8-93d0906d3c05\u001b[0m\r\n"
     ]
    }
   ],
   "source": [
    "!qiime tools export \\\n",
    "    --input-path ../data/Microbiome/pooling_filtered/RPCA_all/phyloRPCA-ordination.qza \\\n",
    "    --output-path ../data/Microbiome/pooling_filtered/RPCA_all/phyloRPCA-ordination"
   ]
  },
  {
   "cell_type": "code",
   "execution_count": 38,
   "id": "60b107e5-f183-4aef-bfe4-cc5c56056357",
   "metadata": {},
   "outputs": [
    {
     "name": "stdout",
     "output_type": "stream",
     "text": [
      "\u001b[32mSaved Visualization to: ../data/Microbiome/pooling_filtered/RPCA_all/all-phyloRPCA-empress.qzv\u001b[0m\r\n",
      "\u001b[0m"
     ]
    }
   ],
   "source": [
    "!qiime empress community-plot\\\n",
    "    --i-tree ../data/Microbiome/pooling_filtered/RPCA_all/phyloRPCA-tree.qza \\\n",
    "    --i-feature-table ../data/Microbiome/pooling_filtered/RPCA_all/phyloRPCA-table.qza \\\n",
    "    --i-pcoa ../data/Microbiome/pooling_filtered/RPCA_all/phyloRPCA-ordination.qza \\\n",
    "    --m-sample-metadata-file ../data/Microbiome/14748_metadata_overpooling.txt \\\n",
    "    --m-feature-metadata-file ../data/Microbiome/pooling_filtered/RPCA_all/phyloRPCA-taxonomy.qza \\\n",
    "    --p-filter-missing-features \\\n",
    "    --p-number-of-features 10 \\\n",
    "    --o-visualization ../data/Microbiome/pooling_filtered/RPCA_all/all-phyloRPCA-empress.qzv"
   ]
  },
  {
   "cell_type": "code",
   "execution_count": 3,
   "id": "9e6dfb35",
   "metadata": {},
   "outputs": [
    {
     "name": "stdout",
     "output_type": "stream",
     "text": [
      "\u001b[32mSaved Visualization to: ../data/Microbiome/pooling_filtered/RPCA_all/phyloRPCA_study-type_bsig.qzv\u001b[0m\n",
      "\u001b[0m\u001b[32mSaved Visualization to: ../data/Microbiome/pooling_filtered/RPCA_all/phyloRPCA_genotype_bsig.qzv\u001b[0m\n",
      "\u001b[0m\u001b[32mSaved Visualization to: ../data/Microbiome/pooling_filtered/RPCA_all/phyloRPCA_sex_bsig.qzv\u001b[0m\n",
      "\u001b[0m"
     ]
    }
   ],
   "source": [
    "!qiime diversity beta-group-significance \\\n",
    "    --i-distance-matrix ../data/Microbiome/pooling_filtered/RPCA_all/phyloRPCA-distance.qza \\\n",
    "    --m-metadata-file ../data/Microbiome/14748_metadata_overpooling.txt \\\n",
    "    --m-metadata-column study_type \\\n",
    "    --p-method permanova \\\n",
    "    --p-pairwise True \\\n",
    "    --o-visualization ../data/Microbiome/pooling_filtered/RPCA_all/phyloRPCA_study-type_bsig.qzv\n",
    "\n",
    "!qiime diversity beta-group-significance \\\n",
    "    --i-distance-matrix ../data/Microbiome/pooling_filtered/RPCA_all/phyloRPCA-distance.qza \\\n",
    "    --m-metadata-file ../data/Microbiome/14748_metadata_overpooling.txt \\\n",
    "    --m-metadata-column genotype \\\n",
    "    --p-method permanova \\\n",
    "    --p-pairwise True \\\n",
    "    --o-visualization ../data/Microbiome/pooling_filtered/RPCA_all/phyloRPCA_genotype_bsig.qzv\n",
    "\n",
    "!qiime diversity beta-group-significance \\\n",
    "    --i-distance-matrix ../data/Microbiome/pooling_filtered/RPCA_all/phyloRPCA-distance.qza \\\n",
    "    --m-metadata-file ../data/Microbiome/14748_metadata_overpooling.txt \\\n",
    "    --m-metadata-column sex \\\n",
    "    --p-method permanova \\\n",
    "    --p-pairwise True \\\n",
    "    --o-visualization ../data/Microbiome/pooling_filtered/RPCA_all/phyloRPCA_sex_bsig.qzv"
   ]
  },
  {
   "cell_type": "code",
   "execution_count": 4,
   "id": "161f2b7d",
   "metadata": {},
   "outputs": [
    {
     "name": "stdout",
     "output_type": "stream",
     "text": [
      "\u001b[32mSaved Visualization to: ../data/Microbiome/pooling_filtered/RPCA_all/phyloRPCA_study-type_bsig_anosim.qzv\u001b[0m\n",
      "\u001b[0m\u001b[32mSaved Visualization to: ../data/Microbiome/pooling_filtered/RPCA_all/phyloRPCA_genotype_bsig_anosim.qzv\u001b[0m\n",
      "\u001b[0m\u001b[32mSaved Visualization to: ../data/Microbiome/pooling_filtered/RPCA_all/phyloRPCA_sex_bsig_anosim.qzv\u001b[0m\n",
      "\u001b[0m"
     ]
    }
   ],
   "source": [
    "!qiime diversity beta-group-significance \\\n",
    "    --i-distance-matrix ../data/Microbiome/pooling_filtered/RPCA_all/phyloRPCA-distance.qza \\\n",
    "    --m-metadata-file ../data/Microbiome/14748_metadata_overpooling.txt \\\n",
    "    --m-metadata-column study_type \\\n",
    "    --p-method anosim \\\n",
    "    --p-pairwise True \\\n",
    "    --o-visualization ../data/Microbiome/pooling_filtered/RPCA_all/phyloRPCA_study-type_bsig_anosim.qzv\n",
    "\n",
    "!qiime diversity beta-group-significance \\\n",
    "    --i-distance-matrix ../data/Microbiome/pooling_filtered/RPCA_all/phyloRPCA-distance.qza \\\n",
    "    --m-metadata-file ../data/Microbiome/14748_metadata_overpooling.txt \\\n",
    "    --m-metadata-column genotype \\\n",
    "    --p-method anosim \\\n",
    "    --p-pairwise True \\\n",
    "    --o-visualization ../data/Microbiome/pooling_filtered/RPCA_all/phyloRPCA_genotype_bsig_anosim.qzv\n",
    "\n",
    "!qiime diversity beta-group-significance \\\n",
    "    --i-distance-matrix ../data/Microbiome/pooling_filtered/RPCA_all/phyloRPCA-distance.qza \\\n",
    "    --m-metadata-file ../data/Microbiome/14748_metadata_overpooling.txt \\\n",
    "    --m-metadata-column sex \\\n",
    "    --p-method anosim \\\n",
    "    --p-pairwise True \\\n",
    "    --o-visualization ../data/Microbiome/pooling_filtered/RPCA_all/phyloRPCA_sex_bsig_anosim.qzv"
   ]
  },
  {
   "cell_type": "code",
   "execution_count": 8,
   "id": "7c5ba6e3",
   "metadata": {},
   "outputs": [
    {
     "name": "stdout",
     "output_type": "stream",
     "text": [
      "\u001b[32mSaved Visualization to: ../data/Microbiome/pooling_filtered/RPCA_all/phyloRPCA-qurro_plot.qzv\u001b[0m\r\n",
      "\u001b[0m"
     ]
    }
   ],
   "source": [
    "!qiime qurro loading-plot \\\n",
    "    --i-ranks ../data/Microbiome/pooling_filtered/RPCA_all/phyloRPCA-ordination.qza \\\n",
    "    --i-table ../data/Microbiome/pooling_filtered/RPCA_all/phyloRPCA-table.qza \\\n",
    "    --m-sample-metadata-file ../data/Microbiome/14748_metadata_overpooling.txt \\\n",
    "    --m-feature-metadata-file ../data/Microbiome/pooling_filtered/RPCA_all/phyloRPCA-taxonomy.qza \\\n",
    "    --o-visualization ../data/Microbiome/pooling_filtered/RPCA_all/phyloRPCA-qurro_plot.qzv"
   ]
  },
  {
   "cell_type": "markdown",
   "id": "e52ad915",
   "metadata": {},
   "source": [
    "#### Longitudinal"
   ]
  },
  {
   "cell_type": "code",
   "execution_count": 39,
   "id": "c3f9ab47",
   "metadata": {},
   "outputs": [
    {
     "name": "stdout",
     "output_type": "stream",
     "text": [
      "\u001b[32mSaved PCoAResults % Properties('biplot') to: ../data/Microbiome/pooling_filtered/longitudinal/RPCA/long-phyloRPCA-ordination.qza\u001b[0m\n",
      "\u001b[32mSaved DistanceMatrix to: ../data/Microbiome/pooling_filtered/longitudinal/RPCA/long-phyloRPCA-distance.qza\u001b[0m\n",
      "\u001b[32mSaved Phylogeny[Rooted] to: ../data/Microbiome/pooling_filtered/longitudinal//RPCA/long-phyloRPCA-tree.qza\u001b[0m\n",
      "\u001b[32mSaved FeatureTable[Frequency] to: ../data/Microbiome/pooling_filtered/longitudinal/RPCA/long-phyloRPCA-table.qza\u001b[0m\n",
      "\u001b[32mSaved FeatureData[Taxonomy] to: ../data/Microbiome/pooling_filtered/longitudinal/RPCA/long-phyloRPCA-taxonomy.qza\u001b[0m\n",
      "\u001b[0m"
     ]
    }
   ],
   "source": [
    "!qiime gemelli phylogenetic-rpca-with-taxonomy \\\n",
    "    --i-table ../data/Microbiome/pooling_filtered/longitudinal/RPCA/long_1000000r_table.qza \\\n",
    "    --i-phylogeny ../../../greengenes2/2022.10.phylogeny.id.nwk.qza \\\n",
    "    --m-taxonomy-file ../data/Microbiome/pooling_filtered/gg2_taxonomy.qza \\\n",
    "    --o-biplot ../data/Microbiome/pooling_filtered/longitudinal/RPCA/long-phyloRPCA-ordination.qza \\\n",
    "    --o-distance-matrix ../data/Microbiome/pooling_filtered/longitudinal/RPCA/long-phyloRPCA-distance.qza \\\n",
    "    --o-counts-by-node-tree ../data/Microbiome/pooling_filtered/longitudinal//RPCA/long-phyloRPCA-tree.qza \\\n",
    "    --o-counts-by-node ../data/Microbiome/pooling_filtered/longitudinal/RPCA/long-phyloRPCA-table.qza \\\n",
    "    --o-t2t-taxonomy ../data/Microbiome/pooling_filtered/longitudinal/RPCA/long-phyloRPCA-taxonomy.qza"
   ]
  },
  {
   "cell_type": "code",
   "execution_count": 40,
   "id": "2409325e",
   "metadata": {},
   "outputs": [
    {
     "name": "stdout",
     "output_type": "stream",
     "text": [
      "\u001b[32mSaved Visualization to: ../data/Microbiome/pooling_filtered/longitudinal/RPCA/long-phyloRPCA-empress.qzv\u001b[0m\r\n",
      "\u001b[0m"
     ]
    }
   ],
   "source": [
    "!qiime empress community-plot\\\n",
    "    --i-tree ../data/Microbiome/pooling_filtered/longitudinal/RPCA/long-phyloRPCA-tree.qza \\\n",
    "    --i-feature-table ../data/Microbiome/pooling_filtered/longitudinal/RPCA/long-phyloRPCA-table.qza \\\n",
    "    --i-pcoa ../data/Microbiome/pooling_filtered/longitudinal/RPCA/long-phyloRPCA-ordination.qza \\\n",
    "    --m-sample-metadata-file ../data/Microbiome/14748_metadata_overpooling.txt \\\n",
    "    --m-feature-metadata-file ../data/Microbiome/pooling_filtered/longitudinal/RPCA/long-phyloRPCA-taxonomy.qza \\\n",
    "    --p-filter-missing-features \\\n",
    "    --p-number-of-features 10 \\\n",
    "    --o-visualization ../data/Microbiome/pooling_filtered/longitudinal/RPCA/long-phyloRPCA-empress.qzv"
   ]
  },
  {
   "cell_type": "code",
   "execution_count": 41,
   "id": "aaafba84",
   "metadata": {},
   "outputs": [
    {
     "name": "stdout",
     "output_type": "stream",
     "text": [
      "\u001b[32mSaved Visualization to: ../data/Microbiome/pooling_filtered/longitudinal/RPCA/long-phyloRPCA-strainsex_significance.qzv\u001b[0m\r\n",
      "\u001b[0m"
     ]
    }
   ],
   "source": [
    "!qiime diversity beta-group-significance \\\n",
    "    --i-distance-matrix ../data/Microbiome/pooling_filtered/longitudinal/RPCA/long-phyloRPCA-distance.qza \\\n",
    "    --m-metadata-file ../data/Microbiome/14748_metadata_overpooling.txt \\\n",
    "    --m-metadata-column genotype_sex \\\n",
    "    --p-method permanova \\\n",
    "    --p-pairwise True \\\n",
    "    --o-visualization ../data/Microbiome/pooling_filtered/longitudinal/RPCA/long-phyloRPCA-strainsex_significance.qzv"
   ]
  },
  {
   "cell_type": "code",
   "execution_count": 42,
   "id": "2c0d40c3",
   "metadata": {},
   "outputs": [
    {
     "name": "stdout",
     "output_type": "stream",
     "text": [
      "\u001b[32mSaved Visualization to: ../data/Microbiome/pooling_filtered/longitudinal/RPCA/long-phyloRPCA-strain_significance.qzv\u001b[0m\r\n",
      "\u001b[0m"
     ]
    }
   ],
   "source": [
    "!qiime diversity beta-group-significance \\\n",
    "    --i-distance-matrix ../data/Microbiome/pooling_filtered/longitudinal/RPCA/long-phyloRPCA-distance.qza \\\n",
    "    --m-metadata-file ../data/Microbiome/14748_metadata_overpooling.txt \\\n",
    "    --m-metadata-column genotype \\\n",
    "    --p-method permanova \\\n",
    "    --o-visualization ../data/Microbiome/pooling_filtered/longitudinal/RPCA/long-phyloRPCA-strain_significance.qzv"
   ]
  },
  {
   "cell_type": "code",
   "execution_count": 43,
   "id": "25b04987",
   "metadata": {},
   "outputs": [
    {
     "name": "stdout",
     "output_type": "stream",
     "text": [
      "\u001b[32mSaved Visualization to: ../data/Microbiome/pooling_filtered/longitudinal/RPCA/long-phyloRPCA-qurro_plot.qzv\u001b[0m\n",
      "\u001b[0m"
     ]
    }
   ],
   "source": [
    "!qiime qurro loading-plot \\\n",
    "    --i-ranks ../data/Microbiome/pooling_filtered/longitudinal/RPCA/long-phyloRPCA-ordination.qza \\\n",
    "    --i-table ../data/Microbiome/pooling_filtered/longitudinal/RPCA/long-phyloRPCA-table.qza \\\n",
    "    --m-sample-metadata-file ../data/Microbiome/14748_metadata_overpooling.txt \\\n",
    "    --m-feature-metadata-file ../data/Microbiome/pooling_filtered/longitudinal/RPCA/long-phyloRPCA-taxonomy.qza \\\n",
    "    --o-visualization ../data/Microbiome/pooling_filtered/longitudinal/RPCA/long-phyloRPCA-qurro_plot.qzv"
   ]
  },
  {
   "cell_type": "markdown",
   "id": "9460890c",
   "metadata": {},
   "source": [
    "#### Sacrifice"
   ]
  },
  {
   "cell_type": "code",
   "execution_count": 44,
   "id": "216c7c30",
   "metadata": {},
   "outputs": [
    {
     "name": "stdout",
     "output_type": "stream",
     "text": [
      "\u001b[32mSaved PCoAResults % Properties('biplot') to: ../data/Microbiome/pooling_filtered/sacrifice/RPCA/sac-phyloRPCA-ordination.qza\u001b[0m\n",
      "\u001b[32mSaved DistanceMatrix to: ../data/Microbiome/pooling_filtered/sacrifice/RPCA/sac-phyloRPCA-distance.qza\u001b[0m\n",
      "\u001b[32mSaved Phylogeny[Rooted] to: ../data/Microbiome/pooling_filtered/sacrifice//RPCA/sac-phyloRPCA-tree.qza\u001b[0m\n",
      "\u001b[32mSaved FeatureTable[Frequency] to: ../data/Microbiome/pooling_filtered/sacrifice/RPCA/sac-phyloRPCA-table.qza\u001b[0m\n",
      "\u001b[32mSaved FeatureData[Taxonomy] to: ../data/Microbiome/pooling_filtered/sacrifice/RPCA/sac-phyloRPCA-taxonomy.qza\u001b[0m\n",
      "\u001b[0m"
     ]
    }
   ],
   "source": [
    "!qiime gemelli phylogenetic-rpca-with-taxonomy \\\n",
    "    --i-table ../data/Microbiome/pooling_filtered/sacrifice/RPCA/sac_1000000r_table.qza \\\n",
    "    --i-phylogeny ../../../greengenes2/2022.10.phylogeny.id.nwk.qza \\\n",
    "    --m-taxonomy-file ../data/Microbiome/pooling_filtered/gg2_taxonomy.qza \\\n",
    "    --o-biplot ../data/Microbiome/pooling_filtered/sacrifice/RPCA/sac-phyloRPCA-ordination.qza \\\n",
    "    --o-distance-matrix ../data/Microbiome/pooling_filtered/sacrifice/RPCA/sac-phyloRPCA-distance.qza \\\n",
    "    --o-counts-by-node-tree ../data/Microbiome/pooling_filtered/sacrifice//RPCA/sac-phyloRPCA-tree.qza \\\n",
    "    --o-counts-by-node ../data/Microbiome/pooling_filtered/sacrifice/RPCA/sac-phyloRPCA-table.qza \\\n",
    "    --o-t2t-taxonomy ../data/Microbiome/pooling_filtered/sacrifice/RPCA/sac-phyloRPCA-taxonomy.qza"
   ]
  },
  {
   "cell_type": "code",
   "execution_count": 45,
   "id": "d7eba854",
   "metadata": {},
   "outputs": [
    {
     "name": "stdout",
     "output_type": "stream",
     "text": [
      "\u001b[32mSaved Visualization to: ../data/Microbiome/pooling_filtered/sacrifice/RPCA/sac-phyloRPCA-empress.qzv\u001b[0m\r\n",
      "\u001b[0m"
     ]
    }
   ],
   "source": [
    "!qiime empress community-plot\\\n",
    "    --i-tree ../data/Microbiome/pooling_filtered/sacrifice/RPCA/sac-phyloRPCA-tree.qza \\\n",
    "    --i-feature-table ../data/Microbiome/pooling_filtered/sacrifice/RPCA/sac-phyloRPCA-table.qza \\\n",
    "    --i-pcoa ../data/Microbiome/pooling_filtered/sacrifice/RPCA/sac-phyloRPCA-ordination.qza \\\n",
    "    --m-sample-metadata-file ../data/Microbiome/14748_metadata_overpooling.txt \\\n",
    "    --m-feature-metadata-file ../data/Microbiome/pooling_filtered/sacrifice/RPCA/sac-phyloRPCA-taxonomy.qza \\\n",
    "    --p-filter-missing-features \\\n",
    "    --p-number-of-features 10 \\\n",
    "    --o-visualization ../data/Microbiome/pooling_filtered/sacrifice/RPCA/sac-phyloRPCA-empress.qzv"
   ]
  },
  {
   "cell_type": "code",
   "execution_count": 46,
   "id": "c341f4ef",
   "metadata": {},
   "outputs": [
    {
     "name": "stdout",
     "output_type": "stream",
     "text": [
      "\u001b[32mSaved Visualization to: ../data/Microbiome/pooling_filtered/sacrifice/RPCA/sac-phyloRPCA-strainsex_significance.qzv\u001b[0m\r\n",
      "\u001b[0m"
     ]
    }
   ],
   "source": [
    "!qiime diversity beta-group-significance \\\n",
    "    --i-distance-matrix ../data/Microbiome/pooling_filtered/sacrifice/RPCA/sac-phyloRPCA-distance.qza \\\n",
    "    --m-metadata-file ../data/Microbiome/14748_metadata_overpooling.txt \\\n",
    "    --m-metadata-column genotype_sex \\\n",
    "    --p-method permanova \\\n",
    "    --p-pairwise True \\\n",
    "    --o-visualization ../data/Microbiome/pooling_filtered/sacrifice/RPCA/sac-phyloRPCA-strainsex_significance.qzv"
   ]
  },
  {
   "cell_type": "code",
   "execution_count": 47,
   "id": "34787989",
   "metadata": {},
   "outputs": [
    {
     "name": "stdout",
     "output_type": "stream",
     "text": [
      "\u001b[32mSaved Visualization to: ../data/Microbiome/pooling_filtered/sacrifice/RPCA/sac-phyloRPCA-strain_significance.qzv\u001b[0m\n",
      "\u001b[0m"
     ]
    }
   ],
   "source": [
    "!qiime diversity beta-group-significance \\\n",
    "    --i-distance-matrix ../data/Microbiome/pooling_filtered/sacrifice/RPCA/sac-phyloRPCA-distance.qza \\\n",
    "    --m-metadata-file ../data/Microbiome/14748_metadata_overpooling.txt \\\n",
    "    --m-metadata-column genotype \\\n",
    "    --p-method permanova \\\n",
    "    --o-visualization ../data/Microbiome/pooling_filtered/sacrifice/RPCA/sac-phyloRPCA-strain_significance.qzv"
   ]
  },
  {
   "cell_type": "code",
   "execution_count": 7,
   "id": "d76aa478",
   "metadata": {},
   "outputs": [
    {
     "name": "stdout",
     "output_type": "stream",
     "text": [
      "/Users/callaband/miniforge3/envs/qiime2-2023.5-gemelli/lib/python3.8/site-packages/qiime2/core/cache.py:440: UserWarning: Your temporary cache was found to be in an inconsistent state. It has been recreated.\n",
      "  warnings.warn(\n",
      "\u001b[32mSaved Visualization to: ../data/Microbiome/pooling_filtered/sacrifice/RPCA/sac-phyloRPCA-sex_significance.qzv\u001b[0m\n",
      "\u001b[0m"
     ]
    }
   ],
   "source": [
    "!qiime diversity beta-group-significance \\\n",
    "    --i-distance-matrix ../data/Microbiome/pooling_filtered/sacrifice/RPCA/sac-phyloRPCA-distance.qza \\\n",
    "    --m-metadata-file ../data/Microbiome/14748_metadata_overpooling.txt \\\n",
    "    --m-metadata-column sex \\\n",
    "    --p-method permanova \\\n",
    "    --o-visualization ../data/Microbiome/pooling_filtered/sacrifice/RPCA/sac-phyloRPCA-sex_significance.qzv"
   ]
  },
  {
   "cell_type": "code",
   "execution_count": 48,
   "id": "106cbd06",
   "metadata": {},
   "outputs": [
    {
     "name": "stdout",
     "output_type": "stream",
     "text": [
      "\u001b[32mSaved Visualization to: ../data/Microbiome/pooling_filtered/sacrifice/RPCA/sac-phyloRPCA-qurro_plot.qzv\u001b[0m\r\n",
      "\u001b[0m"
     ]
    }
   ],
   "source": [
    "!qiime qurro loading-plot \\\n",
    "    --i-ranks ../data/Microbiome/pooling_filtered/sacrifice/RPCA/sac-phyloRPCA-ordination.qza \\\n",
    "    --i-table ../data/Microbiome/pooling_filtered/sacrifice/RPCA/sac-phyloRPCA-table.qza \\\n",
    "    --m-sample-metadata-file ../data/Microbiome/14748_metadata_overpooling.txt \\\n",
    "    --m-feature-metadata-file ../data/Microbiome/pooling_filtered/sacrifice/RPCA/sac-phyloRPCA-taxonomy.qza \\\n",
    "    --o-visualization ../data/Microbiome/pooling_filtered/sacrifice/RPCA/sac-phyloRPCA-qurro_plot.qzv"
   ]
  },
  {
   "cell_type": "markdown",
   "id": "7d71290a",
   "metadata": {},
   "source": [
    "# CTF"
   ]
  },
  {
   "cell_type": "markdown",
   "id": "14ae5580",
   "metadata": {},
   "source": [
    "#### Longitudinal"
   ]
  },
  {
   "cell_type": "code",
   "execution_count": 54,
   "id": "5aaea5be",
   "metadata": {},
   "outputs": [
    {
     "name": "stdout",
     "output_type": "stream",
     "text": [
      "\u001b[32mSaved PCoAResults % Properties('biplot') to: ../data/Microbiome/pooling_filtered/longitudinal/ctf-results/subject_biplot.qza\u001b[0m\n",
      "\u001b[32mSaved PCoAResults % Properties('biplot') to: ../data/Microbiome/pooling_filtered/longitudinal/ctf-results/state_biplot.qza\u001b[0m\n",
      "\u001b[32mSaved DistanceMatrix to: ../data/Microbiome/pooling_filtered/longitudinal/ctf-results/distance_matrix.qza\u001b[0m\n",
      "\u001b[32mSaved SampleData[SampleTrajectory] to: ../data/Microbiome/pooling_filtered/longitudinal/ctf-results/state_subject_ordination.qza\u001b[0m\n",
      "\u001b[32mSaved FeatureData[FeatureTrajectory] to: ../data/Microbiome/pooling_filtered/longitudinal/ctf-results/state_feature_ordination.qza\u001b[0m\n",
      "\u001b[0m"
     ]
    }
   ],
   "source": [
    "!qiime gemelli ctf \\\n",
    "    --i-table  ../data/Microbiome/pooling_filtered/longitudinal/RPCA/long_gemelli_filtered.qza \\\n",
    "    --m-sample-metadata-file ../data/Microbiome/14748_metadata_overpooling.txt \\\n",
    "    --m-feature-metadata-file ../data/Microbiome/pooling_filtered/gg2_taxonomy.qza \\\n",
    "    --p-state-column host_age \\\n",
    "    --p-individual-id-column host_subject_id \\\n",
    "    --output-dir ../data/Microbiome/pooling_filtered/longitudinal/ctf-results"
   ]
  },
  {
   "cell_type": "code",
   "execution_count": 61,
   "id": "23516973",
   "metadata": {},
   "outputs": [],
   "source": [
    "import pandas as pd"
   ]
  },
  {
   "cell_type": "code",
   "execution_count": 62,
   "id": "afda9fd2",
   "metadata": {},
   "outputs": [],
   "source": [
    "md = pd.read_csv('../data/Microbiome/14748_metadata_overpooling.txt', sep='\\t',index_col=0)"
   ]
  },
  {
   "cell_type": "code",
   "execution_count": 63,
   "id": "bd5f9e50",
   "metadata": {},
   "outputs": [
    {
     "data": {
      "text/html": [
       "<div>\n",
       "<style scoped>\n",
       "    .dataframe tbody tr th:only-of-type {\n",
       "        vertical-align: middle;\n",
       "    }\n",
       "\n",
       "    .dataframe tbody tr th {\n",
       "        vertical-align: top;\n",
       "    }\n",
       "\n",
       "    .dataframe thead th {\n",
       "        text-align: right;\n",
       "    }\n",
       "</style>\n",
       "<table border=\"1\" class=\"dataframe\">\n",
       "  <thead>\n",
       "    <tr style=\"text-align: right;\">\n",
       "      <th></th>\n",
       "      <th>genotype_sex</th>\n",
       "    </tr>\n",
       "    <tr>\n",
       "      <th>host_subject_id</th>\n",
       "      <th></th>\n",
       "    </tr>\n",
       "  </thead>\n",
       "  <tbody>\n",
       "    <tr>\n",
       "      <th>CAGE 7</th>\n",
       "      <td>B6_female</td>\n",
       "    </tr>\n",
       "    <tr>\n",
       "      <th>CAGE 70</th>\n",
       "      <td>3XTG_male</td>\n",
       "    </tr>\n",
       "    <tr>\n",
       "      <th>CAGE 73</th>\n",
       "      <td>3XTG_male</td>\n",
       "    </tr>\n",
       "    <tr>\n",
       "      <th>CAGE 74</th>\n",
       "      <td>B6_male</td>\n",
       "    </tr>\n",
       "    <tr>\n",
       "      <th>CAGE42</th>\n",
       "      <td>3XTG_male</td>\n",
       "    </tr>\n",
       "  </tbody>\n",
       "</table>\n",
       "</div>"
      ],
      "text/plain": [
       "                genotype_sex\n",
       "host_subject_id             \n",
       "CAGE 7             B6_female\n",
       "CAGE 70            3XTG_male\n",
       "CAGE 73            3XTG_male\n",
       "CAGE 74              B6_male\n",
       "CAGE42             3XTG_male"
      ]
     },
     "execution_count": 63,
     "metadata": {},
     "output_type": "execute_result"
    }
   ],
   "source": [
    "md2 = md.groupby(['host_subject_id']).agg({'genotype_sex':'first'})\n",
    "md2.tail()"
   ]
  },
  {
   "cell_type": "code",
   "execution_count": 64,
   "id": "49d8df87",
   "metadata": {},
   "outputs": [
    {
     "data": {
      "text/html": [
       "<div>\n",
       "<style scoped>\n",
       "    .dataframe tbody tr th:only-of-type {\n",
       "        vertical-align: middle;\n",
       "    }\n",
       "\n",
       "    .dataframe tbody tr th {\n",
       "        vertical-align: top;\n",
       "    }\n",
       "\n",
       "    .dataframe thead th {\n",
       "        text-align: right;\n",
       "    }\n",
       "</style>\n",
       "<table border=\"1\" class=\"dataframe\">\n",
       "  <thead>\n",
       "    <tr style=\"text-align: right;\">\n",
       "      <th></th>\n",
       "      <th>genotype_sex</th>\n",
       "    </tr>\n",
       "    <tr>\n",
       "      <th>#SampleID</th>\n",
       "      <th></th>\n",
       "    </tr>\n",
       "  </thead>\n",
       "  <tbody>\n",
       "    <tr>\n",
       "      <th>CAGE 7</th>\n",
       "      <td>B6_female</td>\n",
       "    </tr>\n",
       "    <tr>\n",
       "      <th>CAGE 70</th>\n",
       "      <td>3XTG_male</td>\n",
       "    </tr>\n",
       "    <tr>\n",
       "      <th>CAGE 73</th>\n",
       "      <td>3XTG_male</td>\n",
       "    </tr>\n",
       "    <tr>\n",
       "      <th>CAGE 74</th>\n",
       "      <td>B6_male</td>\n",
       "    </tr>\n",
       "    <tr>\n",
       "      <th>CAGE42</th>\n",
       "      <td>3XTG_male</td>\n",
       "    </tr>\n",
       "  </tbody>\n",
       "</table>\n",
       "</div>"
      ],
      "text/plain": [
       "          genotype_sex\n",
       "#SampleID             \n",
       "CAGE 7       B6_female\n",
       "CAGE 70      3XTG_male\n",
       "CAGE 73      3XTG_male\n",
       "CAGE 74        B6_male\n",
       "CAGE42       3XTG_male"
      ]
     },
     "execution_count": 64,
     "metadata": {},
     "output_type": "execute_result"
    }
   ],
   "source": [
    "md2.index.name = '#SampleID'\n",
    "md2.tail()"
   ]
  },
  {
   "cell_type": "code",
   "execution_count": 65,
   "id": "c1f6ab77",
   "metadata": {},
   "outputs": [],
   "source": [
    "md2.to_csv('../data/Microbiome/pooling_filtered/longitudinal/ctf-results/ctf_mid_metadata.tsv', sep='\\t')"
   ]
  },
  {
   "cell_type": "code",
   "execution_count": 66,
   "id": "858ecbc6",
   "metadata": {},
   "outputs": [
    {
     "name": "stdout",
     "output_type": "stream",
     "text": [
      "\u001b[32mSaved Visualization to: ../data/Microbiome/pooling_filtered/longitudinal/ctf-results/subject_biplot.qzv\u001b[0m\r\n",
      "\u001b[0m"
     ]
    }
   ],
   "source": [
    "!qiime emperor biplot\\\n",
    "    --i-biplot ../data/Microbiome/pooling_filtered/longitudinal/ctf-results/subject_biplot.qza \\\n",
    "    --m-sample-metadata-file ../data/Microbiome/pooling_filtered/longitudinal/ctf-results/ctf_mid_metadata.tsv \\\n",
    "    --m-feature-metadata-file ../data/Microbiome/pooling_filtered/gg2_taxonomy.qza \\\n",
    "    --p-number-of-features 10 \\\n",
    "    --o-visualization ../data/Microbiome/pooling_filtered/longitudinal/ctf-results/subject_biplot.qzv"
   ]
  },
  {
   "cell_type": "code",
   "execution_count": 67,
   "id": "8c84173d",
   "metadata": {},
   "outputs": [
    {
     "name": "stdout",
     "output_type": "stream",
     "text": [
      "\u001b[32mSaved Visualization to: ../data/Microbiome/pooling_filtered/longitudinal/ctf-results/state_subject_ordination.qzv\u001b[0m\n",
      "\u001b[0m"
     ]
    }
   ],
   "source": [
    "!qiime longitudinal volatility \\\n",
    "    --m-metadata-file ../data/Microbiome/pooling_filtered/longitudinal/ctf-results/state_subject_ordination.qza \\\n",
    "    --p-state-column host_age \\\n",
    "    --p-individual-id-column subject_id \\\n",
    "    --p-default-group-column genotype_sex \\\n",
    "    --p-default-metric PC1 \\\n",
    "    --o-visualization ../data/Microbiome/pooling_filtered/longitudinal/ctf-results/state_subject_ordination.qzv"
   ]
  },
  {
   "cell_type": "code",
   "execution_count": 68,
   "id": "99a9756d",
   "metadata": {},
   "outputs": [
    {
     "name": "stdout",
     "output_type": "stream",
     "text": [
      "\u001b[32mSaved Visualization to: ../data/Microbiome/pooling_filtered/longitudinal/ctf-results/qurro.qzv\u001b[0m\n",
      "\u001b[0m"
     ]
    }
   ],
   "source": [
    "!qiime qurro loading-plot\\\n",
    "    --i-table ../data/Microbiome/pooling_filtered/longitudinal/RPCA/long_gemelli_filtered.qza \\\n",
    "    --i-ranks ../data/Microbiome/pooling_filtered/longitudinal/ctf-results/subject_biplot.qza \\\n",
    "    --m-sample-metadata-file ../data/Microbiome/14748_metadata_overpooling.txt \\\n",
    "    --m-feature-metadata-file ../data/Microbiome/pooling_filtered/gg2_taxonomy.qza \\\n",
    "    --o-visualization ../data/Microbiome/pooling_filtered/longitudinal/ctf-results/qurro.qzv"
   ]
  },
  {
   "cell_type": "markdown",
   "id": "9adfabba",
   "metadata": {},
   "source": [
    "#### Sacrifice"
   ]
  },
  {
   "cell_type": "code",
   "execution_count": 74,
   "id": "5ad704c7",
   "metadata": {},
   "outputs": [
    {
     "name": "stdout",
     "output_type": "stream",
     "text": [
      "\u001b[32mSaved PCoAResults % Properties('biplot') to: ../data/Microbiome/pooling_filtered/sacrifice/ctf-results/subject_biplot.qza\u001b[0m\n",
      "\u001b[32mSaved PCoAResults % Properties('biplot') to: ../data/Microbiome/pooling_filtered/sacrifice/ctf-results/state_biplot.qza\u001b[0m\n",
      "\u001b[32mSaved DistanceMatrix to: ../data/Microbiome/pooling_filtered/sacrifice/ctf-results/distance_matrix.qza\u001b[0m\n",
      "\u001b[32mSaved SampleData[SampleTrajectory] to: ../data/Microbiome/pooling_filtered/sacrifice/ctf-results/state_subject_ordination.qza\u001b[0m\n",
      "\u001b[32mSaved FeatureData[FeatureTrajectory] to: ../data/Microbiome/pooling_filtered/sacrifice/ctf-results/state_feature_ordination.qza\u001b[0m\n",
      "\u001b[0m"
     ]
    }
   ],
   "source": [
    "!qiime gemelli ctf \\\n",
    "    --i-table  ../data/Microbiome/pooling_filtered/sacrifice/RPCA/sac_1000000r_table.qza \\\n",
    "    --m-sample-metadata-file ../data/Microbiome/14748_metadata_overpooling.txt \\\n",
    "    --m-feature-metadata-file ../data/Microbiome/pooling_filtered/gg2_taxonomy.qza \\\n",
    "    --p-state-column host_age \\\n",
    "    --p-individual-id-column host_subject_id \\\n",
    "    --output-dir ../data/Microbiome/pooling_filtered/sacrifice/ctf-results"
   ]
  },
  {
   "cell_type": "code",
   "execution_count": null,
   "id": "884a1896",
   "metadata": {},
   "outputs": [],
   "source": [
    "import pandas as pd"
   ]
  },
  {
   "cell_type": "code",
   "execution_count": 75,
   "id": "912a6c33",
   "metadata": {},
   "outputs": [],
   "source": [
    "md = pd.read_csv('../data/Microbiome/14748_metadata_overpooling.txt', sep='\\t',index_col=0)"
   ]
  },
  {
   "cell_type": "code",
   "execution_count": 76,
   "id": "e02a67b4",
   "metadata": {},
   "outputs": [
    {
     "data": {
      "text/html": [
       "<div>\n",
       "<style scoped>\n",
       "    .dataframe tbody tr th:only-of-type {\n",
       "        vertical-align: middle;\n",
       "    }\n",
       "\n",
       "    .dataframe tbody tr th {\n",
       "        vertical-align: top;\n",
       "    }\n",
       "\n",
       "    .dataframe thead th {\n",
       "        text-align: right;\n",
       "    }\n",
       "</style>\n",
       "<table border=\"1\" class=\"dataframe\">\n",
       "  <thead>\n",
       "    <tr style=\"text-align: right;\">\n",
       "      <th></th>\n",
       "      <th>genotype_sex</th>\n",
       "    </tr>\n",
       "    <tr>\n",
       "      <th>host_subject_id</th>\n",
       "      <th></th>\n",
       "    </tr>\n",
       "  </thead>\n",
       "  <tbody>\n",
       "    <tr>\n",
       "      <th>CAGE 7</th>\n",
       "      <td>B6_female</td>\n",
       "    </tr>\n",
       "    <tr>\n",
       "      <th>CAGE 70</th>\n",
       "      <td>3XTG_male</td>\n",
       "    </tr>\n",
       "    <tr>\n",
       "      <th>CAGE 73</th>\n",
       "      <td>3XTG_male</td>\n",
       "    </tr>\n",
       "    <tr>\n",
       "      <th>CAGE 74</th>\n",
       "      <td>B6_male</td>\n",
       "    </tr>\n",
       "    <tr>\n",
       "      <th>CAGE42</th>\n",
       "      <td>3XTG_male</td>\n",
       "    </tr>\n",
       "  </tbody>\n",
       "</table>\n",
       "</div>"
      ],
      "text/plain": [
       "                genotype_sex\n",
       "host_subject_id             \n",
       "CAGE 7             B6_female\n",
       "CAGE 70            3XTG_male\n",
       "CAGE 73            3XTG_male\n",
       "CAGE 74              B6_male\n",
       "CAGE42             3XTG_male"
      ]
     },
     "execution_count": 76,
     "metadata": {},
     "output_type": "execute_result"
    }
   ],
   "source": [
    "md2 = md.groupby(['host_subject_id']).agg({'genotype_sex':'first'})\n",
    "md2.tail()"
   ]
  },
  {
   "cell_type": "code",
   "execution_count": 77,
   "id": "50e15c02",
   "metadata": {},
   "outputs": [
    {
     "data": {
      "text/html": [
       "<div>\n",
       "<style scoped>\n",
       "    .dataframe tbody tr th:only-of-type {\n",
       "        vertical-align: middle;\n",
       "    }\n",
       "\n",
       "    .dataframe tbody tr th {\n",
       "        vertical-align: top;\n",
       "    }\n",
       "\n",
       "    .dataframe thead th {\n",
       "        text-align: right;\n",
       "    }\n",
       "</style>\n",
       "<table border=\"1\" class=\"dataframe\">\n",
       "  <thead>\n",
       "    <tr style=\"text-align: right;\">\n",
       "      <th></th>\n",
       "      <th>genotype_sex</th>\n",
       "    </tr>\n",
       "    <tr>\n",
       "      <th>#SampleID</th>\n",
       "      <th></th>\n",
       "    </tr>\n",
       "  </thead>\n",
       "  <tbody>\n",
       "    <tr>\n",
       "      <th>CAGE 7</th>\n",
       "      <td>B6_female</td>\n",
       "    </tr>\n",
       "    <tr>\n",
       "      <th>CAGE 70</th>\n",
       "      <td>3XTG_male</td>\n",
       "    </tr>\n",
       "    <tr>\n",
       "      <th>CAGE 73</th>\n",
       "      <td>3XTG_male</td>\n",
       "    </tr>\n",
       "    <tr>\n",
       "      <th>CAGE 74</th>\n",
       "      <td>B6_male</td>\n",
       "    </tr>\n",
       "    <tr>\n",
       "      <th>CAGE42</th>\n",
       "      <td>3XTG_male</td>\n",
       "    </tr>\n",
       "  </tbody>\n",
       "</table>\n",
       "</div>"
      ],
      "text/plain": [
       "          genotype_sex\n",
       "#SampleID             \n",
       "CAGE 7       B6_female\n",
       "CAGE 70      3XTG_male\n",
       "CAGE 73      3XTG_male\n",
       "CAGE 74        B6_male\n",
       "CAGE42       3XTG_male"
      ]
     },
     "execution_count": 77,
     "metadata": {},
     "output_type": "execute_result"
    }
   ],
   "source": [
    "md2.index.name = '#SampleID'\n",
    "md2.tail()"
   ]
  },
  {
   "cell_type": "code",
   "execution_count": 78,
   "id": "dd117867",
   "metadata": {},
   "outputs": [],
   "source": [
    "md2.to_csv('../data/Microbiome/pooling_filtered/sacrifice/ctf-results/ctf_mid_metadata.tsv', sep='\\t')"
   ]
  },
  {
   "cell_type": "code",
   "execution_count": 79,
   "id": "f831729f",
   "metadata": {},
   "outputs": [
    {
     "name": "stdout",
     "output_type": "stream",
     "text": [
      "\u001b[32mSaved Visualization to: ../data/Microbiome/pooling_filtered/sacrifice/ctf-results/subject_biplot.qzv\u001b[0m\n",
      "\u001b[0m"
     ]
    }
   ],
   "source": [
    "!qiime emperor biplot\\\n",
    "    --i-biplot ../data/Microbiome/pooling_filtered/sacrifice/ctf-results/subject_biplot.qza \\\n",
    "    --m-sample-metadata-file ../data/Microbiome/pooling_filtered/sacrifice/ctf-results/ctf_mid_metadata.tsv \\\n",
    "    --m-feature-metadata-file ../data/Microbiome/pooling_filtered/gg2_taxonomy.qza \\\n",
    "    --p-number-of-features 10 \\\n",
    "    --o-visualization ../data/Microbiome/pooling_filtered/sacrifice/ctf-results/subject_biplot.qzv"
   ]
  },
  {
   "cell_type": "code",
   "execution_count": 80,
   "id": "5fe3ff4b",
   "metadata": {},
   "outputs": [
    {
     "name": "stdout",
     "output_type": "stream",
     "text": [
      "\u001b[32mSaved Visualization to: ../data/Microbiome/pooling_filtered/sacrifice/ctf-results/state_subject_ordination.qzv\u001b[0m\r\n",
      "\u001b[0m"
     ]
    }
   ],
   "source": [
    "!qiime longitudinal volatility \\\n",
    "    --m-metadata-file ../data/Microbiome/pooling_filtered/sacrifice/ctf-results/state_subject_ordination.qza \\\n",
    "    --p-state-column host_age \\\n",
    "    --p-individual-id-column subject_id \\\n",
    "    --p-default-group-column genotype_sex \\\n",
    "    --p-default-metric PC1 \\\n",
    "    --o-visualization ../data/Microbiome/pooling_filtered/sacrifice/ctf-results/state_subject_ordination.qzv"
   ]
  },
  {
   "cell_type": "code",
   "execution_count": 82,
   "id": "bcb37da8",
   "metadata": {},
   "outputs": [
    {
     "name": "stdout",
     "output_type": "stream",
     "text": [
      "\u001b[32mSaved Visualization to: ../data/Microbiome/pooling_filtered/sacrifice/ctf-results/qurro.qzv\u001b[0m\r\n",
      "\u001b[0m"
     ]
    }
   ],
   "source": [
    "!qiime qurro loading-plot\\\n",
    "    --i-table ../data/Microbiome/pooling_filtered/sacrifice/RPCA/sac_1000000r_table.qza \\\n",
    "    --i-ranks ../data/Microbiome/pooling_filtered/sacrifice/ctf-results/subject_biplot.qza \\\n",
    "    --m-sample-metadata-file ../data/Microbiome/14748_metadata_overpooling.txt \\\n",
    "    --m-feature-metadata-file ../data/Microbiome/pooling_filtered/gg2_taxonomy.qza \\\n",
    "    --o-visualization ../data/Microbiome/pooling_filtered/sacrifice/ctf-results/qurro.qzv"
   ]
  },
  {
   "cell_type": "markdown",
   "id": "b6a48ccd",
   "metadata": {},
   "source": [
    "# Phylo-CTF"
   ]
  },
  {
   "cell_type": "markdown",
   "id": "0d4099a9",
   "metadata": {},
   "source": [
    "#### Longitudinal"
   ]
  },
  {
   "cell_type": "code",
   "execution_count": 83,
   "id": "9964600c",
   "metadata": {},
   "outputs": [
    {
     "name": "stdout",
     "output_type": "stream",
     "text": [
      "\u001b[32mSaved PCoAResults % Properties('biplot') to: ../data/Microbiome/pooling_filtered/longitudinal/ctf-results/phyloCTF/subject_biplot.qza\u001b[0m\n",
      "\u001b[32mSaved PCoAResults % Properties('biplot') to: ../data/Microbiome/pooling_filtered/longitudinal/ctf-results/phyloCTF/state_biplot.qza\u001b[0m\n",
      "\u001b[32mSaved DistanceMatrix to: ../data/Microbiome/pooling_filtered/longitudinal/ctf-results/phyloCTF/distance_matrix.qza\u001b[0m\n",
      "\u001b[32mSaved SampleData[SampleTrajectory] to: ../data/Microbiome/pooling_filtered/longitudinal/ctf-results/phyloCTF/state_subject_ordination.qza\u001b[0m\n",
      "\u001b[32mSaved FeatureData[FeatureTrajectory] to: ../data/Microbiome/pooling_filtered/longitudinal/ctf-results/phyloCTF/state_feature_ordination.qza\u001b[0m\n",
      "\u001b[32mSaved Phylogeny[Rooted] to: ../data/Microbiome/pooling_filtered/longitudinal/ctf-results/phyloCTF/counts_by_node_tree.qza\u001b[0m\n",
      "\u001b[32mSaved FeatureTable[Frequency] to: ../data/Microbiome/pooling_filtered/longitudinal/ctf-results/phyloCTF/counts_by_node.qza\u001b[0m\n",
      "\u001b[32mSaved FeatureData[Taxonomy] to: ../data/Microbiome/pooling_filtered/longitudinal/ctf-results/phyloCTF/t2t_taxonomy.qza\u001b[0m\n",
      "\u001b[32mSaved FeatureTable[Frequency] to: ../data/Microbiome/pooling_filtered/longitudinal/ctf-results/phyloCTF/subject_table.qza\u001b[0m\n",
      "\u001b[0m"
     ]
    }
   ],
   "source": [
    "!qiime gemelli phylogenetic-ctf-with-taxonomy \\\n",
    "    --i-table  ../data/Microbiome/pooling_filtered/longitudinal/RPCA/long_1000000r_table.qza \\\n",
    "    --i-phylogeny  ../../../greengenes2/2022.10.phylogeny.id.nwk.qza \\\n",
    "    --m-sample-metadata-file ../data/Microbiome/14748_metadata_overpooling.txt \\\n",
    "    --m-taxonomy-file ../data/Microbiome/pooling_filtered/gg2_taxonomy.qza \\\n",
    "    --p-state-column host_age \\\n",
    "    --p-individual-id-column host_subject_id \\\n",
    "    --p-min-feature-frequency 10 \\\n",
    "    --output-dir ../data/Microbiome/pooling_filtered/longitudinal/ctf-results/phyloCTF"
   ]
  },
  {
   "cell_type": "code",
   "execution_count": null,
   "id": "cb6ed26a",
   "metadata": {},
   "outputs": [],
   "source": [
    "import pandas as pd"
   ]
  },
  {
   "cell_type": "code",
   "execution_count": 84,
   "id": "43dedc8f",
   "metadata": {},
   "outputs": [
    {
     "data": {
      "text/html": [
       "<div>\n",
       "<style scoped>\n",
       "    .dataframe tbody tr th:only-of-type {\n",
       "        vertical-align: middle;\n",
       "    }\n",
       "\n",
       "    .dataframe tbody tr th {\n",
       "        vertical-align: top;\n",
       "    }\n",
       "\n",
       "    .dataframe thead th {\n",
       "        text-align: right;\n",
       "    }\n",
       "</style>\n",
       "<table border=\"1\" class=\"dataframe\">\n",
       "  <thead>\n",
       "    <tr style=\"text-align: right;\">\n",
       "      <th></th>\n",
       "      <th>genotype</th>\n",
       "      <th>sex</th>\n",
       "      <th>genotype_sex</th>\n",
       "    </tr>\n",
       "    <tr>\n",
       "      <th>#SampleID</th>\n",
       "      <th></th>\n",
       "      <th></th>\n",
       "      <th></th>\n",
       "    </tr>\n",
       "  </thead>\n",
       "  <tbody>\n",
       "    <tr>\n",
       "      <th>CAGE 7</th>\n",
       "      <td>B6</td>\n",
       "      <td>female</td>\n",
       "      <td>B6_female</td>\n",
       "    </tr>\n",
       "    <tr>\n",
       "      <th>CAGE 70</th>\n",
       "      <td>3XTG</td>\n",
       "      <td>male</td>\n",
       "      <td>3XTG_male</td>\n",
       "    </tr>\n",
       "    <tr>\n",
       "      <th>CAGE 73</th>\n",
       "      <td>3XTG</td>\n",
       "      <td>male</td>\n",
       "      <td>3XTG_male</td>\n",
       "    </tr>\n",
       "    <tr>\n",
       "      <th>CAGE 74</th>\n",
       "      <td>B6</td>\n",
       "      <td>male</td>\n",
       "      <td>B6_male</td>\n",
       "    </tr>\n",
       "    <tr>\n",
       "      <th>CAGE42</th>\n",
       "      <td>3XTG</td>\n",
       "      <td>male</td>\n",
       "      <td>3XTG_male</td>\n",
       "    </tr>\n",
       "  </tbody>\n",
       "</table>\n",
       "</div>"
      ],
      "text/plain": [
       "          genotype     sex genotype_sex\n",
       "#SampleID                              \n",
       "CAGE 7          B6  female    B6_female\n",
       "CAGE 70       3XTG    male    3XTG_male\n",
       "CAGE 73       3XTG    male    3XTG_male\n",
       "CAGE 74         B6    male      B6_male\n",
       "CAGE42        3XTG    male    3XTG_male"
      ]
     },
     "execution_count": 84,
     "metadata": {},
     "output_type": "execute_result"
    }
   ],
   "source": [
    "# first we import the metdata into pandas\n",
    "mf = pd.read_csv('../data/Microbiome/14748_metadata_overpooling.txt', sep='\\t',index_col=0)\n",
    "# next we aggregate by subjects  and genotype and sex\n",
    "mf = mf.groupby('host_subject_id').agg({'genotype':'first', 'sex':'first', 'genotype_sex':'first'})\n",
    "# now we save the metadata in QIIME2 format.\n",
    "mf.index.name = '#SampleID'\n",
    "mf.to_csv('../data/Microbiome/pooling_filtered/longitudinal/ctf-results/subject-metadata.tsv', sep='\\t')\n",
    "mf.tail(5)"
   ]
  },
  {
   "cell_type": "code",
   "execution_count": 85,
   "id": "62811679",
   "metadata": {},
   "outputs": [
    {
     "name": "stdout",
     "output_type": "stream",
     "text": [
      "\u001b[32mSaved Visualization to: ../data/Microbiome/pooling_filtered/longitudinal/ctf-results/phyloCTF/empress.qzv\u001b[0m\r\n",
      "\u001b[0m"
     ]
    }
   ],
   "source": [
    "!qiime empress community-plot\\\n",
    "    --i-tree ../data/Microbiome/pooling_filtered/longitudinal/ctf-results/phyloCTF/counts_by_node_tree.qza\\\n",
    "    --i-feature-table ../data/Microbiome/pooling_filtered/longitudinal/ctf-results/phyloCTF/subject_table.qza\\\n",
    "    --i-pcoa ../data/Microbiome/pooling_filtered/longitudinal/ctf-results/phyloCTF/subject_biplot.qza\\\n",
    "    --m-sample-metadata-file ../data/Microbiome/pooling_filtered/longitudinal/ctf-results/subject-metadata.tsv\\\n",
    "    --m-feature-metadata-file ../data/Microbiome/pooling_filtered/longitudinal/ctf-results/phyloCTF/t2t_taxonomy.qza\\\n",
    "    --p-filter-missing-features\\\n",
    "    --p-number-of-features 12\\\n",
    "    --o-visualization ../data/Microbiome/pooling_filtered/longitudinal/ctf-results/phyloCTF/empress.qzv"
   ]
  },
  {
   "cell_type": "code",
   "execution_count": 86,
   "id": "604f44ad",
   "metadata": {},
   "outputs": [
    {
     "name": "stdout",
     "output_type": "stream",
     "text": [
      "\u001b[32mSaved Visualization to: ../data/Microbiome/pooling_filtered/longitudinal/ctf-results/phyloCTF/phyloCTF_qurro.qzv\u001b[0m\r\n",
      "\u001b[0m"
     ]
    }
   ],
   "source": [
    "!qiime qurro loading-plot\\\n",
    "    --i-ranks ../data/Microbiome/pooling_filtered/longitudinal/ctf-results/phyloCTF/subject_biplot.qza\\\n",
    "    --i-table ../data/Microbiome/pooling_filtered/longitudinal/ctf-results/phyloCTF/counts_by_node.qza\\\n",
    "    --m-sample-metadata-file ../data/Microbiome/14748_metadata_overpooling.txt\\\n",
    "    --m-feature-metadata-file  ../data/Microbiome/pooling_filtered/longitudinal/ctf-results/phyloCTF/t2t_taxonomy.qza\\\n",
    "    --o-visualization ../data/Microbiome/pooling_filtered/longitudinal/ctf-results/phyloCTF/phyloCTF_qurro.qzv"
   ]
  },
  {
   "cell_type": "markdown",
   "id": "0b4c3c00",
   "metadata": {},
   "source": [
    "#### Sacrifice"
   ]
  },
  {
   "cell_type": "code",
   "execution_count": 87,
   "id": "c0346675",
   "metadata": {},
   "outputs": [
    {
     "name": "stdout",
     "output_type": "stream",
     "text": [
      "\u001b[32mSaved PCoAResults % Properties('biplot') to: ../data/Microbiome/pooling_filtered/sacrifice/ctf-results/phyloCTF/subject_biplot.qza\u001b[0m\n",
      "\u001b[32mSaved PCoAResults % Properties('biplot') to: ../data/Microbiome/pooling_filtered/sacrifice/ctf-results/phyloCTF/state_biplot.qza\u001b[0m\n",
      "\u001b[32mSaved DistanceMatrix to: ../data/Microbiome/pooling_filtered/sacrifice/ctf-results/phyloCTF/distance_matrix.qza\u001b[0m\n",
      "\u001b[32mSaved SampleData[SampleTrajectory] to: ../data/Microbiome/pooling_filtered/sacrifice/ctf-results/phyloCTF/state_subject_ordination.qza\u001b[0m\n",
      "\u001b[32mSaved FeatureData[FeatureTrajectory] to: ../data/Microbiome/pooling_filtered/sacrifice/ctf-results/phyloCTF/state_feature_ordination.qza\u001b[0m\n",
      "\u001b[32mSaved Phylogeny[Rooted] to: ../data/Microbiome/pooling_filtered/sacrifice/ctf-results/phyloCTF/counts_by_node_tree.qza\u001b[0m\n",
      "\u001b[32mSaved FeatureTable[Frequency] to: ../data/Microbiome/pooling_filtered/sacrifice/ctf-results/phyloCTF/counts_by_node.qza\u001b[0m\n",
      "\u001b[32mSaved FeatureData[Taxonomy] to: ../data/Microbiome/pooling_filtered/sacrifice/ctf-results/phyloCTF/t2t_taxonomy.qza\u001b[0m\n",
      "\u001b[32mSaved FeatureTable[Frequency] to: ../data/Microbiome/pooling_filtered/sacrifice/ctf-results/phyloCTF/subject_table.qza\u001b[0m\n",
      "\u001b[0m"
     ]
    }
   ],
   "source": [
    "!qiime gemelli phylogenetic-ctf-with-taxonomy \\\n",
    "    --i-table  ../data/Microbiome/pooling_filtered/sacrifice/RPCA/sac_1000000r_table.qza \\\n",
    "    --i-phylogeny  ../../../greengenes2/2022.10.phylogeny.id.nwk.qza \\\n",
    "    --m-sample-metadata-file ../data/Microbiome/14748_metadata_overpooling.txt \\\n",
    "    --m-taxonomy-file ../data/Microbiome/pooling_filtered/gg2_taxonomy.qza \\\n",
    "    --p-state-column host_age \\\n",
    "    --p-individual-id-column host_subject_id \\\n",
    "    --p-min-feature-frequency 10 \\\n",
    "    --output-dir ../data/Microbiome/pooling_filtered/sacrifice/ctf-results/phyloCTF"
   ]
  },
  {
   "cell_type": "code",
   "execution_count": null,
   "id": "a14e9888",
   "metadata": {},
   "outputs": [],
   "source": [
    "import pandas as pd"
   ]
  },
  {
   "cell_type": "code",
   "execution_count": 88,
   "id": "03a4cd9e",
   "metadata": {},
   "outputs": [
    {
     "data": {
      "text/html": [
       "<div>\n",
       "<style scoped>\n",
       "    .dataframe tbody tr th:only-of-type {\n",
       "        vertical-align: middle;\n",
       "    }\n",
       "\n",
       "    .dataframe tbody tr th {\n",
       "        vertical-align: top;\n",
       "    }\n",
       "\n",
       "    .dataframe thead th {\n",
       "        text-align: right;\n",
       "    }\n",
       "</style>\n",
       "<table border=\"1\" class=\"dataframe\">\n",
       "  <thead>\n",
       "    <tr style=\"text-align: right;\">\n",
       "      <th></th>\n",
       "      <th>genotype</th>\n",
       "      <th>sex</th>\n",
       "      <th>genotype_sex</th>\n",
       "    </tr>\n",
       "    <tr>\n",
       "      <th>#SampleID</th>\n",
       "      <th></th>\n",
       "      <th></th>\n",
       "      <th></th>\n",
       "    </tr>\n",
       "  </thead>\n",
       "  <tbody>\n",
       "    <tr>\n",
       "      <th>CAGE 7</th>\n",
       "      <td>B6</td>\n",
       "      <td>female</td>\n",
       "      <td>B6_female</td>\n",
       "    </tr>\n",
       "    <tr>\n",
       "      <th>CAGE 70</th>\n",
       "      <td>3XTG</td>\n",
       "      <td>male</td>\n",
       "      <td>3XTG_male</td>\n",
       "    </tr>\n",
       "    <tr>\n",
       "      <th>CAGE 73</th>\n",
       "      <td>3XTG</td>\n",
       "      <td>male</td>\n",
       "      <td>3XTG_male</td>\n",
       "    </tr>\n",
       "    <tr>\n",
       "      <th>CAGE 74</th>\n",
       "      <td>B6</td>\n",
       "      <td>male</td>\n",
       "      <td>B6_male</td>\n",
       "    </tr>\n",
       "    <tr>\n",
       "      <th>CAGE42</th>\n",
       "      <td>3XTG</td>\n",
       "      <td>male</td>\n",
       "      <td>3XTG_male</td>\n",
       "    </tr>\n",
       "  </tbody>\n",
       "</table>\n",
       "</div>"
      ],
      "text/plain": [
       "          genotype     sex genotype_sex\n",
       "#SampleID                              \n",
       "CAGE 7          B6  female    B6_female\n",
       "CAGE 70       3XTG    male    3XTG_male\n",
       "CAGE 73       3XTG    male    3XTG_male\n",
       "CAGE 74         B6    male      B6_male\n",
       "CAGE42        3XTG    male    3XTG_male"
      ]
     },
     "execution_count": 88,
     "metadata": {},
     "output_type": "execute_result"
    }
   ],
   "source": [
    "# first we import the metdata into pandas\n",
    "mf = pd.read_csv('../data/Microbiome/14748_metadata_overpooling.txt', sep='\\t',index_col=0)\n",
    "# next we aggregate by subjects  and genotype and sex\n",
    "mf = mf.groupby('host_subject_id').agg({'genotype':'first', 'sex':'first', 'genotype_sex':'first'})\n",
    "# now we save the metadata in QIIME2 format.\n",
    "mf.index.name = '#SampleID'\n",
    "mf.to_csv('../data/Microbiome/pooling_filtered/sacrifice/ctf-results/subject-metadata.tsv', sep='\\t')\n",
    "mf.tail(5)"
   ]
  },
  {
   "cell_type": "code",
   "execution_count": 89,
   "id": "ba0b04f9",
   "metadata": {},
   "outputs": [
    {
     "name": "stdout",
     "output_type": "stream",
     "text": [
      "\u001b[32mSaved Visualization to: ../data/Microbiome/pooling_filtered/sacrifice/ctf-results/phyloCTF/empress.qzv\u001b[0m\n",
      "\u001b[0m"
     ]
    }
   ],
   "source": [
    "!qiime empress community-plot\\\n",
    "    --i-tree ../data/Microbiome/pooling_filtered/sacrifice/ctf-results/phyloCTF/counts_by_node_tree.qza\\\n",
    "    --i-feature-table ../data/Microbiome/pooling_filtered/sacrifice/ctf-results/phyloCTF/subject_table.qza\\\n",
    "    --i-pcoa ../data/Microbiome/pooling_filtered/sacrifice/ctf-results/phyloCTF/subject_biplot.qza\\\n",
    "    --m-sample-metadata-file ../data/Microbiome/pooling_filtered/sacrifice/ctf-results/subject-metadata.tsv\\\n",
    "    --m-feature-metadata-file ../data/Microbiome/pooling_filtered/sacrifice/ctf-results/phyloCTF/t2t_taxonomy.qza\\\n",
    "    --p-filter-missing-features\\\n",
    "    --p-number-of-features 12\\\n",
    "    --o-visualization ../data/Microbiome/pooling_filtered/sacrifice/ctf-results/phyloCTF/empress.qzv"
   ]
  },
  {
   "cell_type": "code",
   "execution_count": 90,
   "id": "f66fbdf6",
   "metadata": {},
   "outputs": [
    {
     "name": "stdout",
     "output_type": "stream",
     "text": [
      "\u001b[32mSaved Visualization to: ../data/Microbiome/pooling_filtered/sacrifice/ctf-results/phyloCTF/phyloCTF_qurro.qzv\u001b[0m\n",
      "\u001b[0m"
     ]
    }
   ],
   "source": [
    "!qiime qurro loading-plot\\\n",
    "    --i-ranks ../data/Microbiome/pooling_filtered/sacrifice/ctf-results/phyloCTF/subject_biplot.qza\\\n",
    "    --i-table ../data/Microbiome/pooling_filtered/sacrifice/ctf-results/phyloCTF/counts_by_node.qza\\\n",
    "    --m-sample-metadata-file ../data/Microbiome/14748_metadata_overpooling.txt\\\n",
    "    --m-feature-metadata-file  ../data/Microbiome/pooling_filtered/sacrifice/ctf-results/phyloCTF/t2t_taxonomy.qza\\\n",
    "    --o-visualization ../data/Microbiome/pooling_filtered/sacrifice/ctf-results/phyloCTF/phyloCTF_qurro.qzv"
   ]
  },
  {
   "cell_type": "markdown",
   "id": "591fd626",
   "metadata": {},
   "source": [
    "# ANCOM-BC"
   ]
  },
  {
   "cell_type": "markdown",
   "id": "77b34f07",
   "metadata": {},
   "source": [
    "#### Species (collapsed) level for sacrifice 3xtg and 5xfad for mut v wt. ANCOM-BC"
   ]
  },
  {
   "cell_type": "code",
   "execution_count": 91,
   "id": "a6fd7cec",
   "metadata": {},
   "outputs": [
    {
     "name": "stdout",
     "output_type": "stream",
     "text": [
      "\u001b[32mSaved FeatureTable[Frequency] to: ../data/Microbiome/pooling_filtered/pooling-filt_gg2_species.qza\u001b[0m\r\n",
      "\u001b[0m"
     ]
    }
   ],
   "source": [
    "!qiime taxa collapse \\\n",
    "    --i-table ../data/Microbiome/pooling_filtered/RPCA_all/min1000000reads_table.qza \\\n",
    "    --i-taxonomy ../data/Microbiome/pooling_filtered/gg2_taxonomy.qza \\\n",
    "    --p-level 7 \\\n",
    "    --o-collapsed-table ../data/Microbiome/pooling_filtered/pooling-filt_gg2_species.qza"
   ]
  },
  {
   "cell_type": "code",
   "execution_count": 92,
   "id": "7cc6da34",
   "metadata": {},
   "outputs": [
    {
     "name": "stdout",
     "output_type": "stream",
     "text": [
      "\u001b[32mSaved FeatureTable[Frequency] to: ../data/Microbiome/pooling_filtered/pooling-filt_gg2_species_study-type.qza\u001b[0m\n",
      "\u001b[0m\u001b[32mSaved FeatureTable[Frequency] to: ../data/Microbiome/pooling_filtered/pooling-filt_gg2_species_genotype.qza\u001b[0m\n",
      "\u001b[0m\u001b[32mSaved FeatureTable[Frequency] to: ../data/Microbiome/pooling_filtered/pooling-filt_gg2_species_sex.qza\u001b[0m\n",
      "\u001b[0m"
     ]
    }
   ],
   "source": [
    "!qiime feature-table filter-samples \\\n",
    "    --i-table ../data/Microbiome/pooling_filtered/pooling-filt_gg2_species.qza \\\n",
    "    --m-metadata-file ../data/Microbiome/14748_metadata_overpooling.txt \\\n",
    "    --p-where '[study_type] IN (\"Longitudinal\", \"Sacrifice\")' \\\n",
    "    --o-filtered-table ../data/Microbiome/pooling_filtered/pooling-filt_gg2_species_study-type.qza\n",
    "\n",
    "!qiime feature-table filter-samples \\\n",
    "    --i-table ../data/Microbiome/pooling_filtered/pooling-filt_gg2_species.qza \\\n",
    "    --m-metadata-file ../data/Microbiome/14748_metadata_overpooling.txt \\\n",
    "    --p-where '[genotype] IN (\"3XTG\", \"B6\")' \\\n",
    "    --o-filtered-table ../data/Microbiome/pooling_filtered/pooling-filt_gg2_species_genotype.qza\n",
    "\n",
    "!qiime feature-table filter-samples \\\n",
    "    --i-table ../data/Microbiome/pooling_filtered/pooling-filt_gg2_species.qza \\\n",
    "    --m-metadata-file ../data/Microbiome/14748_metadata_overpooling.txt \\\n",
    "    --p-where '[sex] IN (\"male\", \"female\")' \\\n",
    "    --o-filtered-table ../data/Microbiome/pooling_filtered/pooling-filt_gg2_species_sex.qza"
   ]
  },
  {
   "cell_type": "code",
   "execution_count": 1,
   "id": "f548c63b",
   "metadata": {},
   "outputs": [
    {
     "name": "stdout",
     "output_type": "stream",
     "text": [
      "\u001b[32mSaved FeatureData[DifferentialAbundance] to: ../data/Microbiome/pooling_filtered/3XTG_species-lvl_study-type_ancombc_differentials.qza\u001b[0m\n",
      "\u001b[0m\u001b[32mSaved FeatureData[DifferentialAbundance] to: ../data/Microbiome/pooling_filtered/3XTG_species-lvl_genotype_ancombc_differentials.qza\u001b[0m\n",
      "\u001b[0m\u001b[32mSaved FeatureData[DifferentialAbundance] to: ../data/Microbiome/pooling_filtered/3XTG_species-lvl_sex_ancombc_differentials.qza\u001b[0m\n",
      "\u001b[0m"
     ]
    }
   ],
   "source": [
    "!qiime composition ancombc \\\n",
    "    --i-table ../data/Microbiome/pooling_filtered/pooling-filt_gg2_species_study-type.qza \\\n",
    "    --m-metadata-file ../data/Microbiome/14748_metadata_overpooling.txt \\\n",
    "    --p-formula \"study_type\" \\\n",
    "    --p-p-adj-method 'holm' \\\n",
    "    --p-alpha 0.05 \\\n",
    "    --o-differentials ../data/Microbiome/pooling_filtered/3XTG_species-lvl_study-type_ancombc_differentials.qza\n",
    "\n",
    "!qiime composition ancombc \\\n",
    "    --i-table ../data/Microbiome/pooling_filtered/pooling-filt_gg2_species_genotype.qza \\\n",
    "    --m-metadata-file ../data/Microbiome/14748_metadata_overpooling.txt \\\n",
    "    --p-formula \"genotype\" \\\n",
    "    --p-p-adj-method 'holm' \\\n",
    "    --p-alpha 0.05 \\\n",
    "    --o-differentials ../data/Microbiome/pooling_filtered/3XTG_species-lvl_genotype_ancombc_differentials.qza\n",
    "\n",
    "!qiime composition ancombc \\\n",
    "    --i-table ../data/Microbiome/pooling_filtered/pooling-filt_gg2_species_sex.qza \\\n",
    "    --m-metadata-file ../data/Microbiome/14748_metadata_overpooling.txt \\\n",
    "    --p-formula \"sex\" \\\n",
    "    --p-p-adj-method 'holm' \\\n",
    "    --p-alpha 0.05 \\\n",
    "    --o-differentials ../data/Microbiome/pooling_filtered/3XTG_species-lvl_sex_ancombc_differentials.qza"
   ]
  },
  {
   "cell_type": "code",
   "execution_count": 4,
   "id": "9c2bc759",
   "metadata": {},
   "outputs": [
    {
     "name": "stdout",
     "output_type": "stream",
     "text": [
      "\u001b[32mSaved Visualization to: ../data/Microbiome/pooling_filtered/3XTG_species-lvl_study-type_ancombc_barplot.qzv\u001b[0m\n",
      "\u001b[0m\u001b[32mSaved Visualization to: ../data/Microbiome/pooling_filtered/3XTG_species-lvl_genotype_ancombc_barplot.qzv\u001b[0m\n",
      "\u001b[0m\u001b[32mSaved Visualization to: ../data/Microbiome/pooling_filtered/3XTG_species-lvl_sex_ancombc_barplot.qzv\u001b[0m\n",
      "\u001b[0m"
     ]
    }
   ],
   "source": [
    "!qiime composition da-barplot \\\n",
    "    --i-data ../data/Microbiome/pooling_filtered/3XTG_species-lvl_study-type_ancombc_differentials.qza \\\n",
    "    --p-significance-threshold 0.00001 \\\n",
    "    --p-effect-size-threshold 1 \\\n",
    "    --p-level-delimiter ';' \\\n",
    "    --o-visualization ../data/Microbiome/pooling_filtered/3XTG_species-lvl_study-type_ancombc_barplot.qzv\n",
    "\n",
    "!qiime composition da-barplot \\\n",
    "    --i-data ../data/Microbiome/pooling_filtered/3XTG_species-lvl_genotype_ancombc_differentials.qza \\\n",
    "    --p-significance-threshold 0.01 \\\n",
    "    --p-effect-size-threshold 2 \\\n",
    "    --p-level-delimiter ';' \\\n",
    "    --o-visualization ../data/Microbiome/pooling_filtered/3XTG_species-lvl_genotype_ancombc_barplot.qzv\n",
    "\n",
    "!qiime composition da-barplot \\\n",
    "    --i-data ../data/Microbiome/pooling_filtered/3XTG_species-lvl_sex_ancombc_differentials.qza \\\n",
    "    --p-significance-threshold 0.05 \\\n",
    "    --p-effect-size-threshold 1 \\\n",
    "    --p-level-delimiter ';' \\\n",
    "    --o-visualization ../data/Microbiome/pooling_filtered/3XTG_species-lvl_sex_ancombc_barplot.qzv\n",
    "#needs altair 4.2.2; run in qiime2-amplicon-2024.5"
   ]
  },
  {
   "cell_type": "markdown",
   "id": "17fec589",
   "metadata": {},
   "source": [
    "#### Sacrifice Timepoints only"
   ]
  },
  {
   "cell_type": "code",
   "execution_count": 4,
   "id": "a6e3917b",
   "metadata": {},
   "outputs": [
    {
     "name": "stdout",
     "output_type": "stream",
     "text": [
      "\u001b[32mSaved FeatureTable[Frequency] to: ../data/Microbiome/pooling_filtered/pft_gg2_species_sac-only.qza\u001b[0m\r\n",
      "\u001b[0m"
     ]
    }
   ],
   "source": [
    "!qiime feature-table filter-samples \\\n",
    "    --i-table ../data/Microbiome/pooling_filtered/pooling-filt_gg2_species.qza \\\n",
    "    --m-metadata-file ../data/Microbiome/14748_metadata_overpooling.txt \\\n",
    "    --p-where '[study_type]=\"Sacrifice\"' \\\n",
    "    --o-filtered-table ../data/Microbiome/pooling_filtered/pft_gg2_species_sac-only.qza"
   ]
  },
  {
   "cell_type": "code",
   "execution_count": 1,
   "id": "5fd5a211",
   "metadata": {},
   "outputs": [
    {
     "name": "stdout",
     "output_type": "stream",
     "text": [
      "\u001b[32mSaved Visualization to: ../data/Microbiome/pooling_filtered/pft_gg2_species_sac-only.qzv\u001b[0m\r\n",
      "\u001b[0m"
     ]
    }
   ],
   "source": [
    "!qiime feature-table summarize \\\n",
    "    --i-table ../data/Microbiome/pooling_filtered/pft_gg2_species_sac-only.qza \\\n",
    "    --m-sample-metadata-file ../data/Microbiome/14748_metadata_overpooling.txt \\\n",
    "    --o-visualization ../data/Microbiome/pooling_filtered/pft_gg2_species_sac-only.qzv"
   ]
  },
  {
   "cell_type": "code",
   "execution_count": 5,
   "id": "1cb65c01",
   "metadata": {},
   "outputs": [
    {
     "name": "stdout",
     "output_type": "stream",
     "text": [
      "\u001b[32mSaved FeatureTable[Frequency] to: ../data/Microbiome/pooling_filtered/pft_gg2_species_sac-only_genotype.qza\u001b[0m\n",
      "\u001b[0m\u001b[32mSaved FeatureTable[Frequency] to: ../data/Microbiome/pooling_filtered/pft_gg2_species_sac-only_sex.qza\u001b[0m\n",
      "\u001b[0m"
     ]
    }
   ],
   "source": [
    "!qiime feature-table filter-samples \\\n",
    "    --i-table ../data/Microbiome/pooling_filtered/pft_gg2_species_sac-only.qza \\\n",
    "    --m-metadata-file ../data/Microbiome/14748_metadata_overpooling.txt \\\n",
    "    --p-where '[genotype] IN (\"3XTG\", \"B6\")' \\\n",
    "    --o-filtered-table ../data/Microbiome/pooling_filtered/pft_gg2_species_sac-only_genotype.qza\n",
    "\n",
    "!qiime feature-table filter-samples \\\n",
    "    --i-table ../data/Microbiome/pooling_filtered/pft_gg2_species_sac-only.qza \\\n",
    "    --m-metadata-file ../data/Microbiome/14748_metadata_overpooling.txt \\\n",
    "    --p-where '[sex] IN (\"male\", \"female\")' \\\n",
    "    --o-filtered-table ../data/Microbiome/pooling_filtered/pft_gg2_species_sac-only_sex.qza"
   ]
  },
  {
   "cell_type": "code",
   "execution_count": 1,
   "id": "0b3a8ffa",
   "metadata": {},
   "outputs": [
    {
     "name": "stdout",
     "output_type": "stream",
     "text": [
      "\u001b[32mSaved FeatureData[DifferentialAbundance] to: ../data/Microbiome/pooling_filtered/3XTG_species_sac-only_genotype_ancombc_differentials.qza\u001b[0m\n",
      "\u001b[0m\u001b[32mSaved FeatureData[DifferentialAbundance] to: ../data/Microbiome/pooling_filtered/3XTG_species_sac-only_sex_ancombc_differentials.qza\u001b[0m\n",
      "\u001b[0m"
     ]
    }
   ],
   "source": [
    "!qiime composition ancombc \\\n",
    "    --i-table ../data/Microbiome/pooling_filtered/pft_gg2_species_sac-only_genotype.qza \\\n",
    "    --m-metadata-file ../data/Microbiome/14748_metadata_overpooling.txt \\\n",
    "    --p-formula \"genotype\" \\\n",
    "    --p-p-adj-method 'holm' \\\n",
    "    --p-alpha 0.05 \\\n",
    "    --p-reference-levels genotype::B6 \\\n",
    "    --o-differentials ../data/Microbiome/pooling_filtered/3XTG_species_sac-only_genotype_ancombc_differentials.qza\n",
    "\n",
    "!qiime composition ancombc \\\n",
    "    --i-table ../data/Microbiome/pooling_filtered/pft_gg2_species_sac-only_sex.qza \\\n",
    "    --m-metadata-file ../data/Microbiome/14748_metadata_overpooling.txt \\\n",
    "    --p-formula \"sex\" \\\n",
    "    --p-p-adj-method 'holm' \\\n",
    "    --p-alpha 0.05 \\\n",
    "    --p-reference-levels sex::female \\\n",
    "    --o-differentials ../data/Microbiome/pooling_filtered/3XTG_species_sac-only_sex_ancombc_differentials.qza"
   ]
  },
  {
   "cell_type": "code",
   "execution_count": 2,
   "id": "3a77c3af",
   "metadata": {},
   "outputs": [
    {
     "name": "stdout",
     "output_type": "stream",
     "text": [
      "\u001b[32mSaved Visualization to: ../data/Microbiome/pooling_filtered/3XTG_species_sac-only_genotype_ancombc_barplot.qzv\u001b[0m\n",
      "\u001b[0m\u001b[32mSaved Visualization to: ../data/Microbiome/pooling_filtered/3XTG_species_sac-only_sex_ancombc_barplot.qzv\u001b[0m\n",
      "\u001b[0m"
     ]
    }
   ],
   "source": [
    "!qiime composition da-barplot \\\n",
    "    --i-data ../data/Microbiome/pooling_filtered/3XTG_species_sac-only_genotype_ancombc_differentials.qza \\\n",
    "    --p-significance-threshold 0.01 \\\n",
    "    --p-effect-size-threshold 2 \\\n",
    "    --p-level-delimiter ';' \\\n",
    "    --o-visualization ../data/Microbiome/pooling_filtered/3XTG_species_sac-only_genotype_ancombc_barplot.qzv\n",
    "\n",
    "!qiime composition da-barplot \\\n",
    "    --i-data ../data/Microbiome/pooling_filtered/3XTG_species_sac-only_sex_ancombc_differentials.qza \\\n",
    "    --p-significance-threshold 0.05 \\\n",
    "    --p-effect-size-threshold 1 \\\n",
    "    --p-level-delimiter ';' \\\n",
    "    --o-visualization ../data/Microbiome/pooling_filtered/3XTG_species_sac-only_sex_ancombc_barplot.qzv\n",
    "#needs altair 4.2.2; run in qiime2-amplicon-2024.5"
   ]
  },
  {
   "cell_type": "code",
   "execution_count": null,
   "id": "c178c1a4",
   "metadata": {},
   "outputs": [],
   "source": []
  },
  {
   "cell_type": "code",
   "execution_count": null,
   "id": "abd9a646",
   "metadata": {},
   "outputs": [],
   "source": []
  },
  {
   "cell_type": "code",
   "execution_count": null,
   "id": "5c6968fb",
   "metadata": {},
   "outputs": [],
   "source": []
  },
  {
   "cell_type": "code",
   "execution_count": 2,
   "id": "26757aa8",
   "metadata": {},
   "outputs": [
    {
     "name": "stdout",
     "output_type": "stream",
     "text": [
      "\u001b[32mExported ../data/Microbiome/pooling_filtered/sacrifice/sac_1000000rar_core_diversity/shannon_vector.qza as AlphaDiversityDirectoryFormat to directory ../data/Microbiome/pooling_filtered/sacrifice/sac_1000000rar_core_diversity/shannon_vector\u001b[0m\n",
      "\u001b[0m"
     ]
    }
   ],
   "source": [
    "!qiime tools export \\\n",
    "    --input-path ../data/Microbiome/pooling_filtered/sacrifice/sac_1000000rar_core_diversity/shannon_vector.qza \\\n",
    "    --output-path ../data/Microbiome/pooling_filtered/sacrifice/sac_1000000rar_core_diversity/shannon_vector"
   ]
  },
  {
   "cell_type": "code",
   "execution_count": null,
   "id": "96c48d6f",
   "metadata": {},
   "outputs": [],
   "source": []
  }
 ],
 "metadata": {
  "kernelspec": {
   "display_name": "Python 3 (ipykernel)",
   "language": "python",
   "name": "python3"
  },
  "language_info": {
   "codemirror_mode": {
    "name": "ipython",
    "version": 3
   },
   "file_extension": ".py",
   "mimetype": "text/x-python",
   "name": "python",
   "nbconvert_exporter": "python",
   "pygments_lexer": "ipython3",
   "version": "3.8.16"
  }
 },
 "nbformat": 4,
 "nbformat_minor": 5
}
