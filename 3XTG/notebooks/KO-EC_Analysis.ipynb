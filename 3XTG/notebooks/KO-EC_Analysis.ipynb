{
 "cells": [
  {
   "cell_type": "code",
   "execution_count": 1,
   "id": "bf5da12c-5d9a-4d7f-9153-2df398b73f9d",
   "metadata": {},
   "outputs": [
    {
     "name": "stdout",
     "output_type": "stream",
     "text": [
      "q2cli version 2024.5.0\r\n",
      "Run `qiime info` for more version details.\r\n"
     ]
    }
   ],
   "source": [
    "!qiime --version"
   ]
  },
  {
   "cell_type": "markdown",
   "id": "679ddaf7",
   "metadata": {},
   "source": [
    "# Kegg Ontology"
   ]
  },
  {
   "cell_type": "code",
   "execution_count": 6,
   "id": "acead94d",
   "metadata": {},
   "outputs": [
    {
     "name": "stdout",
     "output_type": "stream",
     "text": [
      "\u001b[32mSaved Visualization to: ../data/Microbiome/KO-EC/186175_3XTG_KO_feature-table.qzv\u001b[0m\r\n",
      "\u001b[0m"
     ]
    }
   ],
   "source": [
    "!qiime feature-table summarize \\\n",
    "    --i-table ../data/Microbiome/KO-EC/186175_3XTG_KO_feature-table.qza \\\n",
    "    --m-sample-metadata-file ../data/Microbiome/14748_metadata_overpooling.txt \\\n",
    "    --o-visualization ../data/Microbiome/KO-EC/186175_3XTG_KO_feature-table.qzv\n",
    "#255,000 gets rid of all blanks\n",
    "#100,000 gets rid of most blanks, keeps more samples"
   ]
  },
  {
   "cell_type": "code",
   "execution_count": 1,
   "id": "46a8a60c",
   "metadata": {},
   "outputs": [
    {
     "name": "stdout",
     "output_type": "stream",
     "text": [
      "\u001b[32mSaved FeatureTable[Frequency] to: ../data/Microbiome/KO-EC/KO_core_diversity_255000/rarefied_table.qza\u001b[0m\n",
      "\u001b[32mSaved SampleData[AlphaDiversity] to: ../data/Microbiome/KO-EC/KO_core_diversity_255000/observed_features_vector.qza\u001b[0m\n",
      "\u001b[32mSaved SampleData[AlphaDiversity] to: ../data/Microbiome/KO-EC/KO_core_diversity_255000/shannon_vector.qza\u001b[0m\n",
      "\u001b[32mSaved SampleData[AlphaDiversity] to: ../data/Microbiome/KO-EC/KO_core_diversity_255000/evenness_vector.qza\u001b[0m\n",
      "\u001b[32mSaved DistanceMatrix to: ../data/Microbiome/KO-EC/KO_core_diversity_255000/jaccard_distance_matrix.qza\u001b[0m\n",
      "\u001b[32mSaved DistanceMatrix to: ../data/Microbiome/KO-EC/KO_core_diversity_255000/bray_curtis_distance_matrix.qza\u001b[0m\n",
      "\u001b[32mSaved PCoAResults to: ../data/Microbiome/KO-EC/KO_core_diversity_255000/jaccard_pcoa_results.qza\u001b[0m\n",
      "\u001b[32mSaved PCoAResults to: ../data/Microbiome/KO-EC/KO_core_diversity_255000/bray_curtis_pcoa_results.qza\u001b[0m\n",
      "\u001b[32mSaved Visualization to: ../data/Microbiome/KO-EC/KO_core_diversity_255000/jaccard_emperor.qzv\u001b[0m\n",
      "\u001b[32mSaved Visualization to: ../data/Microbiome/KO-EC/KO_core_diversity_255000/bray_curtis_emperor.qzv\u001b[0m\n",
      "\u001b[0m"
     ]
    }
   ],
   "source": [
    "!qiime diversity core-metrics \\\n",
    "    --i-table ../data/Microbiome/KO-EC/186175_3XTG_KO_feature-table.qza \\\n",
    "    --p-sampling-depth 255000 \\\n",
    "    --m-metadata-file ../data/Microbiome/14748_metadata_overpooling.txt \\\n",
    "    --output-dir ../data/Microbiome/KO-EC/KO_core_diversity_255000"
   ]
  },
  {
   "cell_type": "code",
   "execution_count": 5,
   "id": "ab050da0",
   "metadata": {},
   "outputs": [
    {
     "name": "stdout",
     "output_type": "stream",
     "text": [
      "\u001b[32mSaved Visualization to: ../data/Microbiome/KO-EC/KO_core_diversity_255000/observed_features_vector.qzv\u001b[0m\n",
      "\u001b[0m\u001b[32mSaved Visualization to: ../data/Microbiome/KO-EC/KO_core_diversity_255000/shannon_vector.qzv\u001b[0m\n",
      "\u001b[0m"
     ]
    }
   ],
   "source": [
    "!qiime diversity alpha-group-significance \\\n",
    "    --i-alpha-diversity ../data/Microbiome/KO-EC/KO_core_diversity_255000/observed_features_vector.qza \\\n",
    "    --m-metadata-file ../data/Microbiome/14748_metadata_overpooling.txt \\\n",
    "    --o-visualization ../data/Microbiome/KO-EC/KO_core_diversity_255000/observed_features_vector.qzv\n",
    "\n",
    "!qiime diversity alpha-group-significance \\\n",
    "    --i-alpha-diversity ../data/Microbiome/KO-EC/KO_core_diversity_255000/shannon_vector.qza \\\n",
    "    --m-metadata-file ../data/Microbiome/14748_metadata_overpooling.txt \\\n",
    "    --o-visualization ../data/Microbiome/KO-EC/KO_core_diversity_255000/shannon_vector.qzv"
   ]
  },
  {
   "cell_type": "code",
   "execution_count": 6,
   "id": "65f19f16",
   "metadata": {},
   "outputs": [
    {
     "name": "stdout",
     "output_type": "stream",
     "text": [
      "\u001b[32mSaved Visualization to: ../data/Microbiome/KO-EC/KO_core_diversity_255000/jaccard_dm_beta-sig_study-type.qza.qzv\u001b[0m\n",
      "\u001b[0m\u001b[32mSaved Visualization to: ../data/Microbiome/KO-EC/KO_core_diversity_255000/braycurtis_dm_beta-sig_study-type.qza.qzv\u001b[0m\n",
      "\u001b[0m"
     ]
    }
   ],
   "source": [
    "!qiime diversity beta-group-significance \\\n",
    "    --i-distance-matrix ../data/Microbiome/KO-EC/KO_core_diversity_255000/jaccard_distance_matrix.qza \\\n",
    "    --m-metadata-file ../data/Microbiome/14748_metadata_overpooling.txt \\\n",
    "    --m-metadata-column study_type \\\n",
    "    --p-pairwise True \\\n",
    "    --o-visualization ../data/Microbiome/KO-EC/KO_core_diversity_255000/jaccard_dm_beta-sig_study-type.qza\n",
    "\n",
    "!qiime diversity beta-group-significance \\\n",
    "    --i-distance-matrix ../data/Microbiome/KO-EC/KO_core_diversity_255000/bray_curtis_distance_matrix.qza \\\n",
    "    --m-metadata-file ../data/Microbiome/14748_metadata_overpooling.txt \\\n",
    "    --m-metadata-column study_type \\\n",
    "    --p-pairwise True \\\n",
    "    --o-visualization ../data/Microbiome/KO-EC/KO_core_diversity_255000/braycurtis_dm_beta-sig_study-type.qza"
   ]
  },
  {
   "cell_type": "code",
   "execution_count": 7,
   "id": "3a21ec8f",
   "metadata": {},
   "outputs": [
    {
     "name": "stdout",
     "output_type": "stream",
     "text": [
      "\u001b[32mSaved Visualization to: ../data/Microbiome/KO-EC/KO_core_diversity_255000/jaccard_dm_beta-sig_genotype.qza.qzv\u001b[0m\n",
      "\u001b[0m\u001b[32mSaved Visualization to: ../data/Microbiome/KO-EC/KO_core_diversity_255000/braycurtis_dm_beta-sig_genotype.qza.qzv\u001b[0m\n",
      "\u001b[0m"
     ]
    }
   ],
   "source": [
    "!qiime diversity beta-group-significance \\\n",
    "    --i-distance-matrix ../data/Microbiome/KO-EC/KO_core_diversity_255000/jaccard_distance_matrix.qza \\\n",
    "    --m-metadata-file ../data/Microbiome/14748_metadata_overpooling.txt \\\n",
    "    --m-metadata-column genotype \\\n",
    "    --p-pairwise True \\\n",
    "    --o-visualization ../data/Microbiome/KO-EC/KO_core_diversity_255000/jaccard_dm_beta-sig_genotype.qza\n",
    "\n",
    "!qiime diversity beta-group-significance \\\n",
    "    --i-distance-matrix ../data/Microbiome/KO-EC/KO_core_diversity_255000/bray_curtis_distance_matrix.qza \\\n",
    "    --m-metadata-file ../data/Microbiome/14748_metadata_overpooling.txt \\\n",
    "    --m-metadata-column genotype \\\n",
    "    --p-pairwise True \\\n",
    "    --o-visualization ../data/Microbiome/KO-EC/KO_core_diversity_255000/braycurtis_dm_beta-sig_genotype.qza"
   ]
  },
  {
   "cell_type": "code",
   "execution_count": 8,
   "id": "4e08eda1",
   "metadata": {},
   "outputs": [
    {
     "name": "stdout",
     "output_type": "stream",
     "text": [
      "\u001b[32mSaved Visualization to: ../data/Microbiome/KO-EC/KO_core_diversity_255000/jaccard_dm_beta-sig_sex.qza.qzv\u001b[0m\n",
      "\u001b[0m\u001b[32mSaved Visualization to: ../data/Microbiome/KO-EC/KO_core_diversity_255000/braycurtis_dm_beta-sig_sex.qza.qzv\u001b[0m\n",
      "\u001b[0m"
     ]
    }
   ],
   "source": [
    "!qiime diversity beta-group-significance \\\n",
    "    --i-distance-matrix ../data/Microbiome/KO-EC/KO_core_diversity_255000/jaccard_distance_matrix.qza \\\n",
    "    --m-metadata-file ../data/Microbiome/14748_metadata_overpooling.txt \\\n",
    "    --m-metadata-column sex \\\n",
    "    --p-pairwise True \\\n",
    "    --o-visualization ../data/Microbiome/KO-EC/KO_core_diversity_255000/jaccard_dm_beta-sig_sex.qza\n",
    "\n",
    "!qiime diversity beta-group-significance \\\n",
    "    --i-distance-matrix ../data/Microbiome/KO-EC/KO_core_diversity_255000/bray_curtis_distance_matrix.qza \\\n",
    "    --m-metadata-file ../data/Microbiome/14748_metadata_overpooling.txt \\\n",
    "    --m-metadata-column sex \\\n",
    "    --p-pairwise True \\\n",
    "    --o-visualization ../data/Microbiome/KO-EC/KO_core_diversity_255000/braycurtis_dm_beta-sig_sex.qza"
   ]
  },
  {
   "cell_type": "code",
   "execution_count": 37,
   "id": "c97080fc",
   "metadata": {},
   "outputs": [
    {
     "name": "stdout",
     "output_type": "stream",
     "text": [
      "\u001b[32mSaved FeatureTable[Frequency] to: ../data/Microbiome/KO-EC/186175_3XTG_KO_feature-table_annot.qza\u001b[0m\n",
      "\u001b[0m"
     ]
    }
   ],
   "source": [
    "#essentially taxa collapse for KO\n",
    "!qiime feature-table rename-ids \\\n",
    "    --i-table ../data/Microbiome/KO-EC/186175_3XTG_KO_feature-table.qza \\\n",
    "    --m-metadata-file ../../../woltka_functional/ko_name.txt \\\n",
    "    --m-metadata-column KO_ID \\\n",
    "    --p-axis 'feature' \\\n",
    "    --p-no-strict True \\\n",
    "    --o-renamed-table ../data/Microbiome/KO-EC/186175_3XTG_KO_feature-table_annot.qza"
   ]
  },
  {
   "cell_type": "code",
   "execution_count": 38,
   "id": "cf0af7ea",
   "metadata": {},
   "outputs": [
    {
     "name": "stdout",
     "output_type": "stream",
     "text": [
      "\u001b[32mSaved FeatureTable[Frequency] to: ../data/Microbiome/KO-EC/186175_3XTG_KO_feature-table_study-type.qza\u001b[0m\n",
      "\u001b[0m\u001b[32mSaved FeatureTable[Frequency] to: ../data/Microbiome/KO-EC/186175_3XTG_KO_feature-table_genotype.qza\u001b[0m\n",
      "\u001b[0m\u001b[32mSaved FeatureTable[Frequency] to: ../data/Microbiome/KO-EC/186175_3XTG_KO_feature-table_sex.qza\u001b[0m\n",
      "\u001b[0m"
     ]
    }
   ],
   "source": [
    "!qiime feature-table filter-samples \\\n",
    "    --i-table ../data/Microbiome/KO-EC/186175_3XTG_KO_feature-table_annot.qza \\\n",
    "    --m-metadata-file ../data/Microbiome/14748_metadata_overpooling.txt \\\n",
    "    --p-where '[study_type] IN (\"Longitudinal\", \"Sacrifice\")' \\\n",
    "    --o-filtered-table ../data/Microbiome/KO-EC/186175_3XTG_KO_feature-table_study-type.qza\n",
    "\n",
    "!qiime feature-table filter-samples \\\n",
    "    --i-table ../data/Microbiome/KO-EC/186175_3XTG_KO_feature-table_annot.qza \\\n",
    "    --m-metadata-file ../data/Microbiome/14748_metadata_overpooling.txt \\\n",
    "    --p-where '[genotype] IN (\"3XTG\", \"B6\")' \\\n",
    "    --o-filtered-table ../data/Microbiome/KO-EC/186175_3XTG_KO_feature-table_genotype.qza\n",
    "\n",
    "!qiime feature-table filter-samples \\\n",
    "    --i-table ../data/Microbiome/KO-EC/186175_3XTG_KO_feature-table_annot.qza \\\n",
    "    --m-metadata-file ../data/Microbiome/14748_metadata_overpooling.txt \\\n",
    "    --p-where '[sex] IN (\"male\", \"female\")' \\\n",
    "    --o-filtered-table ../data/Microbiome/KO-EC/186175_3XTG_KO_feature-table_sex.qza"
   ]
  },
  {
   "cell_type": "code",
   "execution_count": 39,
   "id": "f873324d",
   "metadata": {},
   "outputs": [
    {
     "name": "stdout",
     "output_type": "stream",
     "text": [
      "\u001b[32mSaved FeatureData[DifferentialAbundance] to: ../data/Microbiome/KO-EC/3XTG_KO_study-type_ancombc_differentials.qza\u001b[0m\n",
      "\u001b[0m\u001b[32mSaved FeatureData[DifferentialAbundance] to: ../data/Microbiome/KO-EC/3XTG_KO_genotype_ancombc_differentials.qza\u001b[0m\n",
      "\u001b[0m\u001b[32mSaved FeatureData[DifferentialAbundance] to: ../data/Microbiome/KO-EC/3XTG_KO_sex_ancombc_differentials.qza\u001b[0m\n",
      "\u001b[0m"
     ]
    }
   ],
   "source": [
    "!qiime composition ancombc \\\n",
    "    --i-table ../data/Microbiome/KO-EC/186175_3XTG_KO_feature-table_study-type.qza \\\n",
    "    --m-metadata-file ../data/Microbiome/14748_metadata_overpooling.txt \\\n",
    "    --p-formula \"study_type\" \\\n",
    "    --p-reference-levels study_type::Sacrifice \\\n",
    "    --p-p-adj-method 'holm' \\\n",
    "    --p-alpha 0.05 \\\n",
    "    --o-differentials ../data/Microbiome/KO-EC/3XTG_KO_study-type_ancombc_differentials.qza\n",
    "\n",
    "!qiime composition ancombc \\\n",
    "    --i-table ../data/Microbiome/KO-EC/186175_3XTG_KO_feature-table_genotype.qza \\\n",
    "    --m-metadata-file ../data/Microbiome/14748_metadata_overpooling.txt \\\n",
    "    --p-formula \"genotype\" \\\n",
    "    --p-reference-levels genotype::B6 \\\n",
    "    --p-p-adj-method 'holm' \\\n",
    "    --p-alpha 0.05 \\\n",
    "    --o-differentials ../data/Microbiome/KO-EC/3XTG_KO_genotype_ancombc_differentials.qza\n",
    "\n",
    "!qiime composition ancombc \\\n",
    "    --i-table ../data/Microbiome/KO-EC/186175_3XTG_KO_feature-table_sex.qza \\\n",
    "    --m-metadata-file ../data/Microbiome/14748_metadata_overpooling.txt \\\n",
    "    --p-formula \"sex\" \\\n",
    "    --p-reference-levels sex::female \\\n",
    "    --p-p-adj-method 'holm' \\\n",
    "    --p-alpha 0.05 \\\n",
    "    --o-differentials ../data/Microbiome/KO-EC/3XTG_KO_sex_ancombc_differentials.qza\n",
    "#binary categories only"
   ]
  },
  {
   "cell_type": "code",
   "execution_count": 46,
   "id": "0acaac2d",
   "metadata": {},
   "outputs": [
    {
     "name": "stdout",
     "output_type": "stream",
     "text": [
      "\u001b[32mSaved Visualization to: ../data/Microbiome/KO-EC/3XTG_KO_study-type_ancombc_barplot.qzv\u001b[0m\n",
      "\u001b[0m\u001b[32mSaved Visualization to: ../data/Microbiome/KO-EC/3XTG_KO_genotype_ancombc_barplot.qzv\u001b[0m\n",
      "\u001b[0m\u001b[32mSaved Visualization to: ../data/Microbiome/KO-EC/3XTG_KO_sex_ancombc_barplot.qzv\u001b[0m\n",
      "\u001b[0m"
     ]
    }
   ],
   "source": [
    "!qiime composition da-barplot \\\n",
    "    --i-data ../data/Microbiome/KO-EC/3XTG_KO_study-type_ancombc_differentials.qza \\\n",
    "    --p-significance-threshold 0.00001 \\\n",
    "    --p-effect-size-threshold 1.6 \\\n",
    "    --p-label-limit 300 \\\n",
    "    --o-visualization ../data/Microbiome/KO-EC/3XTG_KO_study-type_ancombc_barplot.qzv\n",
    "\n",
    "!qiime composition da-barplot \\\n",
    "    --i-data ../data/Microbiome/KO-EC/3XTG_KO_genotype_ancombc_differentials.qza \\\n",
    "    --p-significance-threshold 0.001 \\\n",
    "    --p-effect-size-threshold 1.5 \\\n",
    "    --p-label-limit 300 \\\n",
    "    --o-visualization ../data/Microbiome/KO-EC/3XTG_KO_genotype_ancombc_barplot.qzv\n",
    "\n",
    "!qiime composition da-barplot \\\n",
    "    --i-data ../data/Microbiome/KO-EC/3XTG_KO_sex_ancombc_differentials.qza \\\n",
    "    --p-significance-threshold 0.05 \\\n",
    "    --p-effect-size-threshold 1 \\\n",
    "    --p-label-limit 300 \\\n",
    "    --o-visualization ../data/Microbiome/KO-EC/3XTG_KO_sex_ancombc_barplot.qzv\n",
    "#needs altair 4.2.2; run in qiime2-amplicon-2024.5"
   ]
  },
  {
   "cell_type": "markdown",
   "id": "66591926",
   "metadata": {},
   "source": [
    "#### Sacrifice Timepoints Only"
   ]
  },
  {
   "cell_type": "code",
   "execution_count": 41,
   "id": "24657785",
   "metadata": {},
   "outputs": [
    {
     "name": "stdout",
     "output_type": "stream",
     "text": [
      "\u001b[32mSaved FeatureTable[Frequency] to: ../data/Microbiome/KO-EC/3XTG_KO_sac-ft.qza\u001b[0m\r\n",
      "\u001b[0m"
     ]
    }
   ],
   "source": [
    "!qiime feature-table filter-samples \\\n",
    "    --i-table ../data/Microbiome/KO-EC/186175_3XTG_KO_feature-table_annot.qza \\\n",
    "    --m-metadata-file ../data/Microbiome/14748_metadata_overpooling.txt \\\n",
    "    --p-where '[study_type]=\"Sacrifice\"' \\\n",
    "    --o-filtered-table ../data/Microbiome/KO-EC/3XTG_KO_sac-ft.qza"
   ]
  },
  {
   "cell_type": "code",
   "execution_count": 42,
   "id": "20fe8c70",
   "metadata": {},
   "outputs": [
    {
     "name": "stdout",
     "output_type": "stream",
     "text": [
      "\u001b[32mSaved FeatureTable[Frequency] to: ../data/Microbiome/KO-EC/3XTG_KO_sac-ft_genotype.qza\u001b[0m\n",
      "\u001b[0m\u001b[32mSaved FeatureTable[Frequency] to: ../data/Microbiome/KO-EC/3XTG_KO_sac-ft_sex.qza\u001b[0m\n",
      "\u001b[0m"
     ]
    }
   ],
   "source": [
    "!qiime feature-table filter-samples \\\n",
    "    --i-table ../data/Microbiome/KO-EC/3XTG_KO_sac-ft.qza \\\n",
    "    --m-metadata-file ../data/Microbiome/14748_metadata_overpooling.txt \\\n",
    "    --p-where '[genotype] IN (\"3XTG\", \"B6\")' \\\n",
    "    --o-filtered-table ../data/Microbiome/KO-EC/3XTG_KO_sac-ft_genotype.qza\n",
    "\n",
    "!qiime feature-table filter-samples \\\n",
    "    --i-table ../data/Microbiome/KO-EC/3XTG_KO_sac-ft.qza \\\n",
    "    --m-metadata-file ../data/Microbiome/14748_metadata_overpooling.txt \\\n",
    "    --p-where '[sex] IN (\"male\", \"female\")' \\\n",
    "    --o-filtered-table ../data/Microbiome/KO-EC/3XTG_KO_sac-ft_sex.qza"
   ]
  },
  {
   "cell_type": "code",
   "execution_count": 43,
   "id": "1836b91e",
   "metadata": {},
   "outputs": [
    {
     "name": "stdout",
     "output_type": "stream",
     "text": [
      "\u001b[32mSaved FeatureData[DifferentialAbundance] to: ../data/Microbiome/KO-EC/3XTG_KO_sac-ft_genotype_ancombc_differentials.qza\u001b[0m\n",
      "\u001b[0m\u001b[32mSaved FeatureData[DifferentialAbundance] to: ../data/Microbiome/KO-EC/3XTG_KO_sac-ft_ancombc_differentials.qza\u001b[0m\n",
      "\u001b[0m"
     ]
    }
   ],
   "source": [
    "!qiime composition ancombc \\\n",
    "    --i-table ../data/Microbiome/KO-EC/3XTG_KO_sac-ft_genotype.qza \\\n",
    "    --m-metadata-file ../data/Microbiome/14748_metadata_overpooling.txt \\\n",
    "    --p-formula \"genotype\" \\\n",
    "    --p-reference-levels genotype::B6 \\\n",
    "    --p-p-adj-method 'holm' \\\n",
    "    --p-alpha 0.05 \\\n",
    "    --o-differentials ../data/Microbiome/KO-EC/3XTG_KO_sac-ft_genotype_ancombc_differentials.qza\n",
    "\n",
    "!qiime composition ancombc \\\n",
    "    --i-table ../data/Microbiome/KO-EC/3XTG_KO_sac-ft_sex.qza \\\n",
    "    --m-metadata-file ../data/Microbiome/14748_metadata_overpooling.txt \\\n",
    "    --p-formula \"sex\" \\\n",
    "    --p-reference-levels sex::female \\\n",
    "    --p-p-adj-method 'holm' \\\n",
    "    --p-alpha 0.05 \\\n",
    "    --o-differentials ../data/Microbiome/KO-EC/3XTG_KO_sac-ft_sex_ancombc_differentials.qza\n",
    "#binary categories easier"
   ]
  },
  {
   "cell_type": "code",
   "execution_count": 45,
   "id": "b1f5ae13",
   "metadata": {},
   "outputs": [
    {
     "name": "stdout",
     "output_type": "stream",
     "text": [
      "\u001b[32mSaved Visualization to: ../data/Microbiome/KO-EC/3XTG_KO_sac-ft_genotype_ancombc_barplot.qzv\u001b[0m\n",
      "\u001b[0m\u001b[32mSaved Visualization to: ../data/Microbiome/KO-EC/3XTG_KO_sac-ft_sex_ancombc_barplot.qzv\u001b[0m\n",
      "\u001b[0m"
     ]
    }
   ],
   "source": [
    "!qiime composition da-barplot \\\n",
    "    --i-data ../data/Microbiome/KO-EC/3XTG_KO_sac-ft_genotype_ancombc_differentials.qza \\\n",
    "    --p-significance-threshold 0.001 \\\n",
    "    --p-effect-size-threshold 1.6 \\\n",
    "    --p-label-limit 300 \\\n",
    "    --o-visualization ../data/Microbiome/KO-EC/3XTG_KO_sac-ft_genotype_ancombc_barplot.qzv\n",
    "\n",
    "!qiime composition da-barplot \\\n",
    "    --i-data ../data/Microbiome/KO-EC/3XTG_KO_sac-ft_sex_ancombc_differentials.qza \\\n",
    "    --p-significance-threshold 0.05 \\\n",
    "    --p-effect-size-threshold 1 \\\n",
    "    --p-label-limit 300 \\\n",
    "    --o-visualization ../data/Microbiome/KO-EC/3XTG_KO_sac-ft_sex_ancombc_barplot.qzv"
   ]
  },
  {
   "cell_type": "markdown",
   "id": "60aaea30",
   "metadata": {},
   "source": [
    "# Kegg Enzyme"
   ]
  },
  {
   "cell_type": "code",
   "execution_count": 7,
   "id": "06003668",
   "metadata": {},
   "outputs": [
    {
     "name": "stdout",
     "output_type": "stream",
     "text": [
      "\u001b[32mSaved Visualization to: ../data/Microbiome/KO-EC/186173_3XTG_EC_feature-table.qzv\u001b[0m\r\n",
      "\u001b[0m"
     ]
    }
   ],
   "source": [
    "!qiime feature-table summarize \\\n",
    "    --i-table ../data/Microbiome/KO-EC/186173_3XTG_EC_feature-table.qza \\\n",
    "    --m-sample-metadata-file ../data/Microbiome/14748_metadata_overpooling.txt \\\n",
    "    --o-visualization ../data/Microbiome/KO-EC/186173_3XTG_EC_feature-table.qzv\n",
    "#157,000 gets rid of all blanks\n",
    "#100,000 gets rid of most blanks, keeps more samples"
   ]
  },
  {
   "cell_type": "code",
   "execution_count": 6,
   "id": "91a868b1",
   "metadata": {},
   "outputs": [
    {
     "name": "stdout",
     "output_type": "stream",
     "text": [
      "\u001b[32mSaved FeatureTable[Frequency] to: ../data/Microbiome/KO-EC/EC_core_diversity_157000/rarefied_table.qza\u001b[0m\n",
      "\u001b[32mSaved SampleData[AlphaDiversity] to: ../data/Microbiome/KO-EC/EC_core_diversity_157000/observed_features_vector.qza\u001b[0m\n",
      "\u001b[32mSaved SampleData[AlphaDiversity] to: ../data/Microbiome/KO-EC/EC_core_diversity_157000/shannon_vector.qza\u001b[0m\n",
      "\u001b[32mSaved SampleData[AlphaDiversity] to: ../data/Microbiome/KO-EC/EC_core_diversity_157000/evenness_vector.qza\u001b[0m\n",
      "\u001b[32mSaved DistanceMatrix to: ../data/Microbiome/KO-EC/EC_core_diversity_157000/jaccard_distance_matrix.qza\u001b[0m\n",
      "\u001b[32mSaved DistanceMatrix to: ../data/Microbiome/KO-EC/EC_core_diversity_157000/bray_curtis_distance_matrix.qza\u001b[0m\n",
      "\u001b[32mSaved PCoAResults to: ../data/Microbiome/KO-EC/EC_core_diversity_157000/jaccard_pcoa_results.qza\u001b[0m\n",
      "\u001b[32mSaved PCoAResults to: ../data/Microbiome/KO-EC/EC_core_diversity_157000/bray_curtis_pcoa_results.qza\u001b[0m\n",
      "\u001b[32mSaved Visualization to: ../data/Microbiome/KO-EC/EC_core_diversity_157000/jaccard_emperor.qzv\u001b[0m\n",
      "\u001b[32mSaved Visualization to: ../data/Microbiome/KO-EC/EC_core_diversity_157000/bray_curtis_emperor.qzv\u001b[0m\n",
      "\u001b[0m"
     ]
    }
   ],
   "source": [
    "!qiime diversity core-metrics \\\n",
    "    --i-table ../data/Microbiome/KO-EC/186173_3XTG_EC_feature-table.qza \\\n",
    "    --p-sampling-depth 157000 \\\n",
    "    --m-metadata-file ../data/Microbiome/14748_metadata_overpooling.txt \\\n",
    "    --output-dir ../data/Microbiome/KO-EC/EC_core_diversity_157000"
   ]
  },
  {
   "cell_type": "code",
   "execution_count": 11,
   "id": "6f0a413c",
   "metadata": {},
   "outputs": [
    {
     "name": "stdout",
     "output_type": "stream",
     "text": [
      "\u001b[32mSaved Visualization to: ../data/Microbiome/KO-EC/EC_core_diversity_157000/observed_features_vector.qzv\u001b[0m\n",
      "\u001b[0m\u001b[32mSaved Visualization to: ../data/Microbiome/KO-EC/EC_core_diversity_157000/shannon_vector.qzv\u001b[0m\n",
      "\u001b[0m"
     ]
    }
   ],
   "source": [
    "!qiime diversity alpha-group-significance \\\n",
    "    --i-alpha-diversity ../data/Microbiome/KO-EC/EC_core_diversity_157000/observed_features_vector.qza \\\n",
    "    --m-metadata-file ../data/Microbiome/14748_metadata_overpooling.txt \\\n",
    "    --o-visualization ../data/Microbiome/KO-EC/EC_core_diversity_157000/observed_features_vector.qzv\n",
    "\n",
    "!qiime diversity alpha-group-significance \\\n",
    "    --i-alpha-diversity ../data/Microbiome/KO-EC/EC_core_diversity_157000/shannon_vector.qza \\\n",
    "    --m-metadata-file ../data/Microbiome/14748_metadata_overpooling.txt \\\n",
    "    --o-visualization ../data/Microbiome/KO-EC/EC_core_diversity_157000/shannon_vector.qzv"
   ]
  },
  {
   "cell_type": "code",
   "execution_count": 12,
   "id": "db18c6b1",
   "metadata": {},
   "outputs": [
    {
     "name": "stdout",
     "output_type": "stream",
     "text": [
      "\u001b[32mSaved Visualization to: ../data/Microbiome/KO-EC/EC_core_diversity_157000/jaccard_dm_beta-sig_study-type.qza.qzv\u001b[0m\n",
      "\u001b[0m\u001b[32mSaved Visualization to: ../data/Microbiome/KO-EC/EC_core_diversity_157000/braycurtis_dm_beta-sig_study-type.qza.qzv\u001b[0m\n",
      "\u001b[0m"
     ]
    }
   ],
   "source": [
    "!qiime diversity beta-group-significance \\\n",
    "    --i-distance-matrix ../data/Microbiome/KO-EC/EC_core_diversity_157000/jaccard_distance_matrix.qza \\\n",
    "    --m-metadata-file ../data/Microbiome/14748_metadata_overpooling.txt \\\n",
    "    --m-metadata-column study_type \\\n",
    "    --p-pairwise True \\\n",
    "    --o-visualization ../data/Microbiome/KO-EC/EC_core_diversity_157000/jaccard_dm_beta-sig_study-type.qza\n",
    "\n",
    "!qiime diversity beta-group-significance \\\n",
    "    --i-distance-matrix ../data/Microbiome/KO-EC/EC_core_diversity_157000/bray_curtis_distance_matrix.qza \\\n",
    "    --m-metadata-file ../data/Microbiome/14748_metadata_overpooling.txt \\\n",
    "    --m-metadata-column study_type \\\n",
    "    --p-pairwise True \\\n",
    "    --o-visualization ../data/Microbiome/KO-EC/EC_core_diversity_157000/braycurtis_dm_beta-sig_study-type.qza"
   ]
  },
  {
   "cell_type": "code",
   "execution_count": 13,
   "id": "140b57a9",
   "metadata": {},
   "outputs": [
    {
     "name": "stdout",
     "output_type": "stream",
     "text": [
      "\u001b[32mSaved Visualization to: ../data/Microbiome/KO-EC/EC_core_diversity_157000/jaccard_dm_beta-sig_genotype.qza.qzv\u001b[0m\n",
      "\u001b[0m\u001b[32mSaved Visualization to: ../data/Microbiome/KO-EC/EC_core_diversity_157000/braycurtis_dm_beta-sig_genotype.qza.qzv\u001b[0m\n",
      "\u001b[0m"
     ]
    }
   ],
   "source": [
    "!qiime diversity beta-group-significance \\\n",
    "    --i-distance-matrix ../data/Microbiome/KO-EC/EC_core_diversity_157000/jaccard_distance_matrix.qza \\\n",
    "    --m-metadata-file ../data/Microbiome/14748_metadata_overpooling.txt \\\n",
    "    --m-metadata-column genotype \\\n",
    "    --p-pairwise True \\\n",
    "    --o-visualization ../data/Microbiome/KO-EC/EC_core_diversity_157000/jaccard_dm_beta-sig_genotype.qza\n",
    "\n",
    "!qiime diversity beta-group-significance \\\n",
    "    --i-distance-matrix ../data/Microbiome/KO-EC/EC_core_diversity_157000/bray_curtis_distance_matrix.qza \\\n",
    "    --m-metadata-file ../data/Microbiome/14748_metadata_overpooling.txt \\\n",
    "    --m-metadata-column genotype \\\n",
    "    --p-pairwise True \\\n",
    "    --o-visualization ../data/Microbiome/KO-EC/EC_core_diversity_157000/braycurtis_dm_beta-sig_genotype.qza"
   ]
  },
  {
   "cell_type": "code",
   "execution_count": 14,
   "id": "e6bf59be",
   "metadata": {},
   "outputs": [
    {
     "name": "stdout",
     "output_type": "stream",
     "text": [
      "\u001b[32mSaved Visualization to: ../data/Microbiome/KO-EC/EC_core_diversity_157000/jaccard_dm_beta-sig_sex.qza.qzv\u001b[0m\n",
      "\u001b[0m\u001b[32mSaved Visualization to: ../data/Microbiome/KO-EC/EC_core_diversity_157000/braycurtis_dm_beta-sig_sex.qza.qzv\u001b[0m\n",
      "\u001b[0m"
     ]
    }
   ],
   "source": [
    "!qiime diversity beta-group-significance \\\n",
    "    --i-distance-matrix ../data/Microbiome/KO-EC/EC_core_diversity_157000/jaccard_distance_matrix.qza \\\n",
    "    --m-metadata-file ../data/Microbiome/14748_metadata_overpooling.txt \\\n",
    "    --m-metadata-column sex \\\n",
    "    --p-pairwise True \\\n",
    "    --o-visualization ../data/Microbiome/KO-EC/EC_core_diversity_157000/jaccard_dm_beta-sig_sex.qza\n",
    "\n",
    "!qiime diversity beta-group-significance \\\n",
    "    --i-distance-matrix ../data/Microbiome/KO-EC/EC_core_diversity_157000/bray_curtis_distance_matrix.qza \\\n",
    "    --m-metadata-file ../data/Microbiome/14748_metadata_overpooling.txt \\\n",
    "    --m-metadata-column sex \\\n",
    "    --p-pairwise True \\\n",
    "    --o-visualization ../data/Microbiome/KO-EC/EC_core_diversity_157000/braycurtis_dm_beta-sig_sex.qza"
   ]
  },
  {
   "cell_type": "code",
   "execution_count": null,
   "id": "cdcb610a",
   "metadata": {},
   "outputs": [],
   "source": [
    "#hard to convert EC to named"
   ]
  },
  {
   "cell_type": "markdown",
   "id": "4de39f4f",
   "metadata": {},
   "source": [
    "# Kegg Pathways"
   ]
  },
  {
   "cell_type": "code",
   "execution_count": 16,
   "id": "e17cfa9e",
   "metadata": {},
   "outputs": [
    {
     "name": "stdout",
     "output_type": "stream",
     "text": [
      "\u001b[32mSaved FeatureTable[Frequency] to: ../data/Microbiome/KO-EC/3XTG_Kegg-pathway_ft_annot.qza\u001b[0m\r\n",
      "\u001b[0m"
     ]
    }
   ],
   "source": [
    "!qiime feature-table rename-ids \\\n",
    "    --i-table ../data/Microbiome/KO-EC/3XTG_Kegg-pathway_186164_feature-table.qza \\\n",
    "    --m-metadata-file ../../../woltka_functional/pathway_name.txt \\\n",
    "    --m-metadata-column Kpath_ID \\\n",
    "    --p-axis 'feature' \\\n",
    "    --p-no-strict True \\\n",
    "    --o-renamed-table ../data/Microbiome/KO-EC/3XTG_Kegg-pathway_ft_annot.qza"
   ]
  },
  {
   "cell_type": "code",
   "execution_count": 25,
   "id": "873334af",
   "metadata": {},
   "outputs": [
    {
     "name": "stdout",
     "output_type": "stream",
     "text": [
      "\u001b[32mSaved FeatureTable[Frequency] to: ../data/Microbiome/KO-EC/3XTG_Kegg-pathway_ft_annot_filt.qza\u001b[0m\r\n",
      "\u001b[0m"
     ]
    }
   ],
   "source": [
    "!qiime feature-table filter-samples \\\n",
    "    --i-table ../data/Microbiome/KO-EC/3XTG_Kegg-pathway_ft_annot.qza \\\n",
    "    --m-metadata-file ../data/Microbiome/14748_metadata_overpooling.txt \\\n",
    "    --p-where '[keep]=\"TRUE\"' \\\n",
    "    --o-filtered-table ../data/Microbiome/KO-EC/3XTG_Kegg-pathway_ft_annot_filt.qza"
   ]
  },
  {
   "cell_type": "code",
   "execution_count": 26,
   "id": "a84782a7",
   "metadata": {},
   "outputs": [
    {
     "name": "stdout",
     "output_type": "stream",
     "text": [
      "\u001b[32mSaved Visualization to: ../data/Microbiome/KO-EC/3XTG_Kegg-pathway_ft_annot_filt.qzv\u001b[0m\n",
      "\u001b[0m"
     ]
    }
   ],
   "source": [
    "!qiime feature-table summarize \\\n",
    "    --i-table ../data/Microbiome/KO-EC/3XTG_Kegg-pathway_ft_annot_filt.qza \\\n",
    "    --m-sample-metadata-file ../data/Microbiome/14748_metadata_overpooling.txt \\\n",
    "    --o-visualization ../data/Microbiome/KO-EC/3XTG_Kegg-pathway_ft_annot_filt.qzv"
   ]
  },
  {
   "cell_type": "code",
   "execution_count": 27,
   "id": "3c5efa9c",
   "metadata": {},
   "outputs": [
    {
     "name": "stdout",
     "output_type": "stream",
     "text": [
      "\u001b[32mSaved FeatureTable[Frequency] to: ../data/Microbiome/KO-EC/3XTG_Kpathway_ft_study-type.qza\u001b[0m\n",
      "\u001b[0m\u001b[32mSaved FeatureTable[Frequency] to: ../data/Microbiome/KO-EC/3XTG_Kpathway_ft_genotype.qza\u001b[0m\n",
      "\u001b[0m\u001b[32mSaved FeatureTable[Frequency] to: ../data/Microbiome/KO-EC/3XTG_Kpathway_ft_sex.qza\u001b[0m\n",
      "\u001b[0m"
     ]
    }
   ],
   "source": [
    "!qiime feature-table filter-samples \\\n",
    "    --i-table ../data/Microbiome/KO-EC/3XTG_Kegg-pathway_ft_annot_filt.qza \\\n",
    "    --m-metadata-file ../data/Microbiome/14748_metadata_overpooling.txt \\\n",
    "    --p-where '[study_type] IN (\"Longitudinal\", \"Sacrifice\")' \\\n",
    "    --o-filtered-table ../data/Microbiome/KO-EC/3XTG_Kpathway_ft_study-type.qza\n",
    "\n",
    "!qiime feature-table filter-samples \\\n",
    "    --i-table ../data/Microbiome/KO-EC/3XTG_Kegg-pathway_ft_annot_filt.qza \\\n",
    "    --m-metadata-file ../data/Microbiome/14748_metadata_overpooling.txt \\\n",
    "    --p-where '[genotype] IN (\"3XTG\", \"B6\")' \\\n",
    "    --o-filtered-table ../data/Microbiome/KO-EC/3XTG_Kpathway_ft_genotype.qza\n",
    "\n",
    "!qiime feature-table filter-samples \\\n",
    "    --i-table ../data/Microbiome/KO-EC/3XTG_Kegg-pathway_ft_annot_filt.qza \\\n",
    "    --m-metadata-file ../data/Microbiome/14748_metadata_overpooling.txt \\\n",
    "    --p-where '[sex] IN (\"male\", \"female\")' \\\n",
    "    --o-filtered-table ../data/Microbiome/KO-EC/3XTG_Kpathway_ft_sex.qza"
   ]
  },
  {
   "cell_type": "code",
   "execution_count": 28,
   "id": "957a8e4b",
   "metadata": {},
   "outputs": [
    {
     "name": "stdout",
     "output_type": "stream",
     "text": [
      "\u001b[32mSaved FeatureData[DifferentialAbundance] to: ../data/Microbiome/KO-EC/3XTG_Kpathway_study-type_ancombc_differentials.qza\u001b[0m\n",
      "\u001b[0m\u001b[32mSaved FeatureData[DifferentialAbundance] to: ../data/Microbiome/KO-EC/3XTG_Kpathway_genotype_ancombc_differentials.qza\u001b[0m\n",
      "\u001b[0m\u001b[32mSaved FeatureData[DifferentialAbundance] to: ../data/Microbiome/KO-EC/3XTG_Kpathway_sex_ancombc_differentials.qza\u001b[0m\n",
      "\u001b[0m"
     ]
    }
   ],
   "source": [
    "!qiime composition ancombc \\\n",
    "    --i-table ../data/Microbiome/KO-EC/3XTG_Kpathway_ft_study-type.qza \\\n",
    "    --m-metadata-file ../data/Microbiome/14748_metadata_overpooling.txt \\\n",
    "    --p-formula \"study_type\" \\\n",
    "    --p-reference-levels study_type::Sacrifice \\\n",
    "    --p-p-adj-method 'holm' \\\n",
    "    --p-alpha 0.05 \\\n",
    "    --o-differentials ../data/Microbiome/KO-EC/3XTG_Kpathway_study-type_ancombc_differentials.qza\n",
    "\n",
    "!qiime composition ancombc \\\n",
    "    --i-table ../data/Microbiome/KO-EC/3XTG_Kpathway_ft_genotype.qza \\\n",
    "    --m-metadata-file ../data/Microbiome/14748_metadata_overpooling.txt \\\n",
    "    --p-formula \"genotype\" \\\n",
    "    --p-reference-levels genotype::B6 \\\n",
    "    --p-p-adj-method 'holm' \\\n",
    "    --p-alpha 0.05 \\\n",
    "    --o-differentials ../data/Microbiome/KO-EC/3XTG_Kpathway_genotype_ancombc_differentials.qza\n",
    "\n",
    "!qiime composition ancombc \\\n",
    "    --i-table ../data/Microbiome/KO-EC/3XTG_Kpathway_ft_sex.qza \\\n",
    "    --m-metadata-file ../data/Microbiome/14748_metadata_overpooling.txt \\\n",
    "    --p-formula \"sex\" \\\n",
    "    --p-reference-levels sex::female \\\n",
    "    --p-p-adj-method 'holm' \\\n",
    "    --p-alpha 0.05 \\\n",
    "    --o-differentials ../data/Microbiome/KO-EC/3XTG_Kpathway_sex_ancombc_differentials.qza\n",
    "#binary categories easier"
   ]
  },
  {
   "cell_type": "code",
   "execution_count": 29,
   "id": "fa85159d",
   "metadata": {},
   "outputs": [
    {
     "name": "stdout",
     "output_type": "stream",
     "text": [
      "\u001b[32mSaved Visualization to: ../data/Microbiome/KO-EC/3XTG_Kpathway_study-type_ancombc_barplot.qzv\u001b[0m\n",
      "\u001b[0m\u001b[32mSaved Visualization to: ../data/Microbiome/KO-EC/3XTG_Kpathway_genotype_ancombc_barplot.qzv\u001b[0m\n",
      "\u001b[0m\u001b[32mSaved Visualization to: ../data/Microbiome/KO-EC/3XTG_Kpathway_sex_ancombc_barplot.qzv\u001b[0m\n",
      "\u001b[0m"
     ]
    }
   ],
   "source": [
    "!qiime composition da-barplot \\\n",
    "    --i-data ../data/Microbiome/KO-EC/3XTG_Kpathway_study-type_ancombc_differentials.qza \\\n",
    "    --p-significance-threshold 0.05 \\\n",
    "    --p-effect-size-threshold 1 \\\n",
    "    --o-visualization ../data/Microbiome/KO-EC/3XTG_Kpathway_study-type_ancombc_barplot.qzv\n",
    "\n",
    "!qiime composition da-barplot \\\n",
    "    --i-data ../data/Microbiome/KO-EC/3XTG_Kpathway_genotype_ancombc_differentials.qza \\\n",
    "    --p-significance-threshold 0.05 \\\n",
    "    --p-effect-size-threshold 1 \\\n",
    "    --o-visualization ../data/Microbiome/KO-EC/3XTG_Kpathway_genotype_ancombc_barplot.qzv\n",
    "\n",
    "!qiime composition da-barplot \\\n",
    "    --i-data ../data/Microbiome/KO-EC/3XTG_Kpathway_sex_ancombc_differentials.qza \\\n",
    "    --p-significance-threshold 0.05 \\\n",
    "    --p-effect-size-threshold 1 \\\n",
    "    --o-visualization ../data/Microbiome/KO-EC/3XTG_Kpathway_sex_ancombc_barplot.qzv"
   ]
  },
  {
   "cell_type": "markdown",
   "id": "36725bc9",
   "metadata": {},
   "source": [
    "#### Sacrifice Timepoints Only"
   ]
  },
  {
   "cell_type": "code",
   "execution_count": 30,
   "id": "b64a26f9",
   "metadata": {},
   "outputs": [
    {
     "name": "stdout",
     "output_type": "stream",
     "text": [
      "\u001b[32mSaved FeatureTable[Frequency] to: ../data/Microbiome/KO-EC/3XTG_Kpathway_ft_sac-only.qza\u001b[0m\r\n",
      "\u001b[0m"
     ]
    }
   ],
   "source": [
    "!qiime feature-table filter-samples \\\n",
    "    --i-table ../data/Microbiome/KO-EC/3XTG_Kegg-pathway_ft_annot_filt.qza \\\n",
    "    --m-metadata-file ../data/Microbiome/14748_metadata_overpooling.txt \\\n",
    "    --p-where '[study_type]=\"Sacrifice\"' \\\n",
    "    --o-filtered-table ../data/Microbiome/KO-EC/3XTG_Kpathway_ft_sac-only.qza"
   ]
  },
  {
   "cell_type": "code",
   "execution_count": 31,
   "id": "3ce77ada",
   "metadata": {},
   "outputs": [
    {
     "name": "stdout",
     "output_type": "stream",
     "text": [
      "\u001b[32mSaved FeatureTable[Frequency] to: ../data/Microbiome/KO-EC/3XTG_Kpathway_sac-ft_genotype.qza\u001b[0m\n",
      "\u001b[0m\u001b[32mSaved FeatureTable[Frequency] to: ../data/Microbiome/KO-EC/3XTG_Kpathway_sac-ft_sex.qza\u001b[0m\n",
      "\u001b[0m"
     ]
    }
   ],
   "source": [
    "!qiime feature-table filter-samples \\\n",
    "    --i-table ../data/Microbiome/KO-EC/3XTG_Kpathway_ft_sac-only.qza \\\n",
    "    --m-metadata-file ../data/Microbiome/14748_metadata_overpooling.txt \\\n",
    "    --p-where '[genotype] IN (\"3XTG\", \"B6\")' \\\n",
    "    --o-filtered-table ../data/Microbiome/KO-EC/3XTG_Kpathway_sac-ft_genotype.qza\n",
    "\n",
    "!qiime feature-table filter-samples \\\n",
    "    --i-table ../data/Microbiome/KO-EC/3XTG_Kpathway_ft_sac-only.qza \\\n",
    "    --m-metadata-file ../data/Microbiome/14748_metadata_overpooling.txt \\\n",
    "    --p-where '[sex] IN (\"male\", \"female\")' \\\n",
    "    --o-filtered-table ../data/Microbiome/KO-EC/3XTG_Kpathway_sac-ft_sex.qza"
   ]
  },
  {
   "cell_type": "code",
   "execution_count": 32,
   "id": "bfa83bec",
   "metadata": {},
   "outputs": [
    {
     "name": "stdout",
     "output_type": "stream",
     "text": [
      "\u001b[32mSaved FeatureData[DifferentialAbundance] to: ../data/Microbiome/KO-EC/3XTG_Kpathway_sac-ft_genotype_ancombc_differentials.qza\u001b[0m\n",
      "\u001b[0m\u001b[32mSaved FeatureData[DifferentialAbundance] to: ../data/Microbiome/KO-EC/3XTG_Kpathway_sac-ft_sex_ancombc_differentials.qza\u001b[0m\n",
      "\u001b[0m"
     ]
    }
   ],
   "source": [
    "!qiime composition ancombc \\\n",
    "    --i-table ../data/Microbiome/KO-EC/3XTG_Kpathway_sac-ft_genotype.qza \\\n",
    "    --m-metadata-file ../data/Microbiome/14748_metadata_overpooling.txt \\\n",
    "    --p-formula \"genotype\" \\\n",
    "    --p-reference-levels genotype::B6 \\\n",
    "    --p-p-adj-method 'holm' \\\n",
    "    --p-alpha 0.05 \\\n",
    "    --o-differentials ../data/Microbiome/KO-EC/3XTG_Kpathway_sac-ft_genotype_ancombc_differentials.qza\n",
    "\n",
    "!qiime composition ancombc \\\n",
    "    --i-table ../data/Microbiome/KO-EC/3XTG_Kpathway_sac-ft_sex.qza \\\n",
    "    --m-metadata-file ../data/Microbiome/14748_metadata_overpooling.txt \\\n",
    "    --p-formula \"sex\" \\\n",
    "    --p-reference-levels sex::female \\\n",
    "    --p-p-adj-method 'holm' \\\n",
    "    --p-alpha 0.05 \\\n",
    "    --o-differentials ../data/Microbiome/KO-EC/3XTG_Kpathway_sac-ft_sex_ancombc_differentials.qza\n",
    "#binary categories easier"
   ]
  },
  {
   "cell_type": "code",
   "execution_count": 36,
   "id": "75985120",
   "metadata": {},
   "outputs": [
    {
     "name": "stdout",
     "output_type": "stream",
     "text": [
      "\u001b[32mSaved Visualization to: ../data/Microbiome/KO-EC/3XTG_Kpathway_sac-ft_genotype_ancombc_barplot.qzv\u001b[0m\n",
      "\u001b[0m\u001b[32mSaved Visualization to: ../data/Microbiome/KO-EC/3XTG_Kpathway_sac-ft_sex_ancombc_barplot.qzv\u001b[0m\n",
      "\u001b[0m"
     ]
    }
   ],
   "source": [
    "!qiime composition da-barplot \\\n",
    "    --i-data ../data/Microbiome/KO-EC/3XTG_Kpathway_sac-ft_genotype_ancombc_differentials.qza \\\n",
    "    --p-significance-threshold 0.05 \\\n",
    "    --p-effect-size-threshold 1 \\\n",
    "    --o-visualization ../data/Microbiome/KO-EC/3XTG_Kpathway_sac-ft_genotype_ancombc_barplot.qzv\n",
    "\n",
    "!qiime composition da-barplot \\\n",
    "    --i-data ../data/Microbiome/KO-EC/3XTG_Kpathway_sac-ft_sex_ancombc_differentials.qza \\\n",
    "    --p-significance-threshold 0.1 \\\n",
    "    --p-effect-size-threshold 0.2 \\\n",
    "    --o-visualization ../data/Microbiome/KO-EC/3XTG_Kpathway_sac-ft_sex_ancombc_barplot.qzv\n",
    "#ancombc for sex does not work"
   ]
  },
  {
   "cell_type": "code",
   "execution_count": null,
   "id": "ba832d47",
   "metadata": {},
   "outputs": [],
   "source": []
  }
 ],
 "metadata": {
  "kernelspec": {
   "display_name": "Python 3 (ipykernel)",
   "language": "python",
   "name": "python3"
  },
  "language_info": {
   "codemirror_mode": {
    "name": "ipython",
    "version": 3
   },
   "file_extension": ".py",
   "mimetype": "text/x-python",
   "name": "python",
   "nbconvert_exporter": "python",
   "pygments_lexer": "ipython3",
   "version": "3.8.16"
  }
 },
 "nbformat": 4,
 "nbformat_minor": 5
}
