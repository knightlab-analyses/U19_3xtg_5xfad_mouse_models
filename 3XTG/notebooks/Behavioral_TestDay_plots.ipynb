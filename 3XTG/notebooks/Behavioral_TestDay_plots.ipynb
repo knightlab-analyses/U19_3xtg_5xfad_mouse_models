{
 "cells": [
  {
   "cell_type": "code",
   "execution_count": 1,
   "id": "45cbc2ae",
   "metadata": {},
   "outputs": [],
   "source": [
    "import pandas as pd\n",
    "import numpy as np\n",
    "import seaborn as sns\n",
    "import matplotlib.pyplot as plt\n",
    "%matplotlib inline"
   ]
  },
  {
   "cell_type": "code",
   "execution_count": null,
   "id": "501ee8e6",
   "metadata": {},
   "outputs": [],
   "source": [
    "from statannotations import Annotator"
   ]
  },
  {
   "cell_type": "markdown",
   "id": "34989620",
   "metadata": {},
   "source": [
    "# Import DataFrames"
   ]
  },
  {
   "cell_type": "code",
   "execution_count": null,
   "id": "b559ea71",
   "metadata": {},
   "outputs": [],
   "source": [
    "Barnes_5XFAD"
   ]
  },
  {
   "cell_type": "code",
   "execution_count": null,
   "id": "bcce04aa",
   "metadata": {},
   "outputs": [],
   "source": [
    "Barnes_3XTG"
   ]
  },
  {
   "cell_type": "code",
   "execution_count": null,
   "id": "3eff4cd3",
   "metadata": {},
   "outputs": [],
   "source": []
  }
 ],
 "metadata": {
  "kernelspec": {
   "display_name": "Python 3 (ipykernel)",
   "language": "python",
   "name": "python3"
  },
  "language_info": {
   "codemirror_mode": {
    "name": "ipython",
    "version": 3
   },
   "file_extension": ".py",
   "mimetype": "text/x-python",
   "name": "python",
   "nbconvert_exporter": "python",
   "pygments_lexer": "ipython3",
   "version": "3.8.18"
  }
 },
 "nbformat": 4,
 "nbformat_minor": 5
}
